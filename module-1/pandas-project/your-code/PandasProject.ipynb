{
 "cells": [
  {
   "cell_type": "code",
   "execution_count": 1,
   "metadata": {},
   "outputs": [],
   "source": [
    "import pandas as pd\n",
    "import numpy as np\n",
    "import matplotlib.pyplot as plt\n",
    "import seaborn as sns\n",
    "sns.set(style='white')\n",
    "sns.set(style='whitegrid', color_codes=True)\n",
    "import statistics\n",
    "import scipy\n",
    "import re\n",
    "import math"
   ]
  },
  {
   "cell_type": "markdown",
   "metadata": {},
   "source": [
    "# Data Acquisition"
   ]
  },
  {
   "cell_type": "code",
   "execution_count": 2,
   "metadata": {},
   "outputs": [],
   "source": [
    "def acquire():\n",
    "    data = pd.read_csv('data/attacks.csv', encoding = 'ISO-8859-1', sep=',')\n",
    "    return data"
   ]
  },
  {
   "cell_type": "markdown",
   "metadata": {},
   "source": [
    "# Data Wrangling"
   ]
  },
  {
   "cell_type": "code",
   "execution_count": 3,
   "metadata": {},
   "outputs": [
    {
     "data": {
      "text/html": [
       "<div>\n",
       "<style scoped>\n",
       "    .dataframe tbody tr th:only-of-type {\n",
       "        vertical-align: middle;\n",
       "    }\n",
       "\n",
       "    .dataframe tbody tr th {\n",
       "        vertical-align: top;\n",
       "    }\n",
       "\n",
       "    .dataframe thead th {\n",
       "        text-align: right;\n",
       "    }\n",
       "</style>\n",
       "<table border=\"1\" class=\"dataframe\">\n",
       "  <thead>\n",
       "    <tr style=\"text-align: right;\">\n",
       "      <th></th>\n",
       "      <th>ACTIVITY</th>\n",
       "      <th>AGE</th>\n",
       "      <th>AREA</th>\n",
       "      <th>CASE NUMBER</th>\n",
       "      <th>CASE NUMBER 1</th>\n",
       "      <th>CASE NUMBER 2</th>\n",
       "      <th>COUNTRY</th>\n",
       "      <th>DATE</th>\n",
       "      <th>FATAL (Y/N)</th>\n",
       "      <th>HREF</th>\n",
       "      <th>...</th>\n",
       "      <th>NAME</th>\n",
       "      <th>ORIGINAL ORDER</th>\n",
       "      <th>PDF</th>\n",
       "      <th>SEX</th>\n",
       "      <th>SPECIES</th>\n",
       "      <th>TIME</th>\n",
       "      <th>TYPE</th>\n",
       "      <th>UNNAMED: 22</th>\n",
       "      <th>UNNAMED: 23</th>\n",
       "      <th>YEAR</th>\n",
       "    </tr>\n",
       "  </thead>\n",
       "  <tbody>\n",
       "    <tr>\n",
       "      <th>25718</th>\n",
       "      <td>NaN</td>\n",
       "      <td>NaN</td>\n",
       "      <td>NaN</td>\n",
       "      <td>NaN</td>\n",
       "      <td>NaN</td>\n",
       "      <td>NaN</td>\n",
       "      <td>NaN</td>\n",
       "      <td>NaN</td>\n",
       "      <td>NaN</td>\n",
       "      <td>NaN</td>\n",
       "      <td>...</td>\n",
       "      <td>NaN</td>\n",
       "      <td>NaN</td>\n",
       "      <td>NaN</td>\n",
       "      <td>NaN</td>\n",
       "      <td>NaN</td>\n",
       "      <td>NaN</td>\n",
       "      <td>NaN</td>\n",
       "      <td>NaN</td>\n",
       "      <td>NaN</td>\n",
       "      <td>NaN</td>\n",
       "    </tr>\n",
       "    <tr>\n",
       "      <th>25719</th>\n",
       "      <td>NaN</td>\n",
       "      <td>NaN</td>\n",
       "      <td>NaN</td>\n",
       "      <td>NaN</td>\n",
       "      <td>NaN</td>\n",
       "      <td>NaN</td>\n",
       "      <td>NaN</td>\n",
       "      <td>NaN</td>\n",
       "      <td>NaN</td>\n",
       "      <td>NaN</td>\n",
       "      <td>...</td>\n",
       "      <td>NaN</td>\n",
       "      <td>NaN</td>\n",
       "      <td>NaN</td>\n",
       "      <td>NaN</td>\n",
       "      <td>NaN</td>\n",
       "      <td>NaN</td>\n",
       "      <td>NaN</td>\n",
       "      <td>NaN</td>\n",
       "      <td>NaN</td>\n",
       "      <td>NaN</td>\n",
       "    </tr>\n",
       "    <tr>\n",
       "      <th>25720</th>\n",
       "      <td>NaN</td>\n",
       "      <td>NaN</td>\n",
       "      <td>NaN</td>\n",
       "      <td>NaN</td>\n",
       "      <td>NaN</td>\n",
       "      <td>NaN</td>\n",
       "      <td>NaN</td>\n",
       "      <td>NaN</td>\n",
       "      <td>NaN</td>\n",
       "      <td>NaN</td>\n",
       "      <td>...</td>\n",
       "      <td>NaN</td>\n",
       "      <td>NaN</td>\n",
       "      <td>NaN</td>\n",
       "      <td>NaN</td>\n",
       "      <td>NaN</td>\n",
       "      <td>NaN</td>\n",
       "      <td>NaN</td>\n",
       "      <td>NaN</td>\n",
       "      <td>NaN</td>\n",
       "      <td>NaN</td>\n",
       "    </tr>\n",
       "    <tr>\n",
       "      <th>25721</th>\n",
       "      <td>NaN</td>\n",
       "      <td>NaN</td>\n",
       "      <td>NaN</td>\n",
       "      <td>NaN</td>\n",
       "      <td>NaN</td>\n",
       "      <td>NaN</td>\n",
       "      <td>NaN</td>\n",
       "      <td>NaN</td>\n",
       "      <td>NaN</td>\n",
       "      <td>NaN</td>\n",
       "      <td>...</td>\n",
       "      <td>NaN</td>\n",
       "      <td>NaN</td>\n",
       "      <td>NaN</td>\n",
       "      <td>NaN</td>\n",
       "      <td>NaN</td>\n",
       "      <td>NaN</td>\n",
       "      <td>NaN</td>\n",
       "      <td>NaN</td>\n",
       "      <td>NaN</td>\n",
       "      <td>NaN</td>\n",
       "    </tr>\n",
       "    <tr>\n",
       "      <th>25722</th>\n",
       "      <td>NaN</td>\n",
       "      <td>NaN</td>\n",
       "      <td>NaN</td>\n",
       "      <td>xx</td>\n",
       "      <td>NaN</td>\n",
       "      <td>NaN</td>\n",
       "      <td>NaN</td>\n",
       "      <td>NaN</td>\n",
       "      <td>NaN</td>\n",
       "      <td>NaN</td>\n",
       "      <td>...</td>\n",
       "      <td>NaN</td>\n",
       "      <td>NaN</td>\n",
       "      <td>NaN</td>\n",
       "      <td>NaN</td>\n",
       "      <td>NaN</td>\n",
       "      <td>NaN</td>\n",
       "      <td>NaN</td>\n",
       "      <td>NaN</td>\n",
       "      <td>NaN</td>\n",
       "      <td>NaN</td>\n",
       "    </tr>\n",
       "  </tbody>\n",
       "</table>\n",
       "<p>5 rows × 24 columns</p>\n",
       "</div>"
      ],
      "text/plain": [
       "      ACTIVITY  AGE AREA CASE NUMBER CASE NUMBER 1 CASE NUMBER 2 COUNTRY DATE  \\\n",
       "25718      NaN  NaN  NaN         NaN           NaN           NaN     NaN  NaN   \n",
       "25719      NaN  NaN  NaN         NaN           NaN           NaN     NaN  NaN   \n",
       "25720      NaN  NaN  NaN         NaN           NaN           NaN     NaN  NaN   \n",
       "25721      NaN  NaN  NaN         NaN           NaN           NaN     NaN  NaN   \n",
       "25722      NaN  NaN  NaN          xx           NaN           NaN     NaN  NaN   \n",
       "\n",
       "      FATAL (Y/N) HREF  ... NAME ORIGINAL ORDER  PDF  SEX SPECIES  TIME TYPE  \\\n",
       "25718         NaN  NaN  ...  NaN            NaN  NaN  NaN     NaN   NaN  NaN   \n",
       "25719         NaN  NaN  ...  NaN            NaN  NaN  NaN     NaN   NaN  NaN   \n",
       "25720         NaN  NaN  ...  NaN            NaN  NaN  NaN     NaN   NaN  NaN   \n",
       "25721         NaN  NaN  ...  NaN            NaN  NaN  NaN     NaN   NaN  NaN   \n",
       "25722         NaN  NaN  ...  NaN            NaN  NaN  NaN     NaN   NaN  NaN   \n",
       "\n",
       "      UNNAMED: 22 UNNAMED: 23 YEAR  \n",
       "25718         NaN         NaN  NaN  \n",
       "25719         NaN         NaN  NaN  \n",
       "25720         NaN         NaN  NaN  \n",
       "25721         NaN         NaN  NaN  \n",
       "25722         NaN         NaN  NaN  \n",
       "\n",
       "[5 rows x 24 columns]"
      ]
     },
     "execution_count": 3,
     "metadata": {},
     "output_type": "execute_result"
    }
   ],
   "source": [
    "df = acquire()\n",
    "col_names  = []\n",
    "col_names  = df.columns\n",
    "clean_col  = [i.replace('.',' ').upper().strip() for i in col_names]\n",
    "clean_col  = [i.strip() for i in clean_col]\n",
    "df.columns = clean_col\n",
    "ordered_col = sorted(clean_col)\n",
    "df = df[ordered_col]\n",
    "\n",
    "# I will drop UNNAMED: 22 and UNNAMED: 23 because these columns are empty\n",
    "#if 'UNNAMED: 22' in df.columns:\n",
    "    #df.drop('UNNAMED: 22', axis = 1, inplace = True)\n",
    "#if 'UNNAMED: 23' in df.columns:\n",
    "    #df.drop('UNNAMED: 23', axis = 1, inplace = True)\n",
    "\n",
    "df.tail()"
   ]
  },
  {
   "cell_type": "code",
   "execution_count": 4,
   "metadata": {},
   "outputs": [
    {
     "name": "stdout",
     "output_type": "stream",
     "text": [
      "<class 'pandas.core.frame.DataFrame'>\n",
      "RangeIndex: 25723 entries, 0 to 25722\n",
      "Data columns (total 24 columns):\n",
      " #   Column                  Non-Null Count  Dtype  \n",
      "---  ------                  --------------  -----  \n",
      " 0   ACTIVITY                5758 non-null   object \n",
      " 1   AGE                     3471 non-null   object \n",
      " 2   AREA                    5847 non-null   object \n",
      " 3   CASE NUMBER             8702 non-null   object \n",
      " 4   CASE NUMBER 1           6302 non-null   object \n",
      " 5   CASE NUMBER 2           6302 non-null   object \n",
      " 6   COUNTRY                 6252 non-null   object \n",
      " 7   DATE                    6302 non-null   object \n",
      " 8   FATAL (Y/N)             5763 non-null   object \n",
      " 9   HREF                    6302 non-null   object \n",
      " 10  HREF FORMULA            6301 non-null   object \n",
      " 11  INJURY                  6274 non-null   object \n",
      " 12  INVESTIGATOR OR SOURCE  6285 non-null   object \n",
      " 13  LOCATION                5762 non-null   object \n",
      " 14  NAME                    6092 non-null   object \n",
      " 15  ORIGINAL ORDER          6309 non-null   float64\n",
      " 16  PDF                     6302 non-null   object \n",
      " 17  SEX                     5737 non-null   object \n",
      " 18  SPECIES                 3464 non-null   object \n",
      " 19  TIME                    2948 non-null   object \n",
      " 20  TYPE                    6298 non-null   object \n",
      " 21  UNNAMED: 22             1 non-null      object \n",
      " 22  UNNAMED: 23             2 non-null      object \n",
      " 23  YEAR                    6300 non-null   float64\n",
      "dtypes: float64(2), object(22)\n",
      "memory usage: 4.7+ MB\n"
     ]
    }
   ],
   "source": [
    "df.info()"
   ]
  },
  {
   "cell_type": "markdown",
   "metadata": {},
   "source": [
    "I will drop duplicate values"
   ]
  },
  {
   "cell_type": "code",
   "execution_count": 5,
   "metadata": {},
   "outputs": [
    {
     "data": {
      "text/html": [
       "<div>\n",
       "<style scoped>\n",
       "    .dataframe tbody tr th:only-of-type {\n",
       "        vertical-align: middle;\n",
       "    }\n",
       "\n",
       "    .dataframe tbody tr th {\n",
       "        vertical-align: top;\n",
       "    }\n",
       "\n",
       "    .dataframe thead th {\n",
       "        text-align: right;\n",
       "    }\n",
       "</style>\n",
       "<table border=\"1\" class=\"dataframe\">\n",
       "  <thead>\n",
       "    <tr style=\"text-align: right;\">\n",
       "      <th></th>\n",
       "      <th>ACTIVITY</th>\n",
       "      <th>AGE</th>\n",
       "      <th>AREA</th>\n",
       "      <th>CASE NUMBER</th>\n",
       "      <th>CASE NUMBER 1</th>\n",
       "      <th>CASE NUMBER 2</th>\n",
       "      <th>COUNTRY</th>\n",
       "      <th>DATE</th>\n",
       "      <th>FATAL (Y/N)</th>\n",
       "      <th>HREF</th>\n",
       "      <th>...</th>\n",
       "      <th>NAME</th>\n",
       "      <th>ORIGINAL ORDER</th>\n",
       "      <th>PDF</th>\n",
       "      <th>SEX</th>\n",
       "      <th>SPECIES</th>\n",
       "      <th>TIME</th>\n",
       "      <th>TYPE</th>\n",
       "      <th>UNNAMED: 22</th>\n",
       "      <th>UNNAMED: 23</th>\n",
       "      <th>YEAR</th>\n",
       "    </tr>\n",
       "  </thead>\n",
       "  <tbody>\n",
       "    <tr>\n",
       "      <th>6301</th>\n",
       "      <td>Swimming</td>\n",
       "      <td>15</td>\n",
       "      <td>Eastern Province</td>\n",
       "      <td>ND.0001</td>\n",
       "      <td>ND.0001</td>\n",
       "      <td>ND.0001</td>\n",
       "      <td>CEYLON (SRI LANKA)</td>\n",
       "      <td>1845-1853</td>\n",
       "      <td>Y</td>\n",
       "      <td>http://sharkattackfile.net/spreadsheets/pdf_di...</td>\n",
       "      <td>...</td>\n",
       "      <td>male</td>\n",
       "      <td>2.0</td>\n",
       "      <td>ND-0001-Ceylon.pdf</td>\n",
       "      <td>M</td>\n",
       "      <td>NaN</td>\n",
       "      <td>NaN</td>\n",
       "      <td>Unprovoked</td>\n",
       "      <td>NaN</td>\n",
       "      <td>NaN</td>\n",
       "      <td>0.0</td>\n",
       "    </tr>\n",
       "    <tr>\n",
       "      <th>6302</th>\n",
       "      <td>NaN</td>\n",
       "      <td>NaN</td>\n",
       "      <td>NaN</td>\n",
       "      <td>0</td>\n",
       "      <td>NaN</td>\n",
       "      <td>NaN</td>\n",
       "      <td>NaN</td>\n",
       "      <td>NaN</td>\n",
       "      <td>NaN</td>\n",
       "      <td>NaN</td>\n",
       "      <td>...</td>\n",
       "      <td>NaN</td>\n",
       "      <td>6304.0</td>\n",
       "      <td>NaN</td>\n",
       "      <td>NaN</td>\n",
       "      <td>NaN</td>\n",
       "      <td>NaN</td>\n",
       "      <td>NaN</td>\n",
       "      <td>NaN</td>\n",
       "      <td>NaN</td>\n",
       "      <td>NaN</td>\n",
       "    </tr>\n",
       "    <tr>\n",
       "      <th>6303</th>\n",
       "      <td>NaN</td>\n",
       "      <td>NaN</td>\n",
       "      <td>NaN</td>\n",
       "      <td>0</td>\n",
       "      <td>NaN</td>\n",
       "      <td>NaN</td>\n",
       "      <td>NaN</td>\n",
       "      <td>NaN</td>\n",
       "      <td>NaN</td>\n",
       "      <td>NaN</td>\n",
       "      <td>...</td>\n",
       "      <td>NaN</td>\n",
       "      <td>6305.0</td>\n",
       "      <td>NaN</td>\n",
       "      <td>NaN</td>\n",
       "      <td>NaN</td>\n",
       "      <td>NaN</td>\n",
       "      <td>NaN</td>\n",
       "      <td>NaN</td>\n",
       "      <td>NaN</td>\n",
       "      <td>NaN</td>\n",
       "    </tr>\n",
       "    <tr>\n",
       "      <th>6304</th>\n",
       "      <td>NaN</td>\n",
       "      <td>NaN</td>\n",
       "      <td>NaN</td>\n",
       "      <td>0</td>\n",
       "      <td>NaN</td>\n",
       "      <td>NaN</td>\n",
       "      <td>NaN</td>\n",
       "      <td>NaN</td>\n",
       "      <td>NaN</td>\n",
       "      <td>NaN</td>\n",
       "      <td>...</td>\n",
       "      <td>NaN</td>\n",
       "      <td>6306.0</td>\n",
       "      <td>NaN</td>\n",
       "      <td>NaN</td>\n",
       "      <td>NaN</td>\n",
       "      <td>NaN</td>\n",
       "      <td>NaN</td>\n",
       "      <td>NaN</td>\n",
       "      <td>NaN</td>\n",
       "      <td>NaN</td>\n",
       "    </tr>\n",
       "    <tr>\n",
       "      <th>6305</th>\n",
       "      <td>NaN</td>\n",
       "      <td>NaN</td>\n",
       "      <td>NaN</td>\n",
       "      <td>0</td>\n",
       "      <td>NaN</td>\n",
       "      <td>NaN</td>\n",
       "      <td>NaN</td>\n",
       "      <td>NaN</td>\n",
       "      <td>NaN</td>\n",
       "      <td>NaN</td>\n",
       "      <td>...</td>\n",
       "      <td>NaN</td>\n",
       "      <td>6307.0</td>\n",
       "      <td>NaN</td>\n",
       "      <td>NaN</td>\n",
       "      <td>NaN</td>\n",
       "      <td>NaN</td>\n",
       "      <td>NaN</td>\n",
       "      <td>NaN</td>\n",
       "      <td>NaN</td>\n",
       "      <td>NaN</td>\n",
       "    </tr>\n",
       "    <tr>\n",
       "      <th>6306</th>\n",
       "      <td>NaN</td>\n",
       "      <td>NaN</td>\n",
       "      <td>NaN</td>\n",
       "      <td>0</td>\n",
       "      <td>NaN</td>\n",
       "      <td>NaN</td>\n",
       "      <td>NaN</td>\n",
       "      <td>NaN</td>\n",
       "      <td>NaN</td>\n",
       "      <td>NaN</td>\n",
       "      <td>...</td>\n",
       "      <td>NaN</td>\n",
       "      <td>6308.0</td>\n",
       "      <td>NaN</td>\n",
       "      <td>NaN</td>\n",
       "      <td>NaN</td>\n",
       "      <td>NaN</td>\n",
       "      <td>NaN</td>\n",
       "      <td>NaN</td>\n",
       "      <td>NaN</td>\n",
       "      <td>NaN</td>\n",
       "    </tr>\n",
       "    <tr>\n",
       "      <th>6307</th>\n",
       "      <td>NaN</td>\n",
       "      <td>NaN</td>\n",
       "      <td>NaN</td>\n",
       "      <td>0</td>\n",
       "      <td>NaN</td>\n",
       "      <td>NaN</td>\n",
       "      <td>NaN</td>\n",
       "      <td>NaN</td>\n",
       "      <td>NaN</td>\n",
       "      <td>NaN</td>\n",
       "      <td>...</td>\n",
       "      <td>NaN</td>\n",
       "      <td>6309.0</td>\n",
       "      <td>NaN</td>\n",
       "      <td>NaN</td>\n",
       "      <td>NaN</td>\n",
       "      <td>NaN</td>\n",
       "      <td>NaN</td>\n",
       "      <td>NaN</td>\n",
       "      <td>NaN</td>\n",
       "      <td>NaN</td>\n",
       "    </tr>\n",
       "    <tr>\n",
       "      <th>6308</th>\n",
       "      <td>NaN</td>\n",
       "      <td>NaN</td>\n",
       "      <td>NaN</td>\n",
       "      <td>0</td>\n",
       "      <td>NaN</td>\n",
       "      <td>NaN</td>\n",
       "      <td>NaN</td>\n",
       "      <td>NaN</td>\n",
       "      <td>NaN</td>\n",
       "      <td>NaN</td>\n",
       "      <td>...</td>\n",
       "      <td>NaN</td>\n",
       "      <td>6310.0</td>\n",
       "      <td>NaN</td>\n",
       "      <td>NaN</td>\n",
       "      <td>NaN</td>\n",
       "      <td>NaN</td>\n",
       "      <td>NaN</td>\n",
       "      <td>NaN</td>\n",
       "      <td>NaN</td>\n",
       "      <td>NaN</td>\n",
       "    </tr>\n",
       "    <tr>\n",
       "      <th>6309</th>\n",
       "      <td>NaN</td>\n",
       "      <td>NaN</td>\n",
       "      <td>NaN</td>\n",
       "      <td>0</td>\n",
       "      <td>NaN</td>\n",
       "      <td>NaN</td>\n",
       "      <td>NaN</td>\n",
       "      <td>NaN</td>\n",
       "      <td>NaN</td>\n",
       "      <td>NaN</td>\n",
       "      <td>...</td>\n",
       "      <td>NaN</td>\n",
       "      <td>NaN</td>\n",
       "      <td>NaN</td>\n",
       "      <td>NaN</td>\n",
       "      <td>NaN</td>\n",
       "      <td>NaN</td>\n",
       "      <td>NaN</td>\n",
       "      <td>NaN</td>\n",
       "      <td>NaN</td>\n",
       "      <td>NaN</td>\n",
       "    </tr>\n",
       "    <tr>\n",
       "      <th>6310</th>\n",
       "      <td>NaN</td>\n",
       "      <td>NaN</td>\n",
       "      <td>NaN</td>\n",
       "      <td>NaN</td>\n",
       "      <td>NaN</td>\n",
       "      <td>NaN</td>\n",
       "      <td>NaN</td>\n",
       "      <td>NaN</td>\n",
       "      <td>NaN</td>\n",
       "      <td>NaN</td>\n",
       "      <td>...</td>\n",
       "      <td>NaN</td>\n",
       "      <td>NaN</td>\n",
       "      <td>NaN</td>\n",
       "      <td>NaN</td>\n",
       "      <td>NaN</td>\n",
       "      <td>NaN</td>\n",
       "      <td>NaN</td>\n",
       "      <td>NaN</td>\n",
       "      <td>NaN</td>\n",
       "      <td>NaN</td>\n",
       "    </tr>\n",
       "    <tr>\n",
       "      <th>6311</th>\n",
       "      <td>NaN</td>\n",
       "      <td>NaN</td>\n",
       "      <td>NaN</td>\n",
       "      <td>xx</td>\n",
       "      <td>NaN</td>\n",
       "      <td>NaN</td>\n",
       "      <td>NaN</td>\n",
       "      <td>NaN</td>\n",
       "      <td>NaN</td>\n",
       "      <td>NaN</td>\n",
       "      <td>...</td>\n",
       "      <td>NaN</td>\n",
       "      <td>NaN</td>\n",
       "      <td>NaN</td>\n",
       "      <td>NaN</td>\n",
       "      <td>NaN</td>\n",
       "      <td>NaN</td>\n",
       "      <td>NaN</td>\n",
       "      <td>NaN</td>\n",
       "      <td>NaN</td>\n",
       "      <td>NaN</td>\n",
       "    </tr>\n",
       "  </tbody>\n",
       "</table>\n",
       "<p>11 rows × 24 columns</p>\n",
       "</div>"
      ],
      "text/plain": [
       "      ACTIVITY  AGE              AREA CASE NUMBER CASE NUMBER 1 CASE NUMBER 2  \\\n",
       "6301  Swimming   15  Eastern Province     ND.0001       ND.0001       ND.0001   \n",
       "6302       NaN  NaN               NaN           0           NaN           NaN   \n",
       "6303       NaN  NaN               NaN           0           NaN           NaN   \n",
       "6304       NaN  NaN               NaN           0           NaN           NaN   \n",
       "6305       NaN  NaN               NaN           0           NaN           NaN   \n",
       "6306       NaN  NaN               NaN           0           NaN           NaN   \n",
       "6307       NaN  NaN               NaN           0           NaN           NaN   \n",
       "6308       NaN  NaN               NaN           0           NaN           NaN   \n",
       "6309       NaN  NaN               NaN           0           NaN           NaN   \n",
       "6310       NaN  NaN               NaN         NaN           NaN           NaN   \n",
       "6311       NaN  NaN               NaN          xx           NaN           NaN   \n",
       "\n",
       "                 COUNTRY       DATE FATAL (Y/N)  \\\n",
       "6301  CEYLON (SRI LANKA)  1845-1853           Y   \n",
       "6302                 NaN        NaN         NaN   \n",
       "6303                 NaN        NaN         NaN   \n",
       "6304                 NaN        NaN         NaN   \n",
       "6305                 NaN        NaN         NaN   \n",
       "6306                 NaN        NaN         NaN   \n",
       "6307                 NaN        NaN         NaN   \n",
       "6308                 NaN        NaN         NaN   \n",
       "6309                 NaN        NaN         NaN   \n",
       "6310                 NaN        NaN         NaN   \n",
       "6311                 NaN        NaN         NaN   \n",
       "\n",
       "                                                   HREF  ...  NAME  \\\n",
       "6301  http://sharkattackfile.net/spreadsheets/pdf_di...  ...  male   \n",
       "6302                                                NaN  ...   NaN   \n",
       "6303                                                NaN  ...   NaN   \n",
       "6304                                                NaN  ...   NaN   \n",
       "6305                                                NaN  ...   NaN   \n",
       "6306                                                NaN  ...   NaN   \n",
       "6307                                                NaN  ...   NaN   \n",
       "6308                                                NaN  ...   NaN   \n",
       "6309                                                NaN  ...   NaN   \n",
       "6310                                                NaN  ...   NaN   \n",
       "6311                                                NaN  ...   NaN   \n",
       "\n",
       "     ORIGINAL ORDER                 PDF  SEX SPECIES  TIME        TYPE  \\\n",
       "6301            2.0  ND-0001-Ceylon.pdf    M     NaN   NaN  Unprovoked   \n",
       "6302         6304.0                 NaN  NaN     NaN   NaN         NaN   \n",
       "6303         6305.0                 NaN  NaN     NaN   NaN         NaN   \n",
       "6304         6306.0                 NaN  NaN     NaN   NaN         NaN   \n",
       "6305         6307.0                 NaN  NaN     NaN   NaN         NaN   \n",
       "6306         6308.0                 NaN  NaN     NaN   NaN         NaN   \n",
       "6307         6309.0                 NaN  NaN     NaN   NaN         NaN   \n",
       "6308         6310.0                 NaN  NaN     NaN   NaN         NaN   \n",
       "6309            NaN                 NaN  NaN     NaN   NaN         NaN   \n",
       "6310            NaN                 NaN  NaN     NaN   NaN         NaN   \n",
       "6311            NaN                 NaN  NaN     NaN   NaN         NaN   \n",
       "\n",
       "     UNNAMED: 22 UNNAMED: 23 YEAR  \n",
       "6301         NaN         NaN  0.0  \n",
       "6302         NaN         NaN  NaN  \n",
       "6303         NaN         NaN  NaN  \n",
       "6304         NaN         NaN  NaN  \n",
       "6305         NaN         NaN  NaN  \n",
       "6306         NaN         NaN  NaN  \n",
       "6307         NaN         NaN  NaN  \n",
       "6308         NaN         NaN  NaN  \n",
       "6309         NaN         NaN  NaN  \n",
       "6310         NaN         NaN  NaN  \n",
       "6311         NaN         NaN  NaN  \n",
       "\n",
       "[11 rows x 24 columns]"
      ]
     },
     "execution_count": 5,
     "metadata": {},
     "output_type": "execute_result"
    }
   ],
   "source": [
    "df.drop_duplicates(keep = 'first', inplace = True)\n",
    "df.reset_index(drop=True, inplace = True)\n",
    "df.tail(11)"
   ]
  },
  {
   "cell_type": "code",
   "execution_count": 6,
   "metadata": {},
   "outputs": [
    {
     "data": {
      "text/plain": [
       "(6312, 24)"
      ]
     },
     "execution_count": 6,
     "metadata": {},
     "output_type": "execute_result"
    }
   ],
   "source": [
    "df.shape"
   ]
  },
  {
   "cell_type": "markdown",
   "metadata": {},
   "source": [
    "If a row has more than a half NaN values I will drop the row because it has no significant information to analyze and only makes noise."
   ]
  },
  {
   "cell_type": "code",
   "execution_count": 7,
   "metadata": {},
   "outputs": [
    {
     "data": {
      "text/html": [
       "<div>\n",
       "<style scoped>\n",
       "    .dataframe tbody tr th:only-of-type {\n",
       "        vertical-align: middle;\n",
       "    }\n",
       "\n",
       "    .dataframe tbody tr th {\n",
       "        vertical-align: top;\n",
       "    }\n",
       "\n",
       "    .dataframe thead th {\n",
       "        text-align: right;\n",
       "    }\n",
       "</style>\n",
       "<table border=\"1\" class=\"dataframe\">\n",
       "  <thead>\n",
       "    <tr style=\"text-align: right;\">\n",
       "      <th></th>\n",
       "      <th>ACTIVITY</th>\n",
       "      <th>AGE</th>\n",
       "      <th>AREA</th>\n",
       "      <th>CASE NUMBER</th>\n",
       "      <th>CASE NUMBER 1</th>\n",
       "      <th>CASE NUMBER 2</th>\n",
       "      <th>COUNTRY</th>\n",
       "      <th>DATE</th>\n",
       "      <th>FATAL (Y/N)</th>\n",
       "      <th>HREF</th>\n",
       "      <th>...</th>\n",
       "      <th>NAME</th>\n",
       "      <th>ORIGINAL ORDER</th>\n",
       "      <th>PDF</th>\n",
       "      <th>SEX</th>\n",
       "      <th>SPECIES</th>\n",
       "      <th>TIME</th>\n",
       "      <th>TYPE</th>\n",
       "      <th>UNNAMED: 22</th>\n",
       "      <th>UNNAMED: 23</th>\n",
       "      <th>YEAR</th>\n",
       "    </tr>\n",
       "  </thead>\n",
       "  <tbody>\n",
       "    <tr>\n",
       "      <th>6297</th>\n",
       "      <td>Diving</td>\n",
       "      <td>NaN</td>\n",
       "      <td>Western Australia</td>\n",
       "      <td>ND.0005</td>\n",
       "      <td>ND.0005</td>\n",
       "      <td>ND.0005</td>\n",
       "      <td>AUSTRALIA</td>\n",
       "      <td>Before 1903</td>\n",
       "      <td>Y</td>\n",
       "      <td>http://sharkattackfile.net/spreadsheets/pdf_di...</td>\n",
       "      <td>...</td>\n",
       "      <td>male</td>\n",
       "      <td>6.0</td>\n",
       "      <td>ND-0005-RoebuckBay.pdf</td>\n",
       "      <td>M</td>\n",
       "      <td>NaN</td>\n",
       "      <td>NaN</td>\n",
       "      <td>Unprovoked</td>\n",
       "      <td>NaN</td>\n",
       "      <td>NaN</td>\n",
       "      <td>0.0</td>\n",
       "    </tr>\n",
       "    <tr>\n",
       "      <th>6298</th>\n",
       "      <td>Pearl diving</td>\n",
       "      <td>NaN</td>\n",
       "      <td>Western Australia</td>\n",
       "      <td>ND.0004</td>\n",
       "      <td>ND.0004</td>\n",
       "      <td>ND.0004</td>\n",
       "      <td>AUSTRALIA</td>\n",
       "      <td>Before 1903</td>\n",
       "      <td>Y</td>\n",
       "      <td>http://sharkattackfile.net/spreadsheets/pdf_di...</td>\n",
       "      <td>...</td>\n",
       "      <td>Ahmun</td>\n",
       "      <td>5.0</td>\n",
       "      <td>ND-0004-Ahmun.pdf</td>\n",
       "      <td>M</td>\n",
       "      <td>NaN</td>\n",
       "      <td>NaN</td>\n",
       "      <td>Unprovoked</td>\n",
       "      <td>NaN</td>\n",
       "      <td>NaN</td>\n",
       "      <td>0.0</td>\n",
       "    </tr>\n",
       "    <tr>\n",
       "      <th>6299</th>\n",
       "      <td>Swimming</td>\n",
       "      <td>NaN</td>\n",
       "      <td>North Carolina</td>\n",
       "      <td>ND.0003</td>\n",
       "      <td>ND.0003</td>\n",
       "      <td>ND.0003</td>\n",
       "      <td>USA</td>\n",
       "      <td>1900-1905</td>\n",
       "      <td>Y</td>\n",
       "      <td>http://sharkattackfile.net/spreadsheets/pdf_di...</td>\n",
       "      <td>...</td>\n",
       "      <td>Coast Guard personnel</td>\n",
       "      <td>4.0</td>\n",
       "      <td>ND-0003-Ocracoke_1900-1905.pdf</td>\n",
       "      <td>M</td>\n",
       "      <td>NaN</td>\n",
       "      <td>NaN</td>\n",
       "      <td>Unprovoked</td>\n",
       "      <td>NaN</td>\n",
       "      <td>NaN</td>\n",
       "      <td>0.0</td>\n",
       "    </tr>\n",
       "    <tr>\n",
       "      <th>6300</th>\n",
       "      <td>NaN</td>\n",
       "      <td>NaN</td>\n",
       "      <td>NaN</td>\n",
       "      <td>ND.0002</td>\n",
       "      <td>ND.0002</td>\n",
       "      <td>ND.0002</td>\n",
       "      <td>PANAMA</td>\n",
       "      <td>1883-1889</td>\n",
       "      <td>Y</td>\n",
       "      <td>http://sharkattackfile.net/spreadsheets/pdf_di...</td>\n",
       "      <td>...</td>\n",
       "      <td>Jules Patterson</td>\n",
       "      <td>3.0</td>\n",
       "      <td>ND-0002-JulesPatterson.pdf</td>\n",
       "      <td>M</td>\n",
       "      <td>NaN</td>\n",
       "      <td>NaN</td>\n",
       "      <td>Unprovoked</td>\n",
       "      <td>NaN</td>\n",
       "      <td>NaN</td>\n",
       "      <td>0.0</td>\n",
       "    </tr>\n",
       "    <tr>\n",
       "      <th>6301</th>\n",
       "      <td>Swimming</td>\n",
       "      <td>15</td>\n",
       "      <td>Eastern Province</td>\n",
       "      <td>ND.0001</td>\n",
       "      <td>ND.0001</td>\n",
       "      <td>ND.0001</td>\n",
       "      <td>CEYLON (SRI LANKA)</td>\n",
       "      <td>1845-1853</td>\n",
       "      <td>Y</td>\n",
       "      <td>http://sharkattackfile.net/spreadsheets/pdf_di...</td>\n",
       "      <td>...</td>\n",
       "      <td>male</td>\n",
       "      <td>2.0</td>\n",
       "      <td>ND-0001-Ceylon.pdf</td>\n",
       "      <td>M</td>\n",
       "      <td>NaN</td>\n",
       "      <td>NaN</td>\n",
       "      <td>Unprovoked</td>\n",
       "      <td>NaN</td>\n",
       "      <td>NaN</td>\n",
       "      <td>0.0</td>\n",
       "    </tr>\n",
       "  </tbody>\n",
       "</table>\n",
       "<p>5 rows × 24 columns</p>\n",
       "</div>"
      ],
      "text/plain": [
       "          ACTIVITY  AGE               AREA CASE NUMBER CASE NUMBER 1  \\\n",
       "6297        Diving  NaN  Western Australia     ND.0005       ND.0005   \n",
       "6298  Pearl diving  NaN  Western Australia     ND.0004       ND.0004   \n",
       "6299      Swimming  NaN     North Carolina     ND.0003       ND.0003   \n",
       "6300           NaN  NaN                NaN     ND.0002       ND.0002   \n",
       "6301      Swimming   15   Eastern Province     ND.0001       ND.0001   \n",
       "\n",
       "     CASE NUMBER 2             COUNTRY         DATE FATAL (Y/N)  \\\n",
       "6297       ND.0005           AUSTRALIA  Before 1903           Y   \n",
       "6298       ND.0004           AUSTRALIA  Before 1903           Y   \n",
       "6299       ND.0003                 USA    1900-1905           Y   \n",
       "6300       ND.0002              PANAMA    1883-1889           Y   \n",
       "6301       ND.0001  CEYLON (SRI LANKA)    1845-1853           Y   \n",
       "\n",
       "                                                   HREF  ...  \\\n",
       "6297  http://sharkattackfile.net/spreadsheets/pdf_di...  ...   \n",
       "6298  http://sharkattackfile.net/spreadsheets/pdf_di...  ...   \n",
       "6299  http://sharkattackfile.net/spreadsheets/pdf_di...  ...   \n",
       "6300  http://sharkattackfile.net/spreadsheets/pdf_di...  ...   \n",
       "6301  http://sharkattackfile.net/spreadsheets/pdf_di...  ...   \n",
       "\n",
       "                       NAME ORIGINAL ORDER                             PDF  \\\n",
       "6297                   male            6.0          ND-0005-RoebuckBay.pdf   \n",
       "6298                  Ahmun            5.0               ND-0004-Ahmun.pdf   \n",
       "6299  Coast Guard personnel            4.0  ND-0003-Ocracoke_1900-1905.pdf   \n",
       "6300        Jules Patterson            3.0      ND-0002-JulesPatterson.pdf   \n",
       "6301                   male            2.0              ND-0001-Ceylon.pdf   \n",
       "\n",
       "     SEX SPECIES  TIME        TYPE UNNAMED: 22 UNNAMED: 23 YEAR  \n",
       "6297   M     NaN   NaN  Unprovoked         NaN         NaN  0.0  \n",
       "6298   M     NaN   NaN  Unprovoked         NaN         NaN  0.0  \n",
       "6299   M     NaN   NaN  Unprovoked         NaN         NaN  0.0  \n",
       "6300   M     NaN   NaN  Unprovoked         NaN         NaN  0.0  \n",
       "6301   M     NaN   NaN  Unprovoked         NaN         NaN  0.0  \n",
       "\n",
       "[5 rows x 24 columns]"
      ]
     },
     "execution_count": 7,
     "metadata": {},
     "output_type": "execute_result"
    }
   ],
   "source": [
    "for i in range(df.shape[0]):\n",
    "    lst = []\n",
    "    for j in ordered_col:\n",
    "        try:\n",
    "            x = math.isnan(df[j][i])\n",
    "            if x:\n",
    "                lst.append(str(x))\n",
    "        except:\n",
    "            x = False\n",
    "    if len(lst) > 11:\n",
    "        df.drop(i, axis = 0, inplace = True)\n",
    "df.tail()"
   ]
  },
  {
   "cell_type": "code",
   "execution_count": 8,
   "metadata": {},
   "outputs": [
    {
     "data": {
      "text/plain": [
       "(6302, 24)"
      ]
     },
     "execution_count": 8,
     "metadata": {},
     "output_type": "execute_result"
    }
   ],
   "source": [
    "df.shape"
   ]
  },
  {
   "cell_type": "code",
   "execution_count": 9,
   "metadata": {},
   "outputs": [],
   "source": [
    "df1 = df.copy()"
   ]
  },
  {
   "cell_type": "markdown",
   "metadata": {},
   "source": [
    "As the majority of CASE NUMBER 1, CASE NUMBER 2 and CASE NUMBER values are the same, I will set the missing value of CASE NUMBER to be the same of the row of CASE NUMBER 1."
   ]
  },
  {
   "cell_type": "code",
   "execution_count": 10,
   "metadata": {},
   "outputs": [
    {
     "name": "stderr",
     "output_type": "stream",
     "text": [
      "<ipython-input-10-e6ac985bf3e9>:7: SettingWithCopyWarning: \n",
      "A value is trying to be set on a copy of a slice from a DataFrame\n",
      "\n",
      "See the caveats in the documentation: https://pandas.pydata.org/pandas-docs/stable/user_guide/indexing.html#returning-a-view-versus-a-copy\n",
      "  df1['CASE NUMBER'][i] = df['CASE NUMBER 1'][i]\n"
     ]
    }
   ],
   "source": [
    "for i in range(df1.shape[0]):\n",
    "    try:\n",
    "        x = math.isnan(df1['CASE NUMBER'][i])\n",
    "    except:\n",
    "        continue\n",
    "    if x:\n",
    "        df1['CASE NUMBER'][i] = df['CASE NUMBER 1'][i]"
   ]
  },
  {
   "cell_type": "code",
   "execution_count": 11,
   "metadata": {},
   "outputs": [
    {
     "data": {
      "text/plain": [
       "ACTIVITY                   544\n",
       "AGE                       2831\n",
       "AREA                       455\n",
       "CASE NUMBER                  0\n",
       "CASE NUMBER 1                0\n",
       "CASE NUMBER 2                0\n",
       "COUNTRY                     50\n",
       "DATE                         0\n",
       "FATAL (Y/N)                539\n",
       "HREF                         0\n",
       "HREF FORMULA                 1\n",
       "INJURY                      28\n",
       "INVESTIGATOR OR SOURCE      17\n",
       "LOCATION                   540\n",
       "NAME                       210\n",
       "ORIGINAL ORDER               0\n",
       "PDF                          0\n",
       "SEX                        565\n",
       "SPECIES                   2838\n",
       "TIME                      3354\n",
       "TYPE                         4\n",
       "UNNAMED: 22               6301\n",
       "UNNAMED: 23               6300\n",
       "YEAR                         2\n",
       "dtype: int64"
      ]
     },
     "execution_count": 11,
     "metadata": {},
     "output_type": "execute_result"
    }
   ],
   "source": [
    "df1.isna().sum()"
   ]
  },
  {
   "cell_type": "markdown",
   "metadata": {},
   "source": [
    "# Cleaning column AGE"
   ]
  },
  {
   "cell_type": "code",
   "execution_count": 12,
   "metadata": {},
   "outputs": [
    {
     "data": {
      "text/plain": [
       "array(['57', '11', '48', 'Unknown', '18', '52', '15', '12', '32', '10',\n",
       "       '21', '34', '30', '60', '33', '29', '54', '41', '37', '56', '19',\n",
       "       '25', '69', '38', '55', '35', '46', '45', '14', '40s', '28', '20',\n",
       "       '24', '26', '49', '22', '7', '31', '17', '40', '13', '42', '3',\n",
       "       '8', '50', '16', '82', '73', '20s', '68', '51', '39', '58', 'Teen',\n",
       "       '47', '61', '65', '36', '66', '43', '60s', '9', '72', '59', '6',\n",
       "       '27', '64', '23', '71', '44', '62', '63', '70', '18 months', '53',\n",
       "       '30s', '50s', 'teen', '77', '74', '28 & 26', '5', '86', '18 or 20',\n",
       "       '12 or 13', '46 & 34', '28, 23 & 30', 'Teens', '36 & 26',\n",
       "       '8 or 10', '84', '', '30 or 36', '6½', '21 & ?', '75', '33 or 37',\n",
       "       'mid-30s', '23 & 20', '7      &    31', '20?', \"60's\", '32 & 30',\n",
       "       '16 to 18', '87', '67', 'Elderly', 'mid-20s', 'Ca. 33', '21 or 26',\n",
       "       '>50', '18 to 22', 'adult', '9 & 12', '? & 19', '9 months',\n",
       "       '25 to 35', '23 & 26', '1', '(adult)', '33 & 37', '25 or 28',\n",
       "       '37, 67, 35, 27,  ? & 27', '21, 34,24 & 35', '30 & 32', '50 & 30',\n",
       "       '17 & 35', 'X', '\"middle-age\"', '13 or 18', '34 & 19', '33 & 26',\n",
       "       '2 to 3 months', 'MAKE LINE GREEN', '81', '\"young\"', '7 or 8',\n",
       "       '78', '17 & 16', 'F', 'Both 11', '9 or 10', 'young', '36 & 23',\n",
       "       'A.M.', '?    &   14', '10 or 12', '31 or 33', '2½', '13 or 14'],\n",
       "      dtype=object)"
      ]
     },
     "execution_count": 12,
     "metadata": {},
     "output_type": "execute_result"
    }
   ],
   "source": [
    "df1['AGE'] = df1['AGE'].fillna('Unknown')\n",
    "df1['AGE'] = df1['AGE'].str.strip()\n",
    "df1['AGE'].unique()"
   ]
  },
  {
   "cell_type": "code",
   "execution_count": 13,
   "metadata": {},
   "outputs": [],
   "source": [
    "def age_clean(x):\n",
    "    if re.search(r'[a-zA-Z½\\s\\D\\W]',x) != None:\n",
    "        return 'Unknown'\n",
    "    else:\n",
    "        return x"
   ]
  },
  {
   "cell_type": "code",
   "execution_count": 14,
   "metadata": {},
   "outputs": [
    {
     "data": {
      "text/plain": [
       "array(['57', '11', '48', 'Unknown', '18', '52', '15', '12', '32', '10',\n",
       "       '21', '34', '30', '60', '33', '29', '54', '41', '37', '56', '19',\n",
       "       '25', '69', '38', '55'], dtype=object)"
      ]
     },
     "execution_count": 14,
     "metadata": {},
     "output_type": "execute_result"
    }
   ],
   "source": [
    "df1['AGE'] =df1['AGE'].apply(age_clean)\n",
    "df1['AGE'] = df1['AGE'].fillna('Unknown')\n",
    "df1['AGE'] = df1['AGE'].str.replace(' ', 'Unknown')\n",
    "df1['AGE'].unique()[:25]"
   ]
  },
  {
   "cell_type": "markdown",
   "metadata": {},
   "source": [
    "# Cleaning column SEX"
   ]
  },
  {
   "cell_type": "code",
   "execution_count": 15,
   "metadata": {},
   "outputs": [
    {
     "data": {
      "text/plain": [
       "M      5094\n",
       "F       637\n",
       "M         2\n",
       "N         2\n",
       ".         1\n",
       "lli       1\n",
       "Name: SEX, dtype: int64"
      ]
     },
     "execution_count": 15,
     "metadata": {},
     "output_type": "execute_result"
    }
   ],
   "source": [
    "df1['SEX'].value_counts()"
   ]
  },
  {
   "cell_type": "code",
   "execution_count": 16,
   "metadata": {},
   "outputs": [
    {
     "data": {
      "text/plain": [
       "array(['F', 'M', nan, 'M ', 'lli', 'N', '.'], dtype=object)"
      ]
     },
     "execution_count": 16,
     "metadata": {},
     "output_type": "execute_result"
    }
   ],
   "source": [
    "df1['SEX'].unique()"
   ]
  },
  {
   "cell_type": "code",
   "execution_count": 17,
   "metadata": {},
   "outputs": [],
   "source": [
    "df1['SEX'] = df1['SEX'].fillna('Unknown')\n",
    "df1['SEX'] = df1['SEX'].str.replace('.', 'Unknown')\n",
    "df1['SEX'] = df1['SEX'].str.replace('lli', 'Unknown')\n",
    "df1['SEX'] = df1['SEX'].str.replace('N', 'M') # I will replace N with M because in the keyboard are toghether so it is probable that the user made a mistake\n",
    "df1['SEX'] = df1['SEX'].str.strip()"
   ]
  },
  {
   "cell_type": "code",
   "execution_count": 18,
   "metadata": {},
   "outputs": [
    {
     "data": {
      "text/plain": [
       "array(['F', 'M', 'Unknown'], dtype=object)"
      ]
     },
     "execution_count": 18,
     "metadata": {},
     "output_type": "execute_result"
    }
   ],
   "source": [
    "df1['SEX'].unique()"
   ]
  },
  {
   "cell_type": "code",
   "execution_count": 19,
   "metadata": {},
   "outputs": [
    {
     "data": {
      "text/plain": [
       "ACTIVITY                   544\n",
       "AGE                          0\n",
       "AREA                       455\n",
       "CASE NUMBER                  0\n",
       "CASE NUMBER 1                0\n",
       "CASE NUMBER 2                0\n",
       "COUNTRY                     50\n",
       "DATE                         0\n",
       "FATAL (Y/N)                539\n",
       "HREF                         0\n",
       "HREF FORMULA                 1\n",
       "INJURY                      28\n",
       "INVESTIGATOR OR SOURCE      17\n",
       "LOCATION                   540\n",
       "NAME                       210\n",
       "ORIGINAL ORDER               0\n",
       "PDF                          0\n",
       "SEX                          0\n",
       "SPECIES                   2838\n",
       "TIME                      3354\n",
       "TYPE                         4\n",
       "UNNAMED: 22               6301\n",
       "UNNAMED: 23               6300\n",
       "YEAR                         2\n",
       "dtype: int64"
      ]
     },
     "execution_count": 19,
     "metadata": {},
     "output_type": "execute_result"
    }
   ],
   "source": [
    "df1.isna().sum()"
   ]
  },
  {
   "cell_type": "markdown",
   "metadata": {},
   "source": [
    "# Cleaning column AREA"
   ]
  },
  {
   "cell_type": "code",
   "execution_count": 20,
   "metadata": {},
   "outputs": [],
   "source": [
    "df2 = df1.copy()"
   ]
  },
  {
   "cell_type": "code",
   "execution_count": 21,
   "metadata": {},
   "outputs": [
    {
     "data": {
      "text/plain": [
       "Florida                  1038\n",
       "New South Wales           486\n",
       "Unknown                   455\n",
       "Queensland                312\n",
       "Hawaii                    298\n",
       "California                290\n",
       "KwaZulu-Natal             213\n",
       "Western Cape Province     195\n",
       "Western Australia         189\n",
       "South Carolina            161\n",
       "Name: AREA, dtype: int64"
      ]
     },
     "execution_count": 21,
     "metadata": {},
     "output_type": "execute_result"
    }
   ],
   "source": [
    "df2['AREA'] = df2['AREA'].fillna('Unknown')\n",
    "df2['AREA'] = df2['AREA'].str.strip()\n",
    "df2['AREA'] = df2['AREA'].str.replace('','')\n",
    "df2['AREA'] = df2['AREA'].str.replace('?','')\n",
    "df2['AREA'] = df2['AREA'].str.replace('\"','')\n",
    "df2['AREA'] = df2['AREA'].str.replace('º','')\n",
    "#df2['AREA'].value_counts()\n",
    "df2['AREA'].value_counts()[:10]"
   ]
  },
  {
   "cell_type": "markdown",
   "metadata": {},
   "source": [
    "# Cleaning COUNTRY"
   ]
  },
  {
   "cell_type": "code",
   "execution_count": 22,
   "metadata": {},
   "outputs": [],
   "source": [
    "df3 = df2.copy()"
   ]
  },
  {
   "cell_type": "code",
   "execution_count": 23,
   "metadata": {},
   "outputs": [
    {
     "data": {
      "text/plain": [
       "USA                 2229\n",
       "AUSTRALIA           1338\n",
       "SOUTH AFRICA         579\n",
       "PAPUA NEW GUINEA     134\n",
       "NEW ZEALAND          128\n",
       "BRAZIL               112\n",
       "BAHAMAS              109\n",
       "MEXICO                90\n",
       "ITALY                 71\n",
       "FIJI                  65\n",
       "Name: COUNTRY, dtype: int64"
      ]
     },
     "execution_count": 23,
     "metadata": {},
     "output_type": "execute_result"
    }
   ],
   "source": [
    "df3['COUNTRY'] = df3['COUNTRY'].fillna('Unknown')\n",
    "df3['COUNTRY'] = df3['COUNTRY'].astype(str)\n",
    "df3['COUNTRY'] = df3['COUNTRY'].apply(lambda x: x.upper() if bool(x.lower()) else x.upper())\n",
    "df3['COUNTRY'] = df3['COUNTRY'].str.strip()\n",
    "df3['COUNTRY'] = df3['COUNTRY'].replace('?','')\n",
    "#df3['COUNTRY'].value_counts()\n",
    "df3['COUNTRY'].value_counts()[:10]"
   ]
  },
  {
   "cell_type": "markdown",
   "metadata": {},
   "source": [
    "# Cleaning FATAL"
   ]
  },
  {
   "cell_type": "code",
   "execution_count": 24,
   "metadata": {},
   "outputs": [],
   "source": [
    "df4 = df3.copy()"
   ]
  },
  {
   "cell_type": "code",
   "execution_count": 25,
   "metadata": {},
   "outputs": [
    {
     "data": {
      "text/plain": [
       "N          4293\n",
       "Y          1388\n",
       "UNKNOWN      71\n",
       " N            7\n",
       "M             1\n",
       "2017          1\n",
       "y             1\n",
       "N             1\n",
       "Name: FATAL (Y/N), dtype: int64"
      ]
     },
     "execution_count": 25,
     "metadata": {},
     "output_type": "execute_result"
    }
   ],
   "source": [
    "df4['FATAL (Y/N)'].value_counts()"
   ]
  },
  {
   "cell_type": "code",
   "execution_count": 26,
   "metadata": {},
   "outputs": [],
   "source": [
    "#def fatal_clean(x):\n",
    "#    if bool(re.search(r'\\d', x)):\n",
    "#        return 'UNKNOWN'"
   ]
  },
  {
   "cell_type": "code",
   "execution_count": 27,
   "metadata": {},
   "outputs": [
    {
     "data": {
      "text/plain": [
       "N          4302\n",
       "Y          1389\n",
       "UNKNOWN     611\n",
       "Name: FATAL (Y/N), dtype: int64"
      ]
     },
     "execution_count": 27,
     "metadata": {},
     "output_type": "execute_result"
    }
   ],
   "source": [
    "df4['FATAL (Y/N)'] = df4['FATAL (Y/N)'].fillna('UNKNOWN')\n",
    "df4['FATAL (Y/N)'] = df4['FATAL (Y/N)'].astype(str)\n",
    "df4['FATAL (Y/N)'] = df4['FATAL (Y/N)'].str.strip()\n",
    "df4['FATAL (Y/N)'] = df4['FATAL (Y/N)'].str.replace('M','N') #I will replace M with N as it is highly probable to be a typo because M and N are together in the keyboard\n",
    "df4['FATAL (Y/N)'] = df4['FATAL (Y/N)'].str.replace('2017','UNKNOWN')\n",
    "#df4['FATAL (Y/N)'] = df4['FATAL (Y/N)'].apply(fatal_clean)\n",
    "df4['FATAL (Y/N)'] = df4['FATAL (Y/N)'].apply(lambda x: x.upper() if bool(x.lower()) else x.upper())\n",
    "df4['FATAL (Y/N)'].value_counts()"
   ]
  },
  {
   "cell_type": "markdown",
   "metadata": {},
   "source": [
    "# Cleaning COUNTRY"
   ]
  },
  {
   "cell_type": "code",
   "execution_count": 28,
   "metadata": {},
   "outputs": [],
   "source": [
    "df5 = df4.copy()"
   ]
  },
  {
   "cell_type": "code",
   "execution_count": 29,
   "metadata": {},
   "outputs": [],
   "source": [
    "def clean_country_1(x):\n",
    "    try:\n",
    "        i = x.index('/')\n",
    "        return x[:i]\n",
    "    except:\n",
    "        try:\n",
    "            i = x.index('&')\n",
    "            return x[:i]\n",
    "        except:\n",
    "            try:\n",
    "                i = x.index('(')\n",
    "                return x[:i]\n",
    "            except:\n",
    "                return x"
   ]
  },
  {
   "cell_type": "code",
   "execution_count": 30,
   "metadata": {},
   "outputs": [],
   "source": [
    "df5['COUNTRY'] = df5['COUNTRY'].fillna('UNKNOWN')\n",
    "df5['COUNTRY'] = df5['COUNTRY'].str.replace('?','')\n",
    "df5['COUNTRY'] = df5['COUNTRY'].apply(lambda x: x.upper() if bool(x.lower()) else x.upper())\n",
    "df5['COUNTRY'] = df5['COUNTRY'].str.replace('BETWEEN','')\n",
    "df5['COUNTRY'] = df5['COUNTRY'].apply(clean_country_1)\n",
    "df5['COUNTRY'] = df5['COUNTRY'].str.strip()"
   ]
  },
  {
   "cell_type": "code",
   "execution_count": 31,
   "metadata": {},
   "outputs": [
    {
     "data": {
      "text/plain": [
       "USA                 2229\n",
       "AUSTRALIA           1338\n",
       "SOUTH AFRICA         579\n",
       "PAPUA NEW GUINEA     134\n",
       "NEW ZEALAND          128\n",
       "BRAZIL               112\n",
       "BAHAMAS              109\n",
       "MEXICO                90\n",
       "ITALY                 72\n",
       "FIJI                  65\n",
       "Name: COUNTRY, dtype: int64"
      ]
     },
     "execution_count": 31,
     "metadata": {},
     "output_type": "execute_result"
    }
   ],
   "source": [
    "df5['COUNTRY'].value_counts()[:10]"
   ]
  },
  {
   "cell_type": "markdown",
   "metadata": {},
   "source": [
    "# Cleaning HREF FORMULA"
   ]
  },
  {
   "cell_type": "code",
   "execution_count": 32,
   "metadata": {},
   "outputs": [],
   "source": [
    "df6 = df5.copy()"
   ]
  },
  {
   "cell_type": "code",
   "execution_count": 33,
   "metadata": {},
   "outputs": [],
   "source": [
    "#list(df5['HREF'] == df5['HREF FORMULA']) #This line is to check if all values between href and href formula are the same\n",
    "# The majority of values are the same between HREF and HREF FORMULA so the missing values in HREF FORMULA I will fill them with HREF column"
   ]
  },
  {
   "cell_type": "code",
   "execution_count": 34,
   "metadata": {},
   "outputs": [],
   "source": [
    "#df6['HREF FORMULA'].value_counts()\n",
    "#df6['HREF'].value_counts()"
   ]
  },
  {
   "cell_type": "code",
   "execution_count": 35,
   "metadata": {},
   "outputs": [],
   "source": [
    "df6['HREF'] = df6['HREF'].str.strip()\n",
    "df6['HREF FORMULA'] = df6['HREF FORMULA'].str.strip()\n",
    "df6['HREF FORMULA'] = df6['HREF FORMULA'].str.replace('Q93', 'UNKNOWN')\n",
    "df6['HREF'] = df6['HREF'].str.replace('Q93', 'UNKNOWN')\n",
    "df6['HREF FORMULA'] = df6['HREF FORMULA'].str.replace('#VALUE!', 'UNKNOWN')"
   ]
  },
  {
   "cell_type": "code",
   "execution_count": 36,
   "metadata": {},
   "outputs": [
    {
     "name": "stderr",
     "output_type": "stream",
     "text": [
      "<ipython-input-36-fdda332826f9>:7: SettingWithCopyWarning: \n",
      "A value is trying to be set on a copy of a slice from a DataFrame\n",
      "\n",
      "See the caveats in the documentation: https://pandas.pydata.org/pandas-docs/stable/user_guide/indexing.html#returning-a-view-versus-a-copy\n",
      "  df6['HREF FORMULA'][i] = df6['HREF'][i]\n"
     ]
    }
   ],
   "source": [
    "for i in range(df6.shape[0]):\n",
    "    try:\n",
    "        x = math.isnan(df6['HREF FORMULA'][i])\n",
    "    except:\n",
    "        continue\n",
    "    if x:\n",
    "        df6['HREF FORMULA'][i] = df6['HREF'][i]"
   ]
  },
  {
   "cell_type": "code",
   "execution_count": 37,
   "metadata": {},
   "outputs": [
    {
     "data": {
      "text/plain": [
       "HREF             0\n",
       "HREF FORMULA     0\n",
       "INJURY          28\n",
       "dtype: int64"
      ]
     },
     "execution_count": 37,
     "metadata": {},
     "output_type": "execute_result"
    }
   ],
   "source": [
    "df6.isna().sum()[9:12]"
   ]
  },
  {
   "cell_type": "markdown",
   "metadata": {},
   "source": [
    "# Cleaning INJURY"
   ]
  },
  {
   "cell_type": "code",
   "execution_count": 38,
   "metadata": {},
   "outputs": [],
   "source": [
    "df7 = df6.copy()"
   ]
  },
  {
   "cell_type": "code",
   "execution_count": 39,
   "metadata": {},
   "outputs": [],
   "source": [
    "#df7['INJURY'].value_counts()"
   ]
  },
  {
   "cell_type": "code",
   "execution_count": 40,
   "metadata": {},
   "outputs": [],
   "source": [
    "df7['INJURY'] = df7['INJURY'].fillna('Unknown')\n",
    "df7['INJURY'] = df7['INJURY'].str.replace('\"','')\n",
    "df7['INJURY'] = df7['INJURY'].str.strip()"
   ]
  },
  {
   "cell_type": "code",
   "execution_count": 41,
   "metadata": {},
   "outputs": [
    {
     "data": {
      "text/plain": [
       "INJURY                     0\n",
       "INVESTIGATOR OR SOURCE    17\n",
       "dtype: int64"
      ]
     },
     "execution_count": 41,
     "metadata": {},
     "output_type": "execute_result"
    }
   ],
   "source": [
    "df7.isna().sum()[11:13]"
   ]
  },
  {
   "cell_type": "markdown",
   "metadata": {},
   "source": [
    "# Clearing INVESTIGATIOR OR SOURCE"
   ]
  },
  {
   "cell_type": "code",
   "execution_count": 42,
   "metadata": {},
   "outputs": [],
   "source": [
    "df8 = df7.copy()"
   ]
  },
  {
   "cell_type": "code",
   "execution_count": 43,
   "metadata": {},
   "outputs": [
    {
     "data": {
      "text/plain": [
       "['R. Collier, GSAF',\n",
       " 'K.McMurray, TrackingSharks.com',\n",
       " 'B. Myatt, GSAF',\n",
       " 'A .Kipper',\n",
       " 'Daily Telegraph, 6/4/2018',\n",
       " 'Diario de Pernambuco, 6/4/2018',\n",
       " 'K. McMurray, TrackingSharks.com',\n",
       " 'K. McMurray, Tracking Sharks.com',\n",
       " 'ABC.net.au ,05/24/2018',\n",
       " 'C. Creswell, GSAF']"
      ]
     },
     "execution_count": 43,
     "metadata": {},
     "output_type": "execute_result"
    }
   ],
   "source": [
    "#df8['INVESTIGATOR OR SOURCE'].unique()\n",
    "lst=list(df8['INVESTIGATOR OR SOURCE'].unique())\n",
    "#lst.sort()\n",
    "lst[0:10]"
   ]
  },
  {
   "cell_type": "code",
   "execution_count": 44,
   "metadata": {},
   "outputs": [],
   "source": [
    "df8['INVESTIGATOR OR SOURCE'] = df8['INVESTIGATOR OR SOURCE'].fillna('Unknown')\n",
    "df8['INVESTIGATOR OR SOURCE'] = df8['INVESTIGATOR OR SOURCE'].str.strip()\n",
    "df8['INVESTIGATOR OR SOURCE'] = df8['INVESTIGATOR OR SOURCE'].str.lstrip('.')"
   ]
  },
  {
   "cell_type": "code",
   "execution_count": 45,
   "metadata": {},
   "outputs": [
    {
     "data": {
      "text/plain": [
       "INVESTIGATOR OR SOURCE      0\n",
       "LOCATION                  540\n",
       "dtype: int64"
      ]
     },
     "execution_count": 45,
     "metadata": {},
     "output_type": "execute_result"
    }
   ],
   "source": [
    "df8.isna().sum()[12:14]"
   ]
  },
  {
   "cell_type": "markdown",
   "metadata": {},
   "source": [
    "# Cleaning LOCATION"
   ]
  },
  {
   "cell_type": "code",
   "execution_count": 46,
   "metadata": {},
   "outputs": [],
   "source": [
    "df9 = df8.copy()"
   ]
  },
  {
   "cell_type": "code",
   "execution_count": 47,
   "metadata": {},
   "outputs": [
    {
     "data": {
      "text/plain": [
       "New Smyrna Beach, Volusia County                           163\n",
       "Daytona Beach, Volusia County                               30\n",
       "Ponce Inlet, Volusia County                                 20\n",
       "Melbourne Beach, Brevard County                             18\n",
       "Myrtle Beach, Horry County                                  17\n",
       "                                                          ... \n",
       "5 miles south of Sussex Inlet at mouth of Berara Lake        1\n",
       "Oceanic Pier, Wrightsville Beach, New Hanover County         1\n",
       "Off the south Devon coast                                    1\n",
       "Turquoise Bay                                                1\n",
       "Winterhaven Park,           Ponce Inlet, Volusia County      1\n",
       "Name: LOCATION, Length: 4108, dtype: int64"
      ]
     },
     "execution_count": 47,
     "metadata": {},
     "output_type": "execute_result"
    }
   ],
   "source": [
    "df9['LOCATION'].value_counts()#[:10]"
   ]
  },
  {
   "cell_type": "code",
   "execution_count": 48,
   "metadata": {},
   "outputs": [],
   "source": [
    "df9['LOCATION'] = df9['LOCATION'].fillna('Unknown')\n",
    "df9['LOCATION'] = df9['LOCATION'].str.strip()\n",
    "df9['LOCATION'] = df9['LOCATION'].str.replace('','')\n",
    "df9['LOCATION'] = df9['LOCATION'].str.replace('\"','')\n",
    "df9['LOCATION'] = df9['LOCATION'].str.replace('?','')\n",
    "df9['LOCATION'] = df9['LOCATION'].str.replace('(','')\n",
    "df9['LOCATION'] = df9['LOCATION'].str.replace(')','')"
   ]
  },
  {
   "cell_type": "code",
   "execution_count": 49,
   "metadata": {},
   "outputs": [
    {
     "data": {
      "text/plain": [
       "LOCATION      0\n",
       "NAME        210\n",
       "dtype: int64"
      ]
     },
     "execution_count": 49,
     "metadata": {},
     "output_type": "execute_result"
    }
   ],
   "source": [
    "df9.isna().sum()[13:15]"
   ]
  },
  {
   "cell_type": "markdown",
   "metadata": {},
   "source": [
    "# Cleaning NAME"
   ]
  },
  {
   "cell_type": "code",
   "execution_count": 50,
   "metadata": {},
   "outputs": [],
   "source": [
    "df10 = df9.copy()"
   ]
  },
  {
   "cell_type": "code",
   "execution_count": 51,
   "metadata": {},
   "outputs": [],
   "source": [
    "def name_cleaner(x):\n",
    "    try:\n",
    "        i = x.index[',']\n",
    "        return x[:i]\n",
    "    except:\n",
    "        return x"
   ]
  },
  {
   "cell_type": "code",
   "execution_count": 52,
   "metadata": {},
   "outputs": [],
   "source": [
    "df10['NAME'] = df10['NAME'].fillna('Unknown')\n",
    "df10['NAME'] = df10['NAME'].str.strip()\n",
    "df10['NAME'] = df10['NAME'].str.replace('\"','')\n",
    "df10['NAME'] = df10['NAME'].apply(lambda x: 'Unknown' if x[0].isdigit() else x)\n",
    "df10['NAME'] = df10['NAME'].str.replace('?','')\n",
    "df10['NAME'] = df10['NAME'].str.replace('',\"'\")\n",
    "df10['NAME'] = df10['NAME'].str.replace('k','')\n",
    "df10['NAME'] = df10['NAME'].apply(lambda x: 'Unknown' if x.startswith('a ') else x)\n",
    "df10['NAME'] = df10['NAME'].apply(lambda x: 'Unknown' if x.startswith('A ') else x)\n",
    "df10['NAME'] = df10['NAME'].apply(lambda x: 'Unknown' if x.startswith('B, ') else x)\n",
    "df10['NAME'] = df10['NAME'].apply(lambda x: 'Unknown' if bool(re.search('male',x)) else x)\n",
    "df10['NAME'] = df10['NAME'].apply(lambda x: 'Unknown' if bool(re.search('female',x)) else x)\n",
    "df10['NAME'] = df10['NAME'].apply(lambda x: 'Unknown' if bool(re.search('teen',x)) else x)\n",
    "df10['NAME'] = df10['NAME'].apply(lambda x: 'Unknown' if bool(re.search('child',x)) else x)\n",
    "df10['NAME'] = df10['NAME'].apply(lambda x: 'Unknown' if bool(re.search('girl',x)) else x)\n",
    "df10['NAME'] = df10['NAME'].apply(lambda x: 'Unknown' if bool(re.search('boy',x)) else x)\n",
    "df10['NAME'] = df10['NAME'].apply(lambda x: 'Unknown' if bool(re.search('Anonymous',x)) else x)\n",
    "df10['NAME'] = df10['NAME'].apply(lambda x: 'Unknown' if bool(re.search('boat',x)) else x)\n",
    "df10['NAME'] = df10['NAME'].apply(lambda x: 'Unknown' if bool(re.search('woman',x)) else x)\n",
    "df10['NAME'] = df10['NAME'].apply(lambda x: 'Unknown' if bool(re.search('sailor',x)) else x)\n",
    "df10['NAME'] = df10['NAME'].apply(lambda x: 'Unknown' if bool(re.search('native',x)) else x)\n",
    "df10['NAME'] = df10['NAME'].apply(lambda x: 'Unknown' if bool(re.search('fisherman',x)) else x)\n",
    "df10['NAME'] = df10['NAME'].apply(lambda x: 'Unknown' if bool(re.search('unknown',x)) else x)\n",
    "df10['NAME'] = df10['NAME'].apply(lambda x: 'Unknown' if bool(re.search('a youth',x)) else x)\n",
    "df10['NAME'] = df10['NAME'].apply(lambda x: 'Unknown' if bool(re.search('Unnown',x)) else x)\n",
    "df10['NAME'] = df10['NAME'].apply(lambda x: 'Unknown' if bool(re.search('unnown',x)) else x)\n",
    "df10['NAME'] = df10['NAME'].apply(lambda x: 'Unknown' if bool(re.search('unnown',x)) else x)\n",
    "df10['NAME'] = df10['NAME'].apply(lambda x: 'Unknown' if bool(re.search('crew',x)) else x)\n",
    "df10['NAME'] = df10['NAME'].apply(name_cleaner)\n",
    "df10['NAME'] = df10['NAME'].apply(lambda x: 'Unknown' if len(x)> 35 else x)"
   ]
  },
  {
   "cell_type": "code",
   "execution_count": 53,
   "metadata": {},
   "outputs": [],
   "source": [
    "#df10['NAME'].value_counts()[:20]"
   ]
  },
  {
   "cell_type": "code",
   "execution_count": 54,
   "metadata": {},
   "outputs": [
    {
     "data": {
      "text/plain": [
       "ACTIVITY                   544\n",
       "AGE                          0\n",
       "AREA                         0\n",
       "CASE NUMBER                  0\n",
       "CASE NUMBER 1                0\n",
       "CASE NUMBER 2                0\n",
       "COUNTRY                      0\n",
       "DATE                         0\n",
       "FATAL (Y/N)                  0\n",
       "HREF                         0\n",
       "HREF FORMULA                 0\n",
       "INJURY                       0\n",
       "INVESTIGATOR OR SOURCE       0\n",
       "LOCATION                     0\n",
       "NAME                         0\n",
       "ORIGINAL ORDER               0\n",
       "PDF                          0\n",
       "SEX                          0\n",
       "SPECIES                   2838\n",
       "TIME                      3354\n",
       "TYPE                         4\n",
       "UNNAMED: 22               6301\n",
       "UNNAMED: 23               6300\n",
       "YEAR                         2\n",
       "dtype: int64"
      ]
     },
     "execution_count": 54,
     "metadata": {},
     "output_type": "execute_result"
    }
   ],
   "source": [
    "df10.isna().sum()"
   ]
  },
  {
   "cell_type": "code",
   "execution_count": 55,
   "metadata": {},
   "outputs": [],
   "source": [
    "df10['PDF'] = df10['PDF'].apply(lambda x: x[1:] if x.startswith('.') else x)\n",
    "#lst = list(df10['PDF'].unique())\n",
    "#lst.sort()\n",
    "#lst[:10]"
   ]
  },
  {
   "cell_type": "code",
   "execution_count": 56,
   "metadata": {},
   "outputs": [
    {
     "data": {
      "text/plain": [
       "M          5098\n",
       "F           637\n",
       "Unknown     567\n",
       "Name: SEX, dtype: int64"
      ]
     },
     "execution_count": 56,
     "metadata": {},
     "output_type": "execute_result"
    }
   ],
   "source": [
    "df10['SEX'].value_counts()"
   ]
  },
  {
   "cell_type": "markdown",
   "metadata": {},
   "source": [
    "# Cleaning SPECIES"
   ]
  },
  {
   "cell_type": "code",
   "execution_count": 57,
   "metadata": {},
   "outputs": [],
   "source": [
    "df11 = df10.copy()"
   ]
  },
  {
   "cell_type": "code",
   "execution_count": 58,
   "metadata": {},
   "outputs": [],
   "source": [
    "def shark_unknown(x):\n",
    "    if x != 'Sand Shark' and x != 'Hammerhead Shark' and x != 'Spinner Shark' and x != 'Reef Shark' and x != 'Blacktip Shark' and x != 'Dusky Shark' and x != 'Grey Shark' and x != 'Whaler Shark' and x != 'White Shark' and x != 'Copper Shark' and x != 'Zambesi Shark' and x != 'Mako Shark' and x != 'Carpet Shark' and x != 'Cocktail Shark' and x != 'Dogfish Shark' and x != 'Silky Shark' and x != 'Tiger Shark' and x != 'Thresher Shark' and x != 'Bull Shark' and x != 'Blue Shark' and x != 'Cow Shark' and x != 'Banjo Shark' and x != 'Juvenile Shark' and x != 'Gaffed Shark' and x != 'Basking Shark' and x != 'Angel Shark' and x != 'Broadnose Shark' and x != 'Galapagos Shark' and x != 'Lemon Shark' and x != 'Nurse Shark' and x != 'Raggedtooth Shark' and x != 'Sevengill Shark' and x != 'Sevengill Shark' and x != 'Wobbegong Shark':\n",
    "        return 'Unknown'\n",
    "    else:\n",
    "        return x"
   ]
  },
  {
   "cell_type": "code",
   "execution_count": 59,
   "metadata": {},
   "outputs": [],
   "source": [
    "df11['SPECIES'] = df11['SPECIES'].fillna('Unknown')\n",
    "df11['SPECIES'] = df11['SPECIES'].str.strip()\n",
    "df11['SPECIES'] = df11['SPECIES'].str.replace('\"','')\n",
    "df11['SPECIES'] = df11['SPECIES'].str.replace('+','')\n",
    "df11['SPECIES'] = df11['SPECIES'].apply(lambda x: x[1:] if x.startswith('.') else x)\n",
    "df11['SPECIES'] = df11['SPECIES'].apply(lambda x: 'Unknown' if bool(re.search(r'or',x.lower())) else x)\n",
    "df11['SPECIES'] = df11['SPECIES'].apply(lambda x: 'Sand Shark' if bool(re.search(r'sand.+shark',x.lower())) else x)\n",
    "df11['SPECIES'] = df11['SPECIES'].apply(lambda x: 'Hammerhead Shark' if bool(re.search(r'hammer.+shark',x.lower())) else x)\n",
    "df11['SPECIES'] = df11['SPECIES'].apply(lambda x: 'Spinner Shark' if bool(re.search(r'spinner.+shark',x.lower())) else x)\n",
    "df11['SPECIES'] = df11['SPECIES'].apply(lambda x: 'Reef Shark' if bool(re.search(r'reef.+shark',x.lower())) else x)\n",
    "df11['SPECIES'] = df11['SPECIES'].apply(lambda x: 'Blacktip Shark' if bool(re.search(r'blacktip.+shark',x.lower())) else x)\n",
    "df11['SPECIES'] = df11['SPECIES'].apply(lambda x: 'Blacktip Shark' if bool(re.search(r'blacktip',x.lower())) else x)\n",
    "df11['SPECIES'] = df11['SPECIES'].apply(lambda x: 'Dusky Shark' if bool(re.search(r'dusky.+shark',x.lower())) else x)\n",
    "df11['SPECIES'] = df11['SPECIES'].apply(lambda x: 'Grey Shark' if bool(re.search(r'grey.+shark',x.lower())) else x)\n",
    "df11['SPECIES'] = df11['SPECIES'].apply(lambda x: 'Whaler Shark' if bool(re.search(r'whaler.+shark',x.lower())) else x)\n",
    "df11['SPECIES'] = df11['SPECIES'].apply(lambda x: 'Whaler Shark' if bool(re.search(r'whaler',x.lower())) else x)\n",
    "df11['SPECIES'] = df11['SPECIES'].apply(lambda x: 'White Shark' if bool(re.search(r'white.+shark',x.lower())) else x)\n",
    "df11['SPECIES'] = df11['SPECIES'].apply(lambda x: 'Copper Shark' if bool(re.search(r'copper.+shark',x.lower())) else x)\n",
    "df11['SPECIES'] = df11['SPECIES'].apply(lambda x: 'Zambesi Shark' if bool(re.search(r'zambesi.+shark',x.lower())) else x)\n",
    "df11['SPECIES'] = df11['SPECIES'].apply(lambda x: 'Mako Shark' if bool(re.search(r'mako.+shark',x.lower())) else x)\n",
    "df11['SPECIES'] = df11['SPECIES'].apply(lambda x: 'Carpet Shark' if bool(re.search(r'carpet.+shark',x.lower())) else x)\n",
    "df11['SPECIES'] = df11['SPECIES'].apply(lambda x: 'Cocktail Shark' if bool(re.search(r'cocktail.+shark',x.lower())) else x)\n",
    "df11['SPECIES'] = df11['SPECIES'].apply(lambda x: 'Dogfish Shark' if bool(re.search(r'dogfish.+shark',x.lower())) else x)\n",
    "df11['SPECIES'] = df11['SPECIES'].apply(lambda x: 'Dogfish Shark' if bool(re.search(r'dogfish',x.lower())) else x)\n",
    "df11['SPECIES'] = df11['SPECIES'].apply(lambda x: 'Silky Shark' if bool(re.search(r'silky.+shark',x.lower())) else x)\n",
    "df11['SPECIES'] = df11['SPECIES'].apply(lambda x: 'Tiger Shark' if bool(re.search(r'tiger.+shark',x.lower())) else x)\n",
    "df11['SPECIES'] = df11['SPECIES'].apply(lambda x: 'Thresher Shark' if bool(re.search(r'thresher.+shark',x.lower())) else x)\n",
    "df11['SPECIES'] = df11['SPECIES'].apply(lambda x: 'Bull Shark' if bool(re.search(r'bull.+shark',x.lower())) else x)\n",
    "df11['SPECIES'] = df11['SPECIES'].apply(lambda x: 'Blue Shark' if bool(re.search(r'blue.+shark',x.lower())) else x)\n",
    "df11['SPECIES'] = df11['SPECIES'].apply(lambda x: 'Dogfish Shark' if bool(re.search(r'dog',x.lower())) else x)\n",
    "df11['SPECIES'] = df11['SPECIES'].apply(lambda x: 'Cow Shark' if bool(re.search(r'cow.+shark',x.lower())) else x)\n",
    "df11['SPECIES'] = df11['SPECIES'].apply(lambda x: 'Banjo Shark' if bool(re.search(r'banjo.+shark',x.lower())) else x)\n",
    "df11['SPECIES'] = df11['SPECIES'].apply(lambda x: 'Juvenile Shark' if bool(re.search(r'juvenile.+shark',x.lower())) else x)\n",
    "df11['SPECIES'] = df11['SPECIES'].apply(lambda x: 'Gaffed Shark' if bool(re.search(r'gaffed.+shark',x.lower())) else x)\n",
    "df11['SPECIES'] = df11['SPECIES'].apply(lambda x: 'Basking Shark' if bool(re.search(r'basking.+shark',x.lower())) else x)\n",
    "df11['SPECIES'] = df11['SPECIES'].apply(lambda x: 'Angel Shark' if bool(re.search(r'angel.+shark',x.lower())) else x)\n",
    "df11['SPECIES'] = df11['SPECIES'].apply(lambda x: 'Broadnose Shark' if bool(re.search(r'broadnose.+shark',x.lower())) else x)\n",
    "df11['SPECIES'] = df11['SPECIES'].apply(lambda x: 'Galapagos Shark' if bool(re.search(r'galapagos.+shark',x.lower())) else x)\n",
    "df11['SPECIES'] = df11['SPECIES'].apply(lambda x: 'Lemon Shark' if bool(re.search(r'lemon.+shark',x.lower())) else x)\n",
    "df11['SPECIES'] = df11['SPECIES'].apply(lambda x: 'Nurse Shark' if bool(re.search(r'nurse.+shark',x.lower())) else x)\n",
    "df11['SPECIES'] = df11['SPECIES'].apply(lambda x: 'Raggedtooth Shark' if bool(re.search(r'raggedtooth.+shark',x.lower())) else x)\n",
    "df11['SPECIES'] = df11['SPECIES'].apply(lambda x: 'Sevengill Shark' if bool(re.search(r'sevengill.+shark',x.lower())) else x)\n",
    "df11['SPECIES'] = df11['SPECIES'].apply(lambda x: 'Sevengill Shark' if bool(re.search(r'seven-gill.+shark',x.lower())) else x)\n",
    "df11['SPECIES'] = df11['SPECIES'].apply(lambda x: 'Wobbegong Shark' if bool(re.search(r'wobbegong.+shark',x.lower())) else x)\n",
    "df11['SPECIES'] = df11['SPECIES'].apply(shark_unknown)"
   ]
  },
  {
   "cell_type": "code",
   "execution_count": 60,
   "metadata": {},
   "outputs": [
    {
     "data": {
      "text/plain": [
       "['Angel Shark',\n",
       " 'Banjo Shark',\n",
       " 'Basking Shark',\n",
       " 'Blacktip Shark',\n",
       " 'Blue Shark',\n",
       " 'Broadnose Shark',\n",
       " 'Bull Shark',\n",
       " 'Carpet Shark',\n",
       " 'Cocktail Shark',\n",
       " 'Copper Shark',\n",
       " 'Cow Shark',\n",
       " 'Dogfish Shark',\n",
       " 'Dusky Shark',\n",
       " 'Gaffed Shark',\n",
       " 'Galapagos Shark',\n",
       " 'Grey Shark',\n",
       " 'Hammerhead Shark',\n",
       " 'Juvenile Shark',\n",
       " 'Lemon Shark',\n",
       " 'Mako Shark',\n",
       " 'Nurse Shark',\n",
       " 'Raggedtooth Shark',\n",
       " 'Reef Shark',\n",
       " 'Sand Shark',\n",
       " 'Sevengill Shark',\n",
       " 'Silky Shark',\n",
       " 'Spinner Shark',\n",
       " 'Thresher Shark',\n",
       " 'Tiger Shark',\n",
       " 'Unknown',\n",
       " 'Whaler Shark',\n",
       " 'White Shark',\n",
       " 'Wobbegong Shark',\n",
       " 'Zambesi Shark']"
      ]
     },
     "execution_count": 60,
     "metadata": {},
     "output_type": "execute_result"
    }
   ],
   "source": [
    "lst = list(df11['SPECIES'].unique())\n",
    "lst.sort()\n",
    "lst"
   ]
  },
  {
   "cell_type": "code",
   "execution_count": 61,
   "metadata": {},
   "outputs": [
    {
     "data": {
      "text/plain": [
       "Unknown            4526\n",
       "White Shark         632\n",
       "Tiger Shark         250\n",
       "Bull Shark          167\n",
       "Whaler Shark         72\n",
       "Reef Shark           67\n",
       "Blacktip Shark       58\n",
       "Nurse Shark          55\n",
       "Mako Shark           48\n",
       "Wobbegong Shark      46\n",
       "Name: SPECIES, dtype: int64"
      ]
     },
     "execution_count": 61,
     "metadata": {},
     "output_type": "execute_result"
    }
   ],
   "source": [
    "df11['SPECIES'].value_counts()[:10]"
   ]
  },
  {
   "cell_type": "code",
   "execution_count": 62,
   "metadata": {},
   "outputs": [
    {
     "data": {
      "text/plain": [
       "ACTIVITY                   544\n",
       "AGE                          0\n",
       "AREA                         0\n",
       "CASE NUMBER                  0\n",
       "CASE NUMBER 1                0\n",
       "CASE NUMBER 2                0\n",
       "COUNTRY                      0\n",
       "DATE                         0\n",
       "FATAL (Y/N)                  0\n",
       "HREF                         0\n",
       "HREF FORMULA                 0\n",
       "INJURY                       0\n",
       "INVESTIGATOR OR SOURCE       0\n",
       "LOCATION                     0\n",
       "NAME                         0\n",
       "ORIGINAL ORDER               0\n",
       "PDF                          0\n",
       "SEX                          0\n",
       "SPECIES                      0\n",
       "TIME                      3354\n",
       "TYPE                         4\n",
       "UNNAMED: 22               6301\n",
       "UNNAMED: 23               6300\n",
       "YEAR                         2\n",
       "dtype: int64"
      ]
     },
     "execution_count": 62,
     "metadata": {},
     "output_type": "execute_result"
    }
   ],
   "source": [
    "df11.isna().sum()"
   ]
  },
  {
   "cell_type": "markdown",
   "metadata": {},
   "source": [
    "# Cleaning TIME"
   ]
  },
  {
   "cell_type": "code",
   "execution_count": 63,
   "metadata": {},
   "outputs": [],
   "source": [
    "df12 = df11.copy()"
   ]
  },
  {
   "cell_type": "code",
   "execution_count": 64,
   "metadata": {},
   "outputs": [],
   "source": [
    "def time_cleaner(x):\n",
    "    s = x.split(' ')\n",
    "    x = s[0]\n",
    "    return x"
   ]
  },
  {
   "cell_type": "code",
   "execution_count": 65,
   "metadata": {},
   "outputs": [],
   "source": [
    "df12['TIME'] = df12['TIME'].fillna('Unknown')\n",
    "df12['TIME'] = df12['TIME'].str.strip()\n",
    "df12['TIME'] = df12['TIME'].str.replace('>','Unknown')\n",
    "df12['TIME'] = df12['TIME'].str.replace('<','Unknown')\n",
    "df12['TIME'] = df12['TIME'].apply(lambda x: x.split(' ')[0])\n",
    "df12['TIME'] = df12['TIME'].apply(lambda x: 'Unknown' if bool(re.search(r'or',x.lower())) else x)\n",
    "df12['TIME'] = df12['TIME'].apply(lambda x: 'Unknown' if bool(re.search(r'/',x.lower())) else x)\n",
    "df12['TIME'] = df12['TIME'].apply(lambda x: 'Unknown' if bool(re.search(r'to',x.lower())) else x)\n",
    "df12['TIME'] = df12['TIME'].apply(lambda x: x if bool(re.search(r'^\\d\\dh\\d\\d$',x)) else 'Unknown')\n",
    "df12['TIME'] = df12['TIME'].str.strip()"
   ]
  },
  {
   "cell_type": "code",
   "execution_count": 66,
   "metadata": {},
   "outputs": [
    {
     "data": {
      "text/plain": [
       "['00h30',\n",
       " '01h00',\n",
       " '01h30',\n",
       " '01h32',\n",
       " '01h50',\n",
       " '02h00',\n",
       " '02h30',\n",
       " '02h45',\n",
       " '03h00',\n",
       " '03h30']"
      ]
     },
     "execution_count": 66,
     "metadata": {},
     "output_type": "execute_result"
    }
   ],
   "source": [
    "lst = list(df12['TIME'].unique())\n",
    "lst.sort()\n",
    "lst[:10]"
   ]
  },
  {
   "cell_type": "code",
   "execution_count": 67,
   "metadata": {},
   "outputs": [
    {
     "data": {
      "text/plain": [
       "Unknown    3965\n",
       "11h00       129\n",
       "12h00       110\n",
       "15h00       109\n",
       "16h00       101\n",
       "14h00       100\n",
       "16h30        75\n",
       "17h00        75\n",
       "14h30        74\n",
       "13h00        72\n",
       "Name: TIME, dtype: int64"
      ]
     },
     "execution_count": 67,
     "metadata": {},
     "output_type": "execute_result"
    }
   ],
   "source": [
    "df12['TIME'].value_counts()[:10]"
   ]
  },
  {
   "cell_type": "code",
   "execution_count": 68,
   "metadata": {},
   "outputs": [
    {
     "data": {
      "text/plain": [
       "ACTIVITY                   544\n",
       "AGE                          0\n",
       "AREA                         0\n",
       "CASE NUMBER                  0\n",
       "CASE NUMBER 1                0\n",
       "CASE NUMBER 2                0\n",
       "COUNTRY                      0\n",
       "DATE                         0\n",
       "FATAL (Y/N)                  0\n",
       "HREF                         0\n",
       "HREF FORMULA                 0\n",
       "INJURY                       0\n",
       "INVESTIGATOR OR SOURCE       0\n",
       "LOCATION                     0\n",
       "NAME                         0\n",
       "ORIGINAL ORDER               0\n",
       "PDF                          0\n",
       "SEX                          0\n",
       "SPECIES                      0\n",
       "TIME                         0\n",
       "TYPE                         4\n",
       "UNNAMED: 22               6301\n",
       "UNNAMED: 23               6300\n",
       "YEAR                         2\n",
       "dtype: int64"
      ]
     },
     "execution_count": 68,
     "metadata": {},
     "output_type": "execute_result"
    }
   ],
   "source": [
    "df12.isna().sum()"
   ]
  },
  {
   "cell_type": "markdown",
   "metadata": {},
   "source": [
    "# Cleaning TYPE"
   ]
  },
  {
   "cell_type": "code",
   "execution_count": 69,
   "metadata": {},
   "outputs": [],
   "source": [
    "df13 = df12.copy()"
   ]
  },
  {
   "cell_type": "code",
   "execution_count": 70,
   "metadata": {},
   "outputs": [],
   "source": [
    "df13['TYPE'] = df13['TYPE'].fillna('Unknown')\n",
    "df13['TYPE'] = df13['TYPE'].str.replace('Questionable','Unknown')\n",
    "df13['TYPE'] = df13['TYPE'].str.replace('Boatomg','Boating') # I will replace Boatomg to Boating because the 'o' and 'i' are next to each other on the keyboard\n",
    "df13['TYPE'] = df13['TYPE'].str.replace('Boat','Boating')"
   ]
  },
  {
   "cell_type": "code",
   "execution_count": 71,
   "metadata": {},
   "outputs": [
    {
     "data": {
      "text/plain": [
       "Unprovoked      4595\n",
       "Provoked         574\n",
       "Invalid          547\n",
       "Sea Disaster     239\n",
       "Boatinging       204\n",
       "Boating          137\n",
       "Unknown            6\n",
       "Name: TYPE, dtype: int64"
      ]
     },
     "execution_count": 71,
     "metadata": {},
     "output_type": "execute_result"
    }
   ],
   "source": [
    "df13['TYPE'].value_counts()"
   ]
  },
  {
   "cell_type": "markdown",
   "metadata": {},
   "source": [
    "# Cleaning YEAR"
   ]
  },
  {
   "cell_type": "code",
   "execution_count": 72,
   "metadata": {},
   "outputs": [
    {
     "data": {
      "text/plain": [
       "[0.0, 5.0, 77.0, 500.0, 1543.0, 1554.0, 1555.0, 1580.0, 1595.0, 1617.0]"
      ]
     },
     "execution_count": 72,
     "metadata": {},
     "output_type": "execute_result"
    }
   ],
   "source": [
    "lst = list(df13['YEAR'].unique())\n",
    "lst.sort()\n",
    "lst[0:10]"
   ]
  },
  {
   "cell_type": "code",
   "execution_count": 73,
   "metadata": {},
   "outputs": [],
   "source": [
    "#df13['YEAR'] = df['CASE NUMBER'].str.extract('([0-9]+)\\.', expand=False).fillna(0).astype(int)"
   ]
  },
  {
   "cell_type": "code",
   "execution_count": 74,
   "metadata": {},
   "outputs": [],
   "source": [
    "df13['YEAR'] = df13['YEAR'].fillna(0)\n",
    "df13['YEAR'] = df13['YEAR'].apply(lambda x: 0 if x < 999 else x)"
   ]
  },
  {
   "cell_type": "code",
   "execution_count": 75,
   "metadata": {},
   "outputs": [
    {
     "name": "stdout",
     "output_type": "stream",
     "text": [
      "The median of the years:  is 1977.00\n"
     ]
    }
   ],
   "source": [
    "print('The median of the years:  is %.2f' %(df13['YEAR'].median(skipna=True)))"
   ]
  },
  {
   "cell_type": "code",
   "execution_count": 76,
   "metadata": {},
   "outputs": [
    {
     "data": {
      "text/plain": [
       "ACTIVITY                   544\n",
       "AGE                          0\n",
       "AREA                         0\n",
       "CASE NUMBER                  0\n",
       "CASE NUMBER 1                0\n",
       "CASE NUMBER 2                0\n",
       "COUNTRY                      0\n",
       "DATE                         0\n",
       "FATAL (Y/N)                  0\n",
       "HREF                         0\n",
       "HREF FORMULA                 0\n",
       "INJURY                       0\n",
       "INVESTIGATOR OR SOURCE       0\n",
       "LOCATION                     0\n",
       "NAME                         0\n",
       "ORIGINAL ORDER               0\n",
       "PDF                          0\n",
       "SEX                          0\n",
       "SPECIES                      0\n",
       "TIME                         0\n",
       "TYPE                         0\n",
       "UNNAMED: 22               6301\n",
       "UNNAMED: 23               6300\n",
       "YEAR                         0\n",
       "dtype: int64"
      ]
     },
     "execution_count": 76,
     "metadata": {},
     "output_type": "execute_result"
    }
   ],
   "source": [
    "df13.isna().sum()"
   ]
  },
  {
   "cell_type": "markdown",
   "metadata": {},
   "source": [
    "# UNNAMED: 22 and UNNAMED: 23"
   ]
  },
  {
   "cell_type": "code",
   "execution_count": 77,
   "metadata": {},
   "outputs": [],
   "source": [
    "df14 = df13.copy()"
   ]
  },
  {
   "cell_type": "code",
   "execution_count": 78,
   "metadata": {},
   "outputs": [
    {
     "data": {
      "text/plain": [
       "stopped here    1\n",
       "Name: UNNAMED: 22, dtype: int64"
      ]
     },
     "execution_count": 78,
     "metadata": {},
     "output_type": "execute_result"
    }
   ],
   "source": [
    "df14['UNNAMED: 22'].value_counts()"
   ]
  },
  {
   "cell_type": "code",
   "execution_count": 79,
   "metadata": {},
   "outputs": [
    {
     "data": {
      "text/plain": [
       "change filename    1\n",
       "Teramo             1\n",
       "Name: UNNAMED: 23, dtype: int64"
      ]
     },
     "execution_count": 79,
     "metadata": {},
     "output_type": "execute_result"
    }
   ],
   "source": [
    "df14['UNNAMED: 23'].value_counts()"
   ]
  },
  {
   "cell_type": "code",
   "execution_count": 80,
   "metadata": {},
   "outputs": [],
   "source": [
    "# I will fill the missing values with Unknown but I could also remove these columns because they are not contribute with any info.\n",
    "# I won't delete the columns because maybe in the future these will have info\n",
    "df14['UNNAMED: 22'].fillna('Unknown', inplace = True)\n",
    "df14['UNNAMED: 23'].fillna('Unknown', inplace = True)"
   ]
  },
  {
   "cell_type": "markdown",
   "metadata": {},
   "source": [
    "# Column DATE"
   ]
  },
  {
   "cell_type": "code",
   "execution_count": 81,
   "metadata": {},
   "outputs": [],
   "source": [
    "df15 = df14.copy()"
   ]
  },
  {
   "cell_type": "code",
   "execution_count": 82,
   "metadata": {},
   "outputs": [
    {
     "data": {
      "text/plain": [
       "1957           11\n",
       "1942            9\n",
       "1956            8\n",
       "1950            7\n",
       "1941            7\n",
       "               ..\n",
       "01-Feb-1951     1\n",
       "25-Jun-1962     1\n",
       "26-May-1974     1\n",
       "Apr-1961        1\n",
       "15-Aug-2006     1\n",
       "Name: DATE, Length: 5433, dtype: int64"
      ]
     },
     "execution_count": 82,
     "metadata": {},
     "output_type": "execute_result"
    }
   ],
   "source": [
    "df15['DATE'].value_counts()"
   ]
  },
  {
   "cell_type": "code",
   "execution_count": 83,
   "metadata": {},
   "outputs": [],
   "source": [
    "df15['DATE'].fillna('Unknown', inplace = True)\n",
    "df15['DATE'] = df15['DATE'].str.strip()\n",
    "df15['DATE'] = df15['DATE'].str.replace('Reported','')\n",
    "df15['DATE'] = df15['DATE'].apply(lambda x: x if bool(re.search(r'^\\d\\d-\\w\\w\\w-\\d\\d\\d\\d$',x.lower())) else 'Unknown')"
   ]
  },
  {
   "cell_type": "code",
   "execution_count": 84,
   "metadata": {},
   "outputs": [
    {
     "data": {
      "text/plain": [
       "ACTIVITY                  544\n",
       "AGE                         0\n",
       "AREA                        0\n",
       "CASE NUMBER                 0\n",
       "CASE NUMBER 1               0\n",
       "CASE NUMBER 2               0\n",
       "COUNTRY                     0\n",
       "DATE                        0\n",
       "FATAL (Y/N)                 0\n",
       "HREF                        0\n",
       "HREF FORMULA                0\n",
       "INJURY                      0\n",
       "INVESTIGATOR OR SOURCE      0\n",
       "LOCATION                    0\n",
       "NAME                        0\n",
       "ORIGINAL ORDER              0\n",
       "PDF                         0\n",
       "SEX                         0\n",
       "SPECIES                     0\n",
       "TIME                        0\n",
       "TYPE                        0\n",
       "UNNAMED: 22                 0\n",
       "UNNAMED: 23                 0\n",
       "YEAR                        0\n",
       "dtype: int64"
      ]
     },
     "execution_count": 84,
     "metadata": {},
     "output_type": "execute_result"
    }
   ],
   "source": [
    "df15.isna().sum()"
   ]
  },
  {
   "cell_type": "markdown",
   "metadata": {},
   "source": [
    "# Cleaning ACTIVITY"
   ]
  },
  {
   "cell_type": "code",
   "execution_count": 85,
   "metadata": {},
   "outputs": [],
   "source": [
    "df16 = df15.copy()"
   ]
  },
  {
   "cell_type": "code",
   "execution_count": 86,
   "metadata": {},
   "outputs": [],
   "source": [
    "def activity_unknown(x):\n",
    "    if (x != 'Diving' and x != 'Adrift' and x != 'Air Disaster' and x != 'Sea Disaster' and x != 'Aircraft Accident' and \n",
    "        x != 'American Cruiser' and x != 'American Freighter' and x != 'Air Minesweeper' and x != 'American Schooner' and \n",
    "        x != 'Anesthetize Shark' and x != 'Attempting to Rescue' and x != 'Air Disaster' and x != 'Accident' and \n",
    "        x != 'Surfing' and x != 'Snorkel' and x != 'Scuba Diving' and x != 'Boogie boarding' and x != 'Windsurfing' and \n",
    "        x != 'Surf skiing' and x != 'Fishing' and x != 'Floating' and x != 'Surfing' and x != 'Bathing' and x != 'Wading' and \n",
    "        x != 'Standing' and x != 'Kayaking' and x != 'Canoeing' and x != 'Sailing' and x != 'Accident' and x != 'Boarding' and \n",
    "        x != 'Playing' and x != 'Floating' and x != 'Accident' and x != 'Murder' and x != 'Diving' and \n",
    "        x != 'Feeding Sharks' and x != 'Lifesaving' and x != 'Suicide' and x != 'Rowing' and x != 'Swimming'):\n",
    "        return 'Other'\n",
    "    else:\n",
    "        return x"
   ]
  },
  {
   "cell_type": "code",
   "execution_count": 87,
   "metadata": {},
   "outputs": [],
   "source": [
    "df16['ACTIVITY'].fillna('Unknown', inplace = True)\n",
    "df16['ACTIVITY'] = df16['ACTIVITY'].str.strip()\n",
    "df16['ACTIVITY'] = df16['ACTIVITY'].str.replace('\"','')\n",
    "df16['ACTIVITY'] = df16['ACTIVITY'].str.replace('.','')\n",
    "df16['ACTIVITY'] = df16['ACTIVITY'].apply(lambda x: 'Diving' if bool(re.search(r'div',x.lower())) else x)\n",
    "df16['ACTIVITY'] = df16['ACTIVITY'].apply(lambda x: 'Adrift' if bool(re.search(r'adrift',x.lower())) else x)\n",
    "df16['ACTIVITY'] = df16['ACTIVITY'].apply(lambda x: 'Air Disaster' if bool(re.search(r'air.+disaster',x.lower())) else x)\n",
    "df16['ACTIVITY'] = df16['ACTIVITY'].apply(lambda x: 'Sea Disaster' if bool(re.search(r'sea.+disaster',x.lower())) else x)\n",
    "df16['ACTIVITY'] = df16['ACTIVITY'].apply(lambda x: 'Aircraft Accident' if bool(re.search(r'Aircraft',x.lower())) else x)\n",
    "df16['ACTIVITY'] = df16['ACTIVITY'].apply(lambda x: 'American Cruiser' if bool(re.search(r'american.+cruiser',x.lower())) else x)\n",
    "df16['ACTIVITY'] = df16['ACTIVITY'].apply(lambda x: 'American Freighter' if bool(re.search(r'american.+freighter',x.lower())) else x)\n",
    "df16['ACTIVITY'] = df16['ACTIVITY'].apply(lambda x: 'Air Minesweeper' if bool(re.search(r'air.+minesweeper',x.lower())) else x)\n",
    "df16['ACTIVITY'] = df16['ACTIVITY'].apply(lambda x: 'American Schooner' if bool(re.search(r'american.+schooner',x.lower())) else x)\n",
    "df16['ACTIVITY'] = df16['ACTIVITY'].apply(lambda x: 'Anesthetize Shark' if bool(re.search(r'anesthetize.+shark',x.lower())) else x)\n",
    "df16['ACTIVITY'] = df16['ACTIVITY'].apply(lambda x: 'Attempting to Rescue' if bool(re.search(r'rescue',x.lower())) else x)\n",
    "df16['ACTIVITY'] = df16['ACTIVITY'].apply(lambda x: 'Air Disaster' if bool(re.search(r'air.+disaster',x.lower())) else x)\n",
    "df16['ACTIVITY'] = df16['ACTIVITY'].apply(lambda x: 'Accident' if bool(re.search(r'f[ea]ll',x.lower())) else x)\n",
    "df16['ACTIVITY'] = df16['ACTIVITY'].apply(lambda x: 'Surfing' if bool(re.search(r'surf',x.lower())) else x)\n",
    "df16['ACTIVITY'] = df16['ACTIVITY'].apply(lambda x: 'Snorkel' if bool(re.search(r'snork',x.lower())) else x)\n",
    "df16['ACTIVITY'] = df16['ACTIVITY'].apply(lambda x: 'Scuba Diving' if bool(re.search(r'scuba',x.lower())) else x)\n",
    "df16['ACTIVITY'] = df16['ACTIVITY'].apply(lambda x: 'Boogie boarding' if bool(re.search(r'boog',x.lower())) else x)\n",
    "df16['ACTIVITY'] = df16['ACTIVITY'].apply(lambda x: 'Windsurfing' if bool(re.search(r'wind',x.lower())) else x)\n",
    "df16['ACTIVITY'] = df16['ACTIVITY'].apply(lambda x: 'Surf skiing' if bool(re.search(r'ski',x.lower())) else x)\n",
    "df16['ACTIVITY'] = df16['ACTIVITY'].apply(lambda x: 'Fishing' if bool(re.search(r'fish',x.lower())) else x)\n",
    "df16['ACTIVITY'] = df16['ACTIVITY'].apply(lambda x: 'Floating' if bool(re.search(r'floa',x.lower())) else x)\n",
    "df16['ACTIVITY'] = df16['ACTIVITY'].apply(lambda x: 'Surfing' if bool(re.search(r'surfing',x.lower())) else x)\n",
    "df16['ACTIVITY'] = df16['ACTIVITY'].apply(lambda x: 'Bathing' if bool(re.search(r'bath',x.lower())) else x)\n",
    "df16['ACTIVITY'] = df16['ACTIVITY'].apply(lambda x: 'Wading' if bool(re.search(r'wad',x.lower())) else x)\n",
    "df16['ACTIVITY'] = df16['ACTIVITY'].apply(lambda x: 'Standing' if bool(re.search(r'stand',x.lower())) else x)\n",
    "df16['ACTIVITY'] = df16['ACTIVITY'].apply(lambda x: 'Kayaking' if bool(re.search(r'kayak',x.lower())) else x)\n",
    "df16['ACTIVITY'] = df16['ACTIVITY'].apply(lambda x: 'Canoeing' if bool(re.search(r'cano',x.lower())) else x)\n",
    "df16['ACTIVITY'] = df16['ACTIVITY'].apply(lambda x: 'Sailing' if bool(re.search(r'sail',x.lower())) else x)\n",
    "df16['ACTIVITY'] = df16['ACTIVITY'].apply(lambda x: 'Accident' if bool(re.search(r'disas',x.lower())) else x)\n",
    "df16['ACTIVITY'] = df16['ACTIVITY'].apply(lambda x: 'Boarding' if bool(re.search(r'board',x.lower())) else x)\n",
    "df16['ACTIVITY'] = df16['ACTIVITY'].apply(lambda x: 'Playing' if bool(re.search(r'play',x.lower())) else x)\n",
    "df16['ACTIVITY'] = df16['ACTIVITY'].apply(lambda x: 'Floating' if bool(re.search(r'flo',x.lower())) else x)\n",
    "df16['ACTIVITY'] = df16['ACTIVITY'].apply(lambda x: 'Accident' if bool(re.search(r'jump',x.lower())) else x)\n",
    "df16['ACTIVITY'] = df16['ACTIVITY'].apply(lambda x: 'Murder' if bool(re.search(r'murd',x.lower())) else x)\n",
    "df16['ACTIVITY'] = df16['ACTIVITY'].apply(lambda x: 'Diving' if bool(re.search(r'splash',x.lower())) else x)\n",
    "df16['ACTIVITY'] = df16['ACTIVITY'].apply(lambda x: 'Feeding Sharks' if bool(re.search(r'Feed',x.lower())) else x)\n",
    "df16['ACTIVITY'] = df16['ACTIVITY'].apply(lambda x: 'Lifesaving' if bool(re.search(r'lifes',x.lower())) else x)\n",
    "df16['ACTIVITY'] = df16['ACTIVITY'].apply(lambda x: 'Suicide' if bool(re.search(r'suicide',x.lower())) else x)\n",
    "df16['ACTIVITY'] = df16['ACTIVITY'].apply(lambda x: 'Rowing' if bool(re.search(r'row',x.lower())) else x)\n",
    "df16['ACTIVITY'] = df16['ACTIVITY'].apply(lambda x: 'Swimming' if bool(re.search(r'swim',x.lower())) else x)\n",
    "df16['ACTIVITY'] = df16['ACTIVITY'].apply(activity_unknown)"
   ]
  },
  {
   "cell_type": "code",
   "execution_count": 88,
   "metadata": {},
   "outputs": [
    {
     "data": {
      "text/plain": [
       "Surfing     1231\n",
       "Other       1101\n",
       "Fishing     1098\n",
       "Swimming    1037\n",
       "Diving       613\n",
       "Boarding     194\n",
       "Bathing      191\n",
       "Wading       162\n",
       "Accident     158\n",
       "Standing     132\n",
       "Name: ACTIVITY, dtype: int64"
      ]
     },
     "execution_count": 88,
     "metadata": {},
     "output_type": "execute_result"
    }
   ],
   "source": [
    "df16['ACTIVITY'].value_counts()[:10]"
   ]
  },
  {
   "cell_type": "markdown",
   "metadata": {},
   "source": [
    "# CSV Clean"
   ]
  },
  {
   "cell_type": "code",
   "execution_count": 89,
   "metadata": {},
   "outputs": [
    {
     "data": {
      "text/plain": [
       "ACTIVITY                  0\n",
       "AGE                       0\n",
       "AREA                      0\n",
       "CASE NUMBER               0\n",
       "CASE NUMBER 1             0\n",
       "CASE NUMBER 2             0\n",
       "COUNTRY                   0\n",
       "DATE                      0\n",
       "FATAL (Y/N)               0\n",
       "HREF                      0\n",
       "HREF FORMULA              0\n",
       "INJURY                    0\n",
       "INVESTIGATOR OR SOURCE    0\n",
       "LOCATION                  0\n",
       "NAME                      0\n",
       "ORIGINAL ORDER            0\n",
       "PDF                       0\n",
       "SEX                       0\n",
       "SPECIES                   0\n",
       "TIME                      0\n",
       "TYPE                      0\n",
       "UNNAMED: 22               0\n",
       "UNNAMED: 23               0\n",
       "YEAR                      0\n",
       "dtype: int64"
      ]
     },
     "execution_count": 89,
     "metadata": {},
     "output_type": "execute_result"
    }
   ],
   "source": [
    "df16.isna().sum()"
   ]
  },
  {
   "cell_type": "code",
   "execution_count": 90,
   "metadata": {},
   "outputs": [],
   "source": [
    "df16.to_csv('output/Attacks Clean.csv', index = False, sep =',')"
   ]
  },
  {
   "cell_type": "markdown",
   "metadata": {},
   "source": [
    "# Data Analysis"
   ]
  },
  {
   "cell_type": "code",
   "execution_count": 91,
   "metadata": {},
   "outputs": [],
   "source": [
    "df17 = df16.copy()"
   ]
  },
  {
   "cell_type": "code",
   "execution_count": 92,
   "metadata": {},
   "outputs": [
    {
     "data": {
      "text/html": [
       "<div>\n",
       "<style scoped>\n",
       "    .dataframe tbody tr th:only-of-type {\n",
       "        vertical-align: middle;\n",
       "    }\n",
       "\n",
       "    .dataframe tbody tr th {\n",
       "        vertical-align: top;\n",
       "    }\n",
       "\n",
       "    .dataframe thead th {\n",
       "        text-align: right;\n",
       "    }\n",
       "</style>\n",
       "<table border=\"1\" class=\"dataframe\">\n",
       "  <thead>\n",
       "    <tr style=\"text-align: right;\">\n",
       "      <th></th>\n",
       "      <th>ORIGINAL ORDER</th>\n",
       "      <th>YEAR</th>\n",
       "    </tr>\n",
       "  </thead>\n",
       "  <tbody>\n",
       "    <tr>\n",
       "      <th>count</th>\n",
       "      <td>6302.000000</td>\n",
       "      <td>6302.000000</td>\n",
       "    </tr>\n",
       "    <tr>\n",
       "      <th>mean</th>\n",
       "      <td>3152.499683</td>\n",
       "      <td>1926.568391</td>\n",
       "    </tr>\n",
       "    <tr>\n",
       "      <th>std</th>\n",
       "      <td>1819.375481</td>\n",
       "      <td>283.716741</td>\n",
       "    </tr>\n",
       "    <tr>\n",
       "      <th>min</th>\n",
       "      <td>2.000000</td>\n",
       "      <td>0.000000</td>\n",
       "    </tr>\n",
       "    <tr>\n",
       "      <th>25%</th>\n",
       "      <td>1577.250000</td>\n",
       "      <td>1942.000000</td>\n",
       "    </tr>\n",
       "    <tr>\n",
       "      <th>50%</th>\n",
       "      <td>3152.500000</td>\n",
       "      <td>1977.000000</td>\n",
       "    </tr>\n",
       "    <tr>\n",
       "      <th>75%</th>\n",
       "      <td>4727.750000</td>\n",
       "      <td>2005.000000</td>\n",
       "    </tr>\n",
       "    <tr>\n",
       "      <th>max</th>\n",
       "      <td>6303.000000</td>\n",
       "      <td>2018.000000</td>\n",
       "    </tr>\n",
       "  </tbody>\n",
       "</table>\n",
       "</div>"
      ],
      "text/plain": [
       "       ORIGINAL ORDER         YEAR\n",
       "count     6302.000000  6302.000000\n",
       "mean      3152.499683  1926.568391\n",
       "std       1819.375481   283.716741\n",
       "min          2.000000     0.000000\n",
       "25%       1577.250000  1942.000000\n",
       "50%       3152.500000  1977.000000\n",
       "75%       4727.750000  2005.000000\n",
       "max       6303.000000  2018.000000"
      ]
     },
     "execution_count": 92,
     "metadata": {},
     "output_type": "execute_result"
    }
   ],
   "source": [
    "df17.describe()"
   ]
  },
  {
   "cell_type": "code",
   "execution_count": 93,
   "metadata": {},
   "outputs": [
    {
     "data": {
      "text/html": [
       "<div>\n",
       "<style scoped>\n",
       "    .dataframe tbody tr th:only-of-type {\n",
       "        vertical-align: middle;\n",
       "    }\n",
       "\n",
       "    .dataframe tbody tr th {\n",
       "        vertical-align: top;\n",
       "    }\n",
       "\n",
       "    .dataframe thead th {\n",
       "        text-align: right;\n",
       "    }\n",
       "</style>\n",
       "<table border=\"1\" class=\"dataframe\">\n",
       "  <thead>\n",
       "    <tr style=\"text-align: right;\">\n",
       "      <th></th>\n",
       "      <th>Description</th>\n",
       "      <th>Mean</th>\n",
       "      <th>Std</th>\n",
       "      <th>Ratio</th>\n",
       "    </tr>\n",
       "  </thead>\n",
       "  <tbody>\n",
       "    <tr>\n",
       "      <th>0</th>\n",
       "      <td>ORIGINAL ORDER</td>\n",
       "      <td>184.000000</td>\n",
       "      <td>105.510663</td>\n",
       "      <td>1.743900</td>\n",
       "    </tr>\n",
       "    <tr>\n",
       "      <th>1</th>\n",
       "      <td>YEAR</td>\n",
       "      <td>1178.816438</td>\n",
       "      <td>874.028237</td>\n",
       "      <td>1.348717</td>\n",
       "    </tr>\n",
       "  </tbody>\n",
       "</table>\n",
       "</div>"
      ],
      "text/plain": [
       "      Description         Mean         Std     Ratio\n",
       "0  ORIGINAL ORDER   184.000000  105.510663  1.743900\n",
       "1            YEAR  1178.816438  874.028237  1.348717"
      ]
     },
     "execution_count": 93,
     "metadata": {},
     "output_type": "execute_result"
    }
   ],
   "source": [
    "#Risk Ratio\n",
    "days = 365\n",
    "\n",
    "means = pd.DataFrame(df17.tail(days).mean())\n",
    "std = pd.DataFrame(df17.tail(days).std())\n",
    "ratios = pd.concat([means, std], axis = 1).reset_index()\n",
    "ratios.columns = ['Description','Mean','Std']\n",
    "ratios['Ratio'] = ratios['Mean']/ratios['Std']\n",
    "ratios"
   ]
  },
  {
   "cell_type": "code",
   "execution_count": 94,
   "metadata": {},
   "outputs": [
    {
     "data": {
      "text/html": [
       "<div>\n",
       "<style scoped>\n",
       "    .dataframe tbody tr th:only-of-type {\n",
       "        vertical-align: middle;\n",
       "    }\n",
       "\n",
       "    .dataframe tbody tr th {\n",
       "        vertical-align: top;\n",
       "    }\n",
       "\n",
       "    .dataframe thead th {\n",
       "        text-align: right;\n",
       "    }\n",
       "</style>\n",
       "<table border=\"1\" class=\"dataframe\">\n",
       "  <thead>\n",
       "    <tr style=\"text-align: right;\">\n",
       "      <th></th>\n",
       "      <th>ACTIVITY</th>\n",
       "      <th>AGE</th>\n",
       "      <th>AREA</th>\n",
       "      <th>CASE NUMBER</th>\n",
       "      <th>CASE NUMBER 1</th>\n",
       "      <th>CASE NUMBER 2</th>\n",
       "      <th>COUNTRY</th>\n",
       "      <th>DATE</th>\n",
       "      <th>FATAL (Y/N)</th>\n",
       "      <th>HREF</th>\n",
       "      <th>...</th>\n",
       "      <th>NAME</th>\n",
       "      <th>ORIGINAL ORDER</th>\n",
       "      <th>PDF</th>\n",
       "      <th>SEX</th>\n",
       "      <th>SPECIES</th>\n",
       "      <th>TIME</th>\n",
       "      <th>TYPE</th>\n",
       "      <th>UNNAMED: 22</th>\n",
       "      <th>UNNAMED: 23</th>\n",
       "      <th>YEAR</th>\n",
       "    </tr>\n",
       "  </thead>\n",
       "  <tbody>\n",
       "    <tr>\n",
       "      <th>0</th>\n",
       "      <td>Other</td>\n",
       "      <td>57</td>\n",
       "      <td>California</td>\n",
       "      <td>2018.06.25</td>\n",
       "      <td>2018.06.25</td>\n",
       "      <td>2018.06.25</td>\n",
       "      <td>USA</td>\n",
       "      <td>25-Jun-2018</td>\n",
       "      <td>N</td>\n",
       "      <td>http://sharkattackfile.net/spreadsheets/pdf_di...</td>\n",
       "      <td>...</td>\n",
       "      <td>Julie Wolfe</td>\n",
       "      <td>6303.0</td>\n",
       "      <td>2018.06.25-Wolfe.pdf</td>\n",
       "      <td>F</td>\n",
       "      <td>White Shark</td>\n",
       "      <td>18h00</td>\n",
       "      <td>Boatinging</td>\n",
       "      <td>Unknown</td>\n",
       "      <td>Unknown</td>\n",
       "      <td>2018.0</td>\n",
       "    </tr>\n",
       "    <tr>\n",
       "      <th>1</th>\n",
       "      <td>Standing</td>\n",
       "      <td>11</td>\n",
       "      <td>Georgia</td>\n",
       "      <td>2018.06.18</td>\n",
       "      <td>2018.06.18</td>\n",
       "      <td>2018.06.18</td>\n",
       "      <td>USA</td>\n",
       "      <td>18-Jun-2018</td>\n",
       "      <td>N</td>\n",
       "      <td>http://sharkattackfile.net/spreadsheets/pdf_di...</td>\n",
       "      <td>...</td>\n",
       "      <td>Adyson McNeely</td>\n",
       "      <td>6302.0</td>\n",
       "      <td>2018.06.18-McNeely.pdf</td>\n",
       "      <td>F</td>\n",
       "      <td>Unknown</td>\n",
       "      <td>14h00</td>\n",
       "      <td>Unprovoked</td>\n",
       "      <td>Unknown</td>\n",
       "      <td>Unknown</td>\n",
       "      <td>2018.0</td>\n",
       "    </tr>\n",
       "    <tr>\n",
       "      <th>2</th>\n",
       "      <td>Surfing</td>\n",
       "      <td>48</td>\n",
       "      <td>Hawaii</td>\n",
       "      <td>2018.06.09</td>\n",
       "      <td>2018.06.09</td>\n",
       "      <td>2018.06.09</td>\n",
       "      <td>USA</td>\n",
       "      <td>09-Jun-2018</td>\n",
       "      <td>N</td>\n",
       "      <td>http://sharkattackfile.net/spreadsheets/pdf_di...</td>\n",
       "      <td>...</td>\n",
       "      <td>John Denges</td>\n",
       "      <td>6301.0</td>\n",
       "      <td>2018.06.09-Denges.pdf</td>\n",
       "      <td>M</td>\n",
       "      <td>Unknown</td>\n",
       "      <td>07h45</td>\n",
       "      <td>Invalid</td>\n",
       "      <td>Unknown</td>\n",
       "      <td>Unknown</td>\n",
       "      <td>2018.0</td>\n",
       "    </tr>\n",
       "    <tr>\n",
       "      <th>3</th>\n",
       "      <td>Surfing</td>\n",
       "      <td>Unknown</td>\n",
       "      <td>New South Wales</td>\n",
       "      <td>2018.06.08</td>\n",
       "      <td>2018.06.08</td>\n",
       "      <td>2018.06.08</td>\n",
       "      <td>AUSTRALIA</td>\n",
       "      <td>08-Jun-2018</td>\n",
       "      <td>N</td>\n",
       "      <td>http://sharkattackfile.net/spreadsheets/pdf_di...</td>\n",
       "      <td>...</td>\n",
       "      <td>Unknown</td>\n",
       "      <td>6300.0</td>\n",
       "      <td>2018.06.08-Arrawarra.pdf</td>\n",
       "      <td>M</td>\n",
       "      <td>Unknown</td>\n",
       "      <td>Unknown</td>\n",
       "      <td>Unprovoked</td>\n",
       "      <td>Unknown</td>\n",
       "      <td>Unknown</td>\n",
       "      <td>2018.0</td>\n",
       "    </tr>\n",
       "    <tr>\n",
       "      <th>4</th>\n",
       "      <td>Diving</td>\n",
       "      <td>Unknown</td>\n",
       "      <td>Colima</td>\n",
       "      <td>2018.06.04</td>\n",
       "      <td>2018.06.04</td>\n",
       "      <td>2018.06.04</td>\n",
       "      <td>MEXICO</td>\n",
       "      <td>04-Jun-2018</td>\n",
       "      <td>N</td>\n",
       "      <td>http://sharkattackfile.net/spreadsheets/pdf_di...</td>\n",
       "      <td>...</td>\n",
       "      <td>Gustavo Ramos</td>\n",
       "      <td>6299.0</td>\n",
       "      <td>2018.06.04-Ramos.pdf</td>\n",
       "      <td>M</td>\n",
       "      <td>Tiger Shark</td>\n",
       "      <td>Unknown</td>\n",
       "      <td>Provoked</td>\n",
       "      <td>Unknown</td>\n",
       "      <td>Unknown</td>\n",
       "      <td>2018.0</td>\n",
       "    </tr>\n",
       "  </tbody>\n",
       "</table>\n",
       "<p>5 rows × 24 columns</p>\n",
       "</div>"
      ],
      "text/plain": [
       "   ACTIVITY      AGE             AREA CASE NUMBER CASE NUMBER 1 CASE NUMBER 2  \\\n",
       "0     Other       57       California  2018.06.25    2018.06.25    2018.06.25   \n",
       "1  Standing       11          Georgia  2018.06.18    2018.06.18    2018.06.18   \n",
       "2   Surfing       48           Hawaii  2018.06.09    2018.06.09    2018.06.09   \n",
       "3   Surfing  Unknown  New South Wales  2018.06.08    2018.06.08    2018.06.08   \n",
       "4    Diving  Unknown           Colima  2018.06.04    2018.06.04    2018.06.04   \n",
       "\n",
       "     COUNTRY         DATE FATAL (Y/N)  \\\n",
       "0        USA  25-Jun-2018           N   \n",
       "1        USA  18-Jun-2018           N   \n",
       "2        USA  09-Jun-2018           N   \n",
       "3  AUSTRALIA  08-Jun-2018           N   \n",
       "4     MEXICO  04-Jun-2018           N   \n",
       "\n",
       "                                                HREF  ...            NAME  \\\n",
       "0  http://sharkattackfile.net/spreadsheets/pdf_di...  ...     Julie Wolfe   \n",
       "1  http://sharkattackfile.net/spreadsheets/pdf_di...  ...  Adyson McNeely   \n",
       "2  http://sharkattackfile.net/spreadsheets/pdf_di...  ...     John Denges   \n",
       "3  http://sharkattackfile.net/spreadsheets/pdf_di...  ...         Unknown   \n",
       "4  http://sharkattackfile.net/spreadsheets/pdf_di...  ...   Gustavo Ramos   \n",
       "\n",
       "  ORIGINAL ORDER                       PDF SEX      SPECIES     TIME  \\\n",
       "0         6303.0      2018.06.25-Wolfe.pdf   F  White Shark    18h00   \n",
       "1         6302.0    2018.06.18-McNeely.pdf   F      Unknown    14h00   \n",
       "2         6301.0     2018.06.09-Denges.pdf   M      Unknown    07h45   \n",
       "3         6300.0  2018.06.08-Arrawarra.pdf   M      Unknown  Unknown   \n",
       "4         6299.0      2018.06.04-Ramos.pdf   M  Tiger Shark  Unknown   \n",
       "\n",
       "         TYPE UNNAMED: 22 UNNAMED: 23    YEAR  \n",
       "0  Boatinging     Unknown     Unknown  2018.0  \n",
       "1  Unprovoked     Unknown     Unknown  2018.0  \n",
       "2     Invalid     Unknown     Unknown  2018.0  \n",
       "3  Unprovoked     Unknown     Unknown  2018.0  \n",
       "4    Provoked     Unknown     Unknown  2018.0  \n",
       "\n",
       "[5 rows x 24 columns]"
      ]
     },
     "execution_count": 94,
     "metadata": {},
     "output_type": "execute_result"
    }
   ],
   "source": [
    "df17.head()"
   ]
  },
  {
   "cell_type": "code",
   "execution_count": 95,
   "metadata": {},
   "outputs": [
    {
     "data": {
      "image/png": "[encoded data removed]",
      "text/plain": [
       "<Figure size 432x288 with 1 Axes>"
      ]
     },
     "metadata": {},
     "output_type": "display_data"
    }
   ],
   "source": [
    "df17['YEAR'] = df17['YEAR'].replace(0, np.nan)\n",
    "fig, ax = plt.subplots()\n",
    "ax = df['YEAR'].hist(bins=50, density=True, stacked=True, color='navajowhite', alpha=0.8)\n",
    "ax = df17['YEAR'].plot(kind='density', color='orange')\n",
    "ax.set(title='Shark Attack Data')\n",
    "ax.set(xlabel='Years')\n",
    "plt.xlim(1800,2021)\n",
    "plt.savefig('output/Years Hist.png', dpi =100)\n",
    "plt.show()\n",
    "df17['YEAR'] = df17['YEAR'].replace(np.nan, 0)"
   ]
  },
  {
   "cell_type": "markdown",
   "metadata": {},
   "source": [
    "On the histogram we can see that during the years shark attacks have increased, but from 2000 to 2018 there was a considerable increase."
   ]
  },
  {
   "cell_type": "code",
   "execution_count": 96,
   "metadata": {},
   "outputs": [
    {
     "data": {
      "image/png": "[encoded data removed]",
      "text/plain": [
       "<Figure size 432x288 with 1 Axes>"
      ]
     },
     "metadata": {},
     "output_type": "display_data"
    }
   ],
   "source": [
    "df17['YEAR_GRAPH'] = df17[df17['YEAR']>1950]['YEAR']\n",
    "year_counter = df17['YEAR_GRAPH'].value_counts().sort_index()\n",
    "\n",
    "year_counter.plot(title='Shark Attacks Per Year 1950 - 2018',color = 'crimson')\n",
    "plt.savefig('output/Attacks Per Year.png')"
   ]
  },
  {
   "cell_type": "markdown",
   "metadata": {},
   "source": [
    "We can see the increment of attacks mentioned before from 1990 (between 50 and 60 attacks) to aproximately 2016 (with more than 140 attacks)."
   ]
  },
  {
   "cell_type": "code",
   "execution_count": 97,
   "metadata": {},
   "outputs": [
    {
     "data": {
      "image/png": "[encoded data removed]",
      "text/plain": [
       "<Figure size 432x288 with 1 Axes>"
      ]
     },
     "metadata": {},
     "output_type": "display_data"
    }
   ],
   "source": [
    "#https://www.geeksforgeeks.org/python-pandas-series-str-extract/\n",
    "df17['AGE_GRAPH'] = df17['AGE'].str.extract('([0-9]+)', expand = False).dropna().astype(int)\n",
    "age_counter = df17['AGE_GRAPH'].value_counts()\n",
    "age_counter.plot(title = 'Ages of Attacked People',style='.', color = 'k')\n",
    "plt.savefig('output/Ages of Attacked People.png')"
   ]
  },
  {
   "cell_type": "code",
   "execution_count": 98,
   "metadata": {},
   "outputs": [
    {
     "name": "stdout",
     "output_type": "stream",
     "text": [
      "Surfing     1231\n",
      "Other       1101\n",
      "Fishing     1098\n",
      "Swimming    1037\n",
      "Diving       613\n",
      "Boarding     194\n",
      "Bathing      191\n",
      "Name: ACTIVITY, dtype: int64\n"
     ]
    },
    {
     "data": {
      "image/png": "[encoded data removed]",
      "text/plain": [
       "<Figure size 432x288 with 1 Axes>"
      ]
     },
     "metadata": {},
     "output_type": "display_data"
    }
   ],
   "source": [
    "print(df17['ACTIVITY'].value_counts()[:7])\n",
    "p = sns.countplot(x='ACTIVITY', data=df17, palette='BuGn_r', order = df17.ACTIVITY.value_counts().iloc[:7].index)\n",
    "p.axes.xaxis.label.set_text('Activity')\n",
    "p.axes.yaxis.label.set_text('Count')\n",
    "p.set_title('Most Accidented Activities')\n",
    "plt.savefig('output/Most Accidented Activities.png')\n",
    "plt.show()"
   ]
  },
  {
   "cell_type": "code",
   "execution_count": 99,
   "metadata": {},
   "outputs": [
    {
     "name": "stdout",
     "output_type": "stream",
     "text": [
      "White Shark     632\n",
      "Tiger Shark     250\n",
      "Bull Shark      167\n",
      "Whaler Shark     72\n",
      "Reef Shark       67\n",
      "Name: SPECIES, dtype: int64\n"
     ]
    },
    {
     "data": {
      "image/png": "[encoded data removed]",
      "text/plain": [
       "<Figure size 432x288 with 1 Axes>"
      ]
     },
     "metadata": {},
     "output_type": "display_data"
    }
   ],
   "source": [
    "df18 = df17.copy()\n",
    "df18['SPECIES'] = df18[df18.SPECIES != 'Unknown']['SPECIES']\n",
    "print(df18['SPECIES'].value_counts()[0:5])\n",
    "p = sns.countplot(x='SPECIES', data=df18, palette='GnBu_d', order = df18.SPECIES.value_counts().iloc[0:5].index)\n",
    "p.set_xticklabels(p.get_xticklabels(),rotation=45)\n",
    "p.axes.xaxis.label.set_text('Species')\n",
    "p.axes.yaxis.label.set_text('Count')\n",
    "p.set_title('Most Dangerous Species')\n",
    "plt.tight_layout()\n",
    "plt.savefig('output/Most Dangerous Species.png',dpi = 100)\n",
    "plt.show()"
   ]
  },
  {
   "cell_type": "code",
   "execution_count": 100,
   "metadata": {},
   "outputs": [
    {
     "data": {
      "image/png": "[encoded data removed]",
      "text/plain": [
       "<Figure size 360x360 with 1 Axes>"
      ]
     },
     "metadata": {},
     "output_type": "display_data"
    }
   ],
   "source": [
    "df17['SEX'].value_counts().plot(kind='pie', rot = 45, autopct = '%1.1f%%', figsize=(5,5), title='Attacks by Gender', colors = ['lightblue','lightpink','gainsboro'], table = True)\n",
    "plt.tight_layout()\n",
    "plt.savefig('output/Attacks by Gender.png',dpi=100)\n",
    "plt.show()"
   ]
  },
  {
   "cell_type": "code",
   "execution_count": 101,
   "metadata": {},
   "outputs": [
    {
     "data": {
      "image/png": "[encoded data removed]",
      "text/plain": [
       "<Figure size 360x360 with 1 Axes>"
      ]
     },
     "metadata": {},
     "output_type": "display_data"
    }
   ],
   "source": [
    "df17['FATAL (Y/N)'].value_counts().plot(kind='pie', rot = 45, autopct = '%1.1f%%', figsize=(5,5), title='Fatatlity of the Attack', colors = ['darkseagreen','tomato','gainsboro'], table = True)\n",
    "plt.tight_layout()\n",
    "plt.savefig('output/Fatality.png',dpi=100)\n",
    "plt.show()"
   ]
  },
  {
   "cell_type": "code",
   "execution_count": 102,
   "metadata": {},
   "outputs": [
    {
     "name": "stdout",
     "output_type": "stream",
     "text": [
      "USA             615\n",
      "AUSTRALIA       429\n",
      "SOUTH AFRICA    262\n",
      "BAHAMAS          49\n",
      "NEW ZEALAND      45\n",
      "ITALY            28\n",
      "REUNION          23\n",
      "Name: COUNTRY, dtype: int64\n"
     ]
    },
    {
     "data": {
      "image/png": "[encoded data removed]",
      "text/plain": [
       "<Figure size 432x288 with 1 Axes>"
      ]
     },
     "metadata": {},
     "output_type": "display_data"
    }
   ],
   "source": [
    "df18 = df17.copy()\n",
    "df18['COUNTRY'] = df18[df18.SPECIES != 'Unknown']['COUNTRY']\n",
    "print(df18['COUNTRY'].value_counts()[0:7])\n",
    "p = sns.countplot(x='COUNTRY', data=df18, palette='coolwarm', order = df18.COUNTRY.value_counts().iloc[0:7].index)\n",
    "p.set_xticklabels(p.get_xticklabels(),rotation=45)\n",
    "p.axes.xaxis.label.set_text('Countries')\n",
    "p.axes.yaxis.label.set_text('Count')\n",
    "p.set_title('Attacks per Country')\n",
    "plt.tight_layout()\n",
    "plt.savefig('output/Attacks per Country.png',dpi = 100)\n",
    "plt.show()"
   ]
  },
  {
   "cell_type": "code",
   "execution_count": null,
   "metadata": {},
   "outputs": [],
   "source": []
  }
 ],
 "metadata": {
  "kernelspec": {
   "display_name": "Python 3",
   "language": "python",
   "name": "python3"
  },
  "language_info": {
   "codemirror_mode": {
    "name": "ipython",
    "version": 3
   },
   "file_extension": ".py",
   "mimetype": "text/x-python",
   "name": "python",
   "nbconvert_exporter": "python",
   "pygments_lexer": "ipython3",
   "version": "3.8.3"
  }
 },
 "nbformat": 4,
 "nbformat_minor": 4
}
