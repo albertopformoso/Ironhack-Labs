{
 "cells": [
  {
   "cell_type": "markdown",
   "metadata": {},
   "source": [
    "# Finding The Best Location In California"
   ]
  },
  {
   "cell_type": "code",
   "execution_count": 1,
   "metadata": {},
   "outputs": [],
   "source": [
    "import numpy as np, pandas as pd, pymongo, folium, orca\n",
    "import matplotlib.pyplot as plt, seaborn as sns, chart_studio.plotly as py, cufflinks as cf, plotly.express as px\n",
    "from pymongo import MongoClient\n",
    "from pandas.io.json import json_normalize\n",
    "from folium import plugins\n",
    "from ipywidgets import interact\n",
    "import re"
   ]
  },
  {
   "cell_type": "code",
   "execution_count": 2,
   "metadata": {},
   "outputs": [
    {
     "data": {
      "text/plain": [
       "['admin', 'companies', 'config', 'local']"
      ]
     },
     "execution_count": 2,
     "metadata": {},
     "output_type": "execute_result"
    }
   ],
   "source": [
    "client = pymongo.MongoClient()\n",
    "client.list_database_names()"
   ]
  },
  {
   "cell_type": "code",
   "execution_count": 3,
   "metadata": {},
   "outputs": [
    {
     "data": {
      "text/plain": [
       "['companies']"
      ]
     },
     "execution_count": 3,
     "metadata": {},
     "output_type": "execute_result"
    }
   ],
   "source": [
    "companies = client['companies']\n",
    "companies.list_collection_names()"
   ]
  },
  {
   "cell_type": "code",
   "execution_count": 4,
   "metadata": {},
   "outputs": [
    {
     "data": {
      "text/plain": [
       "Collection(Database(MongoClient(host=['localhost:27017'], document_class=dict, tz_aware=False, connect=True), 'companies'), 'companies')"
      ]
     },
     "execution_count": 4,
     "metadata": {},
     "output_type": "execute_result"
    }
   ],
   "source": [
    "collection = companies['companies']\n",
    "collection"
   ]
  },
  {
   "cell_type": "code",
   "execution_count": 5,
   "metadata": {},
   "outputs": [
    {
     "data": {
      "text/plain": [
       "dict_keys(['_id', 'name', 'permalink', 'crunchbase_url', 'homepage_url', 'blog_url', 'blog_feed_url', 'twitter_username', 'category_code', 'number_of_employees', 'founded_year', 'founded_month', 'founded_day', 'deadpooled_year', 'tag_list', 'alias_list', 'email_address', 'phone_number', 'description', 'created_at', 'updated_at', 'overview', 'image', 'products', 'relationships', 'competitions', 'providerships', 'total_money_raised', 'funding_rounds', 'investments', 'acquisition', 'acquisitions', 'offices', 'milestones', 'video_embeds', 'screenshots', 'external_links', 'partners'])"
      ]
     },
     "execution_count": 5,
     "metadata": {},
     "output_type": "execute_result"
    }
   ],
   "source": [
    "keys = collection.find({})\n",
    "keys[0].keys()"
   ]
  },
  {
   "cell_type": "code",
   "execution_count": 6,
   "metadata": {},
   "outputs": [],
   "source": [
    "collection_filter = collection.find({'$and':[{'offices':{'$not':{'$size':0}}},\n",
    "                                             {'category_code':'games_video'}]},\n",
    "                                    {'_id':0,'name':1,'category_code':1,'offices':1})\n",
    "#list(collection_filter.limit(1))"
   ]
  },
  {
   "cell_type": "code",
   "execution_count": 7,
   "metadata": {},
   "outputs": [
    {
     "data": {
      "text/plain": [
       "{'name': 'Flektor',\n",
       " 'category_code': 'games_video',\n",
       " 'offices': [{'description': None,\n",
       "   'address1': '8536 National Blvd, Suite A',\n",
       "   'address2': None,\n",
       "   'zip_code': '90232',\n",
       "   'city': 'Culver City',\n",
       "   'state_code': 'CA',\n",
       "   'country_code': 'USA',\n",
       "   'latitude': 34.025958,\n",
       "   'longitude': -118.379768}]}"
      ]
     },
     "execution_count": 7,
     "metadata": {},
     "output_type": "execute_result"
    }
   ],
   "source": [
    "colec = list(collection_filter)\n",
    "colec[0]"
   ]
  },
  {
   "cell_type": "code",
   "execution_count": 8,
   "metadata": {},
   "outputs": [
    {
     "data": {
      "text/plain": [
       "(839, 3)"
      ]
     },
     "execution_count": 8,
     "metadata": {},
     "output_type": "execute_result"
    }
   ],
   "source": [
    "companies_df = pd.DataFrame(colec)\n",
    "companies_df.shape"
   ]
  },
  {
   "cell_type": "code",
   "execution_count": 9,
   "metadata": {},
   "outputs": [
    {
     "data": {
      "text/html": [
       "<div>\n",
       "<style scoped>\n",
       "    .dataframe tbody tr th:only-of-type {\n",
       "        vertical-align: middle;\n",
       "    }\n",
       "\n",
       "    .dataframe tbody tr th {\n",
       "        vertical-align: top;\n",
       "    }\n",
       "\n",
       "    .dataframe thead th {\n",
       "        text-align: right;\n",
       "    }\n",
       "</style>\n",
       "<table border=\"1\" class=\"dataframe\">\n",
       "  <thead>\n",
       "    <tr style=\"text-align: right;\">\n",
       "      <th></th>\n",
       "      <th>name</th>\n",
       "      <th>category_code</th>\n",
       "      <th>offices</th>\n",
       "    </tr>\n",
       "  </thead>\n",
       "  <tbody>\n",
       "    <tr>\n",
       "      <th>0</th>\n",
       "      <td>Flektor</td>\n",
       "      <td>games_video</td>\n",
       "      <td>[{'description': None, 'address1': '8536 Natio...</td>\n",
       "    </tr>\n",
       "    <tr>\n",
       "      <th>1</th>\n",
       "      <td>Lala</td>\n",
       "      <td>games_video</td>\n",
       "      <td>[{'description': 'Lala Headquarters', 'address...</td>\n",
       "    </tr>\n",
       "    <tr>\n",
       "      <th>2</th>\n",
       "      <td>Joost</td>\n",
       "      <td>games_video</td>\n",
       "      <td>[{'description': '', 'address1': '100 5th Ave ...</td>\n",
       "    </tr>\n",
       "    <tr>\n",
       "      <th>3</th>\n",
       "      <td>Babelgum</td>\n",
       "      <td>games_video</td>\n",
       "      <td>[{'description': '', 'address1': '', 'address2...</td>\n",
       "    </tr>\n",
       "    <tr>\n",
       "      <th>4</th>\n",
       "      <td>Sparter</td>\n",
       "      <td>games_video</td>\n",
       "      <td>[{'description': None, 'address1': None, 'addr...</td>\n",
       "    </tr>\n",
       "  </tbody>\n",
       "</table>\n",
       "</div>"
      ],
      "text/plain": [
       "       name category_code                                            offices\n",
       "0   Flektor   games_video  [{'description': None, 'address1': '8536 Natio...\n",
       "1      Lala   games_video  [{'description': 'Lala Headquarters', 'address...\n",
       "2     Joost   games_video  [{'description': '', 'address1': '100 5th Ave ...\n",
       "3  Babelgum   games_video  [{'description': '', 'address1': '', 'address2...\n",
       "4   Sparter   games_video  [{'description': None, 'address1': None, 'addr..."
      ]
     },
     "execution_count": 9,
     "metadata": {},
     "output_type": "execute_result"
    }
   ],
   "source": [
    "companies_df.head()"
   ]
  },
  {
   "cell_type": "code",
   "execution_count": 10,
   "metadata": {},
   "outputs": [],
   "source": [
    "data_list = [pd.json_normalize(i) for i in companies_df['offices']]"
   ]
  },
  {
   "cell_type": "code",
   "execution_count": 11,
   "metadata": {},
   "outputs": [
    {
     "data": {
      "text/html": [
       "<div>\n",
       "<style scoped>\n",
       "    .dataframe tbody tr th:only-of-type {\n",
       "        vertical-align: middle;\n",
       "    }\n",
       "\n",
       "    .dataframe tbody tr th {\n",
       "        vertical-align: top;\n",
       "    }\n",
       "\n",
       "    .dataframe thead th {\n",
       "        text-align: right;\n",
       "    }\n",
       "</style>\n",
       "<table border=\"1\" class=\"dataframe\">\n",
       "  <thead>\n",
       "    <tr style=\"text-align: right;\">\n",
       "      <th></th>\n",
       "      <th>description</th>\n",
       "      <th>address1</th>\n",
       "      <th>address2</th>\n",
       "      <th>zip_code</th>\n",
       "      <th>city</th>\n",
       "      <th>state_code</th>\n",
       "      <th>country_code</th>\n",
       "      <th>latitude</th>\n",
       "      <th>longitude</th>\n",
       "    </tr>\n",
       "  </thead>\n",
       "  <tbody>\n",
       "    <tr>\n",
       "      <th>0</th>\n",
       "      <td>Corporate Headquarters</td>\n",
       "      <td>901 Cherry Ave</td>\n",
       "      <td></td>\n",
       "      <td>94066</td>\n",
       "      <td>San Bruno</td>\n",
       "      <td>CA</td>\n",
       "      <td>USA</td>\n",
       "      <td>37.627971</td>\n",
       "      <td>-122.426804</td>\n",
       "    </tr>\n",
       "  </tbody>\n",
       "</table>\n",
       "</div>"
      ],
      "text/plain": [
       "              description        address1 address2 zip_code       city  \\\n",
       "0  Corporate Headquarters  901 Cherry Ave             94066  San Bruno   \n",
       "\n",
       "  state_code country_code   latitude   longitude  \n",
       "0         CA          USA  37.627971 -122.426804  "
      ]
     },
     "execution_count": 11,
     "metadata": {},
     "output_type": "execute_result"
    }
   ],
   "source": [
    "data_list[7]"
   ]
  },
  {
   "cell_type": "code",
   "execution_count": 12,
   "metadata": {},
   "outputs": [
    {
     "data": {
      "text/plain": [
       "839"
      ]
     },
     "execution_count": 12,
     "metadata": {},
     "output_type": "execute_result"
    }
   ],
   "source": [
    "len(companies_df['category_code'])"
   ]
  },
  {
   "cell_type": "code",
   "execution_count": 13,
   "metadata": {},
   "outputs": [
    {
     "data": {
      "text/plain": [
       "839"
      ]
     },
     "execution_count": 13,
     "metadata": {},
     "output_type": "execute_result"
    }
   ],
   "source": [
    "len(data_list)"
   ]
  },
  {
   "cell_type": "code",
   "execution_count": 14,
   "metadata": {},
   "outputs": [],
   "source": [
    "for i, item in enumerate(data_list):\n",
    "    item['company_name'] = companies_df['name'][i]\n",
    "    item['category_code'] = companies_df['category_code'][i]"
   ]
  },
  {
   "cell_type": "code",
   "execution_count": 15,
   "metadata": {},
   "outputs": [
    {
     "data": {
      "text/html": [
       "<div>\n",
       "<style scoped>\n",
       "    .dataframe tbody tr th:only-of-type {\n",
       "        vertical-align: middle;\n",
       "    }\n",
       "\n",
       "    .dataframe tbody tr th {\n",
       "        vertical-align: top;\n",
       "    }\n",
       "\n",
       "    .dataframe thead th {\n",
       "        text-align: right;\n",
       "    }\n",
       "</style>\n",
       "<table border=\"1\" class=\"dataframe\">\n",
       "  <thead>\n",
       "    <tr style=\"text-align: right;\">\n",
       "      <th></th>\n",
       "      <th>description</th>\n",
       "      <th>address1</th>\n",
       "      <th>address2</th>\n",
       "      <th>zip_code</th>\n",
       "      <th>city</th>\n",
       "      <th>state_code</th>\n",
       "      <th>country_code</th>\n",
       "      <th>latitude</th>\n",
       "      <th>longitude</th>\n",
       "      <th>company_name</th>\n",
       "      <th>category_code</th>\n",
       "    </tr>\n",
       "  </thead>\n",
       "  <tbody>\n",
       "    <tr>\n",
       "      <th>0</th>\n",
       "      <td>None</td>\n",
       "      <td>8536 National Blvd, Suite A</td>\n",
       "      <td>None</td>\n",
       "      <td>90232</td>\n",
       "      <td>Culver City</td>\n",
       "      <td>CA</td>\n",
       "      <td>USA</td>\n",
       "      <td>34.025958</td>\n",
       "      <td>-118.379768</td>\n",
       "      <td>Flektor</td>\n",
       "      <td>games_video</td>\n",
       "    </tr>\n",
       "  </tbody>\n",
       "</table>\n",
       "</div>"
      ],
      "text/plain": [
       "  description                     address1 address2 zip_code         city  \\\n",
       "0        None  8536 National Blvd, Suite A     None    90232  Culver City   \n",
       "\n",
       "  state_code country_code   latitude   longitude company_name category_code  \n",
       "0         CA          USA  34.025958 -118.379768      Flektor   games_video  "
      ]
     },
     "execution_count": 15,
     "metadata": {},
     "output_type": "execute_result"
    }
   ],
   "source": [
    "data_list[0]"
   ]
  },
  {
   "cell_type": "code",
   "execution_count": 16,
   "metadata": {},
   "outputs": [],
   "source": [
    "temp_table = [i[['company_name','category_code','country_code',\n",
    "                 'state_code','city','latitude','longitude']] for i in data_list]"
   ]
  },
  {
   "cell_type": "code",
   "execution_count": 17,
   "metadata": {},
   "outputs": [],
   "source": [
    "companies_data = pd.DataFrame()\n",
    "for i in range(len(temp_table)):\n",
    "    companies_data = pd.concat([companies_data, temp_table[i]])"
   ]
  },
  {
   "cell_type": "code",
   "execution_count": 18,
   "metadata": {},
   "outputs": [
    {
     "data": {
      "text/html": [
       "<div>\n",
       "<style scoped>\n",
       "    .dataframe tbody tr th:only-of-type {\n",
       "        vertical-align: middle;\n",
       "    }\n",
       "\n",
       "    .dataframe tbody tr th {\n",
       "        vertical-align: top;\n",
       "    }\n",
       "\n",
       "    .dataframe thead th {\n",
       "        text-align: right;\n",
       "    }\n",
       "</style>\n",
       "<table border=\"1\" class=\"dataframe\">\n",
       "  <thead>\n",
       "    <tr style=\"text-align: right;\">\n",
       "      <th></th>\n",
       "      <th>company_name</th>\n",
       "      <th>category_code</th>\n",
       "      <th>country_code</th>\n",
       "      <th>state_code</th>\n",
       "      <th>city</th>\n",
       "      <th>latitude</th>\n",
       "      <th>longitude</th>\n",
       "    </tr>\n",
       "  </thead>\n",
       "  <tbody>\n",
       "    <tr>\n",
       "      <th>0</th>\n",
       "      <td>Flektor</td>\n",
       "      <td>games_video</td>\n",
       "      <td>USA</td>\n",
       "      <td>CA</td>\n",
       "      <td>Culver City</td>\n",
       "      <td>34.025958</td>\n",
       "      <td>-118.379768</td>\n",
       "    </tr>\n",
       "    <tr>\n",
       "      <th>0</th>\n",
       "      <td>Lala</td>\n",
       "      <td>games_video</td>\n",
       "      <td>USA</td>\n",
       "      <td>CA</td>\n",
       "      <td>Palo Alto</td>\n",
       "      <td>37.451151</td>\n",
       "      <td>-122.154369</td>\n",
       "    </tr>\n",
       "    <tr>\n",
       "      <th>0</th>\n",
       "      <td>Joost</td>\n",
       "      <td>games_video</td>\n",
       "      <td>USA</td>\n",
       "      <td>NY</td>\n",
       "      <td>New York</td>\n",
       "      <td>40.746497</td>\n",
       "      <td>-74.009447</td>\n",
       "    </tr>\n",
       "    <tr>\n",
       "      <th>0</th>\n",
       "      <td>Babelgum</td>\n",
       "      <td>games_video</td>\n",
       "      <td>GBR</td>\n",
       "      <td>None</td>\n",
       "      <td>London</td>\n",
       "      <td>53.344104</td>\n",
       "      <td>-6.267494</td>\n",
       "    </tr>\n",
       "    <tr>\n",
       "      <th>0</th>\n",
       "      <td>Sparter</td>\n",
       "      <td>games_video</td>\n",
       "      <td>USA</td>\n",
       "      <td>None</td>\n",
       "      <td>None</td>\n",
       "      <td>37.090240</td>\n",
       "      <td>-95.712891</td>\n",
       "    </tr>\n",
       "  </tbody>\n",
       "</table>\n",
       "</div>"
      ],
      "text/plain": [
       "  company_name category_code country_code state_code         city   latitude  \\\n",
       "0      Flektor   games_video          USA         CA  Culver City  34.025958   \n",
       "0         Lala   games_video          USA         CA    Palo Alto  37.451151   \n",
       "0        Joost   games_video          USA         NY     New York  40.746497   \n",
       "0     Babelgum   games_video          GBR       None       London  53.344104   \n",
       "0      Sparter   games_video          USA       None         None  37.090240   \n",
       "\n",
       "    longitude  \n",
       "0 -118.379768  \n",
       "0 -122.154369  \n",
       "0  -74.009447  \n",
       "0   -6.267494  \n",
       "0  -95.712891  "
      ]
     },
     "execution_count": 18,
     "metadata": {},
     "output_type": "execute_result"
    }
   ],
   "source": [
    "companies_data.head()"
   ]
  },
  {
   "cell_type": "code",
   "execution_count": 19,
   "metadata": {},
   "outputs": [
    {
     "data": {
      "text/plain": [
       "array(['USA', 'GBR', 'ISR', 'HUN', 'RUS', 'DEU', 'JPN', 'CAN', 'SGP',\n",
       "       'CHE', 'FRA', 'IRL', 'IND', 'NLD', 'SWE', 'QAT', 'MLT', 'KOR',\n",
       "       'AUS', 'NOR', 'CYP', 'MYS', 'FIN', 'AUT', 'ESP', 'ROM', 'LVA',\n",
       "       'ARM', 'MEX', 'BRB', 'CHN', 'CRI', 'ISL', 'ITA', 'ARG', 'EST',\n",
       "       'BGD', 'TUR', 'UKR', 'TWN', 'LBN', 'COL', 'BEL', 'GRC', 'BRA',\n",
       "       'DNK', 'ARA', 'HKG', 'CZE', 'NZL', 'IOT', 'SVN', 'PRT'],\n",
       "      dtype=object)"
      ]
     },
     "execution_count": 19,
     "metadata": {},
     "output_type": "execute_result"
    }
   ],
   "source": [
    "companies_data['country_code'].unique()"
   ]
  },
  {
   "cell_type": "code",
   "execution_count": 20,
   "metadata": {},
   "outputs": [
    {
     "data": {
      "text/plain": [
       "array(['CA', 'NY', None, 'WA', 'AL', 'MA', 'TX', 'NV', 'PA', 'FL', 'MN',\n",
       "       'MI', 'MD', 'MO', 'NJ', 'CO', 'OK', 'VA', 'IA', 'IL', 'GA', 'NE',\n",
       "       'DE', 'AZ', 'CT', 'TN', 'NC', 'RI', 'OR', 'OH', 'ME', 'SC', 'KY',\n",
       "       'KS'], dtype=object)"
      ]
     },
     "execution_count": 20,
     "metadata": {},
     "output_type": "execute_result"
    }
   ],
   "source": [
    "companies_data[companies_data['country_code']=='USA']['state_code'].unique()"
   ]
  },
  {
   "cell_type": "code",
   "execution_count": 21,
   "metadata": {},
   "outputs": [
    {
     "data": {
      "text/html": [
       "<div>\n",
       "<style scoped>\n",
       "    .dataframe tbody tr th:only-of-type {\n",
       "        vertical-align: middle;\n",
       "    }\n",
       "\n",
       "    .dataframe tbody tr th {\n",
       "        vertical-align: top;\n",
       "    }\n",
       "\n",
       "    .dataframe thead th {\n",
       "        text-align: right;\n",
       "    }\n",
       "</style>\n",
       "<table border=\"1\" class=\"dataframe\">\n",
       "  <thead>\n",
       "    <tr style=\"text-align: right;\">\n",
       "      <th></th>\n",
       "      <th>company_name</th>\n",
       "      <th>category_code</th>\n",
       "      <th>country_code</th>\n",
       "      <th>state_code</th>\n",
       "      <th>city</th>\n",
       "      <th>latitude</th>\n",
       "      <th>longitude</th>\n",
       "    </tr>\n",
       "  </thead>\n",
       "  <tbody>\n",
       "    <tr>\n",
       "      <th>0</th>\n",
       "      <td>Flektor</td>\n",
       "      <td>games_video</td>\n",
       "      <td>USA</td>\n",
       "      <td>CA</td>\n",
       "      <td>Culver City</td>\n",
       "      <td>34.025958</td>\n",
       "      <td>-118.379768</td>\n",
       "    </tr>\n",
       "    <tr>\n",
       "      <th>1</th>\n",
       "      <td>Lala</td>\n",
       "      <td>games_video</td>\n",
       "      <td>USA</td>\n",
       "      <td>CA</td>\n",
       "      <td>Palo Alto</td>\n",
       "      <td>37.451151</td>\n",
       "      <td>-122.154369</td>\n",
       "    </tr>\n",
       "    <tr>\n",
       "      <th>2</th>\n",
       "      <td>Kyte</td>\n",
       "      <td>games_video</td>\n",
       "      <td>USA</td>\n",
       "      <td>CA</td>\n",
       "      <td>San Francisco</td>\n",
       "      <td>37.788482</td>\n",
       "      <td>-122.409173</td>\n",
       "    </tr>\n",
       "    <tr>\n",
       "      <th>3</th>\n",
       "      <td>Veoh</td>\n",
       "      <td>games_video</td>\n",
       "      <td>USA</td>\n",
       "      <td>CA</td>\n",
       "      <td>San Diego</td>\n",
       "      <td>32.902266</td>\n",
       "      <td>-117.208340</td>\n",
       "    </tr>\n",
       "    <tr>\n",
       "      <th>4</th>\n",
       "      <td>YouTube</td>\n",
       "      <td>games_video</td>\n",
       "      <td>USA</td>\n",
       "      <td>CA</td>\n",
       "      <td>San Bruno</td>\n",
       "      <td>37.627971</td>\n",
       "      <td>-122.426804</td>\n",
       "    </tr>\n",
       "  </tbody>\n",
       "</table>\n",
       "</div>"
      ],
      "text/plain": [
       "  company_name category_code country_code state_code           city  \\\n",
       "0      Flektor   games_video          USA         CA    Culver City   \n",
       "1         Lala   games_video          USA         CA      Palo Alto   \n",
       "2         Kyte   games_video          USA         CA  San Francisco   \n",
       "3         Veoh   games_video          USA         CA      San Diego   \n",
       "4      YouTube   games_video          USA         CA      San Bruno   \n",
       "\n",
       "    latitude   longitude  \n",
       "0  34.025958 -118.379768  \n",
       "1  37.451151 -122.154369  \n",
       "2  37.788482 -122.409173  \n",
       "3  32.902266 -117.208340  \n",
       "4  37.627971 -122.426804  "
      ]
     },
     "execution_count": 21,
     "metadata": {},
     "output_type": "execute_result"
    }
   ],
   "source": [
    "companies_data_ca = companies_data[(companies_data['country_code'] == 'USA') & (companies_data['state_code'] == 'CA')]\n",
    "companies_data_ca.reset_index(drop=True,inplace=True)\n",
    "companies_data_ca.head()"
   ]
  },
  {
   "cell_type": "code",
   "execution_count": 22,
   "metadata": {},
   "outputs": [
    {
     "data": {
      "text/plain": [
       "(279, 7)"
      ]
     },
     "execution_count": 22,
     "metadata": {},
     "output_type": "execute_result"
    }
   ],
   "source": [
    "companies_data_ca.shape"
   ]
  },
  {
   "cell_type": "code",
   "execution_count": 23,
   "metadata": {},
   "outputs": [
    {
     "data": {
      "text/plain": [
       "array(['Culver City', 'Palo Alto', 'San Francisco', 'San Diego',\n",
       "       'San Bruno', 'Los Angeles', 'San Mateo', 'Burlingame',\n",
       "       'Redwood City', 'Mountain View', 'Burbank', 'Belmont',\n",
       "       'Santa Monica', 'Corte Madera', 'San Jose', 'West Palm Beach',\n",
       "       'Berkeley', 'Solana Beach', 'Sunnyvale', 'Santa Clara', 'Campbell',\n",
       "       'Los Angleles', 'Sherman Oaks', 'Sausalito', 'Santa Cruz',\n",
       "       'Hollywood', 'Los Gatos', 'Beverly Hills', 'Fullerton', '',\n",
       "       'Van Nuys', 'Fremont', 'Torrance', 'Atherton', 'Carlsbad',\n",
       "       'Oakland', 'Emeryville', 'Yorba Linda', 'Daly City', 'Stockholm',\n",
       "       'El Segundo', 'Universal City', 'Santa Ana', 'Irvine',\n",
       "       'Menlo Park', 'Moreno Valley', 'Manhattan Beach', 'Milpitas',\n",
       "       'Encino', 'Inglewood', 'South San Francisco', 'Mill Valley',\n",
       "       'Brea', 'Marina del Rey', 'Century City', 'Agoura Hills',\n",
       "       'Lake Forest', 'Venice', 'West Hollywood', 'San Clemente',\n",
       "       'Pasadena', 'Oxnard', 'Calabasas', 'Aliso Viejo', 'La Jolla',\n",
       "       'Santa Barbara', 'North Hollywood', 'Bay Area', 'Playa Vista',\n",
       "       'California', 'Long Beach'], dtype=object)"
      ]
     },
     "execution_count": 23,
     "metadata": {},
     "output_type": "execute_result"
    }
   ],
   "source": [
    "companies_data_ca['city'].unique()"
   ]
  },
  {
   "cell_type": "code",
   "execution_count": 24,
   "metadata": {},
   "outputs": [
    {
     "data": {
      "text/plain": [
       "San Francisco          68\n",
       "Los Angeles            31\n",
       "Palo Alto              16\n",
       "Santa Monica           14\n",
       "                        9\n",
       "                       ..\n",
       "Playa Vista             1\n",
       "La Jolla                1\n",
       "South San Francisco     1\n",
       "Marina del Rey          1\n",
       "Stockholm               1\n",
       "Name: city, Length: 71, dtype: int64"
      ]
     },
     "execution_count": 24,
     "metadata": {},
     "output_type": "execute_result"
    }
   ],
   "source": [
    "companies_data_ca['city'].value_counts()"
   ]
  },
  {
   "cell_type": "markdown",
   "metadata": {},
   "source": [
    "As one of the requirements of the client is that the new office needs to be near to public transport and in the city where are the most videogames studios in California, the best option is San Francisco because this city has 68 videogame studio's and this city has acces to subway besides bus, city bikes among other transportation methods."
   ]
  },
  {
   "cell_type": "code",
   "execution_count": 25,
   "metadata": {},
   "outputs": [],
   "source": [
    "companies_data_sf = companies_data_ca[companies_data_ca['city'] == 'San Francisco'][['company_name','latitude','longitude']]"
   ]
  },
  {
   "cell_type": "code",
   "execution_count": 26,
   "metadata": {},
   "outputs": [
    {
     "data": {
      "text/html": [
       "<div>\n",
       "<style scoped>\n",
       "    .dataframe tbody tr th:only-of-type {\n",
       "        vertical-align: middle;\n",
       "    }\n",
       "\n",
       "    .dataframe tbody tr th {\n",
       "        vertical-align: top;\n",
       "    }\n",
       "\n",
       "    .dataframe thead th {\n",
       "        text-align: right;\n",
       "    }\n",
       "</style>\n",
       "<table border=\"1\" class=\"dataframe\">\n",
       "  <thead>\n",
       "    <tr style=\"text-align: right;\">\n",
       "      <th></th>\n",
       "      <th>company_name</th>\n",
       "      <th>latitude</th>\n",
       "      <th>longitude</th>\n",
       "    </tr>\n",
       "  </thead>\n",
       "  <tbody>\n",
       "    <tr>\n",
       "      <th>0</th>\n",
       "      <td>Kyte</td>\n",
       "      <td>37.788482</td>\n",
       "      <td>-122.409173</td>\n",
       "    </tr>\n",
       "    <tr>\n",
       "      <th>1</th>\n",
       "      <td>Ustream</td>\n",
       "      <td>37.392936</td>\n",
       "      <td>-122.079480</td>\n",
       "    </tr>\n",
       "    <tr>\n",
       "      <th>2</th>\n",
       "      <td>Revision3</td>\n",
       "      <td>37.757758</td>\n",
       "      <td>-122.388243</td>\n",
       "    </tr>\n",
       "    <tr>\n",
       "      <th>3</th>\n",
       "      <td>CastTV</td>\n",
       "      <td>37.780716</td>\n",
       "      <td>-122.393913</td>\n",
       "    </tr>\n",
       "    <tr>\n",
       "      <th>4</th>\n",
       "      <td>blinkx</td>\n",
       "      <td>37.793819</td>\n",
       "      <td>-122.395089</td>\n",
       "    </tr>\n",
       "  </tbody>\n",
       "</table>\n",
       "</div>"
      ],
      "text/plain": [
       "  company_name   latitude   longitude\n",
       "0         Kyte  37.788482 -122.409173\n",
       "1      Ustream  37.392936 -122.079480\n",
       "2    Revision3  37.757758 -122.388243\n",
       "3       CastTV  37.780716 -122.393913\n",
       "4       blinkx  37.793819 -122.395089"
      ]
     },
     "execution_count": 26,
     "metadata": {},
     "output_type": "execute_result"
    }
   ],
   "source": [
    "companies_data_sf.reset_index(drop=True, inplace=True)\n",
    "companies_data_sf.head()"
   ]
  },
  {
   "cell_type": "code",
   "execution_count": 27,
   "metadata": {},
   "outputs": [
    {
     "data": {
      "text/plain": [
       "company_name     0\n",
       "latitude        19\n",
       "longitude       19\n",
       "dtype: int64"
      ]
     },
     "execution_count": 27,
     "metadata": {},
     "output_type": "execute_result"
    }
   ],
   "source": [
    "companies_data_sf.isna().sum()"
   ]
  },
  {
   "cell_type": "code",
   "execution_count": 28,
   "metadata": {},
   "outputs": [
    {
     "data": {
      "text/plain": [
       "(68, 3)"
      ]
     },
     "execution_count": 28,
     "metadata": {},
     "output_type": "execute_result"
    }
   ],
   "source": [
    "companies_data_sf.shape"
   ]
  },
  {
   "cell_type": "code",
   "execution_count": 29,
   "metadata": {},
   "outputs": [
    {
     "data": {
      "text/plain": [
       "company_name    0\n",
       "latitude        0\n",
       "longitude       0\n",
       "dtype: int64"
      ]
     },
     "execution_count": 29,
     "metadata": {},
     "output_type": "execute_result"
    }
   ],
   "source": [
    "companies_data_sf.dropna(axis = 0, inplace = True)\n",
    "companies_data_sf.isna().sum()"
   ]
  },
  {
   "cell_type": "code",
   "execution_count": 30,
   "metadata": {},
   "outputs": [
    {
     "data": {
      "text/plain": [
       "(49, 3)"
      ]
     },
     "execution_count": 30,
     "metadata": {},
     "output_type": "execute_result"
    }
   ],
   "source": [
    "companies_data_sf.reset_index(drop=True, inplace=True)\n",
    "companies_data_sf.shape"
   ]
  },
  {
   "cell_type": "markdown",
   "metadata": {},
   "source": [
    "###### Geolocating of Video Games Studios"
   ]
  },
  {
   "cell_type": "code",
   "execution_count": 31,
   "metadata": {},
   "outputs": [],
   "source": [
    "location = folium.Map(location = [37.781448, -122.405578], zoom_start = 13)\n",
    "lat_long = companies_data_sf[['latitude','longitude']]"
   ]
  },
  {
   "cell_type": "markdown",
   "metadata": {},
   "source": [
    "Generating a heatmap for visualization of the zone with more video games studios density"
   ]
  },
  {
   "cell_type": "code",
   "execution_count": 32,
   "metadata": {
    "scrolled": true
   },
   "outputs": [],
   "source": [
    "location = location.add_child(plugins.HeatMap(lat_long,radius=15))\n",
    "location.save('data/maps/heatmap.html')"
   ]
  },
  {
   "cell_type": "markdown",
   "metadata": {},
   "source": [
    "###### San Francisco Heatmap and San Francisco Subway Map\n",
    "<table><tr>\n",
    "    <td><img src='data/maps/heatmap.jpg' style='width: 400px;'/></td>\n",
    "    <td><img src='data/maps/sf_subway.jpg' style='width: 400px;'/></td>\n",
    "</tr></table>"
   ]
  },
  {
   "cell_type": "markdown",
   "metadata": {},
   "source": [
    "###### Interactive Heatmap:"
   ]
  },
  {
   "cell_type": "code",
   "execution_count": 33,
   "metadata": {
    "scrolled": false
   },
   "outputs": [
    {
     "data": {
      "text/html": [
       "<div style=\"width:100%;\"><div style=\"position:relative;width:100%;height:0;padding-bottom:60%;\"><span style=\"color:#565656\">Make this Notebook Trusted to load map: File -> Trust Notebook</span><iframe src=\"about:blank\" style=\"position:absolute;width:100%;height:100%;left:0;top:0;border:none !important;\" data-html=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 onload=\"this.contentDocument.open();this.contentDocument.write(atob(this.getAttribute('data-html')));this.contentDocument.close();\" allowfullscreen webkitallowfullscreen mozallowfullscreen></iframe></div></div>"
      ],
      "text/plain": [
       "<folium.folium.Map at 0x263b5795700>"
      ]
     },
     "execution_count": 33,
     "metadata": {},
     "output_type": "execute_result"
    }
   ],
   "source": [
    "location"
   ]
  },
  {
   "cell_type": "code",
   "execution_count": 34,
   "metadata": {
    "scrolled": true
   },
   "outputs": [],
   "source": [
    "marked = folium.Map(location = [37.781448, -122.405578], zoom_start = 13)\n",
    "for i in range(len(companies_data_sf)):\n",
    "    folium.Marker([companies_data_sf.loc[i,'latitude'], companies_data_sf.loc[i,'longitude']],\n",
    "                 tooltip = companies_data_sf.loc[i,'company_name'],\n",
    "                 popup = companies_data_sf.loc[i,'company_name']).add_to(marked)\n",
    "marked.save('data/maps/studios_map.html')"
   ]
  },
  {
   "cell_type": "markdown",
   "metadata": {},
   "source": [
    "###### Interactive Videogames Studios Map"
   ]
  },
  {
   "cell_type": "code",
   "execution_count": 35,
   "metadata": {
    "scrolled": true
   },
   "outputs": [
    {
     "data": {
      "text/html": [
       "<div style=\"width:100%;\"><div style=\"position:relative;width:100%;height:0;padding-bottom:60%;\"><span style=\"color:#565656\">Make this Notebook Trusted to load map: File -> Trust Notebook</span><iframe src=\"about:blank\" style=\"position:absolute;width:100%;height:100%;left:0;top:0;border:none !important;\" data-html=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 onload=\"this.contentDocument.open();this.contentDocument.write(atob(this.getAttribute('data-html')));this.contentDocument.close();\" allowfullscreen webkitallowfullscreen mozallowfullscreen></iframe></div></div>"
      ],
      "text/plain": [
       "<folium.folium.Map at 0x263b5726c10>"
      ]
     },
     "execution_count": 35,
     "metadata": {},
     "output_type": "execute_result"
    }
   ],
   "source": [
    "marked"
   ]
  },
  {
   "cell_type": "markdown",
   "metadata": {},
   "source": [
    "As we can observe in the heatmap the zone where the most video games studios are, is near subway and bus stations.\n",
    "The best place for the new office according with the client specifications is algon the 2nd Street near Montgomery Street or King St"
   ]
  },
  {
   "cell_type": "markdown",
   "metadata": {},
   "source": [
    "# Finding Available Offices In San Francisco"
   ]
  },
  {
   "cell_type": "code",
   "execution_count": 36,
   "metadata": {},
   "outputs": [],
   "source": [
    "from selenium import webdriver\n",
    "from selenium.webdriver.common.keys import Keys\n",
    "import time, requests\n",
    "from bs4 import BeautifulSoup as bs"
   ]
  },
  {
   "cell_type": "code",
   "execution_count": 91,
   "metadata": {},
   "outputs": [],
   "source": [
    "browser = webdriver.Chrome()\n",
    "browser.maximize_window()"
   ]
  },
  {
   "cell_type": "code",
   "execution_count": 92,
   "metadata": {},
   "outputs": [],
   "source": [
    "browser.get('https://www.instantoffices.com/en-us/us')\n",
    "time.sleep(2)\n",
    "search = browser.find_element_by_xpath('//*[@id=\"txtQuery\"]')\n",
    "time.sleep(2)\n",
    "search.send_keys('King St, San Francisco, CA, USA')\n",
    "search.send_keys(Keys.ENTER)\n",
    "time.sleep(3)\n",
    "click_offices = browser.find_element_by_xpath('//*[@id=\"listing-filters-panel\"]/div[1]/div[1]/div/a[1]')\n",
    "click_offices.click()\n",
    "time.sleep(1)\n",
    "size_selection = browser.find_element_by_xpath('//*[@id=\"listing-filters-panel\"]/div[1]/div[3]/button')\n",
    "size_selection.click()\n",
    "time.sleep(1)\n",
    "size_selection = browser.find_element_by_xpath('/html/body/div[1]/div/div[2]/div[1]/div/div[1]/div[3]/ul/li[4]/a')\n",
    "size_selection.click()\n",
    "time.sleep(1)"
   ]
  },
  {
   "cell_type": "code",
   "execution_count": 93,
   "metadata": {},
   "outputs": [],
   "source": [
    "currentURL = browser.current_url\n",
    "currentURL += '&page=%s'"
   ]
  },
  {
   "cell_type": "code",
   "execution_count": 94,
   "metadata": {},
   "outputs": [
    {
     "data": {
      "text/plain": [
       "'https://www.instantoffices.com/en-us/us/office-space/executive-suites?lat=37.775681&lng=-122.3946342&plid=Eh9LaW5nIFN0LCBTYW4gRnJhbmNpc2NvLCBDQSwgVVNBIi4qLAoUChIJEZYJptZ_j4AR_Yeq9A_Cz3gSFAoSCSEAaQBtmoWAEf-tdvBnE1BK&size=l&page=%s'"
      ]
     },
     "execution_count": 94,
     "metadata": {},
     "output_type": "execute_result"
    }
   ],
   "source": [
    "currentURL"
   ]
  },
  {
   "cell_type": "code",
   "execution_count": 95,
   "metadata": {},
   "outputs": [],
   "source": [
    "browser.close()"
   ]
  },
  {
   "cell_type": "code",
   "execution_count": 96,
   "metadata": {
    "scrolled": true
   },
   "outputs": [
    {
     "name": "stdout",
     "output_type": "stream",
     "text": [
      "<Response [200]>\n",
      "<Response [200]>\n",
      "<Response [200]>\n"
     ]
    },
    {
     "data": {
      "text/html": [
       "<div>\n",
       "<style scoped>\n",
       "    .dataframe tbody tr th:only-of-type {\n",
       "        vertical-align: middle;\n",
       "    }\n",
       "\n",
       "    .dataframe tbody tr th {\n",
       "        vertical-align: top;\n",
       "    }\n",
       "\n",
       "    .dataframe thead th {\n",
       "        text-align: right;\n",
       "    }\n",
       "</style>\n",
       "<table border=\"1\" class=\"dataframe\">\n",
       "  <thead>\n",
       "    <tr style=\"text-align: right;\">\n",
       "      <th></th>\n",
       "      <th>Address</th>\n",
       "      <th>Street</th>\n",
       "      <th>Postal Code</th>\n",
       "      <th>Occupancy</th>\n",
       "      <th>Payment / mth</th>\n",
       "    </tr>\n",
       "  </thead>\n",
       "  <tbody>\n",
       "    <tr>\n",
       "      <th>0</th>\n",
       "      <td>East Third Ave, San Mateo, 94401</td>\n",
       "      <td>East Third Ave</td>\n",
       "      <td>94401</td>\n",
       "      <td>1-99</td>\n",
       "      <td>920</td>\n",
       "    </tr>\n",
       "    <tr>\n",
       "      <th>1</th>\n",
       "      <td>5th Street, San Francisco, 94107</td>\n",
       "      <td>5th Street</td>\n",
       "      <td>94107</td>\n",
       "      <td>6-29</td>\n",
       "      <td>4,638</td>\n",
       "    </tr>\n",
       "    <tr>\n",
       "      <th>2</th>\n",
       "      <td>Bryant Street, San Francisco, 94107</td>\n",
       "      <td>Bryant Street</td>\n",
       "      <td>94107</td>\n",
       "      <td>1-100</td>\n",
       "      <td>1,300</td>\n",
       "    </tr>\n",
       "    <tr>\n",
       "      <th>3</th>\n",
       "      <td>Folsom St, San Francisco, 94107</td>\n",
       "      <td>Folsom St</td>\n",
       "      <td>94107</td>\n",
       "      <td>46-55</td>\n",
       "      <td>35,558</td>\n",
       "    </tr>\n",
       "    <tr>\n",
       "      <th>4</th>\n",
       "      <td>Folsom Street, Financial District, San Francis...</td>\n",
       "      <td>Folsom Street</td>\n",
       "      <td>94107</td>\n",
       "      <td>1-50</td>\n",
       "      <td>460</td>\n",
       "    </tr>\n",
       "    <tr>\n",
       "      <th>5</th>\n",
       "      <td>Federal St, San Francisco, 94107</td>\n",
       "      <td>Federal St</td>\n",
       "      <td>94107</td>\n",
       "      <td>9-50</td>\n",
       "      <td>7,389</td>\n",
       "    </tr>\n",
       "    <tr>\n",
       "      <th>6</th>\n",
       "      <td>Clementina St. , San Francisco, 94103</td>\n",
       "      <td>Clementina St.</td>\n",
       "      <td>94103</td>\n",
       "      <td>25-30</td>\n",
       "      <td>21,875</td>\n",
       "    </tr>\n",
       "    <tr>\n",
       "      <th>7</th>\n",
       "      <td>New Montgomery St., San Francisco, 94105</td>\n",
       "      <td>New Montgomery St.</td>\n",
       "      <td>94105</td>\n",
       "      <td>1-300</td>\n",
       "      <td>800</td>\n",
       "    </tr>\n",
       "    <tr>\n",
       "      <th>8</th>\n",
       "      <td>Tehama St., San Francisco, 94105</td>\n",
       "      <td>Tehama St.</td>\n",
       "      <td>94105</td>\n",
       "      <td>4-75</td>\n",
       "      <td>2,200</td>\n",
       "    </tr>\n",
       "    <tr>\n",
       "      <th>9</th>\n",
       "      <td>Natoma street, San Francisco, 94105</td>\n",
       "      <td>Natoma street</td>\n",
       "      <td>94105</td>\n",
       "      <td>1-40</td>\n",
       "      <td>443</td>\n",
       "    </tr>\n",
       "    <tr>\n",
       "      <th>10</th>\n",
       "      <td>New Montgomery Street, San Francisco, 94103</td>\n",
       "      <td>New Montgomery Street</td>\n",
       "      <td>94103</td>\n",
       "      <td>41-49</td>\n",
       "      <td>53,628</td>\n",
       "    </tr>\n",
       "    <tr>\n",
       "      <th>11</th>\n",
       "      <td>Market St. , San Francisco, 94130</td>\n",
       "      <td>Market St.</td>\n",
       "      <td>94130</td>\n",
       "      <td>5-22</td>\n",
       "      <td>2,665</td>\n",
       "    </tr>\n",
       "    <tr>\n",
       "      <th>12</th>\n",
       "      <td>Mission Street, San Francisco, 94105</td>\n",
       "      <td>Mission Street</td>\n",
       "      <td>94105</td>\n",
       "      <td>2-21</td>\n",
       "      <td>2,000</td>\n",
       "    </tr>\n",
       "    <tr>\n",
       "      <th>13</th>\n",
       "      <td>Mission Street, San Francisco, 94105</td>\n",
       "      <td>Mission Street</td>\n",
       "      <td>94105</td>\n",
       "      <td>1-100</td>\n",
       "      <td>1,350</td>\n",
       "    </tr>\n",
       "    <tr>\n",
       "      <th>14</th>\n",
       "      <td>Market Street, San Francisco, 94105</td>\n",
       "      <td>Market Street</td>\n",
       "      <td>94105</td>\n",
       "      <td>1-100</td>\n",
       "      <td>1,022</td>\n",
       "    </tr>\n",
       "    <tr>\n",
       "      <th>15</th>\n",
       "      <td>Market Street, San Francisco, 94104</td>\n",
       "      <td>Market Street</td>\n",
       "      <td>94104</td>\n",
       "      <td>4-30</td>\n",
       "      <td>3,625</td>\n",
       "    </tr>\n",
       "    <tr>\n",
       "      <th>16</th>\n",
       "      <td>Geary St, San Francisco, 94108</td>\n",
       "      <td>Geary St</td>\n",
       "      <td>94108</td>\n",
       "      <td>10-24</td>\n",
       "      <td>8,430</td>\n",
       "    </tr>\n",
       "    <tr>\n",
       "      <th>17</th>\n",
       "      <td>Montgomery Street, San Francisco, 94104</td>\n",
       "      <td>Montgomery Street</td>\n",
       "      <td>94104</td>\n",
       "      <td>1-50</td>\n",
       "      <td>813</td>\n",
       "    </tr>\n",
       "    <tr>\n",
       "      <th>18</th>\n",
       "      <td>Spear Street, San Francisco, 94105</td>\n",
       "      <td>Spear Street</td>\n",
       "      <td>94105</td>\n",
       "      <td>1-50</td>\n",
       "      <td>987</td>\n",
       "    </tr>\n",
       "    <tr>\n",
       "      <th>19</th>\n",
       "      <td>Bush Street, San Francisco, 94104</td>\n",
       "      <td>Bush Street</td>\n",
       "      <td>94104</td>\n",
       "      <td>4-33</td>\n",
       "      <td>4,598</td>\n",
       "    </tr>\n",
       "    <tr>\n",
       "      <th>20</th>\n",
       "      <td>Sutter Street, San Francisco, 94108</td>\n",
       "      <td>Sutter Street</td>\n",
       "      <td>94108</td>\n",
       "      <td>30-36</td>\n",
       "      <td>32,970</td>\n",
       "    </tr>\n",
       "    <tr>\n",
       "      <th>21</th>\n",
       "      <td>Montgomery Street, San Francisco, San Francisc...</td>\n",
       "      <td>Montgomery Street</td>\n",
       "      <td>94104</td>\n",
       "      <td>1-28</td>\n",
       "      <td>290</td>\n",
       "    </tr>\n",
       "    <tr>\n",
       "      <th>22</th>\n",
       "      <td>11th Street, San Francisco, 94103</td>\n",
       "      <td>11th Street</td>\n",
       "      <td>94103</td>\n",
       "      <td>1-100</td>\n",
       "      <td>595</td>\n",
       "    </tr>\n",
       "    <tr>\n",
       "      <th>23</th>\n",
       "      <td>Montgomery Street, San Francisco, 94111</td>\n",
       "      <td>Montgomery Street</td>\n",
       "      <td>94111</td>\n",
       "      <td>15-34</td>\n",
       "      <td>15,000</td>\n",
       "    </tr>\n",
       "    <tr>\n",
       "      <th>24</th>\n",
       "      <td>California Street, Financial District, San Fra...</td>\n",
       "      <td>California Street</td>\n",
       "      <td>94104</td>\n",
       "      <td>1-50</td>\n",
       "      <td>507</td>\n",
       "    </tr>\n",
       "    <tr>\n",
       "      <th>25</th>\n",
       "      <td>Embarcadero Center, Financial District, San Fr...</td>\n",
       "      <td>Embarcadero Center</td>\n",
       "      <td>94111</td>\n",
       "      <td>1-50</td>\n",
       "      <td>544</td>\n",
       "    </tr>\n",
       "    <tr>\n",
       "      <th>26</th>\n",
       "      <td>Commercial Street, San Francisco, 94111</td>\n",
       "      <td>Commercial Street</td>\n",
       "      <td>94111</td>\n",
       "      <td>30-36</td>\n",
       "      <td>35,220</td>\n",
       "    </tr>\n",
       "    <tr>\n",
       "      <th>27</th>\n",
       "      <td>Montgomery Street , San Francisco, 94111</td>\n",
       "      <td>Montgomery Street</td>\n",
       "      <td>94111</td>\n",
       "      <td>1-50</td>\n",
       "      <td>528</td>\n",
       "    </tr>\n",
       "    <tr>\n",
       "      <th>28</th>\n",
       "      <td>Mission St, San Francisco, 94103</td>\n",
       "      <td>Mission St</td>\n",
       "      <td>94103</td>\n",
       "      <td>1-100</td>\n",
       "      <td>580</td>\n",
       "    </tr>\n",
       "    <tr>\n",
       "      <th>29</th>\n",
       "      <td>Battery Street East , San Francisco, 94111</td>\n",
       "      <td>Battery Street East</td>\n",
       "      <td>94111</td>\n",
       "      <td>1-99</td>\n",
       "      <td>300</td>\n",
       "    </tr>\n",
       "    <tr>\n",
       "      <th>30</th>\n",
       "      <td>Montgomery Street, Telegraph Hill, San Francis...</td>\n",
       "      <td>Montgomery Street</td>\n",
       "      <td>94111</td>\n",
       "      <td>1-50</td>\n",
       "      <td>872</td>\n",
       "    </tr>\n",
       "    <tr>\n",
       "      <th>31</th>\n",
       "      <td>Montgomery St, San Francisco, 94111</td>\n",
       "      <td>Montgomery St</td>\n",
       "      <td>94111</td>\n",
       "      <td>1-100</td>\n",
       "      <td>805</td>\n",
       "    </tr>\n",
       "    <tr>\n",
       "      <th>32</th>\n",
       "      <td>S King Street, Seattle, 98104</td>\n",
       "      <td>S King Street</td>\n",
       "      <td>98104</td>\n",
       "      <td>1-30</td>\n",
       "      <td>300</td>\n",
       "    </tr>\n",
       "    <tr>\n",
       "      <th>33</th>\n",
       "      <td>Broadway, Oakland, 94607</td>\n",
       "      <td>Broadway</td>\n",
       "      <td>94607</td>\n",
       "      <td>1-50</td>\n",
       "      <td>600</td>\n",
       "    </tr>\n",
       "    <tr>\n",
       "      <th>34</th>\n",
       "      <td>Clay Street, Oakland, 94612</td>\n",
       "      <td>Clay Street</td>\n",
       "      <td>94612</td>\n",
       "      <td>1-100</td>\n",
       "      <td>1,200</td>\n",
       "    </tr>\n",
       "    <tr>\n",
       "      <th>35</th>\n",
       "      <td>Center Street, Berkeley, 94704</td>\n",
       "      <td>Center Street</td>\n",
       "      <td>94704</td>\n",
       "      <td>1-100</td>\n",
       "      <td>375</td>\n",
       "    </tr>\n",
       "    <tr>\n",
       "      <th>36</th>\n",
       "      <td>Airport Boulevard, Burlingame, 94010</td>\n",
       "      <td>Airport Boulevard</td>\n",
       "      <td>94010</td>\n",
       "      <td>2-50</td>\n",
       "      <td>600</td>\n",
       "    </tr>\n",
       "    <tr>\n",
       "      <th>37</th>\n",
       "      <td>California Boulevard, Walnut Creek, 94596</td>\n",
       "      <td>California Boulevard</td>\n",
       "      <td>94596</td>\n",
       "      <td>1-100</td>\n",
       "      <td>936</td>\n",
       "    </tr>\n",
       "    <tr>\n",
       "      <th>38</th>\n",
       "      <td>N. California Blvd, Walnut Creek, 94596</td>\n",
       "      <td>N. California Blvd</td>\n",
       "      <td>94596</td>\n",
       "      <td>1-100</td>\n",
       "      <td>899</td>\n",
       "    </tr>\n",
       "    <tr>\n",
       "      <th>39</th>\n",
       "      <td>Buskirk Street, Pleasant Hill, 94523</td>\n",
       "      <td>Buskirk Street</td>\n",
       "      <td>94523</td>\n",
       "      <td>1-100</td>\n",
       "      <td>600</td>\n",
       "    </tr>\n",
       "    <tr>\n",
       "      <th>40</th>\n",
       "      <td>Deerwood Road, San Ramon, San Ramon, 94583</td>\n",
       "      <td>Deerwood Road</td>\n",
       "      <td>94583</td>\n",
       "      <td>1-50</td>\n",
       "      <td>600</td>\n",
       "    </tr>\n",
       "    <tr>\n",
       "      <th>41</th>\n",
       "      <td>Jefferson Drive, Menlo Park, 94025</td>\n",
       "      <td>Jefferson Drive</td>\n",
       "      <td>94025</td>\n",
       "      <td>1-21</td>\n",
       "      <td>620</td>\n",
       "    </tr>\n",
       "    <tr>\n",
       "      <th>42</th>\n",
       "      <td>East Bayshore Road, Palo Alto, 94303</td>\n",
       "      <td>East Bayshore Road</td>\n",
       "      <td>94303</td>\n",
       "      <td>1-44</td>\n",
       "      <td>850</td>\n",
       "    </tr>\n",
       "    <tr>\n",
       "      <th>43</th>\n",
       "      <td>Murphy Avenue, Sunnyvale, 94086</td>\n",
       "      <td>Murphy Avenue</td>\n",
       "      <td>94086</td>\n",
       "      <td>1-100</td>\n",
       "      <td>1,250</td>\n",
       "    </tr>\n",
       "    <tr>\n",
       "      <th>44</th>\n",
       "      <td>N 1st Street, San Jose (California), 95134</td>\n",
       "      <td>N 1st Street</td>\n",
       "      <td>95134</td>\n",
       "      <td>1-99</td>\n",
       "      <td>380</td>\n",
       "    </tr>\n",
       "    <tr>\n",
       "      <th>45</th>\n",
       "      <td>Augustine Drive, Santa Clara, 95054</td>\n",
       "      <td>Augustine Drive</td>\n",
       "      <td>95054</td>\n",
       "      <td>1-99</td>\n",
       "      <td>510</td>\n",
       "    </tr>\n",
       "    <tr>\n",
       "      <th>46</th>\n",
       "      <td>McCarthy Boulelvard, Milpitas, 95035</td>\n",
       "      <td>McCarthy Boulelvard</td>\n",
       "      <td>95035</td>\n",
       "      <td>1-50</td>\n",
       "      <td>600</td>\n",
       "    </tr>\n",
       "    <tr>\n",
       "      <th>47</th>\n",
       "      <td>Stevens Creek Boulevard, Cupertino, 95014</td>\n",
       "      <td>Stevens Creek Boulevard</td>\n",
       "      <td>95014</td>\n",
       "      <td>1-50</td>\n",
       "      <td>698</td>\n",
       "    </tr>\n",
       "    <tr>\n",
       "      <th>48</th>\n",
       "      <td>Coleman Avenue, Santa Clara, 95050</td>\n",
       "      <td>Coleman Avenue</td>\n",
       "      <td>95050</td>\n",
       "      <td>1-100</td>\n",
       "      <td>500</td>\n",
       "    </tr>\n",
       "    <tr>\n",
       "      <th>49</th>\n",
       "      <td>North Market Street, San Jose, San Jose (Calif...</td>\n",
       "      <td>North Market Street</td>\n",
       "      <td>95113</td>\n",
       "      <td>2-50</td>\n",
       "      <td>1,400</td>\n",
       "    </tr>\n",
       "  </tbody>\n",
       "</table>\n",
       "</div>"
      ],
      "text/plain": [
       "                                              Address  \\\n",
       "0                    East Third Ave, San Mateo, 94401   \n",
       "1                    5th Street, San Francisco, 94107   \n",
       "2                 Bryant Street, San Francisco, 94107   \n",
       "3                     Folsom St, San Francisco, 94107   \n",
       "4   Folsom Street, Financial District, San Francis...   \n",
       "5                    Federal St, San Francisco, 94107   \n",
       "6               Clementina St. , San Francisco, 94103   \n",
       "7            New Montgomery St., San Francisco, 94105   \n",
       "8                    Tehama St., San Francisco, 94105   \n",
       "9                 Natoma street, San Francisco, 94105   \n",
       "10        New Montgomery Street, San Francisco, 94103   \n",
       "11                  Market St. , San Francisco, 94130   \n",
       "12               Mission Street, San Francisco, 94105   \n",
       "13               Mission Street, San Francisco, 94105   \n",
       "14                Market Street, San Francisco, 94105   \n",
       "15                Market Street, San Francisco, 94104   \n",
       "16                     Geary St, San Francisco, 94108   \n",
       "17            Montgomery Street, San Francisco, 94104   \n",
       "18                 Spear Street, San Francisco, 94105   \n",
       "19                  Bush Street, San Francisco, 94104   \n",
       "20                Sutter Street, San Francisco, 94108   \n",
       "21  Montgomery Street, San Francisco, San Francisc...   \n",
       "22                  11th Street, San Francisco, 94103   \n",
       "23            Montgomery Street, San Francisco, 94111   \n",
       "24  California Street, Financial District, San Fra...   \n",
       "25  Embarcadero Center, Financial District, San Fr...   \n",
       "26            Commercial Street, San Francisco, 94111   \n",
       "27           Montgomery Street , San Francisco, 94111   \n",
       "28                   Mission St, San Francisco, 94103   \n",
       "29         Battery Street East , San Francisco, 94111   \n",
       "30  Montgomery Street, Telegraph Hill, San Francis...   \n",
       "31                Montgomery St, San Francisco, 94111   \n",
       "32                      S King Street, Seattle, 98104   \n",
       "33                           Broadway, Oakland, 94607   \n",
       "34                        Clay Street, Oakland, 94612   \n",
       "35                     Center Street, Berkeley, 94704   \n",
       "36               Airport Boulevard, Burlingame, 94010   \n",
       "37          California Boulevard, Walnut Creek, 94596   \n",
       "38            N. California Blvd, Walnut Creek, 94596   \n",
       "39               Buskirk Street, Pleasant Hill, 94523   \n",
       "40         Deerwood Road, San Ramon, San Ramon, 94583   \n",
       "41                 Jefferson Drive, Menlo Park, 94025   \n",
       "42               East Bayshore Road, Palo Alto, 94303   \n",
       "43                    Murphy Avenue, Sunnyvale, 94086   \n",
       "44         N 1st Street, San Jose (California), 95134   \n",
       "45                Augustine Drive, Santa Clara, 95054   \n",
       "46               McCarthy Boulelvard, Milpitas, 95035   \n",
       "47          Stevens Creek Boulevard, Cupertino, 95014   \n",
       "48                 Coleman Avenue, Santa Clara, 95050   \n",
       "49  North Market Street, San Jose, San Jose (Calif...   \n",
       "\n",
       "                     Street Postal Code Occupancy Payment / mth  \n",
       "0            East Third Ave       94401      1-99           920  \n",
       "1                5th Street       94107      6-29         4,638  \n",
       "2             Bryant Street       94107     1-100         1,300  \n",
       "3                 Folsom St       94107     46-55        35,558  \n",
       "4             Folsom Street       94107      1-50           460  \n",
       "5                Federal St       94107      9-50         7,389  \n",
       "6           Clementina St.        94103     25-30        21,875  \n",
       "7        New Montgomery St.       94105     1-300           800  \n",
       "8                Tehama St.       94105      4-75         2,200  \n",
       "9             Natoma street       94105      1-40           443  \n",
       "10    New Montgomery Street       94103     41-49        53,628  \n",
       "11              Market St.        94130      5-22         2,665  \n",
       "12           Mission Street       94105      2-21         2,000  \n",
       "13           Mission Street       94105     1-100         1,350  \n",
       "14            Market Street       94105     1-100         1,022  \n",
       "15            Market Street       94104      4-30         3,625  \n",
       "16                 Geary St       94108     10-24         8,430  \n",
       "17        Montgomery Street       94104      1-50           813  \n",
       "18             Spear Street       94105      1-50           987  \n",
       "19              Bush Street       94104      4-33         4,598  \n",
       "20            Sutter Street       94108     30-36        32,970  \n",
       "21        Montgomery Street       94104      1-28           290  \n",
       "22              11th Street       94103     1-100           595  \n",
       "23        Montgomery Street       94111     15-34        15,000  \n",
       "24        California Street       94104      1-50           507  \n",
       "25       Embarcadero Center       94111      1-50           544  \n",
       "26        Commercial Street       94111     30-36        35,220  \n",
       "27       Montgomery Street        94111      1-50           528  \n",
       "28               Mission St       94103     1-100           580  \n",
       "29     Battery Street East        94111      1-99           300  \n",
       "30        Montgomery Street       94111      1-50           872  \n",
       "31            Montgomery St       94111     1-100           805  \n",
       "32            S King Street       98104      1-30           300  \n",
       "33                 Broadway       94607      1-50           600  \n",
       "34              Clay Street       94612     1-100         1,200  \n",
       "35            Center Street       94704     1-100           375  \n",
       "36        Airport Boulevard       94010      2-50           600  \n",
       "37     California Boulevard       94596     1-100           936  \n",
       "38       N. California Blvd       94596     1-100           899  \n",
       "39           Buskirk Street       94523     1-100           600  \n",
       "40            Deerwood Road       94583      1-50           600  \n",
       "41          Jefferson Drive       94025      1-21           620  \n",
       "42       East Bayshore Road       94303      1-44           850  \n",
       "43            Murphy Avenue       94086     1-100         1,250  \n",
       "44             N 1st Street       95134      1-99           380  \n",
       "45          Augustine Drive       95054      1-99           510  \n",
       "46      McCarthy Boulelvard       95035      1-50           600  \n",
       "47  Stevens Creek Boulevard       95014      1-50           698  \n",
       "48           Coleman Avenue       95050     1-100           500  \n",
       "49      North Market Street       95113      2-50         1,400  "
      ]
     },
     "execution_count": 96,
     "metadata": {},
     "output_type": "execute_result"
    }
   ],
   "source": [
    "pages_to_scrape = 3\n",
    "concat_df = pd.DataFrame()\n",
    "for i in range(1,pages_to_scrape+1):\n",
    "    url = currentURL % i\n",
    "    offices = requests.get(url, headers = {'User-Agent':'Chrome'})\n",
    "    print(offices)\n",
    "    offices = offices.content\n",
    "    soup = bs(offices, 'html.parser')\n",
    "    table = soup.find('div', {'class':'ListingLayout_listView__2QHKj ListingLayout_active__1sLz6'})\n",
    "    name = table.findAll('a',{'class':'Y_hY'})\n",
    "    info = table.findAll('div', {'class':'Z_h6 Z_h7'})\n",
    "    titles = [i.text for i in name]\n",
    "    description = [i.text for i in info]\n",
    "    street = [re.findall(r'^.*?(?=,)',i)[0] for i in titles]\n",
    "    cp = [re.findall(r'\\d+$',i)[0] for i in titles]\n",
    "    occupancy = [re.findall(r'\\d+\\-\\d+\\b',i)[0] for i in description]\n",
    "    payment = [re.findall(r'\\$(\\d+\\,?\\d+)',i)[0] for i in description]\n",
    "    dictionary = {'Address':titles,'Street':street,'Postal Code':cp,'Occupancy':occupancy, 'Payment / mth':payment}\n",
    "    offi_data = pd.DataFrame(dictionary)\n",
    "    concat_df = pd.concat([concat_df, offi_data])\n",
    "    time.sleep(3)\n",
    "    \n",
    "concat_df.reset_index(drop=True, inplace=True)    \n",
    "concat_df"
   ]
  },
  {
   "cell_type": "code",
   "execution_count": 54,
   "metadata": {},
   "outputs": [],
   "source": [
    "#concat_df.to_csv('data/offices_options.csv')\n",
    "offi_data = concat_df.copy()"
   ]
  },
  {
   "cell_type": "code",
   "execution_count": 55,
   "metadata": {},
   "outputs": [],
   "source": [
    "offi_data = offi_data[offi_data['Address'].str.contains('San Francisco')] #drop rows that don't contain San Francisco\n",
    "#offi_data = offi_data[~offi_data['Name'].str.contains('San Mateo')] #drop rows that contain San Mateo\n",
    "offi_data.reset_index(drop=True,inplace=True)"
   ]
  },
  {
   "cell_type": "code",
   "execution_count": 56,
   "metadata": {
    "scrolled": true
   },
   "outputs": [
    {
     "data": {
      "text/html": [
       "<div>\n",
       "<style scoped>\n",
       "    .dataframe tbody tr th:only-of-type {\n",
       "        vertical-align: middle;\n",
       "    }\n",
       "\n",
       "    .dataframe tbody tr th {\n",
       "        vertical-align: top;\n",
       "    }\n",
       "\n",
       "    .dataframe thead th {\n",
       "        text-align: right;\n",
       "    }\n",
       "</style>\n",
       "<table border=\"1\" class=\"dataframe\">\n",
       "  <thead>\n",
       "    <tr style=\"text-align: right;\">\n",
       "      <th></th>\n",
       "      <th>Address</th>\n",
       "      <th>Street</th>\n",
       "      <th>Postal Code</th>\n",
       "      <th>Occupancy</th>\n",
       "      <th>Payment / mth</th>\n",
       "    </tr>\n",
       "  </thead>\n",
       "  <tbody>\n",
       "    <tr>\n",
       "      <th>0</th>\n",
       "      <td>5th Street, San Francisco, 94107</td>\n",
       "      <td>5th Street</td>\n",
       "      <td>94107</td>\n",
       "      <td>6-29</td>\n",
       "      <td>4,638</td>\n",
       "    </tr>\n",
       "    <tr>\n",
       "      <th>1</th>\n",
       "      <td>Bryant Street, San Francisco, 94107</td>\n",
       "      <td>Bryant Street</td>\n",
       "      <td>94107</td>\n",
       "      <td>1-100</td>\n",
       "      <td>1,300</td>\n",
       "    </tr>\n",
       "    <tr>\n",
       "      <th>2</th>\n",
       "      <td>Folsom St, San Francisco, 94107</td>\n",
       "      <td>Folsom St</td>\n",
       "      <td>94107</td>\n",
       "      <td>46-55</td>\n",
       "      <td>35,558</td>\n",
       "    </tr>\n",
       "    <tr>\n",
       "      <th>3</th>\n",
       "      <td>Folsom Street, Financial District, San Francis...</td>\n",
       "      <td>Folsom Street</td>\n",
       "      <td>94107</td>\n",
       "      <td>1-50</td>\n",
       "      <td>460</td>\n",
       "    </tr>\n",
       "    <tr>\n",
       "      <th>4</th>\n",
       "      <td>Federal St, San Francisco, 94107</td>\n",
       "      <td>Federal St</td>\n",
       "      <td>94107</td>\n",
       "      <td>9-50</td>\n",
       "      <td>7,389</td>\n",
       "    </tr>\n",
       "    <tr>\n",
       "      <th>5</th>\n",
       "      <td>Clementina St. , San Francisco, 94103</td>\n",
       "      <td>Clementina St.</td>\n",
       "      <td>94103</td>\n",
       "      <td>25-30</td>\n",
       "      <td>21,875</td>\n",
       "    </tr>\n",
       "    <tr>\n",
       "      <th>6</th>\n",
       "      <td>New Montgomery St., San Francisco, 94105</td>\n",
       "      <td>New Montgomery St.</td>\n",
       "      <td>94105</td>\n",
       "      <td>1-300</td>\n",
       "      <td>800</td>\n",
       "    </tr>\n",
       "    <tr>\n",
       "      <th>7</th>\n",
       "      <td>Tehama St., San Francisco, 94105</td>\n",
       "      <td>Tehama St.</td>\n",
       "      <td>94105</td>\n",
       "      <td>4-75</td>\n",
       "      <td>2,200</td>\n",
       "    </tr>\n",
       "    <tr>\n",
       "      <th>8</th>\n",
       "      <td>Natoma street, San Francisco, 94105</td>\n",
       "      <td>Natoma street</td>\n",
       "      <td>94105</td>\n",
       "      <td>1-40</td>\n",
       "      <td>443</td>\n",
       "    </tr>\n",
       "    <tr>\n",
       "      <th>9</th>\n",
       "      <td>New Montgomery Street, San Francisco, 94103</td>\n",
       "      <td>New Montgomery Street</td>\n",
       "      <td>94103</td>\n",
       "      <td>41-49</td>\n",
       "      <td>53,628</td>\n",
       "    </tr>\n",
       "    <tr>\n",
       "      <th>10</th>\n",
       "      <td>Market St. , San Francisco, 94130</td>\n",
       "      <td>Market St.</td>\n",
       "      <td>94130</td>\n",
       "      <td>5-22</td>\n",
       "      <td>2,665</td>\n",
       "    </tr>\n",
       "    <tr>\n",
       "      <th>11</th>\n",
       "      <td>Mission Street, San Francisco, 94105</td>\n",
       "      <td>Mission Street</td>\n",
       "      <td>94105</td>\n",
       "      <td>2-21</td>\n",
       "      <td>2,000</td>\n",
       "    </tr>\n",
       "    <tr>\n",
       "      <th>12</th>\n",
       "      <td>Mission Street, San Francisco, 94105</td>\n",
       "      <td>Mission Street</td>\n",
       "      <td>94105</td>\n",
       "      <td>1-100</td>\n",
       "      <td>1,350</td>\n",
       "    </tr>\n",
       "    <tr>\n",
       "      <th>13</th>\n",
       "      <td>Market Street, San Francisco, 94105</td>\n",
       "      <td>Market Street</td>\n",
       "      <td>94105</td>\n",
       "      <td>1-100</td>\n",
       "      <td>1,022</td>\n",
       "    </tr>\n",
       "    <tr>\n",
       "      <th>14</th>\n",
       "      <td>Market Street, San Francisco, 94104</td>\n",
       "      <td>Market Street</td>\n",
       "      <td>94104</td>\n",
       "      <td>4-30</td>\n",
       "      <td>3,625</td>\n",
       "    </tr>\n",
       "    <tr>\n",
       "      <th>15</th>\n",
       "      <td>Geary St, San Francisco, 94108</td>\n",
       "      <td>Geary St</td>\n",
       "      <td>94108</td>\n",
       "      <td>10-24</td>\n",
       "      <td>8,430</td>\n",
       "    </tr>\n",
       "    <tr>\n",
       "      <th>16</th>\n",
       "      <td>Montgomery Street, San Francisco, 94104</td>\n",
       "      <td>Montgomery Street</td>\n",
       "      <td>94104</td>\n",
       "      <td>1-50</td>\n",
       "      <td>813</td>\n",
       "    </tr>\n",
       "    <tr>\n",
       "      <th>17</th>\n",
       "      <td>Spear Street, San Francisco, 94105</td>\n",
       "      <td>Spear Street</td>\n",
       "      <td>94105</td>\n",
       "      <td>1-50</td>\n",
       "      <td>987</td>\n",
       "    </tr>\n",
       "    <tr>\n",
       "      <th>18</th>\n",
       "      <td>Bush Street, San Francisco, 94104</td>\n",
       "      <td>Bush Street</td>\n",
       "      <td>94104</td>\n",
       "      <td>4-33</td>\n",
       "      <td>4,598</td>\n",
       "    </tr>\n",
       "    <tr>\n",
       "      <th>19</th>\n",
       "      <td>Sutter Street, San Francisco, 94108</td>\n",
       "      <td>Sutter Street</td>\n",
       "      <td>94108</td>\n",
       "      <td>30-36</td>\n",
       "      <td>32,970</td>\n",
       "    </tr>\n",
       "    <tr>\n",
       "      <th>20</th>\n",
       "      <td>Montgomery Street, San Francisco, San Francisc...</td>\n",
       "      <td>Montgomery Street</td>\n",
       "      <td>94104</td>\n",
       "      <td>1-28</td>\n",
       "      <td>290</td>\n",
       "    </tr>\n",
       "    <tr>\n",
       "      <th>21</th>\n",
       "      <td>11th Street, San Francisco, 94103</td>\n",
       "      <td>11th Street</td>\n",
       "      <td>94103</td>\n",
       "      <td>1-100</td>\n",
       "      <td>595</td>\n",
       "    </tr>\n",
       "    <tr>\n",
       "      <th>22</th>\n",
       "      <td>Montgomery Street, San Francisco, 94111</td>\n",
       "      <td>Montgomery Street</td>\n",
       "      <td>94111</td>\n",
       "      <td>15-34</td>\n",
       "      <td>15,000</td>\n",
       "    </tr>\n",
       "    <tr>\n",
       "      <th>23</th>\n",
       "      <td>California Street, Financial District, San Fra...</td>\n",
       "      <td>California Street</td>\n",
       "      <td>94104</td>\n",
       "      <td>1-50</td>\n",
       "      <td>507</td>\n",
       "    </tr>\n",
       "    <tr>\n",
       "      <th>24</th>\n",
       "      <td>Embarcadero Center, Financial District, San Fr...</td>\n",
       "      <td>Embarcadero Center</td>\n",
       "      <td>94111</td>\n",
       "      <td>1-50</td>\n",
       "      <td>544</td>\n",
       "    </tr>\n",
       "    <tr>\n",
       "      <th>25</th>\n",
       "      <td>Commercial Street, San Francisco, 94111</td>\n",
       "      <td>Commercial Street</td>\n",
       "      <td>94111</td>\n",
       "      <td>30-36</td>\n",
       "      <td>35,220</td>\n",
       "    </tr>\n",
       "    <tr>\n",
       "      <th>26</th>\n",
       "      <td>Montgomery Street , San Francisco, 94111</td>\n",
       "      <td>Montgomery Street</td>\n",
       "      <td>94111</td>\n",
       "      <td>1-50</td>\n",
       "      <td>528</td>\n",
       "    </tr>\n",
       "    <tr>\n",
       "      <th>27</th>\n",
       "      <td>Mission St, San Francisco, 94103</td>\n",
       "      <td>Mission St</td>\n",
       "      <td>94103</td>\n",
       "      <td>1-100</td>\n",
       "      <td>580</td>\n",
       "    </tr>\n",
       "    <tr>\n",
       "      <th>28</th>\n",
       "      <td>Battery Street East , San Francisco, 94111</td>\n",
       "      <td>Battery Street East</td>\n",
       "      <td>94111</td>\n",
       "      <td>1-99</td>\n",
       "      <td>300</td>\n",
       "    </tr>\n",
       "    <tr>\n",
       "      <th>29</th>\n",
       "      <td>Montgomery Street, Telegraph Hill, San Francis...</td>\n",
       "      <td>Montgomery Street</td>\n",
       "      <td>94111</td>\n",
       "      <td>1-50</td>\n",
       "      <td>872</td>\n",
       "    </tr>\n",
       "    <tr>\n",
       "      <th>30</th>\n",
       "      <td>Montgomery St, San Francisco, 94111</td>\n",
       "      <td>Montgomery St</td>\n",
       "      <td>94111</td>\n",
       "      <td>1-100</td>\n",
       "      <td>805</td>\n",
       "    </tr>\n",
       "  </tbody>\n",
       "</table>\n",
       "</div>"
      ],
      "text/plain": [
       "                                              Address                 Street  \\\n",
       "0                    5th Street, San Francisco, 94107             5th Street   \n",
       "1                 Bryant Street, San Francisco, 94107          Bryant Street   \n",
       "2                     Folsom St, San Francisco, 94107              Folsom St   \n",
       "3   Folsom Street, Financial District, San Francis...          Folsom Street   \n",
       "4                    Federal St, San Francisco, 94107             Federal St   \n",
       "5               Clementina St. , San Francisco, 94103        Clementina St.    \n",
       "6            New Montgomery St., San Francisco, 94105     New Montgomery St.   \n",
       "7                    Tehama St., San Francisco, 94105             Tehama St.   \n",
       "8                 Natoma street, San Francisco, 94105          Natoma street   \n",
       "9         New Montgomery Street, San Francisco, 94103  New Montgomery Street   \n",
       "10                  Market St. , San Francisco, 94130            Market St.    \n",
       "11               Mission Street, San Francisco, 94105         Mission Street   \n",
       "12               Mission Street, San Francisco, 94105         Mission Street   \n",
       "13                Market Street, San Francisco, 94105          Market Street   \n",
       "14                Market Street, San Francisco, 94104          Market Street   \n",
       "15                     Geary St, San Francisco, 94108               Geary St   \n",
       "16            Montgomery Street, San Francisco, 94104      Montgomery Street   \n",
       "17                 Spear Street, San Francisco, 94105           Spear Street   \n",
       "18                  Bush Street, San Francisco, 94104            Bush Street   \n",
       "19                Sutter Street, San Francisco, 94108          Sutter Street   \n",
       "20  Montgomery Street, San Francisco, San Francisc...      Montgomery Street   \n",
       "21                  11th Street, San Francisco, 94103            11th Street   \n",
       "22            Montgomery Street, San Francisco, 94111      Montgomery Street   \n",
       "23  California Street, Financial District, San Fra...      California Street   \n",
       "24  Embarcadero Center, Financial District, San Fr...     Embarcadero Center   \n",
       "25            Commercial Street, San Francisco, 94111      Commercial Street   \n",
       "26           Montgomery Street , San Francisco, 94111     Montgomery Street    \n",
       "27                   Mission St, San Francisco, 94103             Mission St   \n",
       "28         Battery Street East , San Francisco, 94111   Battery Street East    \n",
       "29  Montgomery Street, Telegraph Hill, San Francis...      Montgomery Street   \n",
       "30                Montgomery St, San Francisco, 94111          Montgomery St   \n",
       "\n",
       "   Postal Code Occupancy Payment / mth  \n",
       "0        94107      6-29         4,638  \n",
       "1        94107     1-100         1,300  \n",
       "2        94107     46-55        35,558  \n",
       "3        94107      1-50           460  \n",
       "4        94107      9-50         7,389  \n",
       "5        94103     25-30        21,875  \n",
       "6        94105     1-300           800  \n",
       "7        94105      4-75         2,200  \n",
       "8        94105      1-40           443  \n",
       "9        94103     41-49        53,628  \n",
       "10       94130      5-22         2,665  \n",
       "11       94105      2-21         2,000  \n",
       "12       94105     1-100         1,350  \n",
       "13       94105     1-100         1,022  \n",
       "14       94104      4-30         3,625  \n",
       "15       94108     10-24         8,430  \n",
       "16       94104      1-50           813  \n",
       "17       94105      1-50           987  \n",
       "18       94104      4-33         4,598  \n",
       "19       94108     30-36        32,970  \n",
       "20       94104      1-28           290  \n",
       "21       94103     1-100           595  \n",
       "22       94111     15-34        15,000  \n",
       "23       94104      1-50           507  \n",
       "24       94111      1-50           544  \n",
       "25       94111     30-36        35,220  \n",
       "26       94111      1-50           528  \n",
       "27       94103     1-100           580  \n",
       "28       94111      1-99           300  \n",
       "29       94111      1-50           872  \n",
       "30       94111     1-100           805  "
      ]
     },
     "execution_count": 56,
     "metadata": {},
     "output_type": "execute_result"
    }
   ],
   "source": [
    "offi_data.to_csv('data/offices_options.csv')\n",
    "offi_data"
   ]
  },
  {
   "cell_type": "code",
   "execution_count": 57,
   "metadata": {},
   "outputs": [],
   "source": [
    "#removing commas from Payment / mth\n",
    "offi_data['Payment / mth'] = offi_data['Payment / mth'].map(lambda x: x.replace(',',''))"
   ]
  },
  {
   "cell_type": "code",
   "execution_count": 58,
   "metadata": {},
   "outputs": [
    {
     "data": {
      "text/plain": [
       "Address          object\n",
       "Street           object\n",
       "Postal Code      object\n",
       "Occupancy        object\n",
       "Payment / mth    object\n",
       "dtype: object"
      ]
     },
     "execution_count": 58,
     "metadata": {},
     "output_type": "execute_result"
    }
   ],
   "source": [
    "offi_data.dtypes"
   ]
  },
  {
   "cell_type": "code",
   "execution_count": 59,
   "metadata": {},
   "outputs": [],
   "source": [
    "offi_data['Payment / mth'] = offi_data['Payment / mth'].astype(int)"
   ]
  },
  {
   "cell_type": "markdown",
   "metadata": {},
   "source": [
    "### Getting the latitude and longitude of the available offices"
   ]
  },
  {
   "cell_type": "code",
   "execution_count": 60,
   "metadata": {},
   "outputs": [],
   "source": [
    "from tqdm import tqdm"
   ]
  },
  {
   "cell_type": "code",
   "execution_count": 61,
   "metadata": {},
   "outputs": [],
   "source": [
    "browser = webdriver.Chrome()\n",
    "browser.maximize_window()"
   ]
  },
  {
   "cell_type": "code",
   "execution_count": 62,
   "metadata": {},
   "outputs": [],
   "source": [
    "#browser.get('https://www.latlong.net/convert-address-to-lat-long.html') #this site has limited amount of searches"
   ]
  },
  {
   "cell_type": "code",
   "execution_count": 63,
   "metadata": {},
   "outputs": [],
   "source": [
    "address = list(offi_data.loc[:,'Address'])\n",
    "latitude = []\n",
    "longitude = []"
   ]
  },
  {
   "cell_type": "code",
   "execution_count": 64,
   "metadata": {},
   "outputs": [],
   "source": [
    "# for i in tqdm(address):\n",
    "#     time.sleep(1)\n",
    "#     search = browser.find_element_by_xpath('//*[@id=\"cg2659\"]')\n",
    "#     time.sleep(3)\n",
    "#     search.clear()\n",
    "#     search.send_keys(address[5])\n",
    "#     search.send_keys(Keys.ENTER)\n",
    "#     time.sleep(5)\n",
    "#     lat_output = browser.find_element_by_xpath('//*[@id=\"lat\"]')\n",
    "#     lon_output = browser.find_element_by_xpath('//*[@id=\"lng\"]')\n",
    "#     latitude.append(lat_output.get_attribute('value'))\n",
    "#     longitude.append(lon_output.get_attribute('value'))"
   ]
  },
  {
   "cell_type": "code",
   "execution_count": 65,
   "metadata": {},
   "outputs": [],
   "source": [
    "browser.get('https://www.google.com.mx/maps/@19.3508682,-99.1345575,15z?hl=es-419')"
   ]
  },
  {
   "cell_type": "code",
   "execution_count": 66,
   "metadata": {},
   "outputs": [
    {
     "name": "stderr",
     "output_type": "stream",
     "text": [
      "100%|██████████| 31/31 [01:43<00:00,  3.33s/it]\n"
     ]
    }
   ],
   "source": [
    "for i in tqdm(address):\n",
    "    time.sleep(1)\n",
    "    search = browser.find_element_by_xpath('/html/body/jsl/div[3]/div[9]/div[3]/div[1]/div[1]/div[1]/div[2]/form/div/div[3]/div/input[1]')\n",
    "    time.sleep(1)\n",
    "    search.clear()\n",
    "    search.send_keys(i)\n",
    "    search.send_keys(Keys.ENTER)\n",
    "    time.sleep(1)\n",
    "    url = browser.current_url\n",
    "    lat_lon = re.findall(r'\\@(\\d+\\.\\d+\\,\\-?\\d+\\.\\d+)',url)[0].split(',')\n",
    "    latitude.append(lat_lon[0])\n",
    "    longitude.append(lat_lon[1])\n",
    "browser.close()"
   ]
  },
  {
   "cell_type": "code",
   "execution_count": 67,
   "metadata": {},
   "outputs": [],
   "source": [
    "lat_lon_dict = {'Address':address, 'Latitude':latitude, 'Longitude':longitude}\n",
    "lat_lon_df = pd.DataFrame(lat_lon_dict)"
   ]
  },
  {
   "cell_type": "code",
   "execution_count": 68,
   "metadata": {},
   "outputs": [],
   "source": [
    "final_data = offi_data.merge(lat_lon_df)"
   ]
  },
  {
   "cell_type": "code",
   "execution_count": 69,
   "metadata": {
    "scrolled": true
   },
   "outputs": [
    {
     "data": {
      "text/html": [
       "<div>\n",
       "<style scoped>\n",
       "    .dataframe tbody tr th:only-of-type {\n",
       "        vertical-align: middle;\n",
       "    }\n",
       "\n",
       "    .dataframe tbody tr th {\n",
       "        vertical-align: top;\n",
       "    }\n",
       "\n",
       "    .dataframe thead th {\n",
       "        text-align: right;\n",
       "    }\n",
       "</style>\n",
       "<table border=\"1\" class=\"dataframe\">\n",
       "  <thead>\n",
       "    <tr style=\"text-align: right;\">\n",
       "      <th></th>\n",
       "      <th>Address</th>\n",
       "      <th>Street</th>\n",
       "      <th>Postal Code</th>\n",
       "      <th>Occupancy</th>\n",
       "      <th>Payment / mth</th>\n",
       "      <th>Latitude</th>\n",
       "      <th>Longitude</th>\n",
       "    </tr>\n",
       "  </thead>\n",
       "  <tbody>\n",
       "    <tr>\n",
       "      <th>0</th>\n",
       "      <td>5th Street, San Francisco, 94107</td>\n",
       "      <td>5th Street</td>\n",
       "      <td>94107</td>\n",
       "      <td>6-29</td>\n",
       "      <td>4638</td>\n",
       "      <td>37.7785548</td>\n",
       "      <td>-122.4034342</td>\n",
       "    </tr>\n",
       "    <tr>\n",
       "      <th>1</th>\n",
       "      <td>Bryant Street, San Francisco, 94107</td>\n",
       "      <td>Bryant Street</td>\n",
       "      <td>94107</td>\n",
       "      <td>1-100</td>\n",
       "      <td>1300</td>\n",
       "      <td>37.7785548</td>\n",
       "      <td>-122.4034342</td>\n",
       "    </tr>\n",
       "    <tr>\n",
       "      <th>2</th>\n",
       "      <td>Folsom St, San Francisco, 94107</td>\n",
       "      <td>Folsom St</td>\n",
       "      <td>94107</td>\n",
       "      <td>46-55</td>\n",
       "      <td>35558</td>\n",
       "      <td>37.779634</td>\n",
       "      <td>-122.4002044</td>\n",
       "    </tr>\n",
       "    <tr>\n",
       "      <th>3</th>\n",
       "      <td>Folsom Street, Financial District, San Francis...</td>\n",
       "      <td>Folsom Street</td>\n",
       "      <td>94107</td>\n",
       "      <td>1-50</td>\n",
       "      <td>460</td>\n",
       "      <td>37.7821754</td>\n",
       "      <td>-122.4032172</td>\n",
       "    </tr>\n",
       "    <tr>\n",
       "      <th>4</th>\n",
       "      <td>Federal St, San Francisco, 94107</td>\n",
       "      <td>Federal St</td>\n",
       "      <td>94107</td>\n",
       "      <td>9-50</td>\n",
       "      <td>7389</td>\n",
       "      <td>37.7821754</td>\n",
       "      <td>-122.4032172</td>\n",
       "    </tr>\n",
       "    <tr>\n",
       "      <th>5</th>\n",
       "      <td>Clementina St. , San Francisco, 94103</td>\n",
       "      <td>Clementina St.</td>\n",
       "      <td>94103</td>\n",
       "      <td>25-30</td>\n",
       "      <td>21875</td>\n",
       "      <td>37.7835587</td>\n",
       "      <td>-122.3941324</td>\n",
       "    </tr>\n",
       "    <tr>\n",
       "      <th>6</th>\n",
       "      <td>New Montgomery St., San Francisco, 94105</td>\n",
       "      <td>New Montgomery St.</td>\n",
       "      <td>94105</td>\n",
       "      <td>1-300</td>\n",
       "      <td>800</td>\n",
       "      <td>37.7807105</td>\n",
       "      <td>-122.4061346</td>\n",
       "    </tr>\n",
       "    <tr>\n",
       "      <th>7</th>\n",
       "      <td>Tehama St., San Francisco, 94105</td>\n",
       "      <td>Tehama St.</td>\n",
       "      <td>94105</td>\n",
       "      <td>4-75</td>\n",
       "      <td>2200</td>\n",
       "      <td>37.7874603</td>\n",
       "      <td>-122.4027121</td>\n",
       "    </tr>\n",
       "    <tr>\n",
       "      <th>8</th>\n",
       "      <td>Natoma street, San Francisco, 94105</td>\n",
       "      <td>Natoma street</td>\n",
       "      <td>94105</td>\n",
       "      <td>1-40</td>\n",
       "      <td>443</td>\n",
       "      <td>37.7859977</td>\n",
       "      <td>-122.4003979</td>\n",
       "    </tr>\n",
       "    <tr>\n",
       "      <th>9</th>\n",
       "      <td>New Montgomery Street, San Francisco, 94103</td>\n",
       "      <td>New Montgomery Street</td>\n",
       "      <td>94103</td>\n",
       "      <td>41-49</td>\n",
       "      <td>53628</td>\n",
       "      <td>37.7875396</td>\n",
       "      <td>-122.400609</td>\n",
       "    </tr>\n",
       "    <tr>\n",
       "      <th>10</th>\n",
       "      <td>Market St. , San Francisco, 94130</td>\n",
       "      <td>Market St.</td>\n",
       "      <td>94130</td>\n",
       "      <td>5-22</td>\n",
       "      <td>2665</td>\n",
       "      <td>37.7873699</td>\n",
       "      <td>-122.4026192</td>\n",
       "    </tr>\n",
       "    <tr>\n",
       "      <th>11</th>\n",
       "      <td>Mission Street, San Francisco, 94105</td>\n",
       "      <td>Mission Street</td>\n",
       "      <td>94105</td>\n",
       "      <td>2-21</td>\n",
       "      <td>2000</td>\n",
       "      <td>37.7889907</td>\n",
       "      <td>-122.4007748</td>\n",
       "    </tr>\n",
       "    <tr>\n",
       "      <th>12</th>\n",
       "      <td>Mission Street, San Francisco, 94105</td>\n",
       "      <td>Mission Street</td>\n",
       "      <td>94105</td>\n",
       "      <td>2-21</td>\n",
       "      <td>2000</td>\n",
       "      <td>37.7889907</td>\n",
       "      <td>-122.4007748</td>\n",
       "    </tr>\n",
       "    <tr>\n",
       "      <th>13</th>\n",
       "      <td>Mission Street, San Francisco, 94105</td>\n",
       "      <td>Mission Street</td>\n",
       "      <td>94105</td>\n",
       "      <td>1-100</td>\n",
       "      <td>1350</td>\n",
       "      <td>37.7889907</td>\n",
       "      <td>-122.4007748</td>\n",
       "    </tr>\n",
       "    <tr>\n",
       "      <th>14</th>\n",
       "      <td>Mission Street, San Francisco, 94105</td>\n",
       "      <td>Mission Street</td>\n",
       "      <td>94105</td>\n",
       "      <td>1-100</td>\n",
       "      <td>1350</td>\n",
       "      <td>37.7889907</td>\n",
       "      <td>-122.4007748</td>\n",
       "    </tr>\n",
       "    <tr>\n",
       "      <th>15</th>\n",
       "      <td>Market Street, San Francisco, 94105</td>\n",
       "      <td>Market Street</td>\n",
       "      <td>94105</td>\n",
       "      <td>1-100</td>\n",
       "      <td>1022</td>\n",
       "      <td>37.7889907</td>\n",
       "      <td>-122.4007748</td>\n",
       "    </tr>\n",
       "    <tr>\n",
       "      <th>16</th>\n",
       "      <td>Market Street, San Francisco, 94104</td>\n",
       "      <td>Market Street</td>\n",
       "      <td>94104</td>\n",
       "      <td>4-30</td>\n",
       "      <td>3625</td>\n",
       "      <td>37.790728</td>\n",
       "      <td>-122.4017771</td>\n",
       "    </tr>\n",
       "    <tr>\n",
       "      <th>17</th>\n",
       "      <td>Geary St, San Francisco, 94108</td>\n",
       "      <td>Geary St</td>\n",
       "      <td>94108</td>\n",
       "      <td>10-24</td>\n",
       "      <td>8430</td>\n",
       "      <td>37.7885979</td>\n",
       "      <td>-122.404472</td>\n",
       "    </tr>\n",
       "    <tr>\n",
       "      <th>18</th>\n",
       "      <td>Montgomery Street, San Francisco, 94104</td>\n",
       "      <td>Montgomery Street</td>\n",
       "      <td>94104</td>\n",
       "      <td>1-50</td>\n",
       "      <td>813</td>\n",
       "      <td>37.7872661</td>\n",
       "      <td>-122.411257</td>\n",
       "    </tr>\n",
       "    <tr>\n",
       "      <th>19</th>\n",
       "      <td>Spear Street, San Francisco, 94105</td>\n",
       "      <td>Spear Street</td>\n",
       "      <td>94105</td>\n",
       "      <td>1-50</td>\n",
       "      <td>987</td>\n",
       "      <td>37.79183</td>\n",
       "      <td>-122.4047784</td>\n",
       "    </tr>\n",
       "    <tr>\n",
       "      <th>20</th>\n",
       "      <td>Bush Street, San Francisco, 94104</td>\n",
       "      <td>Bush Street</td>\n",
       "      <td>94104</td>\n",
       "      <td>4-33</td>\n",
       "      <td>4598</td>\n",
       "      <td>37.7908136</td>\n",
       "      <td>-122.394077</td>\n",
       "    </tr>\n",
       "    <tr>\n",
       "      <th>21</th>\n",
       "      <td>Sutter Street, San Francisco, 94108</td>\n",
       "      <td>Sutter Street</td>\n",
       "      <td>94108</td>\n",
       "      <td>30-36</td>\n",
       "      <td>32970</td>\n",
       "      <td>37.7911916</td>\n",
       "      <td>-122.4029712</td>\n",
       "    </tr>\n",
       "    <tr>\n",
       "      <th>22</th>\n",
       "      <td>Montgomery Street, San Francisco, San Francisc...</td>\n",
       "      <td>Montgomery Street</td>\n",
       "      <td>94104</td>\n",
       "      <td>1-28</td>\n",
       "      <td>290</td>\n",
       "      <td>37.7891778</td>\n",
       "      <td>-122.4112123</td>\n",
       "    </tr>\n",
       "    <tr>\n",
       "      <th>23</th>\n",
       "      <td>11th Street, San Francisco, 94103</td>\n",
       "      <td>11th Street</td>\n",
       "      <td>94103</td>\n",
       "      <td>1-100</td>\n",
       "      <td>595</td>\n",
       "      <td>37.7726508</td>\n",
       "      <td>-122.4172046</td>\n",
       "    </tr>\n",
       "    <tr>\n",
       "      <th>24</th>\n",
       "      <td>Montgomery Street, San Francisco, 94111</td>\n",
       "      <td>Montgomery Street</td>\n",
       "      <td>94111</td>\n",
       "      <td>15-34</td>\n",
       "      <td>15000</td>\n",
       "      <td>37.7980534</td>\n",
       "      <td>-122.4060321</td>\n",
       "    </tr>\n",
       "    <tr>\n",
       "      <th>25</th>\n",
       "      <td>California Street, Financial District, San Fra...</td>\n",
       "      <td>California Street</td>\n",
       "      <td>94104</td>\n",
       "      <td>1-50</td>\n",
       "      <td>507</td>\n",
       "      <td>37.7980534</td>\n",
       "      <td>-122.4060321</td>\n",
       "    </tr>\n",
       "    <tr>\n",
       "      <th>26</th>\n",
       "      <td>Embarcadero Center, Financial District, San Fr...</td>\n",
       "      <td>Embarcadero Center</td>\n",
       "      <td>94111</td>\n",
       "      <td>1-50</td>\n",
       "      <td>544</td>\n",
       "      <td>37.7930319</td>\n",
       "      <td>-122.4036806</td>\n",
       "    </tr>\n",
       "    <tr>\n",
       "      <th>27</th>\n",
       "      <td>Commercial Street, San Francisco, 94111</td>\n",
       "      <td>Commercial Street</td>\n",
       "      <td>94111</td>\n",
       "      <td>30-36</td>\n",
       "      <td>35220</td>\n",
       "      <td>37.7946083</td>\n",
       "      <td>-122.3987301</td>\n",
       "    </tr>\n",
       "    <tr>\n",
       "      <th>28</th>\n",
       "      <td>Montgomery Street , San Francisco, 94111</td>\n",
       "      <td>Montgomery Street</td>\n",
       "      <td>94111</td>\n",
       "      <td>1-50</td>\n",
       "      <td>528</td>\n",
       "      <td>37.7942914</td>\n",
       "      <td>-122.404886</td>\n",
       "    </tr>\n",
       "    <tr>\n",
       "      <th>29</th>\n",
       "      <td>Mission St, San Francisco, 94103</td>\n",
       "      <td>Mission St</td>\n",
       "      <td>94103</td>\n",
       "      <td>1-100</td>\n",
       "      <td>580</td>\n",
       "      <td>37.7783494</td>\n",
       "      <td>-122.4142472</td>\n",
       "    </tr>\n",
       "    <tr>\n",
       "      <th>30</th>\n",
       "      <td>Battery Street East , San Francisco, 94111</td>\n",
       "      <td>Battery Street East</td>\n",
       "      <td>94111</td>\n",
       "      <td>1-99</td>\n",
       "      <td>300</td>\n",
       "      <td>37.7974706</td>\n",
       "      <td>-122.4030252</td>\n",
       "    </tr>\n",
       "    <tr>\n",
       "      <th>31</th>\n",
       "      <td>Montgomery Street, Telegraph Hill, San Francis...</td>\n",
       "      <td>Montgomery Street</td>\n",
       "      <td>94111</td>\n",
       "      <td>1-50</td>\n",
       "      <td>872</td>\n",
       "      <td>37.7974706</td>\n",
       "      <td>-122.4030252</td>\n",
       "    </tr>\n",
       "    <tr>\n",
       "      <th>32</th>\n",
       "      <td>Montgomery St, San Francisco, 94111</td>\n",
       "      <td>Montgomery St</td>\n",
       "      <td>94111</td>\n",
       "      <td>1-100</td>\n",
       "      <td>805</td>\n",
       "      <td>37.8016902</td>\n",
       "      <td>-122.4068222</td>\n",
       "    </tr>\n",
       "  </tbody>\n",
       "</table>\n",
       "</div>"
      ],
      "text/plain": [
       "                                              Address                 Street  \\\n",
       "0                    5th Street, San Francisco, 94107             5th Street   \n",
       "1                 Bryant Street, San Francisco, 94107          Bryant Street   \n",
       "2                     Folsom St, San Francisco, 94107              Folsom St   \n",
       "3   Folsom Street, Financial District, San Francis...          Folsom Street   \n",
       "4                    Federal St, San Francisco, 94107             Federal St   \n",
       "5               Clementina St. , San Francisco, 94103        Clementina St.    \n",
       "6            New Montgomery St., San Francisco, 94105     New Montgomery St.   \n",
       "7                    Tehama St., San Francisco, 94105             Tehama St.   \n",
       "8                 Natoma street, San Francisco, 94105          Natoma street   \n",
       "9         New Montgomery Street, San Francisco, 94103  New Montgomery Street   \n",
       "10                  Market St. , San Francisco, 94130            Market St.    \n",
       "11               Mission Street, San Francisco, 94105         Mission Street   \n",
       "12               Mission Street, San Francisco, 94105         Mission Street   \n",
       "13               Mission Street, San Francisco, 94105         Mission Street   \n",
       "14               Mission Street, San Francisco, 94105         Mission Street   \n",
       "15                Market Street, San Francisco, 94105          Market Street   \n",
       "16                Market Street, San Francisco, 94104          Market Street   \n",
       "17                     Geary St, San Francisco, 94108               Geary St   \n",
       "18            Montgomery Street, San Francisco, 94104      Montgomery Street   \n",
       "19                 Spear Street, San Francisco, 94105           Spear Street   \n",
       "20                  Bush Street, San Francisco, 94104            Bush Street   \n",
       "21                Sutter Street, San Francisco, 94108          Sutter Street   \n",
       "22  Montgomery Street, San Francisco, San Francisc...      Montgomery Street   \n",
       "23                  11th Street, San Francisco, 94103            11th Street   \n",
       "24            Montgomery Street, San Francisco, 94111      Montgomery Street   \n",
       "25  California Street, Financial District, San Fra...      California Street   \n",
       "26  Embarcadero Center, Financial District, San Fr...     Embarcadero Center   \n",
       "27            Commercial Street, San Francisco, 94111      Commercial Street   \n",
       "28           Montgomery Street , San Francisco, 94111     Montgomery Street    \n",
       "29                   Mission St, San Francisco, 94103             Mission St   \n",
       "30         Battery Street East , San Francisco, 94111   Battery Street East    \n",
       "31  Montgomery Street, Telegraph Hill, San Francis...      Montgomery Street   \n",
       "32                Montgomery St, San Francisco, 94111          Montgomery St   \n",
       "\n",
       "   Postal Code Occupancy  Payment / mth    Latitude     Longitude  \n",
       "0        94107      6-29           4638  37.7785548  -122.4034342  \n",
       "1        94107     1-100           1300  37.7785548  -122.4034342  \n",
       "2        94107     46-55          35558   37.779634  -122.4002044  \n",
       "3        94107      1-50            460  37.7821754  -122.4032172  \n",
       "4        94107      9-50           7389  37.7821754  -122.4032172  \n",
       "5        94103     25-30          21875  37.7835587  -122.3941324  \n",
       "6        94105     1-300            800  37.7807105  -122.4061346  \n",
       "7        94105      4-75           2200  37.7874603  -122.4027121  \n",
       "8        94105      1-40            443  37.7859977  -122.4003979  \n",
       "9        94103     41-49          53628  37.7875396   -122.400609  \n",
       "10       94130      5-22           2665  37.7873699  -122.4026192  \n",
       "11       94105      2-21           2000  37.7889907  -122.4007748  \n",
       "12       94105      2-21           2000  37.7889907  -122.4007748  \n",
       "13       94105     1-100           1350  37.7889907  -122.4007748  \n",
       "14       94105     1-100           1350  37.7889907  -122.4007748  \n",
       "15       94105     1-100           1022  37.7889907  -122.4007748  \n",
       "16       94104      4-30           3625   37.790728  -122.4017771  \n",
       "17       94108     10-24           8430  37.7885979   -122.404472  \n",
       "18       94104      1-50            813  37.7872661   -122.411257  \n",
       "19       94105      1-50            987    37.79183  -122.4047784  \n",
       "20       94104      4-33           4598  37.7908136   -122.394077  \n",
       "21       94108     30-36          32970  37.7911916  -122.4029712  \n",
       "22       94104      1-28            290  37.7891778  -122.4112123  \n",
       "23       94103     1-100            595  37.7726508  -122.4172046  \n",
       "24       94111     15-34          15000  37.7980534  -122.4060321  \n",
       "25       94104      1-50            507  37.7980534  -122.4060321  \n",
       "26       94111      1-50            544  37.7930319  -122.4036806  \n",
       "27       94111     30-36          35220  37.7946083  -122.3987301  \n",
       "28       94111      1-50            528  37.7942914   -122.404886  \n",
       "29       94103     1-100            580  37.7783494  -122.4142472  \n",
       "30       94111      1-99            300  37.7974706  -122.4030252  \n",
       "31       94111      1-50            872  37.7974706  -122.4030252  \n",
       "32       94111     1-100            805  37.8016902  -122.4068222  "
      ]
     },
     "execution_count": 69,
     "metadata": {},
     "output_type": "execute_result"
    }
   ],
   "source": [
    "final_data"
   ]
  },
  {
   "cell_type": "code",
   "execution_count": 70,
   "metadata": {},
   "outputs": [],
   "source": [
    "final_data.to_csv('data/available_offices.csv')"
   ]
  },
  {
   "cell_type": "markdown",
   "metadata": {},
   "source": [
    "# Getting the location of the available offices"
   ]
  },
  {
   "cell_type": "code",
   "execution_count": 71,
   "metadata": {},
   "outputs": [],
   "source": [
    "available = folium.Map(location = [37.781448, -122.405578], zoom_start = 13)\n",
    "for i in range(len(final_data)):\n",
    "    popup_str = f\"\"\"Occupancy: {final_data.loc[i,'Occupancy']}\n",
    "                    Price: ${final_data.loc[i,'Payment / mth']}/mth\"\"\"\n",
    "    folium.Marker([final_data.loc[i,'Latitude'], final_data.loc[i,'Longitude']],\n",
    "                  tooltip = final_data.loc[i, 'Address'],\n",
    "                  icon=folium.Icon(color='red', icon_color='white', icon='usd'),\n",
    "                  popup = popup_str).add_to(available)\n",
    "    \n",
    "available.save('data/maps/available_offices.html')"
   ]
  },
  {
   "cell_type": "markdown",
   "metadata": {},
   "source": [
    "###### Interactive map "
   ]
  },
  {
   "cell_type": "code",
   "execution_count": 72,
   "metadata": {
    "scrolled": true
   },
   "outputs": [
    {
     "data": {
      "text/html": [
       "<div style=\"width:100%;\"><div style=\"position:relative;width:100%;height:0;padding-bottom:60%;\"><span style=\"color:#565656\">Make this Notebook Trusted to load map: File -> Trust Notebook</span><iframe src=\"about:blank\" style=\"position:absolute;width:100%;height:100%;left:0;top:0;border:none !important;\" data-html=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 onload=\"this.contentDocument.open();this.contentDocument.write(atob(this.getAttribute('data-html')));this.contentDocument.close();\" allowfullscreen webkitallowfullscreen mozallowfullscreen></iframe></div></div>"
      ],
      "text/plain": [
       "<folium.folium.Map at 0x263b623a370>"
      ]
     },
     "execution_count": 72,
     "metadata": {},
     "output_type": "execute_result"
    }
   ],
   "source": [
    "available"
   ]
  },
  {
   "cell_type": "code",
   "execution_count": 73,
   "metadata": {},
   "outputs": [],
   "source": [
    "lat_long = companies_data_sf[['latitude','longitude']]\n",
    "av_heatmap = available.add_child(plugins.HeatMap(lat_long,radius=20))\n",
    "av_heatmap.save('data/maps/available_offices_with_heatmap_of_video_games_studios.html')"
   ]
  },
  {
   "cell_type": "code",
   "execution_count": 74,
   "metadata": {
    "scrolled": false
   },
   "outputs": [
    {
     "data": {
      "text/html": [
       "<div style=\"width:100%;\"><div style=\"position:relative;width:100%;height:0;padding-bottom:60%;\"><span style=\"color:#565656\">Make this Notebook Trusted to load map: File -> Trust Notebook</span><iframe src=\"about:blank\" style=\"position:absolute;width:100%;height:100%;left:0;top:0;border:none !important;\" data-html=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 onload=\"this.contentDocument.open();this.contentDocument.write(atob(this.getAttribute('data-html')));this.contentDocument.close();\" allowfullscreen webkitallowfullscreen mozallowfullscreen></iframe></div></div>"
      ],
      "text/plain": [
       "<folium.folium.Map at 0x263b623a370>"
      ]
     },
     "execution_count": 74,
     "metadata": {},
     "output_type": "execute_result"
    }
   ],
   "source": [
    "av_heatmap"
   ]
  },
  {
   "cell_type": "code",
   "execution_count": 75,
   "metadata": {},
   "outputs": [],
   "source": [
    "av_vs_occupied = folium.Map(location = [37.781448, -122.405578], zoom_start = 13)\n",
    "\n",
    "for i in range(len(final_data)):\n",
    "    popup_str = f\"\"\"Occupancy: {final_data.loc[i,'Occupancy']}\n",
    "                    Price: ${final_data.loc[i,'Payment / mth']}/mth\"\"\"\n",
    "    folium.Marker([final_data.loc[i,'Latitude'], final_data.loc[i,'Longitude']],\n",
    "                  tooltip = final_data.loc[i, 'Address'],\n",
    "                  icon=folium.Icon(color='red', icon_color='white', icon='usd'),\n",
    "                  popup = popup_str).add_to(av_vs_occupied)\n",
    "    \n",
    "for i in range(len(companies_data_sf)):\n",
    "    folium.Marker([companies_data_sf.loc[i,'latitude'], companies_data_sf.loc[i,'longitude']],\n",
    "                  tooltip = companies_data_sf.loc[i,'company_name'],\n",
    "                  icon=folium.Icon(color='blue', icon_color='white'),\n",
    "                  popup = companies_data_sf.loc[i,'company_name']).add_to(av_vs_occupied)\n",
    "    \n",
    "av_vs_occupied.save('data/maps/available_vs_occupied.html')"
   ]
  },
  {
   "cell_type": "code",
   "execution_count": 76,
   "metadata": {
    "scrolled": true
   },
   "outputs": [
    {
     "data": {
      "text/html": [
       "<div style=\"width:100%;\"><div style=\"position:relative;width:100%;height:0;padding-bottom:60%;\"><span style=\"color:#565656\">Make this Notebook Trusted to load map: File -> Trust Notebook</span><iframe src=\"about:blank\" style=\"position:absolute;width:100%;height:100%;left:0;top:0;border:none !important;\" data-html=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 onload=\"this.contentDocument.open();this.contentDocument.write(atob(this.getAttribute('data-html')));this.contentDocument.close();\" allowfullscreen webkitallowfullscreen mozallowfullscreen></iframe></div></div>"
      ],
      "text/plain": [
       "<folium.folium.Map at 0x263b6388040>"
      ]
     },
     "execution_count": 76,
     "metadata": {},
     "output_type": "execute_result"
    }
   ],
   "source": [
    "av_vs_occupied"
   ]
  },
  {
   "cell_type": "code",
   "execution_count": 77,
   "metadata": {
    "scrolled": true
   },
   "outputs": [
    {
     "data": {
      "text/html": [
       "<div>\n",
       "<style scoped>\n",
       "    .dataframe tbody tr th:only-of-type {\n",
       "        vertical-align: middle;\n",
       "    }\n",
       "\n",
       "    .dataframe tbody tr th {\n",
       "        vertical-align: top;\n",
       "    }\n",
       "\n",
       "    .dataframe thead th {\n",
       "        text-align: right;\n",
       "    }\n",
       "</style>\n",
       "<table border=\"1\" class=\"dataframe\">\n",
       "  <thead>\n",
       "    <tr style=\"text-align: right;\">\n",
       "      <th></th>\n",
       "      <th>Address</th>\n",
       "      <th>Street</th>\n",
       "      <th>Postal Code</th>\n",
       "      <th>Occupancy</th>\n",
       "      <th>Payment / mth</th>\n",
       "      <th>Latitude</th>\n",
       "      <th>Longitude</th>\n",
       "    </tr>\n",
       "  </thead>\n",
       "  <tbody>\n",
       "    <tr>\n",
       "      <th>0</th>\n",
       "      <td>5th Street, San Francisco, 94107</td>\n",
       "      <td>5th Street</td>\n",
       "      <td>94107</td>\n",
       "      <td>6-29</td>\n",
       "      <td>4638</td>\n",
       "      <td>37.7785548</td>\n",
       "      <td>-122.4034342</td>\n",
       "    </tr>\n",
       "    <tr>\n",
       "      <th>1</th>\n",
       "      <td>Bryant Street, San Francisco, 94107</td>\n",
       "      <td>Bryant Street</td>\n",
       "      <td>94107</td>\n",
       "      <td>1-100</td>\n",
       "      <td>1300</td>\n",
       "      <td>37.7785548</td>\n",
       "      <td>-122.4034342</td>\n",
       "    </tr>\n",
       "    <tr>\n",
       "      <th>2</th>\n",
       "      <td>Folsom St, San Francisco, 94107</td>\n",
       "      <td>Folsom St</td>\n",
       "      <td>94107</td>\n",
       "      <td>46-55</td>\n",
       "      <td>35558</td>\n",
       "      <td>37.779634</td>\n",
       "      <td>-122.4002044</td>\n",
       "    </tr>\n",
       "    <tr>\n",
       "      <th>3</th>\n",
       "      <td>Folsom Street, Financial District, San Francis...</td>\n",
       "      <td>Folsom Street</td>\n",
       "      <td>94107</td>\n",
       "      <td>1-50</td>\n",
       "      <td>460</td>\n",
       "      <td>37.7821754</td>\n",
       "      <td>-122.4032172</td>\n",
       "    </tr>\n",
       "    <tr>\n",
       "      <th>4</th>\n",
       "      <td>Federal St, San Francisco, 94107</td>\n",
       "      <td>Federal St</td>\n",
       "      <td>94107</td>\n",
       "      <td>9-50</td>\n",
       "      <td>7389</td>\n",
       "      <td>37.7821754</td>\n",
       "      <td>-122.4032172</td>\n",
       "    </tr>\n",
       "    <tr>\n",
       "      <th>5</th>\n",
       "      <td>Clementina St. , San Francisco, 94103</td>\n",
       "      <td>Clementina St.</td>\n",
       "      <td>94103</td>\n",
       "      <td>25-30</td>\n",
       "      <td>21875</td>\n",
       "      <td>37.7835587</td>\n",
       "      <td>-122.3941324</td>\n",
       "    </tr>\n",
       "    <tr>\n",
       "      <th>6</th>\n",
       "      <td>New Montgomery St., San Francisco, 94105</td>\n",
       "      <td>New Montgomery St.</td>\n",
       "      <td>94105</td>\n",
       "      <td>1-300</td>\n",
       "      <td>800</td>\n",
       "      <td>37.7807105</td>\n",
       "      <td>-122.4061346</td>\n",
       "    </tr>\n",
       "    <tr>\n",
       "      <th>7</th>\n",
       "      <td>Tehama St., San Francisco, 94105</td>\n",
       "      <td>Tehama St.</td>\n",
       "      <td>94105</td>\n",
       "      <td>4-75</td>\n",
       "      <td>2200</td>\n",
       "      <td>37.7874603</td>\n",
       "      <td>-122.4027121</td>\n",
       "    </tr>\n",
       "    <tr>\n",
       "      <th>8</th>\n",
       "      <td>Natoma street, San Francisco, 94105</td>\n",
       "      <td>Natoma street</td>\n",
       "      <td>94105</td>\n",
       "      <td>1-40</td>\n",
       "      <td>443</td>\n",
       "      <td>37.7859977</td>\n",
       "      <td>-122.4003979</td>\n",
       "    </tr>\n",
       "    <tr>\n",
       "      <th>9</th>\n",
       "      <td>New Montgomery Street, San Francisco, 94103</td>\n",
       "      <td>New Montgomery Street</td>\n",
       "      <td>94103</td>\n",
       "      <td>41-49</td>\n",
       "      <td>53628</td>\n",
       "      <td>37.7875396</td>\n",
       "      <td>-122.400609</td>\n",
       "    </tr>\n",
       "    <tr>\n",
       "      <th>10</th>\n",
       "      <td>Market St. , San Francisco, 94130</td>\n",
       "      <td>Market St.</td>\n",
       "      <td>94130</td>\n",
       "      <td>5-22</td>\n",
       "      <td>2665</td>\n",
       "      <td>37.7873699</td>\n",
       "      <td>-122.4026192</td>\n",
       "    </tr>\n",
       "    <tr>\n",
       "      <th>11</th>\n",
       "      <td>Mission Street, San Francisco, 94105</td>\n",
       "      <td>Mission Street</td>\n",
       "      <td>94105</td>\n",
       "      <td>2-21</td>\n",
       "      <td>2000</td>\n",
       "      <td>37.7889907</td>\n",
       "      <td>-122.4007748</td>\n",
       "    </tr>\n",
       "    <tr>\n",
       "      <th>12</th>\n",
       "      <td>Mission Street, San Francisco, 94105</td>\n",
       "      <td>Mission Street</td>\n",
       "      <td>94105</td>\n",
       "      <td>2-21</td>\n",
       "      <td>2000</td>\n",
       "      <td>37.7889907</td>\n",
       "      <td>-122.4007748</td>\n",
       "    </tr>\n",
       "    <tr>\n",
       "      <th>13</th>\n",
       "      <td>Mission Street, San Francisco, 94105</td>\n",
       "      <td>Mission Street</td>\n",
       "      <td>94105</td>\n",
       "      <td>1-100</td>\n",
       "      <td>1350</td>\n",
       "      <td>37.7889907</td>\n",
       "      <td>-122.4007748</td>\n",
       "    </tr>\n",
       "    <tr>\n",
       "      <th>14</th>\n",
       "      <td>Mission Street, San Francisco, 94105</td>\n",
       "      <td>Mission Street</td>\n",
       "      <td>94105</td>\n",
       "      <td>1-100</td>\n",
       "      <td>1350</td>\n",
       "      <td>37.7889907</td>\n",
       "      <td>-122.4007748</td>\n",
       "    </tr>\n",
       "    <tr>\n",
       "      <th>15</th>\n",
       "      <td>Market Street, San Francisco, 94105</td>\n",
       "      <td>Market Street</td>\n",
       "      <td>94105</td>\n",
       "      <td>1-100</td>\n",
       "      <td>1022</td>\n",
       "      <td>37.7889907</td>\n",
       "      <td>-122.4007748</td>\n",
       "    </tr>\n",
       "    <tr>\n",
       "      <th>16</th>\n",
       "      <td>Market Street, San Francisco, 94104</td>\n",
       "      <td>Market Street</td>\n",
       "      <td>94104</td>\n",
       "      <td>4-30</td>\n",
       "      <td>3625</td>\n",
       "      <td>37.790728</td>\n",
       "      <td>-122.4017771</td>\n",
       "    </tr>\n",
       "    <tr>\n",
       "      <th>17</th>\n",
       "      <td>Geary St, San Francisco, 94108</td>\n",
       "      <td>Geary St</td>\n",
       "      <td>94108</td>\n",
       "      <td>10-24</td>\n",
       "      <td>8430</td>\n",
       "      <td>37.7885979</td>\n",
       "      <td>-122.404472</td>\n",
       "    </tr>\n",
       "    <tr>\n",
       "      <th>18</th>\n",
       "      <td>Montgomery Street, San Francisco, 94104</td>\n",
       "      <td>Montgomery Street</td>\n",
       "      <td>94104</td>\n",
       "      <td>1-50</td>\n",
       "      <td>813</td>\n",
       "      <td>37.7872661</td>\n",
       "      <td>-122.411257</td>\n",
       "    </tr>\n",
       "    <tr>\n",
       "      <th>19</th>\n",
       "      <td>Spear Street, San Francisco, 94105</td>\n",
       "      <td>Spear Street</td>\n",
       "      <td>94105</td>\n",
       "      <td>1-50</td>\n",
       "      <td>987</td>\n",
       "      <td>37.79183</td>\n",
       "      <td>-122.4047784</td>\n",
       "    </tr>\n",
       "    <tr>\n",
       "      <th>20</th>\n",
       "      <td>Bush Street, San Francisco, 94104</td>\n",
       "      <td>Bush Street</td>\n",
       "      <td>94104</td>\n",
       "      <td>4-33</td>\n",
       "      <td>4598</td>\n",
       "      <td>37.7908136</td>\n",
       "      <td>-122.394077</td>\n",
       "    </tr>\n",
       "    <tr>\n",
       "      <th>21</th>\n",
       "      <td>Sutter Street, San Francisco, 94108</td>\n",
       "      <td>Sutter Street</td>\n",
       "      <td>94108</td>\n",
       "      <td>30-36</td>\n",
       "      <td>32970</td>\n",
       "      <td>37.7911916</td>\n",
       "      <td>-122.4029712</td>\n",
       "    </tr>\n",
       "    <tr>\n",
       "      <th>22</th>\n",
       "      <td>Montgomery Street, San Francisco, San Francisc...</td>\n",
       "      <td>Montgomery Street</td>\n",
       "      <td>94104</td>\n",
       "      <td>1-28</td>\n",
       "      <td>290</td>\n",
       "      <td>37.7891778</td>\n",
       "      <td>-122.4112123</td>\n",
       "    </tr>\n",
       "    <tr>\n",
       "      <th>23</th>\n",
       "      <td>11th Street, San Francisco, 94103</td>\n",
       "      <td>11th Street</td>\n",
       "      <td>94103</td>\n",
       "      <td>1-100</td>\n",
       "      <td>595</td>\n",
       "      <td>37.7726508</td>\n",
       "      <td>-122.4172046</td>\n",
       "    </tr>\n",
       "    <tr>\n",
       "      <th>24</th>\n",
       "      <td>Montgomery Street, San Francisco, 94111</td>\n",
       "      <td>Montgomery Street</td>\n",
       "      <td>94111</td>\n",
       "      <td>15-34</td>\n",
       "      <td>15000</td>\n",
       "      <td>37.7980534</td>\n",
       "      <td>-122.4060321</td>\n",
       "    </tr>\n",
       "    <tr>\n",
       "      <th>25</th>\n",
       "      <td>California Street, Financial District, San Fra...</td>\n",
       "      <td>California Street</td>\n",
       "      <td>94104</td>\n",
       "      <td>1-50</td>\n",
       "      <td>507</td>\n",
       "      <td>37.7980534</td>\n",
       "      <td>-122.4060321</td>\n",
       "    </tr>\n",
       "    <tr>\n",
       "      <th>26</th>\n",
       "      <td>Embarcadero Center, Financial District, San Fr...</td>\n",
       "      <td>Embarcadero Center</td>\n",
       "      <td>94111</td>\n",
       "      <td>1-50</td>\n",
       "      <td>544</td>\n",
       "      <td>37.7930319</td>\n",
       "      <td>-122.4036806</td>\n",
       "    </tr>\n",
       "    <tr>\n",
       "      <th>27</th>\n",
       "      <td>Commercial Street, San Francisco, 94111</td>\n",
       "      <td>Commercial Street</td>\n",
       "      <td>94111</td>\n",
       "      <td>30-36</td>\n",
       "      <td>35220</td>\n",
       "      <td>37.7946083</td>\n",
       "      <td>-122.3987301</td>\n",
       "    </tr>\n",
       "    <tr>\n",
       "      <th>28</th>\n",
       "      <td>Montgomery Street , San Francisco, 94111</td>\n",
       "      <td>Montgomery Street</td>\n",
       "      <td>94111</td>\n",
       "      <td>1-50</td>\n",
       "      <td>528</td>\n",
       "      <td>37.7942914</td>\n",
       "      <td>-122.404886</td>\n",
       "    </tr>\n",
       "    <tr>\n",
       "      <th>29</th>\n",
       "      <td>Mission St, San Francisco, 94103</td>\n",
       "      <td>Mission St</td>\n",
       "      <td>94103</td>\n",
       "      <td>1-100</td>\n",
       "      <td>580</td>\n",
       "      <td>37.7783494</td>\n",
       "      <td>-122.4142472</td>\n",
       "    </tr>\n",
       "    <tr>\n",
       "      <th>30</th>\n",
       "      <td>Battery Street East , San Francisco, 94111</td>\n",
       "      <td>Battery Street East</td>\n",
       "      <td>94111</td>\n",
       "      <td>1-99</td>\n",
       "      <td>300</td>\n",
       "      <td>37.7974706</td>\n",
       "      <td>-122.4030252</td>\n",
       "    </tr>\n",
       "    <tr>\n",
       "      <th>31</th>\n",
       "      <td>Montgomery Street, Telegraph Hill, San Francis...</td>\n",
       "      <td>Montgomery Street</td>\n",
       "      <td>94111</td>\n",
       "      <td>1-50</td>\n",
       "      <td>872</td>\n",
       "      <td>37.7974706</td>\n",
       "      <td>-122.4030252</td>\n",
       "    </tr>\n",
       "    <tr>\n",
       "      <th>32</th>\n",
       "      <td>Montgomery St, San Francisco, 94111</td>\n",
       "      <td>Montgomery St</td>\n",
       "      <td>94111</td>\n",
       "      <td>1-100</td>\n",
       "      <td>805</td>\n",
       "      <td>37.8016902</td>\n",
       "      <td>-122.4068222</td>\n",
       "    </tr>\n",
       "  </tbody>\n",
       "</table>\n",
       "</div>"
      ],
      "text/plain": [
       "                                              Address                 Street  \\\n",
       "0                    5th Street, San Francisco, 94107             5th Street   \n",
       "1                 Bryant Street, San Francisco, 94107          Bryant Street   \n",
       "2                     Folsom St, San Francisco, 94107              Folsom St   \n",
       "3   Folsom Street, Financial District, San Francis...          Folsom Street   \n",
       "4                    Federal St, San Francisco, 94107             Federal St   \n",
       "5               Clementina St. , San Francisco, 94103        Clementina St.    \n",
       "6            New Montgomery St., San Francisco, 94105     New Montgomery St.   \n",
       "7                    Tehama St., San Francisco, 94105             Tehama St.   \n",
       "8                 Natoma street, San Francisco, 94105          Natoma street   \n",
       "9         New Montgomery Street, San Francisco, 94103  New Montgomery Street   \n",
       "10                  Market St. , San Francisco, 94130            Market St.    \n",
       "11               Mission Street, San Francisco, 94105         Mission Street   \n",
       "12               Mission Street, San Francisco, 94105         Mission Street   \n",
       "13               Mission Street, San Francisco, 94105         Mission Street   \n",
       "14               Mission Street, San Francisco, 94105         Mission Street   \n",
       "15                Market Street, San Francisco, 94105          Market Street   \n",
       "16                Market Street, San Francisco, 94104          Market Street   \n",
       "17                     Geary St, San Francisco, 94108               Geary St   \n",
       "18            Montgomery Street, San Francisco, 94104      Montgomery Street   \n",
       "19                 Spear Street, San Francisco, 94105           Spear Street   \n",
       "20                  Bush Street, San Francisco, 94104            Bush Street   \n",
       "21                Sutter Street, San Francisco, 94108          Sutter Street   \n",
       "22  Montgomery Street, San Francisco, San Francisc...      Montgomery Street   \n",
       "23                  11th Street, San Francisco, 94103            11th Street   \n",
       "24            Montgomery Street, San Francisco, 94111      Montgomery Street   \n",
       "25  California Street, Financial District, San Fra...      California Street   \n",
       "26  Embarcadero Center, Financial District, San Fr...     Embarcadero Center   \n",
       "27            Commercial Street, San Francisco, 94111      Commercial Street   \n",
       "28           Montgomery Street , San Francisco, 94111     Montgomery Street    \n",
       "29                   Mission St, San Francisco, 94103             Mission St   \n",
       "30         Battery Street East , San Francisco, 94111   Battery Street East    \n",
       "31  Montgomery Street, Telegraph Hill, San Francis...      Montgomery Street   \n",
       "32                Montgomery St, San Francisco, 94111          Montgomery St   \n",
       "\n",
       "   Postal Code Occupancy  Payment / mth    Latitude     Longitude  \n",
       "0        94107      6-29           4638  37.7785548  -122.4034342  \n",
       "1        94107     1-100           1300  37.7785548  -122.4034342  \n",
       "2        94107     46-55          35558   37.779634  -122.4002044  \n",
       "3        94107      1-50            460  37.7821754  -122.4032172  \n",
       "4        94107      9-50           7389  37.7821754  -122.4032172  \n",
       "5        94103     25-30          21875  37.7835587  -122.3941324  \n",
       "6        94105     1-300            800  37.7807105  -122.4061346  \n",
       "7        94105      4-75           2200  37.7874603  -122.4027121  \n",
       "8        94105      1-40            443  37.7859977  -122.4003979  \n",
       "9        94103     41-49          53628  37.7875396   -122.400609  \n",
       "10       94130      5-22           2665  37.7873699  -122.4026192  \n",
       "11       94105      2-21           2000  37.7889907  -122.4007748  \n",
       "12       94105      2-21           2000  37.7889907  -122.4007748  \n",
       "13       94105     1-100           1350  37.7889907  -122.4007748  \n",
       "14       94105     1-100           1350  37.7889907  -122.4007748  \n",
       "15       94105     1-100           1022  37.7889907  -122.4007748  \n",
       "16       94104      4-30           3625   37.790728  -122.4017771  \n",
       "17       94108     10-24           8430  37.7885979   -122.404472  \n",
       "18       94104      1-50            813  37.7872661   -122.411257  \n",
       "19       94105      1-50            987    37.79183  -122.4047784  \n",
       "20       94104      4-33           4598  37.7908136   -122.394077  \n",
       "21       94108     30-36          32970  37.7911916  -122.4029712  \n",
       "22       94104      1-28            290  37.7891778  -122.4112123  \n",
       "23       94103     1-100            595  37.7726508  -122.4172046  \n",
       "24       94111     15-34          15000  37.7980534  -122.4060321  \n",
       "25       94104      1-50            507  37.7980534  -122.4060321  \n",
       "26       94111      1-50            544  37.7930319  -122.4036806  \n",
       "27       94111     30-36          35220  37.7946083  -122.3987301  \n",
       "28       94111      1-50            528  37.7942914   -122.404886  \n",
       "29       94103     1-100            580  37.7783494  -122.4142472  \n",
       "30       94111      1-99            300  37.7974706  -122.4030252  \n",
       "31       94111      1-50            872  37.7974706  -122.4030252  \n",
       "32       94111     1-100            805  37.8016902  -122.4068222  "
      ]
     },
     "execution_count": 77,
     "metadata": {},
     "output_type": "execute_result"
    }
   ],
   "source": [
    "final_data"
   ]
  },
  {
   "cell_type": "markdown",
   "metadata": {},
   "source": [
    "###### Price breakdown by capacity and location"
   ]
  },
  {
   "cell_type": "code",
   "execution_count": 78,
   "metadata": {},
   "outputs": [
    {
     "data": {
      "text/html": [
       "<div>\n",
       "<style scoped>\n",
       "    .dataframe tbody tr th:only-of-type {\n",
       "        vertical-align: middle;\n",
       "    }\n",
       "\n",
       "    .dataframe tbody tr th {\n",
       "        vertical-align: top;\n",
       "    }\n",
       "\n",
       "    .dataframe thead th {\n",
       "        text-align: right;\n",
       "    }\n",
       "</style>\n",
       "<table border=\"1\" class=\"dataframe\">\n",
       "  <thead>\n",
       "    <tr style=\"text-align: right;\">\n",
       "      <th></th>\n",
       "      <th></th>\n",
       "      <th>Payment / mth</th>\n",
       "    </tr>\n",
       "    <tr>\n",
       "      <th>Street</th>\n",
       "      <th>Occupancy</th>\n",
       "      <th></th>\n",
       "    </tr>\n",
       "  </thead>\n",
       "  <tbody>\n",
       "    <tr>\n",
       "      <th>11th Street</th>\n",
       "      <th>1-100</th>\n",
       "      <td>595.0</td>\n",
       "    </tr>\n",
       "    <tr>\n",
       "      <th>5th Street</th>\n",
       "      <th>6-29</th>\n",
       "      <td>4638.0</td>\n",
       "    </tr>\n",
       "    <tr>\n",
       "      <th>Battery Street East</th>\n",
       "      <th>1-99</th>\n",
       "      <td>300.0</td>\n",
       "    </tr>\n",
       "    <tr>\n",
       "      <th>Bryant Street</th>\n",
       "      <th>1-100</th>\n",
       "      <td>1300.0</td>\n",
       "    </tr>\n",
       "    <tr>\n",
       "      <th>Bush Street</th>\n",
       "      <th>4-33</th>\n",
       "      <td>4598.0</td>\n",
       "    </tr>\n",
       "    <tr>\n",
       "      <th>California Street</th>\n",
       "      <th>1-50</th>\n",
       "      <td>507.0</td>\n",
       "    </tr>\n",
       "    <tr>\n",
       "      <th>Clementina St.</th>\n",
       "      <th>25-30</th>\n",
       "      <td>21875.0</td>\n",
       "    </tr>\n",
       "    <tr>\n",
       "      <th>Commercial Street</th>\n",
       "      <th>30-36</th>\n",
       "      <td>35220.0</td>\n",
       "    </tr>\n",
       "    <tr>\n",
       "      <th>Embarcadero Center</th>\n",
       "      <th>1-50</th>\n",
       "      <td>544.0</td>\n",
       "    </tr>\n",
       "    <tr>\n",
       "      <th>Federal St</th>\n",
       "      <th>9-50</th>\n",
       "      <td>7389.0</td>\n",
       "    </tr>\n",
       "    <tr>\n",
       "      <th>Folsom St</th>\n",
       "      <th>46-55</th>\n",
       "      <td>35558.0</td>\n",
       "    </tr>\n",
       "    <tr>\n",
       "      <th>Folsom Street</th>\n",
       "      <th>1-50</th>\n",
       "      <td>460.0</td>\n",
       "    </tr>\n",
       "    <tr>\n",
       "      <th>Geary St</th>\n",
       "      <th>10-24</th>\n",
       "      <td>8430.0</td>\n",
       "    </tr>\n",
       "    <tr>\n",
       "      <th>Market St.</th>\n",
       "      <th>5-22</th>\n",
       "      <td>2665.0</td>\n",
       "    </tr>\n",
       "    <tr>\n",
       "      <th rowspan=\"2\" valign=\"top\">Market Street</th>\n",
       "      <th>1-100</th>\n",
       "      <td>1022.0</td>\n",
       "    </tr>\n",
       "    <tr>\n",
       "      <th>4-30</th>\n",
       "      <td>3625.0</td>\n",
       "    </tr>\n",
       "    <tr>\n",
       "      <th>Mission St</th>\n",
       "      <th>1-100</th>\n",
       "      <td>580.0</td>\n",
       "    </tr>\n",
       "    <tr>\n",
       "      <th rowspan=\"2\" valign=\"top\">Mission Street</th>\n",
       "      <th>1-100</th>\n",
       "      <td>1350.0</td>\n",
       "    </tr>\n",
       "    <tr>\n",
       "      <th>2-21</th>\n",
       "      <td>2000.0</td>\n",
       "    </tr>\n",
       "    <tr>\n",
       "      <th>Montgomery St</th>\n",
       "      <th>1-100</th>\n",
       "      <td>805.0</td>\n",
       "    </tr>\n",
       "    <tr>\n",
       "      <th rowspan=\"3\" valign=\"top\">Montgomery Street</th>\n",
       "      <th>1-28</th>\n",
       "      <td>290.0</td>\n",
       "    </tr>\n",
       "    <tr>\n",
       "      <th>1-50</th>\n",
       "      <td>842.5</td>\n",
       "    </tr>\n",
       "    <tr>\n",
       "      <th>15-34</th>\n",
       "      <td>15000.0</td>\n",
       "    </tr>\n",
       "    <tr>\n",
       "      <th>Montgomery Street</th>\n",
       "      <th>1-50</th>\n",
       "      <td>528.0</td>\n",
       "    </tr>\n",
       "    <tr>\n",
       "      <th>Natoma street</th>\n",
       "      <th>1-40</th>\n",
       "      <td>443.0</td>\n",
       "    </tr>\n",
       "    <tr>\n",
       "      <th>New Montgomery St.</th>\n",
       "      <th>1-300</th>\n",
       "      <td>800.0</td>\n",
       "    </tr>\n",
       "    <tr>\n",
       "      <th>New Montgomery Street</th>\n",
       "      <th>41-49</th>\n",
       "      <td>53628.0</td>\n",
       "    </tr>\n",
       "    <tr>\n",
       "      <th>Spear Street</th>\n",
       "      <th>1-50</th>\n",
       "      <td>987.0</td>\n",
       "    </tr>\n",
       "    <tr>\n",
       "      <th>Sutter Street</th>\n",
       "      <th>30-36</th>\n",
       "      <td>32970.0</td>\n",
       "    </tr>\n",
       "    <tr>\n",
       "      <th>Tehama St.</th>\n",
       "      <th>4-75</th>\n",
       "      <td>2200.0</td>\n",
       "    </tr>\n",
       "  </tbody>\n",
       "</table>\n",
       "</div>"
      ],
      "text/plain": [
       "                                 Payment / mth\n",
       "Street                Occupancy               \n",
       "11th Street           1-100              595.0\n",
       "5th Street            6-29              4638.0\n",
       "Battery Street East   1-99               300.0\n",
       "Bryant Street         1-100             1300.0\n",
       "Bush Street           4-33              4598.0\n",
       "California Street     1-50               507.0\n",
       "Clementina St.        25-30            21875.0\n",
       "Commercial Street     30-36            35220.0\n",
       "Embarcadero Center    1-50               544.0\n",
       "Federal St            9-50              7389.0\n",
       "Folsom St             46-55            35558.0\n",
       "Folsom Street         1-50               460.0\n",
       "Geary St              10-24             8430.0\n",
       "Market St.            5-22              2665.0\n",
       "Market Street         1-100             1022.0\n",
       "                      4-30              3625.0\n",
       "Mission St            1-100              580.0\n",
       "Mission Street        1-100             1350.0\n",
       "                      2-21              2000.0\n",
       "Montgomery St         1-100              805.0\n",
       "Montgomery Street     1-28               290.0\n",
       "                      1-50               842.5\n",
       "                      15-34            15000.0\n",
       "Montgomery Street     1-50               528.0\n",
       "Natoma street         1-40               443.0\n",
       "New Montgomery St.    1-300              800.0\n",
       "New Montgomery Street 41-49            53628.0\n",
       "Spear Street          1-50               987.0\n",
       "Sutter Street         30-36            32970.0\n",
       "Tehama St.            4-75              2200.0"
      ]
     },
     "execution_count": 78,
     "metadata": {},
     "output_type": "execute_result"
    }
   ],
   "source": [
    "filtered_data = pd.pivot_table(final_data, index =['Street', 'Occupancy'], values='Payment / mth')\n",
    "filtered_data.to_csv('data/options_by_street.csv')\n",
    "filtered_data"
   ]
  },
  {
   "cell_type": "markdown",
   "metadata": {},
   "source": [
    "# Plotting retrived information"
   ]
  },
  {
   "cell_type": "code",
   "execution_count": 79,
   "metadata": {},
   "outputs": [
    {
     "data": {
      "text/html": [
       "        <script type=\"text/javascript\">\n",
       "        window.PlotlyConfig = {MathJaxConfig: 'local'};\n",
       "        if (window.MathJax) {MathJax.Hub.Config({SVG: {font: \"STIX-Web\"}});}\n",
       "        if (typeof require !== 'undefined') {\n",
       "        require.undef(\"plotly\");\n",
       "        requirejs.config({\n",
       "            paths: {\n",
       "                'plotly': ['https://cdn.plot.ly/plotly-latest.min']\n",
       "            }\n",
       "        });\n",
       "        require(['plotly'], function(Plotly) {\n",
       "            window._Plotly = Plotly;\n",
       "        });\n",
       "        }\n",
       "        </script>\n",
       "        "
      ]
     },
     "metadata": {},
     "output_type": "display_data"
    }
   ],
   "source": [
    "cf.go_offline()"
   ]
  },
  {
   "cell_type": "code",
   "execution_count": 80,
   "metadata": {},
   "outputs": [],
   "source": [
    "filter1 = final_data.groupby('Street').agg({'Payment / mth':np.mean}).sort_values('Payment / mth', ascending=True)"
   ]
  },
  {
   "cell_type": "code",
   "execution_count": 81,
   "metadata": {},
   "outputs": [
    {
     "data": {
      "application/vnd.plotly.v1+json": {
       "config": {
        "plotlyServerURL": "https://plot.ly"
       },
       "data": [
        {
         "alignmentgroup": "True",
         "hovertemplate": "variable=Payment / mth<br>value=%{x}<br>Street=%{y}<extra></extra>",
         "legendgroup": "Payment / mth",
         "marker": {
          "color": "#FF9900"
         },
         "name": "Payment / mth",
         "offsetgroup": "Payment / mth",
         "orientation": "h",
         "showlegend": true,
         "textposition": "auto",
         "type": "bar",
         "x": [
          300,
          443,
          460,
          507,
          528,
          544,
          580,
          595,
          800,
          805,
          987,
          1300,
          1675,
          2200,
          2323.5,
          2665,
          4243.75,
          4598,
          4638,
          7389,
          8430,
          21875,
          32970,
          35220,
          35558,
          53628
         ],
         "xaxis": "x",
         "y": [
          "Battery Street East ",
          "Natoma street",
          "Folsom Street",
          "California Street",
          "Montgomery Street ",
          "Embarcadero Center",
          "Mission St",
          "11th Street",
          "New Montgomery St.",
          "Montgomery St",
          "Spear Street",
          "Bryant Street",
          "Mission Street",
          "Tehama St.",
          "Market Street",
          "Market St. ",
          "Montgomery Street",
          "Bush Street",
          "5th Street",
          "Federal St",
          "Geary St",
          "Clementina St. ",
          "Sutter Street",
          "Commercial Street",
          "Folsom St",
          "New Montgomery Street"
         ],
         "yaxis": "y"
        }
       ],
       "layout": {
        "barmode": "relative",
        "legend": {
         "title": {
          "text": "variable"
         },
         "tracegroupgap": 0
        },
        "template": {
         "data": {
          "bar": [
           {
            "error_x": {
             "color": "#2a3f5f"
            },
            "error_y": {
             "color": "#2a3f5f"
            },
            "marker": {
             "line": {
              "color": "#E5ECF6",
              "width": 0.5
             }
            },
            "type": "bar"
           }
          ],
          "barpolar": [
           {
            "marker": {
             "line": {
              "color": "#E5ECF6",
              "width": 0.5
             }
            },
            "type": "barpolar"
           }
          ],
          "carpet": [
           {
            "aaxis": {
             "endlinecolor": "#2a3f5f",
             "gridcolor": "white",
             "linecolor": "white",
             "minorgridcolor": "white",
             "startlinecolor": "#2a3f5f"
            },
            "baxis": {
             "endlinecolor": "#2a3f5f",
             "gridcolor": "white",
             "linecolor": "white",
             "minorgridcolor": "white",
             "startlinecolor": "#2a3f5f"
            },
            "type": "carpet"
           }
          ],
          "choropleth": [
           {
            "colorbar": {
             "outlinewidth": 0,
             "ticks": ""
            },
            "type": "choropleth"
           }
          ],
          "contour": [
           {
            "colorbar": {
             "outlinewidth": 0,
             "ticks": ""
            },
            "colorscale": [
             [
              0,
              "#0d0887"
             ],
             [
              0.1111111111111111,
              "#46039f"
             ],
             [
              0.2222222222222222,
              "#7201a8"
             ],
             [
              0.3333333333333333,
              "#9c179e"
             ],
             [
              0.4444444444444444,
              "#bd3786"
             ],
             [
              0.5555555555555556,
              "#d8576b"
             ],
             [
              0.6666666666666666,
              "#ed7953"
             ],
             [
              0.7777777777777778,
              "#fb9f3a"
             ],
             [
              0.8888888888888888,
              "#fdca26"
             ],
             [
              1,
              "#f0f921"
             ]
            ],
            "type": "contour"
           }
          ],
          "contourcarpet": [
           {
            "colorbar": {
             "outlinewidth": 0,
             "ticks": ""
            },
            "type": "contourcarpet"
           }
          ],
          "heatmap": [
           {
            "colorbar": {
             "outlinewidth": 0,
             "ticks": ""
            },
            "colorscale": [
             [
              0,
              "#0d0887"
             ],
             [
              0.1111111111111111,
              "#46039f"
             ],
             [
              0.2222222222222222,
              "#7201a8"
             ],
             [
              0.3333333333333333,
              "#9c179e"
             ],
             [
              0.4444444444444444,
              "#bd3786"
             ],
             [
              0.5555555555555556,
              "#d8576b"
             ],
             [
              0.6666666666666666,
              "#ed7953"
             ],
             [
              0.7777777777777778,
              "#fb9f3a"
             ],
             [
              0.8888888888888888,
              "#fdca26"
             ],
             [
              1,
              "#f0f921"
             ]
            ],
            "type": "heatmap"
           }
          ],
          "heatmapgl": [
           {
            "colorbar": {
             "outlinewidth": 0,
             "ticks": ""
            },
            "colorscale": [
             [
              0,
              "#0d0887"
             ],
             [
              0.1111111111111111,
              "#46039f"
             ],
             [
              0.2222222222222222,
              "#7201a8"
             ],
             [
              0.3333333333333333,
              "#9c179e"
             ],
             [
              0.4444444444444444,
              "#bd3786"
             ],
             [
              0.5555555555555556,
              "#d8576b"
             ],
             [
              0.6666666666666666,
              "#ed7953"
             ],
             [
              0.7777777777777778,
              "#fb9f3a"
             ],
             [
              0.8888888888888888,
              "#fdca26"
             ],
             [
              1,
              "#f0f921"
             ]
            ],
            "type": "heatmapgl"
           }
          ],
          "histogram": [
           {
            "marker": {
             "colorbar": {
              "outlinewidth": 0,
              "ticks": ""
             }
            },
            "type": "histogram"
           }
          ],
          "histogram2d": [
           {
            "colorbar": {
             "outlinewidth": 0,
             "ticks": ""
            },
            "colorscale": [
             [
              0,
              "#0d0887"
             ],
             [
              0.1111111111111111,
              "#46039f"
             ],
             [
              0.2222222222222222,
              "#7201a8"
             ],
             [
              0.3333333333333333,
              "#9c179e"
             ],
             [
              0.4444444444444444,
              "#bd3786"
             ],
             [
              0.5555555555555556,
              "#d8576b"
             ],
             [
              0.6666666666666666,
              "#ed7953"
             ],
             [
              0.7777777777777778,
              "#fb9f3a"
             ],
             [
              0.8888888888888888,
              "#fdca26"
             ],
             [
              1,
              "#f0f921"
             ]
            ],
            "type": "histogram2d"
           }
          ],
          "histogram2dcontour": [
           {
            "colorbar": {
             "outlinewidth": 0,
             "ticks": ""
            },
            "colorscale": [
             [
              0,
              "#0d0887"
             ],
             [
              0.1111111111111111,
              "#46039f"
             ],
             [
              0.2222222222222222,
              "#7201a8"
             ],
             [
              0.3333333333333333,
              "#9c179e"
             ],
             [
              0.4444444444444444,
              "#bd3786"
             ],
             [
              0.5555555555555556,
              "#d8576b"
             ],
             [
              0.6666666666666666,
              "#ed7953"
             ],
             [
              0.7777777777777778,
              "#fb9f3a"
             ],
             [
              0.8888888888888888,
              "#fdca26"
             ],
             [
              1,
              "#f0f921"
             ]
            ],
            "type": "histogram2dcontour"
           }
          ],
          "mesh3d": [
           {
            "colorbar": {
             "outlinewidth": 0,
             "ticks": ""
            },
            "type": "mesh3d"
           }
          ],
          "parcoords": [
           {
            "line": {
             "colorbar": {
              "outlinewidth": 0,
              "ticks": ""
             }
            },
            "type": "parcoords"
           }
          ],
          "pie": [
           {
            "automargin": true,
            "type": "pie"
           }
          ],
          "scatter": [
           {
            "marker": {
             "colorbar": {
              "outlinewidth": 0,
              "ticks": ""
             }
            },
            "type": "scatter"
           }
          ],
          "scatter3d": [
           {
            "line": {
             "colorbar": {
              "outlinewidth": 0,
              "ticks": ""
             }
            },
            "marker": {
             "colorbar": {
              "outlinewidth": 0,
              "ticks": ""
             }
            },
            "type": "scatter3d"
           }
          ],
          "scattercarpet": [
           {
            "marker": {
             "colorbar": {
              "outlinewidth": 0,
              "ticks": ""
             }
            },
            "type": "scattercarpet"
           }
          ],
          "scattergeo": [
           {
            "marker": {
             "colorbar": {
              "outlinewidth": 0,
              "ticks": ""
             }
            },
            "type": "scattergeo"
           }
          ],
          "scattergl": [
           {
            "marker": {
             "colorbar": {
              "outlinewidth": 0,
              "ticks": ""
             }
            },
            "type": "scattergl"
           }
          ],
          "scattermapbox": [
           {
            "marker": {
             "colorbar": {
              "outlinewidth": 0,
              "ticks": ""
             }
            },
            "type": "scattermapbox"
           }
          ],
          "scatterpolar": [
           {
            "marker": {
             "colorbar": {
              "outlinewidth": 0,
              "ticks": ""
             }
            },
            "type": "scatterpolar"
           }
          ],
          "scatterpolargl": [
           {
            "marker": {
             "colorbar": {
              "outlinewidth": 0,
              "ticks": ""
             }
            },
            "type": "scatterpolargl"
           }
          ],
          "scatterternary": [
           {
            "marker": {
             "colorbar": {
              "outlinewidth": 0,
              "ticks": ""
             }
            },
            "type": "scatterternary"
           }
          ],
          "surface": [
           {
            "colorbar": {
             "outlinewidth": 0,
             "ticks": ""
            },
            "colorscale": [
             [
              0,
              "#0d0887"
             ],
             [
              0.1111111111111111,
              "#46039f"
             ],
             [
              0.2222222222222222,
              "#7201a8"
             ],
             [
              0.3333333333333333,
              "#9c179e"
             ],
             [
              0.4444444444444444,
              "#bd3786"
             ],
             [
              0.5555555555555556,
              "#d8576b"
             ],
             [
              0.6666666666666666,
              "#ed7953"
             ],
             [
              0.7777777777777778,
              "#fb9f3a"
             ],
             [
              0.8888888888888888,
              "#fdca26"
             ],
             [
              1,
              "#f0f921"
             ]
            ],
            "type": "surface"
           }
          ],
          "table": [
           {
            "cells": {
             "fill": {
              "color": "#EBF0F8"
             },
             "line": {
              "color": "white"
             }
            },
            "header": {
             "fill": {
              "color": "#C8D4E3"
             },
             "line": {
              "color": "white"
             }
            },
            "type": "table"
           }
          ]
         },
         "layout": {
          "annotationdefaults": {
           "arrowcolor": "#2a3f5f",
           "arrowhead": 0,
           "arrowwidth": 1
          },
          "coloraxis": {
           "colorbar": {
            "outlinewidth": 0,
            "ticks": ""
           }
          },
          "colorscale": {
           "diverging": [
            [
             0,
             "#8e0152"
            ],
            [
             0.1,
             "#c51b7d"
            ],
            [
             0.2,
             "#de77ae"
            ],
            [
             0.3,
             "#f1b6da"
            ],
            [
             0.4,
             "#fde0ef"
            ],
            [
             0.5,
             "#f7f7f7"
            ],
            [
             0.6,
             "#e6f5d0"
            ],
            [
             0.7,
             "#b8e186"
            ],
            [
             0.8,
             "#7fbc41"
            ],
            [
             0.9,
             "#4d9221"
            ],
            [
             1,
             "#276419"
            ]
           ],
           "sequential": [
            [
             0,
             "#0d0887"
            ],
            [
             0.1111111111111111,
             "#46039f"
            ],
            [
             0.2222222222222222,
             "#7201a8"
            ],
            [
             0.3333333333333333,
             "#9c179e"
            ],
            [
             0.4444444444444444,
             "#bd3786"
            ],
            [
             0.5555555555555556,
             "#d8576b"
            ],
            [
             0.6666666666666666,
             "#ed7953"
            ],
            [
             0.7777777777777778,
             "#fb9f3a"
            ],
            [
             0.8888888888888888,
             "#fdca26"
            ],
            [
             1,
             "#f0f921"
            ]
           ],
           "sequentialminus": [
            [
             0,
             "#0d0887"
            ],
            [
             0.1111111111111111,
             "#46039f"
            ],
            [
             0.2222222222222222,
             "#7201a8"
            ],
            [
             0.3333333333333333,
             "#9c179e"
            ],
            [
             0.4444444444444444,
             "#bd3786"
            ],
            [
             0.5555555555555556,
             "#d8576b"
            ],
            [
             0.6666666666666666,
             "#ed7953"
            ],
            [
             0.7777777777777778,
             "#fb9f3a"
            ],
            [
             0.8888888888888888,
             "#fdca26"
            ],
            [
             1,
             "#f0f921"
            ]
           ]
          },
          "colorway": [
           "#636efa",
           "#EF553B",
           "#00cc96",
           "#ab63fa",
           "#FFA15A",
           "#19d3f3",
           "#FF6692",
           "#B6E880",
           "#FF97FF",
           "#FECB52"
          ],
          "font": {
           "color": "#2a3f5f"
          },
          "geo": {
           "bgcolor": "white",
           "lakecolor": "white",
           "landcolor": "#E5ECF6",
           "showlakes": true,
           "showland": true,
           "subunitcolor": "white"
          },
          "hoverlabel": {
           "align": "left"
          },
          "hovermode": "closest",
          "mapbox": {
           "style": "light"
          },
          "paper_bgcolor": "white",
          "plot_bgcolor": "#E5ECF6",
          "polar": {
           "angularaxis": {
            "gridcolor": "white",
            "linecolor": "white",
            "ticks": ""
           },
           "bgcolor": "#E5ECF6",
           "radialaxis": {
            "gridcolor": "white",
            "linecolor": "white",
            "ticks": ""
           }
          },
          "scene": {
           "xaxis": {
            "backgroundcolor": "#E5ECF6",
            "gridcolor": "white",
            "gridwidth": 2,
            "linecolor": "white",
            "showbackground": true,
            "ticks": "",
            "zerolinecolor": "white"
           },
           "yaxis": {
            "backgroundcolor": "#E5ECF6",
            "gridcolor": "white",
            "gridwidth": 2,
            "linecolor": "white",
            "showbackground": true,
            "ticks": "",
            "zerolinecolor": "white"
           },
           "zaxis": {
            "backgroundcolor": "#E5ECF6",
            "gridcolor": "white",
            "gridwidth": 2,
            "linecolor": "white",
            "showbackground": true,
            "ticks": "",
            "zerolinecolor": "white"
           }
          },
          "shapedefaults": {
           "line": {
            "color": "#2a3f5f"
           }
          },
          "ternary": {
           "aaxis": {
            "gridcolor": "white",
            "linecolor": "white",
            "ticks": ""
           },
           "baxis": {
            "gridcolor": "white",
            "linecolor": "white",
            "ticks": ""
           },
           "bgcolor": "#E5ECF6",
           "caxis": {
            "gridcolor": "white",
            "linecolor": "white",
            "ticks": ""
           }
          },
          "title": {
           "x": 0.05
          },
          "xaxis": {
           "automargin": true,
           "gridcolor": "white",
           "linecolor": "white",
           "ticks": "",
           "title": {
            "standoff": 15
           },
           "zerolinecolor": "white",
           "zerolinewidth": 2
          },
          "yaxis": {
           "automargin": true,
           "gridcolor": "white",
           "linecolor": "white",
           "ticks": "",
           "title": {
            "standoff": 15
           },
           "zerolinecolor": "white",
           "zerolinewidth": 2
          }
         }
        },
        "title": {
         "text": "Payment / mth mean by Street"
        },
        "xaxis": {
         "anchor": "y",
         "domain": [
          0,
          1
         ],
         "title": {
          "text": "value"
         }
        },
        "yaxis": {
         "anchor": "x",
         "domain": [
          0,
          1
         ],
         "title": {
          "text": "Street"
         }
        }
       }
      },
      "text/html": [
       "<div>\n",
       "        \n",
       "        \n",
       "            <div id=\"9f2cd6b1-f1c8-49ee-b124-4007c4ccfad8\" class=\"plotly-graph-div\" style=\"height:525px; width:100%;\"></div>\n",
       "            <script type=\"text/javascript\">\n",
       "                require([\"plotly\"], function(Plotly) {\n",
       "                    window.PLOTLYENV=window.PLOTLYENV || {};\n",
       "                    \n",
       "                if (document.getElementById(\"9f2cd6b1-f1c8-49ee-b124-4007c4ccfad8\")) {\n",
       "                    Plotly.newPlot(\n",
       "                        '9f2cd6b1-f1c8-49ee-b124-4007c4ccfad8',\n",
       "                        [{\"alignmentgroup\": \"True\", \"hovertemplate\": \"variable=Payment / mth<br>value=%{x}<br>Street=%{y}<extra></extra>\", \"legendgroup\": \"Payment / mth\", \"marker\": {\"color\": \"#FF9900\"}, \"name\": \"Payment / mth\", \"offsetgroup\": \"Payment / mth\", \"orientation\": \"h\", \"showlegend\": true, \"textposition\": \"auto\", \"type\": \"bar\", \"x\": [300.0, 443.0, 460.0, 507.0, 528.0, 544.0, 580.0, 595.0, 800.0, 805.0, 987.0, 1300.0, 1675.0, 2200.0, 2323.5, 2665.0, 4243.75, 4598.0, 4638.0, 7389.0, 8430.0, 21875.0, 32970.0, 35220.0, 35558.0, 53628.0], \"xaxis\": \"x\", \"y\": [\"Battery Street East \", \"Natoma street\", \"Folsom Street\", \"California Street\", \"Montgomery Street \", \"Embarcadero Center\", \"Mission St\", \"11th Street\", \"New Montgomery St.\", \"Montgomery St\", \"Spear Street\", \"Bryant Street\", \"Mission Street\", \"Tehama St.\", \"Market Street\", \"Market St. \", \"Montgomery Street\", \"Bush Street\", \"5th Street\", \"Federal St\", \"Geary St\", \"Clementina St. \", \"Sutter Street\", \"Commercial Street\", \"Folsom St\", \"New Montgomery Street\"], \"yaxis\": \"y\"}],\n",
       "                        {\"barmode\": \"relative\", \"legend\": {\"title\": {\"text\": \"variable\"}, \"tracegroupgap\": 0}, \"template\": {\"data\": {\"bar\": [{\"error_x\": {\"color\": \"#2a3f5f\"}, \"error_y\": {\"color\": \"#2a3f5f\"}, \"marker\": {\"line\": {\"color\": \"#E5ECF6\", \"width\": 0.5}}, \"type\": \"bar\"}], \"barpolar\": [{\"marker\": {\"line\": {\"color\": \"#E5ECF6\", \"width\": 0.5}}, \"type\": \"barpolar\"}], \"carpet\": [{\"aaxis\": {\"endlinecolor\": \"#2a3f5f\", \"gridcolor\": \"white\", \"linecolor\": \"white\", \"minorgridcolor\": \"white\", \"startlinecolor\": \"#2a3f5f\"}, \"baxis\": {\"endlinecolor\": \"#2a3f5f\", \"gridcolor\": \"white\", \"linecolor\": \"white\", \"minorgridcolor\": \"white\", \"startlinecolor\": \"#2a3f5f\"}, \"type\": \"carpet\"}], \"choropleth\": [{\"colorbar\": {\"outlinewidth\": 0, \"ticks\": \"\"}, \"type\": \"choropleth\"}], \"contour\": [{\"colorbar\": {\"outlinewidth\": 0, \"ticks\": \"\"}, \"colorscale\": [[0.0, \"#0d0887\"], [0.1111111111111111, \"#46039f\"], [0.2222222222222222, \"#7201a8\"], [0.3333333333333333, \"#9c179e\"], [0.4444444444444444, \"#bd3786\"], [0.5555555555555556, \"#d8576b\"], [0.6666666666666666, \"#ed7953\"], [0.7777777777777778, \"#fb9f3a\"], [0.8888888888888888, \"#fdca26\"], [1.0, \"#f0f921\"]], \"type\": \"contour\"}], \"contourcarpet\": [{\"colorbar\": {\"outlinewidth\": 0, \"ticks\": \"\"}, \"type\": \"contourcarpet\"}], \"heatmap\": [{\"colorbar\": {\"outlinewidth\": 0, \"ticks\": \"\"}, \"colorscale\": [[0.0, \"#0d0887\"], [0.1111111111111111, \"#46039f\"], [0.2222222222222222, \"#7201a8\"], [0.3333333333333333, \"#9c179e\"], [0.4444444444444444, \"#bd3786\"], [0.5555555555555556, \"#d8576b\"], [0.6666666666666666, \"#ed7953\"], [0.7777777777777778, \"#fb9f3a\"], [0.8888888888888888, \"#fdca26\"], [1.0, \"#f0f921\"]], \"type\": \"heatmap\"}], \"heatmapgl\": [{\"colorbar\": {\"outlinewidth\": 0, \"ticks\": \"\"}, \"colorscale\": [[0.0, \"#0d0887\"], [0.1111111111111111, \"#46039f\"], [0.2222222222222222, \"#7201a8\"], [0.3333333333333333, \"#9c179e\"], [0.4444444444444444, \"#bd3786\"], [0.5555555555555556, \"#d8576b\"], [0.6666666666666666, \"#ed7953\"], [0.7777777777777778, \"#fb9f3a\"], [0.8888888888888888, \"#fdca26\"], [1.0, \"#f0f921\"]], \"type\": \"heatmapgl\"}], \"histogram\": [{\"marker\": {\"colorbar\": {\"outlinewidth\": 0, \"ticks\": \"\"}}, \"type\": \"histogram\"}], \"histogram2d\": [{\"colorbar\": {\"outlinewidth\": 0, \"ticks\": \"\"}, \"colorscale\": [[0.0, \"#0d0887\"], [0.1111111111111111, \"#46039f\"], [0.2222222222222222, \"#7201a8\"], [0.3333333333333333, \"#9c179e\"], [0.4444444444444444, \"#bd3786\"], [0.5555555555555556, \"#d8576b\"], [0.6666666666666666, \"#ed7953\"], [0.7777777777777778, \"#fb9f3a\"], [0.8888888888888888, \"#fdca26\"], [1.0, \"#f0f921\"]], \"type\": \"histogram2d\"}], \"histogram2dcontour\": [{\"colorbar\": {\"outlinewidth\": 0, \"ticks\": \"\"}, \"colorscale\": [[0.0, \"#0d0887\"], [0.1111111111111111, \"#46039f\"], [0.2222222222222222, \"#7201a8\"], [0.3333333333333333, \"#9c179e\"], [0.4444444444444444, \"#bd3786\"], [0.5555555555555556, \"#d8576b\"], [0.6666666666666666, \"#ed7953\"], [0.7777777777777778, \"#fb9f3a\"], [0.8888888888888888, \"#fdca26\"], [1.0, \"#f0f921\"]], \"type\": \"histogram2dcontour\"}], \"mesh3d\": [{\"colorbar\": {\"outlinewidth\": 0, \"ticks\": \"\"}, \"type\": \"mesh3d\"}], \"parcoords\": [{\"line\": {\"colorbar\": {\"outlinewidth\": 0, \"ticks\": \"\"}}, \"type\": \"parcoords\"}], \"pie\": [{\"automargin\": true, \"type\": \"pie\"}], \"scatter\": [{\"marker\": {\"colorbar\": {\"outlinewidth\": 0, \"ticks\": \"\"}}, \"type\": \"scatter\"}], \"scatter3d\": [{\"line\": {\"colorbar\": {\"outlinewidth\": 0, \"ticks\": \"\"}}, \"marker\": {\"colorbar\": {\"outlinewidth\": 0, \"ticks\": \"\"}}, \"type\": \"scatter3d\"}], \"scattercarpet\": [{\"marker\": {\"colorbar\": {\"outlinewidth\": 0, \"ticks\": \"\"}}, \"type\": \"scattercarpet\"}], \"scattergeo\": [{\"marker\": {\"colorbar\": {\"outlinewidth\": 0, \"ticks\": \"\"}}, \"type\": \"scattergeo\"}], \"scattergl\": [{\"marker\": {\"colorbar\": {\"outlinewidth\": 0, \"ticks\": \"\"}}, \"type\": \"scattergl\"}], \"scattermapbox\": [{\"marker\": {\"colorbar\": {\"outlinewidth\": 0, \"ticks\": \"\"}}, \"type\": \"scattermapbox\"}], \"scatterpolar\": [{\"marker\": {\"colorbar\": {\"outlinewidth\": 0, \"ticks\": \"\"}}, \"type\": \"scatterpolar\"}], \"scatterpolargl\": [{\"marker\": {\"colorbar\": {\"outlinewidth\": 0, \"ticks\": \"\"}}, \"type\": \"scatterpolargl\"}], \"scatterternary\": [{\"marker\": {\"colorbar\": {\"outlinewidth\": 0, \"ticks\": \"\"}}, \"type\": \"scatterternary\"}], \"surface\": [{\"colorbar\": {\"outlinewidth\": 0, \"ticks\": \"\"}, \"colorscale\": [[0.0, \"#0d0887\"], [0.1111111111111111, \"#46039f\"], [0.2222222222222222, \"#7201a8\"], [0.3333333333333333, \"#9c179e\"], [0.4444444444444444, \"#bd3786\"], [0.5555555555555556, \"#d8576b\"], [0.6666666666666666, \"#ed7953\"], [0.7777777777777778, \"#fb9f3a\"], [0.8888888888888888, \"#fdca26\"], [1.0, \"#f0f921\"]], \"type\": \"surface\"}], \"table\": [{\"cells\": {\"fill\": {\"color\": \"#EBF0F8\"}, \"line\": {\"color\": \"white\"}}, \"header\": {\"fill\": {\"color\": \"#C8D4E3\"}, \"line\": {\"color\": \"white\"}}, \"type\": \"table\"}]}, \"layout\": {\"annotationdefaults\": {\"arrowcolor\": \"#2a3f5f\", \"arrowhead\": 0, \"arrowwidth\": 1}, \"coloraxis\": {\"colorbar\": {\"outlinewidth\": 0, \"ticks\": \"\"}}, \"colorscale\": {\"diverging\": [[0, \"#8e0152\"], [0.1, \"#c51b7d\"], [0.2, \"#de77ae\"], [0.3, \"#f1b6da\"], [0.4, \"#fde0ef\"], [0.5, \"#f7f7f7\"], [0.6, \"#e6f5d0\"], [0.7, \"#b8e186\"], [0.8, \"#7fbc41\"], [0.9, \"#4d9221\"], [1, \"#276419\"]], \"sequential\": [[0.0, \"#0d0887\"], [0.1111111111111111, \"#46039f\"], [0.2222222222222222, \"#7201a8\"], [0.3333333333333333, \"#9c179e\"], [0.4444444444444444, \"#bd3786\"], [0.5555555555555556, \"#d8576b\"], [0.6666666666666666, \"#ed7953\"], [0.7777777777777778, \"#fb9f3a\"], [0.8888888888888888, \"#fdca26\"], [1.0, \"#f0f921\"]], \"sequentialminus\": [[0.0, \"#0d0887\"], [0.1111111111111111, \"#46039f\"], [0.2222222222222222, \"#7201a8\"], [0.3333333333333333, \"#9c179e\"], [0.4444444444444444, \"#bd3786\"], [0.5555555555555556, \"#d8576b\"], [0.6666666666666666, \"#ed7953\"], [0.7777777777777778, \"#fb9f3a\"], [0.8888888888888888, \"#fdca26\"], [1.0, \"#f0f921\"]]}, \"colorway\": [\"#636efa\", \"#EF553B\", \"#00cc96\", \"#ab63fa\", \"#FFA15A\", \"#19d3f3\", \"#FF6692\", \"#B6E880\", \"#FF97FF\", \"#FECB52\"], \"font\": {\"color\": \"#2a3f5f\"}, \"geo\": {\"bgcolor\": \"white\", \"lakecolor\": \"white\", \"landcolor\": \"#E5ECF6\", \"showlakes\": true, \"showland\": true, \"subunitcolor\": \"white\"}, \"hoverlabel\": {\"align\": \"left\"}, \"hovermode\": \"closest\", \"mapbox\": {\"style\": \"light\"}, \"paper_bgcolor\": \"white\", \"plot_bgcolor\": \"#E5ECF6\", \"polar\": {\"angularaxis\": {\"gridcolor\": \"white\", \"linecolor\": \"white\", \"ticks\": \"\"}, \"bgcolor\": \"#E5ECF6\", \"radialaxis\": {\"gridcolor\": \"white\", \"linecolor\": \"white\", \"ticks\": \"\"}}, \"scene\": {\"xaxis\": {\"backgroundcolor\": \"#E5ECF6\", \"gridcolor\": \"white\", \"gridwidth\": 2, \"linecolor\": \"white\", \"showbackground\": true, \"ticks\": \"\", \"zerolinecolor\": \"white\"}, \"yaxis\": {\"backgroundcolor\": \"#E5ECF6\", \"gridcolor\": \"white\", \"gridwidth\": 2, \"linecolor\": \"white\", \"showbackground\": true, \"ticks\": \"\", \"zerolinecolor\": \"white\"}, \"zaxis\": {\"backgroundcolor\": \"#E5ECF6\", \"gridcolor\": \"white\", \"gridwidth\": 2, \"linecolor\": \"white\", \"showbackground\": true, \"ticks\": \"\", \"zerolinecolor\": \"white\"}}, \"shapedefaults\": {\"line\": {\"color\": \"#2a3f5f\"}}, \"ternary\": {\"aaxis\": {\"gridcolor\": \"white\", \"linecolor\": \"white\", \"ticks\": \"\"}, \"baxis\": {\"gridcolor\": \"white\", \"linecolor\": \"white\", \"ticks\": \"\"}, \"bgcolor\": \"#E5ECF6\", \"caxis\": {\"gridcolor\": \"white\", \"linecolor\": \"white\", \"ticks\": \"\"}}, \"title\": {\"x\": 0.05}, \"xaxis\": {\"automargin\": true, \"gridcolor\": \"white\", \"linecolor\": \"white\", \"ticks\": \"\", \"title\": {\"standoff\": 15}, \"zerolinecolor\": \"white\", \"zerolinewidth\": 2}, \"yaxis\": {\"automargin\": true, \"gridcolor\": \"white\", \"linecolor\": \"white\", \"ticks\": \"\", \"title\": {\"standoff\": 15}, \"zerolinecolor\": \"white\", \"zerolinewidth\": 2}}}, \"title\": {\"text\": \"Payment / mth mean by Street\"}, \"xaxis\": {\"anchor\": \"y\", \"domain\": [0.0, 1.0], \"title\": {\"text\": \"value\"}}, \"yaxis\": {\"anchor\": \"x\", \"domain\": [0.0, 1.0], \"title\": {\"text\": \"Street\"}}},\n",
       "                        {\"responsive\": true}\n",
       "                    ).then(function(){\n",
       "                            \n",
       "var gd = document.getElementById('9f2cd6b1-f1c8-49ee-b124-4007c4ccfad8');\n",
       "var x = new MutationObserver(function (mutations, observer) {{\n",
       "        var display = window.getComputedStyle(gd).display;\n",
       "        if (!display || display === 'none') {{\n",
       "            console.log([gd, 'removed!']);\n",
       "            Plotly.purge(gd);\n",
       "            observer.disconnect();\n",
       "        }}\n",
       "}});\n",
       "\n",
       "// Listen for the removal of the full notebook cells\n",
       "var notebookContainer = gd.closest('#notebook-container');\n",
       "if (notebookContainer) {{\n",
       "    x.observe(notebookContainer, {childList: true});\n",
       "}}\n",
       "\n",
       "// Listen for the clearing of the current output cell\n",
       "var outputEl = gd.closest('.output');\n",
       "if (outputEl) {{\n",
       "    x.observe(outputEl, {childList: true});\n",
       "}}\n",
       "\n",
       "                        })\n",
       "                };\n",
       "                });\n",
       "            </script>\n",
       "        </div>"
      ]
     },
     "metadata": {},
     "output_type": "display_data"
    }
   ],
   "source": [
    "#fig = filter1.iplot(kind='barh', xTitle='Street', title='Payment / mth mean by Street')\n",
    "fig = px.bar(filter1, orientation='h', color_discrete_sequence=['#FF9900'], title='Payment / mth mean by Street')\n",
    "fig.write_html('data/plots/payment_by_street.html')\n",
    "fig.write_image('data/plots/payment_by_street.png')\n",
    "fig.show()"
   ]
  },
  {
   "cell_type": "code",
   "execution_count": 82,
   "metadata": {},
   "outputs": [],
   "source": [
    "rad = list(final_data.loc[:,'Payment / mth'])"
   ]
  },
  {
   "cell_type": "code",
   "execution_count": 83,
   "metadata": {
    "scrolled": true
   },
   "outputs": [
    {
     "data": {
      "text/html": [
       "<div style=\"width:100%;\"><div style=\"position:relative;width:100%;height:0;padding-bottom:60%;\"><span style=\"color:#565656\">Make this Notebook Trusted to load map: File -> Trust Notebook</span><iframe src=\"about:blank\" style=\"position:absolute;width:100%;height:100%;left:0;top:0;border:none !important;\" data-html=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 onload=\"this.contentDocument.open();this.contentDocument.write(atob(this.getAttribute('data-html')));this.contentDocument.close();\" allowfullscreen webkitallowfullscreen mozallowfullscreen></iframe></div></div>"
      ],
      "text/plain": [
       "<folium.folium.Map at 0x263b6cd8a60>"
      ]
     },
     "execution_count": 83,
     "metadata": {},
     "output_type": "execute_result"
    }
   ],
   "source": [
    "m = folium.Map(location = [37.789078, -122.405578] ,zoom_start = 15)\n",
    "\n",
    "for i in range(len(final_data)):\n",
    "    popup_str = f\"\"\"Occupancy: {final_data.loc[i,'Occupancy']}\n",
    "                    Price: ${final_data.loc[i,'Payment / mth']}/mth\"\"\"\n",
    "    folium.Circle(location = [final_data.loc[i,'Latitude'], final_data.loc[i,'Longitude']],\n",
    "                  popup = popup_str,\n",
    "                  radius = rad[i]/300,\n",
    "                  color='crimson',\n",
    "                  fill = True,\n",
    "                  fill_color = 'crimson').add_to(m)\n",
    "m.save('data/plots/bubble_price_map.html')\n",
    "m"
   ]
  },
  {
   "cell_type": "code",
   "execution_count": 84,
   "metadata": {
    "scrolled": true
   },
   "outputs": [],
   "source": [
    "final_data['Street'] = final_data['Street'].str.replace('.','')\n",
    "def street_cleaner(x):\n",
    "    if bool(re.search(r'(st\\.?)',x.lower())):\n",
    "        st = re.findall(r'(^.+)\\b\\w+',x)[0]\n",
    "        if bool(re.search(r'(st\\.?)',st.lower())):\n",
    "            return st\n",
    "        st += 'Street'\n",
    "        return st\n",
    "    else:\n",
    "        return x\n",
    "\n",
    "final_data['Street'] = final_data['Street'].apply(street_cleaner)\n",
    "final_data.to_csv('data/available_offices.csv')\n",
    "#final_data"
   ]
  },
  {
   "cell_type": "code",
   "execution_count": 85,
   "metadata": {},
   "outputs": [],
   "source": [
    "temp_data = final_data.copy()\n",
    "temp_data['Occupancy'] = temp_data['Occupancy'].apply(lambda x: int(re.findall(f'\\-(\\d+)',x)[0]))\n",
    "#final_data.iplot(kind='scatter',x=ocup,y='Payment / mth', categories='Postal Code', color='crimson')"
   ]
  },
  {
   "cell_type": "code",
   "execution_count": 86,
   "metadata": {},
   "outputs": [
    {
     "data": {
      "application/vnd.plotly.v1+json": {
       "config": {
        "plotlyServerURL": "https://plot.ly"
       },
       "data": [
        {
         "hovertemplate": "Occupancy=%{x}<br>Payment / mth=%{marker.size}<extra></extra>",
         "legendgroup": "",
         "marker": {
          "color": "#636efa",
          "size": [
           4638,
           1300,
           35558,
           460,
           7389,
           21875,
           800,
           2200,
           443,
           53628,
           2665,
           2000,
           2000,
           1350,
           1350,
           1022,
           3625,
           8430,
           813,
           987,
           4598,
           32970,
           290,
           595,
           15000,
           507,
           544,
           35220,
           528,
           580,
           300,
           872,
           805
          ],
          "sizemode": "area",
          "sizeref": 134.07,
          "symbol": "circle"
         },
         "mode": "markers",
         "name": "",
         "orientation": "v",
         "showlegend": false,
         "type": "scatter",
         "x": [
          29,
          100,
          55,
          50,
          50,
          30,
          300,
          75,
          40,
          49,
          22,
          21,
          21,
          100,
          100,
          100,
          30,
          24,
          50,
          50,
          33,
          36,
          28,
          100,
          34,
          50,
          50,
          36,
          50,
          100,
          99,
          50,
          100
         ],
         "xaxis": "x",
         "y": [
          4638,
          1300,
          35558,
          460,
          7389,
          21875,
          800,
          2200,
          443,
          53628,
          2665,
          2000,
          2000,
          1350,
          1350,
          1022,
          3625,
          8430,
          813,
          987,
          4598,
          32970,
          290,
          595,
          15000,
          507,
          544,
          35220,
          528,
          580,
          300,
          872,
          805
         ],
         "yaxis": "y"
        }
       ],
       "layout": {
        "legend": {
         "itemsizing": "constant",
         "tracegroupgap": 0
        },
        "margin": {
         "t": 60
        },
        "template": {
         "data": {
          "bar": [
           {
            "error_x": {
             "color": "#2a3f5f"
            },
            "error_y": {
             "color": "#2a3f5f"
            },
            "marker": {
             "line": {
              "color": "#E5ECF6",
              "width": 0.5
             }
            },
            "type": "bar"
           }
          ],
          "barpolar": [
           {
            "marker": {
             "line": {
              "color": "#E5ECF6",
              "width": 0.5
             }
            },
            "type": "barpolar"
           }
          ],
          "carpet": [
           {
            "aaxis": {
             "endlinecolor": "#2a3f5f",
             "gridcolor": "white",
             "linecolor": "white",
             "minorgridcolor": "white",
             "startlinecolor": "#2a3f5f"
            },
            "baxis": {
             "endlinecolor": "#2a3f5f",
             "gridcolor": "white",
             "linecolor": "white",
             "minorgridcolor": "white",
             "startlinecolor": "#2a3f5f"
            },
            "type": "carpet"
           }
          ],
          "choropleth": [
           {
            "colorbar": {
             "outlinewidth": 0,
             "ticks": ""
            },
            "type": "choropleth"
           }
          ],
          "contour": [
           {
            "colorbar": {
             "outlinewidth": 0,
             "ticks": ""
            },
            "colorscale": [
             [
              0,
              "#0d0887"
             ],
             [
              0.1111111111111111,
              "#46039f"
             ],
             [
              0.2222222222222222,
              "#7201a8"
             ],
             [
              0.3333333333333333,
              "#9c179e"
             ],
             [
              0.4444444444444444,
              "#bd3786"
             ],
             [
              0.5555555555555556,
              "#d8576b"
             ],
             [
              0.6666666666666666,
              "#ed7953"
             ],
             [
              0.7777777777777778,
              "#fb9f3a"
             ],
             [
              0.8888888888888888,
              "#fdca26"
             ],
             [
              1,
              "#f0f921"
             ]
            ],
            "type": "contour"
           }
          ],
          "contourcarpet": [
           {
            "colorbar": {
             "outlinewidth": 0,
             "ticks": ""
            },
            "type": "contourcarpet"
           }
          ],
          "heatmap": [
           {
            "colorbar": {
             "outlinewidth": 0,
             "ticks": ""
            },
            "colorscale": [
             [
              0,
              "#0d0887"
             ],
             [
              0.1111111111111111,
              "#46039f"
             ],
             [
              0.2222222222222222,
              "#7201a8"
             ],
             [
              0.3333333333333333,
              "#9c179e"
             ],
             [
              0.4444444444444444,
              "#bd3786"
             ],
             [
              0.5555555555555556,
              "#d8576b"
             ],
             [
              0.6666666666666666,
              "#ed7953"
             ],
             [
              0.7777777777777778,
              "#fb9f3a"
             ],
             [
              0.8888888888888888,
              "#fdca26"
             ],
             [
              1,
              "#f0f921"
             ]
            ],
            "type": "heatmap"
           }
          ],
          "heatmapgl": [
           {
            "colorbar": {
             "outlinewidth": 0,
             "ticks": ""
            },
            "colorscale": [
             [
              0,
              "#0d0887"
             ],
             [
              0.1111111111111111,
              "#46039f"
             ],
             [
              0.2222222222222222,
              "#7201a8"
             ],
             [
              0.3333333333333333,
              "#9c179e"
             ],
             [
              0.4444444444444444,
              "#bd3786"
             ],
             [
              0.5555555555555556,
              "#d8576b"
             ],
             [
              0.6666666666666666,
              "#ed7953"
             ],
             [
              0.7777777777777778,
              "#fb9f3a"
             ],
             [
              0.8888888888888888,
              "#fdca26"
             ],
             [
              1,
              "#f0f921"
             ]
            ],
            "type": "heatmapgl"
           }
          ],
          "histogram": [
           {
            "marker": {
             "colorbar": {
              "outlinewidth": 0,
              "ticks": ""
             }
            },
            "type": "histogram"
           }
          ],
          "histogram2d": [
           {
            "colorbar": {
             "outlinewidth": 0,
             "ticks": ""
            },
            "colorscale": [
             [
              0,
              "#0d0887"
             ],
             [
              0.1111111111111111,
              "#46039f"
             ],
             [
              0.2222222222222222,
              "#7201a8"
             ],
             [
              0.3333333333333333,
              "#9c179e"
             ],
             [
              0.4444444444444444,
              "#bd3786"
             ],
             [
              0.5555555555555556,
              "#d8576b"
             ],
             [
              0.6666666666666666,
              "#ed7953"
             ],
             [
              0.7777777777777778,
              "#fb9f3a"
             ],
             [
              0.8888888888888888,
              "#fdca26"
             ],
             [
              1,
              "#f0f921"
             ]
            ],
            "type": "histogram2d"
           }
          ],
          "histogram2dcontour": [
           {
            "colorbar": {
             "outlinewidth": 0,
             "ticks": ""
            },
            "colorscale": [
             [
              0,
              "#0d0887"
             ],
             [
              0.1111111111111111,
              "#46039f"
             ],
             [
              0.2222222222222222,
              "#7201a8"
             ],
             [
              0.3333333333333333,
              "#9c179e"
             ],
             [
              0.4444444444444444,
              "#bd3786"
             ],
             [
              0.5555555555555556,
              "#d8576b"
             ],
             [
              0.6666666666666666,
              "#ed7953"
             ],
             [
              0.7777777777777778,
              "#fb9f3a"
             ],
             [
              0.8888888888888888,
              "#fdca26"
             ],
             [
              1,
              "#f0f921"
             ]
            ],
            "type": "histogram2dcontour"
           }
          ],
          "mesh3d": [
           {
            "colorbar": {
             "outlinewidth": 0,
             "ticks": ""
            },
            "type": "mesh3d"
           }
          ],
          "parcoords": [
           {
            "line": {
             "colorbar": {
              "outlinewidth": 0,
              "ticks": ""
             }
            },
            "type": "parcoords"
           }
          ],
          "pie": [
           {
            "automargin": true,
            "type": "pie"
           }
          ],
          "scatter": [
           {
            "marker": {
             "colorbar": {
              "outlinewidth": 0,
              "ticks": ""
             }
            },
            "type": "scatter"
           }
          ],
          "scatter3d": [
           {
            "line": {
             "colorbar": {
              "outlinewidth": 0,
              "ticks": ""
             }
            },
            "marker": {
             "colorbar": {
              "outlinewidth": 0,
              "ticks": ""
             }
            },
            "type": "scatter3d"
           }
          ],
          "scattercarpet": [
           {
            "marker": {
             "colorbar": {
              "outlinewidth": 0,
              "ticks": ""
             }
            },
            "type": "scattercarpet"
           }
          ],
          "scattergeo": [
           {
            "marker": {
             "colorbar": {
              "outlinewidth": 0,
              "ticks": ""
             }
            },
            "type": "scattergeo"
           }
          ],
          "scattergl": [
           {
            "marker": {
             "colorbar": {
              "outlinewidth": 0,
              "ticks": ""
             }
            },
            "type": "scattergl"
           }
          ],
          "scattermapbox": [
           {
            "marker": {
             "colorbar": {
              "outlinewidth": 0,
              "ticks": ""
             }
            },
            "type": "scattermapbox"
           }
          ],
          "scatterpolar": [
           {
            "marker": {
             "colorbar": {
              "outlinewidth": 0,
              "ticks": ""
             }
            },
            "type": "scatterpolar"
           }
          ],
          "scatterpolargl": [
           {
            "marker": {
             "colorbar": {
              "outlinewidth": 0,
              "ticks": ""
             }
            },
            "type": "scatterpolargl"
           }
          ],
          "scatterternary": [
           {
            "marker": {
             "colorbar": {
              "outlinewidth": 0,
              "ticks": ""
             }
            },
            "type": "scatterternary"
           }
          ],
          "surface": [
           {
            "colorbar": {
             "outlinewidth": 0,
             "ticks": ""
            },
            "colorscale": [
             [
              0,
              "#0d0887"
             ],
             [
              0.1111111111111111,
              "#46039f"
             ],
             [
              0.2222222222222222,
              "#7201a8"
             ],
             [
              0.3333333333333333,
              "#9c179e"
             ],
             [
              0.4444444444444444,
              "#bd3786"
             ],
             [
              0.5555555555555556,
              "#d8576b"
             ],
             [
              0.6666666666666666,
              "#ed7953"
             ],
             [
              0.7777777777777778,
              "#fb9f3a"
             ],
             [
              0.8888888888888888,
              "#fdca26"
             ],
             [
              1,
              "#f0f921"
             ]
            ],
            "type": "surface"
           }
          ],
          "table": [
           {
            "cells": {
             "fill": {
              "color": "#EBF0F8"
             },
             "line": {
              "color": "white"
             }
            },
            "header": {
             "fill": {
              "color": "#C8D4E3"
             },
             "line": {
              "color": "white"
             }
            },
            "type": "table"
           }
          ]
         },
         "layout": {
          "annotationdefaults": {
           "arrowcolor": "#2a3f5f",
           "arrowhead": 0,
           "arrowwidth": 1
          },
          "coloraxis": {
           "colorbar": {
            "outlinewidth": 0,
            "ticks": ""
           }
          },
          "colorscale": {
           "diverging": [
            [
             0,
             "#8e0152"
            ],
            [
             0.1,
             "#c51b7d"
            ],
            [
             0.2,
             "#de77ae"
            ],
            [
             0.3,
             "#f1b6da"
            ],
            [
             0.4,
             "#fde0ef"
            ],
            [
             0.5,
             "#f7f7f7"
            ],
            [
             0.6,
             "#e6f5d0"
            ],
            [
             0.7,
             "#b8e186"
            ],
            [
             0.8,
             "#7fbc41"
            ],
            [
             0.9,
             "#4d9221"
            ],
            [
             1,
             "#276419"
            ]
           ],
           "sequential": [
            [
             0,
             "#0d0887"
            ],
            [
             0.1111111111111111,
             "#46039f"
            ],
            [
             0.2222222222222222,
             "#7201a8"
            ],
            [
             0.3333333333333333,
             "#9c179e"
            ],
            [
             0.4444444444444444,
             "#bd3786"
            ],
            [
             0.5555555555555556,
             "#d8576b"
            ],
            [
             0.6666666666666666,
             "#ed7953"
            ],
            [
             0.7777777777777778,
             "#fb9f3a"
            ],
            [
             0.8888888888888888,
             "#fdca26"
            ],
            [
             1,
             "#f0f921"
            ]
           ],
           "sequentialminus": [
            [
             0,
             "#0d0887"
            ],
            [
             0.1111111111111111,
             "#46039f"
            ],
            [
             0.2222222222222222,
             "#7201a8"
            ],
            [
             0.3333333333333333,
             "#9c179e"
            ],
            [
             0.4444444444444444,
             "#bd3786"
            ],
            [
             0.5555555555555556,
             "#d8576b"
            ],
            [
             0.6666666666666666,
             "#ed7953"
            ],
            [
             0.7777777777777778,
             "#fb9f3a"
            ],
            [
             0.8888888888888888,
             "#fdca26"
            ],
            [
             1,
             "#f0f921"
            ]
           ]
          },
          "colorway": [
           "#636efa",
           "#EF553B",
           "#00cc96",
           "#ab63fa",
           "#FFA15A",
           "#19d3f3",
           "#FF6692",
           "#B6E880",
           "#FF97FF",
           "#FECB52"
          ],
          "font": {
           "color": "#2a3f5f"
          },
          "geo": {
           "bgcolor": "white",
           "lakecolor": "white",
           "landcolor": "#E5ECF6",
           "showlakes": true,
           "showland": true,
           "subunitcolor": "white"
          },
          "hoverlabel": {
           "align": "left"
          },
          "hovermode": "closest",
          "mapbox": {
           "style": "light"
          },
          "paper_bgcolor": "white",
          "plot_bgcolor": "#E5ECF6",
          "polar": {
           "angularaxis": {
            "gridcolor": "white",
            "linecolor": "white",
            "ticks": ""
           },
           "bgcolor": "#E5ECF6",
           "radialaxis": {
            "gridcolor": "white",
            "linecolor": "white",
            "ticks": ""
           }
          },
          "scene": {
           "xaxis": {
            "backgroundcolor": "#E5ECF6",
            "gridcolor": "white",
            "gridwidth": 2,
            "linecolor": "white",
            "showbackground": true,
            "ticks": "",
            "zerolinecolor": "white"
           },
           "yaxis": {
            "backgroundcolor": "#E5ECF6",
            "gridcolor": "white",
            "gridwidth": 2,
            "linecolor": "white",
            "showbackground": true,
            "ticks": "",
            "zerolinecolor": "white"
           },
           "zaxis": {
            "backgroundcolor": "#E5ECF6",
            "gridcolor": "white",
            "gridwidth": 2,
            "linecolor": "white",
            "showbackground": true,
            "ticks": "",
            "zerolinecolor": "white"
           }
          },
          "shapedefaults": {
           "line": {
            "color": "#2a3f5f"
           }
          },
          "ternary": {
           "aaxis": {
            "gridcolor": "white",
            "linecolor": "white",
            "ticks": ""
           },
           "baxis": {
            "gridcolor": "white",
            "linecolor": "white",
            "ticks": ""
           },
           "bgcolor": "#E5ECF6",
           "caxis": {
            "gridcolor": "white",
            "linecolor": "white",
            "ticks": ""
           }
          },
          "title": {
           "x": 0.05
          },
          "xaxis": {
           "automargin": true,
           "gridcolor": "white",
           "linecolor": "white",
           "ticks": "",
           "title": {
            "standoff": 15
           },
           "zerolinecolor": "white",
           "zerolinewidth": 2
          },
          "yaxis": {
           "automargin": true,
           "gridcolor": "white",
           "linecolor": "white",
           "ticks": "",
           "title": {
            "standoff": 15
           },
           "zerolinecolor": "white",
           "zerolinewidth": 2
          }
         }
        },
        "xaxis": {
         "anchor": "y",
         "domain": [
          0,
          1
         ],
         "title": {
          "text": "Occupancy"
         }
        },
        "yaxis": {
         "anchor": "x",
         "domain": [
          0,
          1
         ],
         "title": {
          "text": "Payment / mth"
         }
        }
       }
      },
      "text/html": [
       "<div>\n",
       "        \n",
       "        \n",
       "            <div id=\"bda17856-66c2-4c43-b2f2-cfc26503462f\" class=\"plotly-graph-div\" style=\"height:525px; width:100%;\"></div>\n",
       "            <script type=\"text/javascript\">\n",
       "                require([\"plotly\"], function(Plotly) {\n",
       "                    window.PLOTLYENV=window.PLOTLYENV || {};\n",
       "                    \n",
       "                if (document.getElementById(\"bda17856-66c2-4c43-b2f2-cfc26503462f\")) {\n",
       "                    Plotly.newPlot(\n",
       "                        'bda17856-66c2-4c43-b2f2-cfc26503462f',\n",
       "                        [{\"hovertemplate\": \"Occupancy=%{x}<br>Payment / mth=%{marker.size}<extra></extra>\", \"legendgroup\": \"\", \"marker\": {\"color\": \"#636efa\", \"size\": [4638, 1300, 35558, 460, 7389, 21875, 800, 2200, 443, 53628, 2665, 2000, 2000, 1350, 1350, 1022, 3625, 8430, 813, 987, 4598, 32970, 290, 595, 15000, 507, 544, 35220, 528, 580, 300, 872, 805], \"sizemode\": \"area\", \"sizeref\": 134.07, \"symbol\": \"circle\"}, \"mode\": \"markers\", \"name\": \"\", \"orientation\": \"v\", \"showlegend\": false, \"type\": \"scatter\", \"x\": [29, 100, 55, 50, 50, 30, 300, 75, 40, 49, 22, 21, 21, 100, 100, 100, 30, 24, 50, 50, 33, 36, 28, 100, 34, 50, 50, 36, 50, 100, 99, 50, 100], \"xaxis\": \"x\", \"y\": [4638, 1300, 35558, 460, 7389, 21875, 800, 2200, 443, 53628, 2665, 2000, 2000, 1350, 1350, 1022, 3625, 8430, 813, 987, 4598, 32970, 290, 595, 15000, 507, 544, 35220, 528, 580, 300, 872, 805], \"yaxis\": \"y\"}],\n",
       "                        {\"legend\": {\"itemsizing\": \"constant\", \"tracegroupgap\": 0}, \"margin\": {\"t\": 60}, \"template\": {\"data\": {\"bar\": [{\"error_x\": {\"color\": \"#2a3f5f\"}, \"error_y\": {\"color\": \"#2a3f5f\"}, \"marker\": {\"line\": {\"color\": \"#E5ECF6\", \"width\": 0.5}}, \"type\": \"bar\"}], \"barpolar\": [{\"marker\": {\"line\": {\"color\": \"#E5ECF6\", \"width\": 0.5}}, \"type\": \"barpolar\"}], \"carpet\": [{\"aaxis\": {\"endlinecolor\": \"#2a3f5f\", \"gridcolor\": \"white\", \"linecolor\": \"white\", \"minorgridcolor\": \"white\", \"startlinecolor\": \"#2a3f5f\"}, \"baxis\": {\"endlinecolor\": \"#2a3f5f\", \"gridcolor\": \"white\", \"linecolor\": \"white\", \"minorgridcolor\": \"white\", \"startlinecolor\": \"#2a3f5f\"}, \"type\": \"carpet\"}], \"choropleth\": [{\"colorbar\": {\"outlinewidth\": 0, \"ticks\": \"\"}, \"type\": \"choropleth\"}], \"contour\": [{\"colorbar\": {\"outlinewidth\": 0, \"ticks\": \"\"}, \"colorscale\": [[0.0, \"#0d0887\"], [0.1111111111111111, \"#46039f\"], [0.2222222222222222, \"#7201a8\"], [0.3333333333333333, \"#9c179e\"], [0.4444444444444444, \"#bd3786\"], [0.5555555555555556, \"#d8576b\"], [0.6666666666666666, \"#ed7953\"], [0.7777777777777778, \"#fb9f3a\"], [0.8888888888888888, \"#fdca26\"], [1.0, \"#f0f921\"]], \"type\": \"contour\"}], \"contourcarpet\": [{\"colorbar\": {\"outlinewidth\": 0, \"ticks\": \"\"}, \"type\": \"contourcarpet\"}], \"heatmap\": [{\"colorbar\": {\"outlinewidth\": 0, \"ticks\": \"\"}, \"colorscale\": [[0.0, \"#0d0887\"], [0.1111111111111111, \"#46039f\"], [0.2222222222222222, \"#7201a8\"], [0.3333333333333333, \"#9c179e\"], [0.4444444444444444, \"#bd3786\"], [0.5555555555555556, \"#d8576b\"], [0.6666666666666666, \"#ed7953\"], [0.7777777777777778, \"#fb9f3a\"], [0.8888888888888888, \"#fdca26\"], [1.0, \"#f0f921\"]], \"type\": \"heatmap\"}], \"heatmapgl\": [{\"colorbar\": {\"outlinewidth\": 0, \"ticks\": \"\"}, \"colorscale\": [[0.0, \"#0d0887\"], [0.1111111111111111, \"#46039f\"], [0.2222222222222222, \"#7201a8\"], [0.3333333333333333, \"#9c179e\"], [0.4444444444444444, \"#bd3786\"], [0.5555555555555556, \"#d8576b\"], [0.6666666666666666, \"#ed7953\"], [0.7777777777777778, \"#fb9f3a\"], [0.8888888888888888, \"#fdca26\"], [1.0, \"#f0f921\"]], \"type\": \"heatmapgl\"}], \"histogram\": [{\"marker\": {\"colorbar\": {\"outlinewidth\": 0, \"ticks\": \"\"}}, \"type\": \"histogram\"}], \"histogram2d\": [{\"colorbar\": {\"outlinewidth\": 0, \"ticks\": \"\"}, \"colorscale\": [[0.0, \"#0d0887\"], [0.1111111111111111, \"#46039f\"], [0.2222222222222222, \"#7201a8\"], [0.3333333333333333, \"#9c179e\"], [0.4444444444444444, \"#bd3786\"], [0.5555555555555556, \"#d8576b\"], [0.6666666666666666, \"#ed7953\"], [0.7777777777777778, \"#fb9f3a\"], [0.8888888888888888, \"#fdca26\"], [1.0, \"#f0f921\"]], \"type\": \"histogram2d\"}], \"histogram2dcontour\": [{\"colorbar\": {\"outlinewidth\": 0, \"ticks\": \"\"}, \"colorscale\": [[0.0, \"#0d0887\"], [0.1111111111111111, \"#46039f\"], [0.2222222222222222, \"#7201a8\"], [0.3333333333333333, \"#9c179e\"], [0.4444444444444444, \"#bd3786\"], [0.5555555555555556, \"#d8576b\"], [0.6666666666666666, \"#ed7953\"], [0.7777777777777778, \"#fb9f3a\"], [0.8888888888888888, \"#fdca26\"], [1.0, \"#f0f921\"]], \"type\": \"histogram2dcontour\"}], \"mesh3d\": [{\"colorbar\": {\"outlinewidth\": 0, \"ticks\": \"\"}, \"type\": \"mesh3d\"}], \"parcoords\": [{\"line\": {\"colorbar\": {\"outlinewidth\": 0, \"ticks\": \"\"}}, \"type\": \"parcoords\"}], \"pie\": [{\"automargin\": true, \"type\": \"pie\"}], \"scatter\": [{\"marker\": {\"colorbar\": {\"outlinewidth\": 0, \"ticks\": \"\"}}, \"type\": \"scatter\"}], \"scatter3d\": [{\"line\": {\"colorbar\": {\"outlinewidth\": 0, \"ticks\": \"\"}}, \"marker\": {\"colorbar\": {\"outlinewidth\": 0, \"ticks\": \"\"}}, \"type\": \"scatter3d\"}], \"scattercarpet\": [{\"marker\": {\"colorbar\": {\"outlinewidth\": 0, \"ticks\": \"\"}}, \"type\": \"scattercarpet\"}], \"scattergeo\": [{\"marker\": {\"colorbar\": {\"outlinewidth\": 0, \"ticks\": \"\"}}, \"type\": \"scattergeo\"}], \"scattergl\": [{\"marker\": {\"colorbar\": {\"outlinewidth\": 0, \"ticks\": \"\"}}, \"type\": \"scattergl\"}], \"scattermapbox\": [{\"marker\": {\"colorbar\": {\"outlinewidth\": 0, \"ticks\": \"\"}}, \"type\": \"scattermapbox\"}], \"scatterpolar\": [{\"marker\": {\"colorbar\": {\"outlinewidth\": 0, \"ticks\": \"\"}}, \"type\": \"scatterpolar\"}], \"scatterpolargl\": [{\"marker\": {\"colorbar\": {\"outlinewidth\": 0, \"ticks\": \"\"}}, \"type\": \"scatterpolargl\"}], \"scatterternary\": [{\"marker\": {\"colorbar\": {\"outlinewidth\": 0, \"ticks\": \"\"}}, \"type\": \"scatterternary\"}], \"surface\": [{\"colorbar\": {\"outlinewidth\": 0, \"ticks\": \"\"}, \"colorscale\": [[0.0, \"#0d0887\"], [0.1111111111111111, \"#46039f\"], [0.2222222222222222, \"#7201a8\"], [0.3333333333333333, \"#9c179e\"], [0.4444444444444444, \"#bd3786\"], [0.5555555555555556, \"#d8576b\"], [0.6666666666666666, \"#ed7953\"], [0.7777777777777778, \"#fb9f3a\"], [0.8888888888888888, \"#fdca26\"], [1.0, \"#f0f921\"]], \"type\": \"surface\"}], \"table\": [{\"cells\": {\"fill\": {\"color\": \"#EBF0F8\"}, \"line\": {\"color\": \"white\"}}, \"header\": {\"fill\": {\"color\": \"#C8D4E3\"}, \"line\": {\"color\": \"white\"}}, \"type\": \"table\"}]}, \"layout\": {\"annotationdefaults\": {\"arrowcolor\": \"#2a3f5f\", \"arrowhead\": 0, \"arrowwidth\": 1}, \"coloraxis\": {\"colorbar\": {\"outlinewidth\": 0, \"ticks\": \"\"}}, \"colorscale\": {\"diverging\": [[0, \"#8e0152\"], [0.1, \"#c51b7d\"], [0.2, \"#de77ae\"], [0.3, \"#f1b6da\"], [0.4, \"#fde0ef\"], [0.5, \"#f7f7f7\"], [0.6, \"#e6f5d0\"], [0.7, \"#b8e186\"], [0.8, \"#7fbc41\"], [0.9, \"#4d9221\"], [1, \"#276419\"]], \"sequential\": [[0.0, \"#0d0887\"], [0.1111111111111111, \"#46039f\"], [0.2222222222222222, \"#7201a8\"], [0.3333333333333333, \"#9c179e\"], [0.4444444444444444, \"#bd3786\"], [0.5555555555555556, \"#d8576b\"], [0.6666666666666666, \"#ed7953\"], [0.7777777777777778, \"#fb9f3a\"], [0.8888888888888888, \"#fdca26\"], [1.0, \"#f0f921\"]], \"sequentialminus\": [[0.0, \"#0d0887\"], [0.1111111111111111, \"#46039f\"], [0.2222222222222222, \"#7201a8\"], [0.3333333333333333, \"#9c179e\"], [0.4444444444444444, \"#bd3786\"], [0.5555555555555556, \"#d8576b\"], [0.6666666666666666, \"#ed7953\"], [0.7777777777777778, \"#fb9f3a\"], [0.8888888888888888, \"#fdca26\"], [1.0, \"#f0f921\"]]}, \"colorway\": [\"#636efa\", \"#EF553B\", \"#00cc96\", \"#ab63fa\", \"#FFA15A\", \"#19d3f3\", \"#FF6692\", \"#B6E880\", \"#FF97FF\", \"#FECB52\"], \"font\": {\"color\": \"#2a3f5f\"}, \"geo\": {\"bgcolor\": \"white\", \"lakecolor\": \"white\", \"landcolor\": \"#E5ECF6\", \"showlakes\": true, \"showland\": true, \"subunitcolor\": \"white\"}, \"hoverlabel\": {\"align\": \"left\"}, \"hovermode\": \"closest\", \"mapbox\": {\"style\": \"light\"}, \"paper_bgcolor\": \"white\", \"plot_bgcolor\": \"#E5ECF6\", \"polar\": {\"angularaxis\": {\"gridcolor\": \"white\", \"linecolor\": \"white\", \"ticks\": \"\"}, \"bgcolor\": \"#E5ECF6\", \"radialaxis\": {\"gridcolor\": \"white\", \"linecolor\": \"white\", \"ticks\": \"\"}}, \"scene\": {\"xaxis\": {\"backgroundcolor\": \"#E5ECF6\", \"gridcolor\": \"white\", \"gridwidth\": 2, \"linecolor\": \"white\", \"showbackground\": true, \"ticks\": \"\", \"zerolinecolor\": \"white\"}, \"yaxis\": {\"backgroundcolor\": \"#E5ECF6\", \"gridcolor\": \"white\", \"gridwidth\": 2, \"linecolor\": \"white\", \"showbackground\": true, \"ticks\": \"\", \"zerolinecolor\": \"white\"}, \"zaxis\": {\"backgroundcolor\": \"#E5ECF6\", \"gridcolor\": \"white\", \"gridwidth\": 2, \"linecolor\": \"white\", \"showbackground\": true, \"ticks\": \"\", \"zerolinecolor\": \"white\"}}, \"shapedefaults\": {\"line\": {\"color\": \"#2a3f5f\"}}, \"ternary\": {\"aaxis\": {\"gridcolor\": \"white\", \"linecolor\": \"white\", \"ticks\": \"\"}, \"baxis\": {\"gridcolor\": \"white\", \"linecolor\": \"white\", \"ticks\": \"\"}, \"bgcolor\": \"#E5ECF6\", \"caxis\": {\"gridcolor\": \"white\", \"linecolor\": \"white\", \"ticks\": \"\"}}, \"title\": {\"x\": 0.05}, \"xaxis\": {\"automargin\": true, \"gridcolor\": \"white\", \"linecolor\": \"white\", \"ticks\": \"\", \"title\": {\"standoff\": 15}, \"zerolinecolor\": \"white\", \"zerolinewidth\": 2}, \"yaxis\": {\"automargin\": true, \"gridcolor\": \"white\", \"linecolor\": \"white\", \"ticks\": \"\", \"title\": {\"standoff\": 15}, \"zerolinecolor\": \"white\", \"zerolinewidth\": 2}}}, \"xaxis\": {\"anchor\": \"y\", \"domain\": [0.0, 1.0], \"title\": {\"text\": \"Occupancy\"}}, \"yaxis\": {\"anchor\": \"x\", \"domain\": [0.0, 1.0], \"title\": {\"text\": \"Payment / mth\"}}},\n",
       "                        {\"responsive\": true}\n",
       "                    ).then(function(){\n",
       "                            \n",
       "var gd = document.getElementById('bda17856-66c2-4c43-b2f2-cfc26503462f');\n",
       "var x = new MutationObserver(function (mutations, observer) {{\n",
       "        var display = window.getComputedStyle(gd).display;\n",
       "        if (!display || display === 'none') {{\n",
       "            console.log([gd, 'removed!']);\n",
       "            Plotly.purge(gd);\n",
       "            observer.disconnect();\n",
       "        }}\n",
       "}});\n",
       "\n",
       "// Listen for the removal of the full notebook cells\n",
       "var notebookContainer = gd.closest('#notebook-container');\n",
       "if (notebookContainer) {{\n",
       "    x.observe(notebookContainer, {childList: true});\n",
       "}}\n",
       "\n",
       "// Listen for the clearing of the current output cell\n",
       "var outputEl = gd.closest('.output');\n",
       "if (outputEl) {{\n",
       "    x.observe(outputEl, {childList: true});\n",
       "}}\n",
       "\n",
       "                        })\n",
       "                };\n",
       "                });\n",
       "            </script>\n",
       "        </div>"
      ]
     },
     "metadata": {},
     "output_type": "display_data"
    }
   ],
   "source": [
    "fig = px.scatter(temp_data,x='Occupancy', y='Payment / mth', size='Payment / mth')\n",
    "fig.write_html('data/plots/occupancy_vs_price.html')\n",
    "fig.write_image('data/plots/occupancy_vs_price.png')\n",
    "fig.show()"
   ]
  },
  {
   "cell_type": "code",
   "execution_count": 87,
   "metadata": {},
   "outputs": [
    {
     "data": {
      "application/vnd.plotly.v1+json": {
       "config": {
        "plotlyServerURL": "https://plot.ly"
       },
       "data": [
        {
         "alignmentgroup": "True",
         "hovertemplate": "Street=%{x}<br>Payment / mth=%{marker.color}<extra></extra>",
         "legendgroup": "",
         "marker": {
          "color": [
           4638,
           1300,
           35558,
           460,
           7389,
           21875,
           800,
           2200,
           443,
           53628,
           2665,
           2000,
           2000,
           1350,
           1350,
           1022,
           3625,
           8430,
           813,
           987,
           4598,
           32970,
           290,
           595,
           15000,
           507,
           544,
           35220,
           528,
           580,
           300,
           872,
           805
          ],
          "coloraxis": "coloraxis"
         },
         "name": "",
         "offsetgroup": "",
         "orientation": "v",
         "showlegend": false,
         "textposition": "auto",
         "type": "bar",
         "x": [
          "5th Street",
          "Bryant Street",
          "Folsom Street",
          "Folsom Street",
          "Federal Street",
          "Clementina Street",
          "New Montgomery Street",
          "Tehama Street",
          "Natoma Street",
          "New Montgomery Street",
          "Market Street",
          "Mission Street",
          "Mission Street",
          "Mission Street",
          "Mission Street",
          "Market Street",
          "Market Street",
          "Geary Street",
          "Montgomery Street",
          "Spear Street",
          "Bush Street",
          "Sutter Street",
          "Montgomery Street",
          "11th Street",
          "Montgomery Street",
          "California Street",
          "Embarcadero Center",
          "Commercial Street",
          "Montgomery Street",
          "Mission Street",
          "Battery Street ",
          "Montgomery Street",
          "Montgomery Street"
         ],
         "xaxis": "x",
         "y": [
          4638,
          1300,
          35558,
          460,
          7389,
          21875,
          800,
          2200,
          443,
          53628,
          2665,
          2000,
          2000,
          1350,
          1350,
          1022,
          3625,
          8430,
          813,
          987,
          4598,
          32970,
          290,
          595,
          15000,
          507,
          544,
          35220,
          528,
          580,
          300,
          872,
          805
         ],
         "yaxis": "y"
        }
       ],
       "layout": {
        "barmode": "relative",
        "coloraxis": {
         "colorbar": {
          "title": {
           "text": "Payment / mth"
          }
         },
         "colorscale": [
          [
           0,
           "#0d0887"
          ],
          [
           0.1111111111111111,
           "#46039f"
          ],
          [
           0.2222222222222222,
           "#7201a8"
          ],
          [
           0.3333333333333333,
           "#9c179e"
          ],
          [
           0.4444444444444444,
           "#bd3786"
          ],
          [
           0.5555555555555556,
           "#d8576b"
          ],
          [
           0.6666666666666666,
           "#ed7953"
          ],
          [
           0.7777777777777778,
           "#fb9f3a"
          ],
          [
           0.8888888888888888,
           "#fdca26"
          ],
          [
           1,
           "#f0f921"
          ]
         ]
        },
        "legend": {
         "tracegroupgap": 0
        },
        "template": {
         "data": {
          "bar": [
           {
            "error_x": {
             "color": "#2a3f5f"
            },
            "error_y": {
             "color": "#2a3f5f"
            },
            "marker": {
             "line": {
              "color": "#E5ECF6",
              "width": 0.5
             }
            },
            "type": "bar"
           }
          ],
          "barpolar": [
           {
            "marker": {
             "line": {
              "color": "#E5ECF6",
              "width": 0.5
             }
            },
            "type": "barpolar"
           }
          ],
          "carpet": [
           {
            "aaxis": {
             "endlinecolor": "#2a3f5f",
             "gridcolor": "white",
             "linecolor": "white",
             "minorgridcolor": "white",
             "startlinecolor": "#2a3f5f"
            },
            "baxis": {
             "endlinecolor": "#2a3f5f",
             "gridcolor": "white",
             "linecolor": "white",
             "minorgridcolor": "white",
             "startlinecolor": "#2a3f5f"
            },
            "type": "carpet"
           }
          ],
          "choropleth": [
           {
            "colorbar": {
             "outlinewidth": 0,
             "ticks": ""
            },
            "type": "choropleth"
           }
          ],
          "contour": [
           {
            "colorbar": {
             "outlinewidth": 0,
             "ticks": ""
            },
            "colorscale": [
             [
              0,
              "#0d0887"
             ],
             [
              0.1111111111111111,
              "#46039f"
             ],
             [
              0.2222222222222222,
              "#7201a8"
             ],
             [
              0.3333333333333333,
              "#9c179e"
             ],
             [
              0.4444444444444444,
              "#bd3786"
             ],
             [
              0.5555555555555556,
              "#d8576b"
             ],
             [
              0.6666666666666666,
              "#ed7953"
             ],
             [
              0.7777777777777778,
              "#fb9f3a"
             ],
             [
              0.8888888888888888,
              "#fdca26"
             ],
             [
              1,
              "#f0f921"
             ]
            ],
            "type": "contour"
           }
          ],
          "contourcarpet": [
           {
            "colorbar": {
             "outlinewidth": 0,
             "ticks": ""
            },
            "type": "contourcarpet"
           }
          ],
          "heatmap": [
           {
            "colorbar": {
             "outlinewidth": 0,
             "ticks": ""
            },
            "colorscale": [
             [
              0,
              "#0d0887"
             ],
             [
              0.1111111111111111,
              "#46039f"
             ],
             [
              0.2222222222222222,
              "#7201a8"
             ],
             [
              0.3333333333333333,
              "#9c179e"
             ],
             [
              0.4444444444444444,
              "#bd3786"
             ],
             [
              0.5555555555555556,
              "#d8576b"
             ],
             [
              0.6666666666666666,
              "#ed7953"
             ],
             [
              0.7777777777777778,
              "#fb9f3a"
             ],
             [
              0.8888888888888888,
              "#fdca26"
             ],
             [
              1,
              "#f0f921"
             ]
            ],
            "type": "heatmap"
           }
          ],
          "heatmapgl": [
           {
            "colorbar": {
             "outlinewidth": 0,
             "ticks": ""
            },
            "colorscale": [
             [
              0,
              "#0d0887"
             ],
             [
              0.1111111111111111,
              "#46039f"
             ],
             [
              0.2222222222222222,
              "#7201a8"
             ],
             [
              0.3333333333333333,
              "#9c179e"
             ],
             [
              0.4444444444444444,
              "#bd3786"
             ],
             [
              0.5555555555555556,
              "#d8576b"
             ],
             [
              0.6666666666666666,
              "#ed7953"
             ],
             [
              0.7777777777777778,
              "#fb9f3a"
             ],
             [
              0.8888888888888888,
              "#fdca26"
             ],
             [
              1,
              "#f0f921"
             ]
            ],
            "type": "heatmapgl"
           }
          ],
          "histogram": [
           {
            "marker": {
             "colorbar": {
              "outlinewidth": 0,
              "ticks": ""
             }
            },
            "type": "histogram"
           }
          ],
          "histogram2d": [
           {
            "colorbar": {
             "outlinewidth": 0,
             "ticks": ""
            },
            "colorscale": [
             [
              0,
              "#0d0887"
             ],
             [
              0.1111111111111111,
              "#46039f"
             ],
             [
              0.2222222222222222,
              "#7201a8"
             ],
             [
              0.3333333333333333,
              "#9c179e"
             ],
             [
              0.4444444444444444,
              "#bd3786"
             ],
             [
              0.5555555555555556,
              "#d8576b"
             ],
             [
              0.6666666666666666,
              "#ed7953"
             ],
             [
              0.7777777777777778,
              "#fb9f3a"
             ],
             [
              0.8888888888888888,
              "#fdca26"
             ],
             [
              1,
              "#f0f921"
             ]
            ],
            "type": "histogram2d"
           }
          ],
          "histogram2dcontour": [
           {
            "colorbar": {
             "outlinewidth": 0,
             "ticks": ""
            },
            "colorscale": [
             [
              0,
              "#0d0887"
             ],
             [
              0.1111111111111111,
              "#46039f"
             ],
             [
              0.2222222222222222,
              "#7201a8"
             ],
             [
              0.3333333333333333,
              "#9c179e"
             ],
             [
              0.4444444444444444,
              "#bd3786"
             ],
             [
              0.5555555555555556,
              "#d8576b"
             ],
             [
              0.6666666666666666,
              "#ed7953"
             ],
             [
              0.7777777777777778,
              "#fb9f3a"
             ],
             [
              0.8888888888888888,
              "#fdca26"
             ],
             [
              1,
              "#f0f921"
             ]
            ],
            "type": "histogram2dcontour"
           }
          ],
          "mesh3d": [
           {
            "colorbar": {
             "outlinewidth": 0,
             "ticks": ""
            },
            "type": "mesh3d"
           }
          ],
          "parcoords": [
           {
            "line": {
             "colorbar": {
              "outlinewidth": 0,
              "ticks": ""
             }
            },
            "type": "parcoords"
           }
          ],
          "pie": [
           {
            "automargin": true,
            "type": "pie"
           }
          ],
          "scatter": [
           {
            "marker": {
             "colorbar": {
              "outlinewidth": 0,
              "ticks": ""
             }
            },
            "type": "scatter"
           }
          ],
          "scatter3d": [
           {
            "line": {
             "colorbar": {
              "outlinewidth": 0,
              "ticks": ""
             }
            },
            "marker": {
             "colorbar": {
              "outlinewidth": 0,
              "ticks": ""
             }
            },
            "type": "scatter3d"
           }
          ],
          "scattercarpet": [
           {
            "marker": {
             "colorbar": {
              "outlinewidth": 0,
              "ticks": ""
             }
            },
            "type": "scattercarpet"
           }
          ],
          "scattergeo": [
           {
            "marker": {
             "colorbar": {
              "outlinewidth": 0,
              "ticks": ""
             }
            },
            "type": "scattergeo"
           }
          ],
          "scattergl": [
           {
            "marker": {
             "colorbar": {
              "outlinewidth": 0,
              "ticks": ""
             }
            },
            "type": "scattergl"
           }
          ],
          "scattermapbox": [
           {
            "marker": {
             "colorbar": {
              "outlinewidth": 0,
              "ticks": ""
             }
            },
            "type": "scattermapbox"
           }
          ],
          "scatterpolar": [
           {
            "marker": {
             "colorbar": {
              "outlinewidth": 0,
              "ticks": ""
             }
            },
            "type": "scatterpolar"
           }
          ],
          "scatterpolargl": [
           {
            "marker": {
             "colorbar": {
              "outlinewidth": 0,
              "ticks": ""
             }
            },
            "type": "scatterpolargl"
           }
          ],
          "scatterternary": [
           {
            "marker": {
             "colorbar": {
              "outlinewidth": 0,
              "ticks": ""
             }
            },
            "type": "scatterternary"
           }
          ],
          "surface": [
           {
            "colorbar": {
             "outlinewidth": 0,
             "ticks": ""
            },
            "colorscale": [
             [
              0,
              "#0d0887"
             ],
             [
              0.1111111111111111,
              "#46039f"
             ],
             [
              0.2222222222222222,
              "#7201a8"
             ],
             [
              0.3333333333333333,
              "#9c179e"
             ],
             [
              0.4444444444444444,
              "#bd3786"
             ],
             [
              0.5555555555555556,
              "#d8576b"
             ],
             [
              0.6666666666666666,
              "#ed7953"
             ],
             [
              0.7777777777777778,
              "#fb9f3a"
             ],
             [
              0.8888888888888888,
              "#fdca26"
             ],
             [
              1,
              "#f0f921"
             ]
            ],
            "type": "surface"
           }
          ],
          "table": [
           {
            "cells": {
             "fill": {
              "color": "#EBF0F8"
             },
             "line": {
              "color": "white"
             }
            },
            "header": {
             "fill": {
              "color": "#C8D4E3"
             },
             "line": {
              "color": "white"
             }
            },
            "type": "table"
           }
          ]
         },
         "layout": {
          "annotationdefaults": {
           "arrowcolor": "#2a3f5f",
           "arrowhead": 0,
           "arrowwidth": 1
          },
          "coloraxis": {
           "colorbar": {
            "outlinewidth": 0,
            "ticks": ""
           }
          },
          "colorscale": {
           "diverging": [
            [
             0,
             "#8e0152"
            ],
            [
             0.1,
             "#c51b7d"
            ],
            [
             0.2,
             "#de77ae"
            ],
            [
             0.3,
             "#f1b6da"
            ],
            [
             0.4,
             "#fde0ef"
            ],
            [
             0.5,
             "#f7f7f7"
            ],
            [
             0.6,
             "#e6f5d0"
            ],
            [
             0.7,
             "#b8e186"
            ],
            [
             0.8,
             "#7fbc41"
            ],
            [
             0.9,
             "#4d9221"
            ],
            [
             1,
             "#276419"
            ]
           ],
           "sequential": [
            [
             0,
             "#0d0887"
            ],
            [
             0.1111111111111111,
             "#46039f"
            ],
            [
             0.2222222222222222,
             "#7201a8"
            ],
            [
             0.3333333333333333,
             "#9c179e"
            ],
            [
             0.4444444444444444,
             "#bd3786"
            ],
            [
             0.5555555555555556,
             "#d8576b"
            ],
            [
             0.6666666666666666,
             "#ed7953"
            ],
            [
             0.7777777777777778,
             "#fb9f3a"
            ],
            [
             0.8888888888888888,
             "#fdca26"
            ],
            [
             1,
             "#f0f921"
            ]
           ],
           "sequentialminus": [
            [
             0,
             "#0d0887"
            ],
            [
             0.1111111111111111,
             "#46039f"
            ],
            [
             0.2222222222222222,
             "#7201a8"
            ],
            [
             0.3333333333333333,
             "#9c179e"
            ],
            [
             0.4444444444444444,
             "#bd3786"
            ],
            [
             0.5555555555555556,
             "#d8576b"
            ],
            [
             0.6666666666666666,
             "#ed7953"
            ],
            [
             0.7777777777777778,
             "#fb9f3a"
            ],
            [
             0.8888888888888888,
             "#fdca26"
            ],
            [
             1,
             "#f0f921"
            ]
           ]
          },
          "colorway": [
           "#636efa",
           "#EF553B",
           "#00cc96",
           "#ab63fa",
           "#FFA15A",
           "#19d3f3",
           "#FF6692",
           "#B6E880",
           "#FF97FF",
           "#FECB52"
          ],
          "font": {
           "color": "#2a3f5f"
          },
          "geo": {
           "bgcolor": "white",
           "lakecolor": "white",
           "landcolor": "#E5ECF6",
           "showlakes": true,
           "showland": true,
           "subunitcolor": "white"
          },
          "hoverlabel": {
           "align": "left"
          },
          "hovermode": "closest",
          "mapbox": {
           "style": "light"
          },
          "paper_bgcolor": "white",
          "plot_bgcolor": "#E5ECF6",
          "polar": {
           "angularaxis": {
            "gridcolor": "white",
            "linecolor": "white",
            "ticks": ""
           },
           "bgcolor": "#E5ECF6",
           "radialaxis": {
            "gridcolor": "white",
            "linecolor": "white",
            "ticks": ""
           }
          },
          "scene": {
           "xaxis": {
            "backgroundcolor": "#E5ECF6",
            "gridcolor": "white",
            "gridwidth": 2,
            "linecolor": "white",
            "showbackground": true,
            "ticks": "",
            "zerolinecolor": "white"
           },
           "yaxis": {
            "backgroundcolor": "#E5ECF6",
            "gridcolor": "white",
            "gridwidth": 2,
            "linecolor": "white",
            "showbackground": true,
            "ticks": "",
            "zerolinecolor": "white"
           },
           "zaxis": {
            "backgroundcolor": "#E5ECF6",
            "gridcolor": "white",
            "gridwidth": 2,
            "linecolor": "white",
            "showbackground": true,
            "ticks": "",
            "zerolinecolor": "white"
           }
          },
          "shapedefaults": {
           "line": {
            "color": "#2a3f5f"
           }
          },
          "ternary": {
           "aaxis": {
            "gridcolor": "white",
            "linecolor": "white",
            "ticks": ""
           },
           "baxis": {
            "gridcolor": "white",
            "linecolor": "white",
            "ticks": ""
           },
           "bgcolor": "#E5ECF6",
           "caxis": {
            "gridcolor": "white",
            "linecolor": "white",
            "ticks": ""
           }
          },
          "title": {
           "x": 0.05
          },
          "xaxis": {
           "automargin": true,
           "gridcolor": "white",
           "linecolor": "white",
           "ticks": "",
           "title": {
            "standoff": 15
           },
           "zerolinecolor": "white",
           "zerolinewidth": 2
          },
          "yaxis": {
           "automargin": true,
           "gridcolor": "white",
           "linecolor": "white",
           "ticks": "",
           "title": {
            "standoff": 15
           },
           "zerolinecolor": "white",
           "zerolinewidth": 2
          }
         }
        },
        "title": {
         "text": "Prices by Street"
        },
        "xaxis": {
         "anchor": "y",
         "domain": [
          0,
          1
         ],
         "title": {
          "text": "Street"
         }
        },
        "yaxis": {
         "anchor": "x",
         "domain": [
          0,
          1
         ],
         "title": {
          "text": "Payment / mth"
         }
        }
       }
      },
      "text/html": [
       "<div>\n",
       "        \n",
       "        \n",
       "            <div id=\"1ce23ffa-91f8-45bc-90e0-8c1c8647c5fc\" class=\"plotly-graph-div\" style=\"height:525px; width:100%;\"></div>\n",
       "            <script type=\"text/javascript\">\n",
       "                require([\"plotly\"], function(Plotly) {\n",
       "                    window.PLOTLYENV=window.PLOTLYENV || {};\n",
       "                    \n",
       "                if (document.getElementById(\"1ce23ffa-91f8-45bc-90e0-8c1c8647c5fc\")) {\n",
       "                    Plotly.newPlot(\n",
       "                        '1ce23ffa-91f8-45bc-90e0-8c1c8647c5fc',\n",
       "                        [{\"alignmentgroup\": \"True\", \"hovertemplate\": \"Street=%{x}<br>Payment / mth=%{marker.color}<extra></extra>\", \"legendgroup\": \"\", \"marker\": {\"color\": [4638, 1300, 35558, 460, 7389, 21875, 800, 2200, 443, 53628, 2665, 2000, 2000, 1350, 1350, 1022, 3625, 8430, 813, 987, 4598, 32970, 290, 595, 15000, 507, 544, 35220, 528, 580, 300, 872, 805], \"coloraxis\": \"coloraxis\"}, \"name\": \"\", \"offsetgroup\": \"\", \"orientation\": \"v\", \"showlegend\": false, \"textposition\": \"auto\", \"type\": \"bar\", \"x\": [\"5th Street\", \"Bryant Street\", \"Folsom Street\", \"Folsom Street\", \"Federal Street\", \"Clementina Street\", \"New Montgomery Street\", \"Tehama Street\", \"Natoma Street\", \"New Montgomery Street\", \"Market Street\", \"Mission Street\", \"Mission Street\", \"Mission Street\", \"Mission Street\", \"Market Street\", \"Market Street\", \"Geary Street\", \"Montgomery Street\", \"Spear Street\", \"Bush Street\", \"Sutter Street\", \"Montgomery Street\", \"11th Street\", \"Montgomery Street\", \"California Street\", \"Embarcadero Center\", \"Commercial Street\", \"Montgomery Street\", \"Mission Street\", \"Battery Street \", \"Montgomery Street\", \"Montgomery Street\"], \"xaxis\": \"x\", \"y\": [4638, 1300, 35558, 460, 7389, 21875, 800, 2200, 443, 53628, 2665, 2000, 2000, 1350, 1350, 1022, 3625, 8430, 813, 987, 4598, 32970, 290, 595, 15000, 507, 544, 35220, 528, 580, 300, 872, 805], \"yaxis\": \"y\"}],\n",
       "                        {\"barmode\": \"relative\", \"coloraxis\": {\"colorbar\": {\"title\": {\"text\": \"Payment / mth\"}}, \"colorscale\": [[0.0, \"#0d0887\"], [0.1111111111111111, \"#46039f\"], [0.2222222222222222, \"#7201a8\"], [0.3333333333333333, \"#9c179e\"], [0.4444444444444444, \"#bd3786\"], [0.5555555555555556, \"#d8576b\"], [0.6666666666666666, \"#ed7953\"], [0.7777777777777778, \"#fb9f3a\"], [0.8888888888888888, \"#fdca26\"], [1.0, \"#f0f921\"]]}, \"legend\": {\"tracegroupgap\": 0}, \"template\": {\"data\": {\"bar\": [{\"error_x\": {\"color\": \"#2a3f5f\"}, \"error_y\": {\"color\": \"#2a3f5f\"}, \"marker\": {\"line\": {\"color\": \"#E5ECF6\", \"width\": 0.5}}, \"type\": \"bar\"}], \"barpolar\": [{\"marker\": {\"line\": {\"color\": \"#E5ECF6\", \"width\": 0.5}}, \"type\": \"barpolar\"}], \"carpet\": [{\"aaxis\": {\"endlinecolor\": \"#2a3f5f\", \"gridcolor\": \"white\", \"linecolor\": \"white\", \"minorgridcolor\": \"white\", \"startlinecolor\": \"#2a3f5f\"}, \"baxis\": {\"endlinecolor\": \"#2a3f5f\", \"gridcolor\": \"white\", \"linecolor\": \"white\", \"minorgridcolor\": \"white\", \"startlinecolor\": \"#2a3f5f\"}, \"type\": \"carpet\"}], \"choropleth\": [{\"colorbar\": {\"outlinewidth\": 0, \"ticks\": \"\"}, \"type\": \"choropleth\"}], \"contour\": [{\"colorbar\": {\"outlinewidth\": 0, \"ticks\": \"\"}, \"colorscale\": [[0.0, \"#0d0887\"], [0.1111111111111111, \"#46039f\"], [0.2222222222222222, \"#7201a8\"], [0.3333333333333333, \"#9c179e\"], [0.4444444444444444, \"#bd3786\"], [0.5555555555555556, \"#d8576b\"], [0.6666666666666666, \"#ed7953\"], [0.7777777777777778, \"#fb9f3a\"], [0.8888888888888888, \"#fdca26\"], [1.0, \"#f0f921\"]], \"type\": \"contour\"}], \"contourcarpet\": [{\"colorbar\": {\"outlinewidth\": 0, \"ticks\": \"\"}, \"type\": \"contourcarpet\"}], \"heatmap\": [{\"colorbar\": {\"outlinewidth\": 0, \"ticks\": \"\"}, \"colorscale\": [[0.0, \"#0d0887\"], [0.1111111111111111, \"#46039f\"], [0.2222222222222222, \"#7201a8\"], [0.3333333333333333, \"#9c179e\"], [0.4444444444444444, \"#bd3786\"], [0.5555555555555556, \"#d8576b\"], [0.6666666666666666, \"#ed7953\"], [0.7777777777777778, \"#fb9f3a\"], [0.8888888888888888, \"#fdca26\"], [1.0, \"#f0f921\"]], \"type\": \"heatmap\"}], \"heatmapgl\": [{\"colorbar\": {\"outlinewidth\": 0, \"ticks\": \"\"}, \"colorscale\": [[0.0, \"#0d0887\"], [0.1111111111111111, \"#46039f\"], [0.2222222222222222, \"#7201a8\"], [0.3333333333333333, \"#9c179e\"], [0.4444444444444444, \"#bd3786\"], [0.5555555555555556, \"#d8576b\"], [0.6666666666666666, \"#ed7953\"], [0.7777777777777778, \"#fb9f3a\"], [0.8888888888888888, \"#fdca26\"], [1.0, \"#f0f921\"]], \"type\": \"heatmapgl\"}], \"histogram\": [{\"marker\": {\"colorbar\": {\"outlinewidth\": 0, \"ticks\": \"\"}}, \"type\": \"histogram\"}], \"histogram2d\": [{\"colorbar\": {\"outlinewidth\": 0, \"ticks\": \"\"}, \"colorscale\": [[0.0, \"#0d0887\"], [0.1111111111111111, \"#46039f\"], [0.2222222222222222, \"#7201a8\"], [0.3333333333333333, \"#9c179e\"], [0.4444444444444444, \"#bd3786\"], [0.5555555555555556, \"#d8576b\"], [0.6666666666666666, \"#ed7953\"], [0.7777777777777778, \"#fb9f3a\"], [0.8888888888888888, \"#fdca26\"], [1.0, \"#f0f921\"]], \"type\": \"histogram2d\"}], \"histogram2dcontour\": [{\"colorbar\": {\"outlinewidth\": 0, \"ticks\": \"\"}, \"colorscale\": [[0.0, \"#0d0887\"], [0.1111111111111111, \"#46039f\"], [0.2222222222222222, \"#7201a8\"], [0.3333333333333333, \"#9c179e\"], [0.4444444444444444, \"#bd3786\"], [0.5555555555555556, \"#d8576b\"], [0.6666666666666666, \"#ed7953\"], [0.7777777777777778, \"#fb9f3a\"], [0.8888888888888888, \"#fdca26\"], [1.0, \"#f0f921\"]], \"type\": \"histogram2dcontour\"}], \"mesh3d\": [{\"colorbar\": {\"outlinewidth\": 0, \"ticks\": \"\"}, \"type\": \"mesh3d\"}], \"parcoords\": [{\"line\": {\"colorbar\": {\"outlinewidth\": 0, \"ticks\": \"\"}}, \"type\": \"parcoords\"}], \"pie\": [{\"automargin\": true, \"type\": \"pie\"}], \"scatter\": [{\"marker\": {\"colorbar\": {\"outlinewidth\": 0, \"ticks\": \"\"}}, \"type\": \"scatter\"}], \"scatter3d\": [{\"line\": {\"colorbar\": {\"outlinewidth\": 0, \"ticks\": \"\"}}, \"marker\": {\"colorbar\": {\"outlinewidth\": 0, \"ticks\": \"\"}}, \"type\": \"scatter3d\"}], \"scattercarpet\": [{\"marker\": {\"colorbar\": {\"outlinewidth\": 0, \"ticks\": \"\"}}, \"type\": \"scattercarpet\"}], \"scattergeo\": [{\"marker\": {\"colorbar\": {\"outlinewidth\": 0, \"ticks\": \"\"}}, \"type\": \"scattergeo\"}], \"scattergl\": [{\"marker\": {\"colorbar\": {\"outlinewidth\": 0, \"ticks\": \"\"}}, \"type\": \"scattergl\"}], \"scattermapbox\": [{\"marker\": {\"colorbar\": {\"outlinewidth\": 0, \"ticks\": \"\"}}, \"type\": \"scattermapbox\"}], \"scatterpolar\": [{\"marker\": {\"colorbar\": {\"outlinewidth\": 0, \"ticks\": \"\"}}, \"type\": \"scatterpolar\"}], \"scatterpolargl\": [{\"marker\": {\"colorbar\": {\"outlinewidth\": 0, \"ticks\": \"\"}}, \"type\": \"scatterpolargl\"}], \"scatterternary\": [{\"marker\": {\"colorbar\": {\"outlinewidth\": 0, \"ticks\": \"\"}}, \"type\": \"scatterternary\"}], \"surface\": [{\"colorbar\": {\"outlinewidth\": 0, \"ticks\": \"\"}, \"colorscale\": [[0.0, \"#0d0887\"], [0.1111111111111111, \"#46039f\"], [0.2222222222222222, \"#7201a8\"], [0.3333333333333333, \"#9c179e\"], [0.4444444444444444, \"#bd3786\"], [0.5555555555555556, \"#d8576b\"], [0.6666666666666666, \"#ed7953\"], [0.7777777777777778, \"#fb9f3a\"], [0.8888888888888888, \"#fdca26\"], [1.0, \"#f0f921\"]], \"type\": \"surface\"}], \"table\": [{\"cells\": {\"fill\": {\"color\": \"#EBF0F8\"}, \"line\": {\"color\": \"white\"}}, \"header\": {\"fill\": {\"color\": \"#C8D4E3\"}, \"line\": {\"color\": \"white\"}}, \"type\": \"table\"}]}, \"layout\": {\"annotationdefaults\": {\"arrowcolor\": \"#2a3f5f\", \"arrowhead\": 0, \"arrowwidth\": 1}, \"coloraxis\": {\"colorbar\": {\"outlinewidth\": 0, \"ticks\": \"\"}}, \"colorscale\": {\"diverging\": [[0, \"#8e0152\"], [0.1, \"#c51b7d\"], [0.2, \"#de77ae\"], [0.3, \"#f1b6da\"], [0.4, \"#fde0ef\"], [0.5, \"#f7f7f7\"], [0.6, \"#e6f5d0\"], [0.7, \"#b8e186\"], [0.8, \"#7fbc41\"], [0.9, \"#4d9221\"], [1, \"#276419\"]], \"sequential\": [[0.0, \"#0d0887\"], [0.1111111111111111, \"#46039f\"], [0.2222222222222222, \"#7201a8\"], [0.3333333333333333, \"#9c179e\"], [0.4444444444444444, \"#bd3786\"], [0.5555555555555556, \"#d8576b\"], [0.6666666666666666, \"#ed7953\"], [0.7777777777777778, \"#fb9f3a\"], [0.8888888888888888, \"#fdca26\"], [1.0, \"#f0f921\"]], \"sequentialminus\": [[0.0, \"#0d0887\"], [0.1111111111111111, \"#46039f\"], [0.2222222222222222, \"#7201a8\"], [0.3333333333333333, \"#9c179e\"], [0.4444444444444444, \"#bd3786\"], [0.5555555555555556, \"#d8576b\"], [0.6666666666666666, \"#ed7953\"], [0.7777777777777778, \"#fb9f3a\"], [0.8888888888888888, \"#fdca26\"], [1.0, \"#f0f921\"]]}, \"colorway\": [\"#636efa\", \"#EF553B\", \"#00cc96\", \"#ab63fa\", \"#FFA15A\", \"#19d3f3\", \"#FF6692\", \"#B6E880\", \"#FF97FF\", \"#FECB52\"], \"font\": {\"color\": \"#2a3f5f\"}, \"geo\": {\"bgcolor\": \"white\", \"lakecolor\": \"white\", \"landcolor\": \"#E5ECF6\", \"showlakes\": true, \"showland\": true, \"subunitcolor\": \"white\"}, \"hoverlabel\": {\"align\": \"left\"}, \"hovermode\": \"closest\", \"mapbox\": {\"style\": \"light\"}, \"paper_bgcolor\": \"white\", \"plot_bgcolor\": \"#E5ECF6\", \"polar\": {\"angularaxis\": {\"gridcolor\": \"white\", \"linecolor\": \"white\", \"ticks\": \"\"}, \"bgcolor\": \"#E5ECF6\", \"radialaxis\": {\"gridcolor\": \"white\", \"linecolor\": \"white\", \"ticks\": \"\"}}, \"scene\": {\"xaxis\": {\"backgroundcolor\": \"#E5ECF6\", \"gridcolor\": \"white\", \"gridwidth\": 2, \"linecolor\": \"white\", \"showbackground\": true, \"ticks\": \"\", \"zerolinecolor\": \"white\"}, \"yaxis\": {\"backgroundcolor\": \"#E5ECF6\", \"gridcolor\": \"white\", \"gridwidth\": 2, \"linecolor\": \"white\", \"showbackground\": true, \"ticks\": \"\", \"zerolinecolor\": \"white\"}, \"zaxis\": {\"backgroundcolor\": \"#E5ECF6\", \"gridcolor\": \"white\", \"gridwidth\": 2, \"linecolor\": \"white\", \"showbackground\": true, \"ticks\": \"\", \"zerolinecolor\": \"white\"}}, \"shapedefaults\": {\"line\": {\"color\": \"#2a3f5f\"}}, \"ternary\": {\"aaxis\": {\"gridcolor\": \"white\", \"linecolor\": \"white\", \"ticks\": \"\"}, \"baxis\": {\"gridcolor\": \"white\", \"linecolor\": \"white\", \"ticks\": \"\"}, \"bgcolor\": \"#E5ECF6\", \"caxis\": {\"gridcolor\": \"white\", \"linecolor\": \"white\", \"ticks\": \"\"}}, \"title\": {\"x\": 0.05}, \"xaxis\": {\"automargin\": true, \"gridcolor\": \"white\", \"linecolor\": \"white\", \"ticks\": \"\", \"title\": {\"standoff\": 15}, \"zerolinecolor\": \"white\", \"zerolinewidth\": 2}, \"yaxis\": {\"automargin\": true, \"gridcolor\": \"white\", \"linecolor\": \"white\", \"ticks\": \"\", \"title\": {\"standoff\": 15}, \"zerolinecolor\": \"white\", \"zerolinewidth\": 2}}}, \"title\": {\"text\": \"Prices by Street\"}, \"xaxis\": {\"anchor\": \"y\", \"domain\": [0.0, 1.0], \"title\": {\"text\": \"Street\"}}, \"yaxis\": {\"anchor\": \"x\", \"domain\": [0.0, 1.0], \"title\": {\"text\": \"Payment / mth\"}}},\n",
       "                        {\"responsive\": true}\n",
       "                    ).then(function(){\n",
       "                            \n",
       "var gd = document.getElementById('1ce23ffa-91f8-45bc-90e0-8c1c8647c5fc');\n",
       "var x = new MutationObserver(function (mutations, observer) {{\n",
       "        var display = window.getComputedStyle(gd).display;\n",
       "        if (!display || display === 'none') {{\n",
       "            console.log([gd, 'removed!']);\n",
       "            Plotly.purge(gd);\n",
       "            observer.disconnect();\n",
       "        }}\n",
       "}});\n",
       "\n",
       "// Listen for the removal of the full notebook cells\n",
       "var notebookContainer = gd.closest('#notebook-container');\n",
       "if (notebookContainer) {{\n",
       "    x.observe(notebookContainer, {childList: true});\n",
       "}}\n",
       "\n",
       "// Listen for the clearing of the current output cell\n",
       "var outputEl = gd.closest('.output');\n",
       "if (outputEl) {{\n",
       "    x.observe(outputEl, {childList: true});\n",
       "}}\n",
       "\n",
       "                        })\n",
       "                };\n",
       "                });\n",
       "            </script>\n",
       "        </div>"
      ]
     },
     "metadata": {},
     "output_type": "display_data"
    }
   ],
   "source": [
    "fig = px.bar(final_data,x='Street',y ='Payment / mth',color='Payment / mth',title='Prices by Street')\n",
    "fig.write_html('data/plots/prices_by_street.html')\n",
    "fig.write_image('data/plots/prices_by_street.png')\n",
    "fig.show()"
   ]
  },
  {
   "cell_type": "code",
   "execution_count": 88,
   "metadata": {},
   "outputs": [
    {
     "data": {
      "application/vnd.plotly.v1+json": {
       "config": {
        "plotlyServerURL": "https://plot.ly"
       },
       "data": [
        {
         "branchvalues": "total",
         "customdata": [
          [
           2000
          ],
          [
           2665
          ],
          [
           8430
          ],
          [
           290
          ],
          [
           4638
          ],
          [
           21875
          ],
          [
           3625
          ],
          [
           4598
          ],
          [
           15000
          ],
          [
           35220
          ],
          [
           32970
          ],
          [
           443
          ],
          [
           53628
          ],
          [
           507
          ],
          [
           544
          ],
          [
           7389
          ],
          [
           460
          ],
          [
           768.2498870311794
          ],
          [
           987
          ],
          [
           35558
          ],
          [
           2200
          ],
          [
           300
          ],
          [
           595
          ],
          [
           1300
          ],
          [
           1022
          ],
          [
           1213.841463414634
          ],
          [
           805
          ],
          [
           800
          ],
          [
           595
          ],
          [
           4638
          ],
          [
           300
          ],
          [
           1300
          ],
          [
           4598
          ],
          [
           507
          ],
          [
           21875
          ],
          [
           35220
          ],
          [
           544
          ],
          [
           7389
          ],
          [
           35109.7496807152
          ],
          [
           8430
          ],
          [
           2911.2874726477025
          ],
          [
           1645.7967032967033
          ],
          [
           12422.5618308936
          ],
          [
           443
          ],
          [
           52851.51730726832
          ],
          [
           987
          ],
          [
           32970
          ],
          [
           2200
          ]
         ],
         "domain": {
          "x": [
           0,
           1
          ],
          "y": [
           0,
           1
          ]
         },
         "hovertemplate": "labels=%{label}<br>Payment / mth_sum=%{value}<br>parent=%{parent}<br>id=%{id}<br>Payment / mth=%{color}<extra></extra>",
         "ids": [
          "Mission Street/21",
          "Market Street/22",
          "Geary Street/24",
          "Montgomery Street/28",
          "5th Street/29",
          "Clementina Street/30",
          "Market Street/30",
          "Bush Street/33",
          "Montgomery Street/34",
          "Commercial Street/36",
          "Sutter Street/36",
          "Natoma Street/40",
          "New Montgomery Street/49",
          "California Street/50",
          "Embarcadero Center/50",
          "Federal Street/50",
          "Folsom Street/50",
          "Montgomery Street/50",
          "Spear Street/50",
          "Folsom Street/55",
          "Tehama Street/75",
          "Battery Street /99",
          "11th Street/100",
          "Bryant Street/100",
          "Market Street/100",
          "Mission Street/100",
          "Montgomery Street/100",
          "New Montgomery Street/300",
          "11th Street",
          "5th Street",
          "Battery Street ",
          "Bryant Street",
          "Bush Street",
          "California Street",
          "Clementina Street",
          "Commercial Street",
          "Embarcadero Center",
          "Federal Street",
          "Folsom Street",
          "Geary Street",
          "Market Street",
          "Mission Street",
          "Montgomery Street",
          "Natoma Street",
          "New Montgomery Street",
          "Spear Street",
          "Sutter Street",
          "Tehama Street"
         ],
         "labels": [
          "21",
          "22",
          "24",
          "28",
          "29",
          "30",
          "30",
          "33",
          "34",
          "36",
          "36",
          "40",
          "49",
          "50",
          "50",
          "50",
          "50",
          "50",
          "50",
          "55",
          "75",
          "99",
          "100",
          "100",
          "100",
          "100",
          "100",
          "300",
          "11th Street",
          "5th Street",
          "Battery Street ",
          "Bryant Street",
          "Bush Street",
          "California Street",
          "Clementina Street",
          "Commercial Street",
          "Embarcadero Center",
          "Federal Street",
          "Folsom Street",
          "Geary Street",
          "Market Street",
          "Mission Street",
          "Montgomery Street",
          "Natoma Street",
          "New Montgomery Street",
          "Spear Street",
          "Sutter Street",
          "Tehama Street"
         ],
         "marker": {
          "coloraxis": "coloraxis",
          "colors": [
           2000,
           2665,
           8430,
           290,
           4638,
           21875,
           3625,
           4598,
           15000,
           35220,
           32970,
           443,
           53628,
           507,
           544,
           7389,
           460,
           768.2498870311794,
           987,
           35558,
           2200,
           300,
           595,
           1300,
           1022,
           1213.841463414634,
           805,
           800,
           595,
           4638,
           300,
           1300,
           4598,
           507,
           21875,
           35220,
           544,
           7389,
           35109.7496807152,
           8430,
           2911.2874726477025,
           1645.7967032967033,
           12422.5618308936,
           443,
           52851.51730726832,
           987,
           32970,
           2200
          ]
         },
         "name": "",
         "parents": [
          "Mission Street",
          "Market Street",
          "Geary Street",
          "Montgomery Street",
          "5th Street",
          "Clementina Street",
          "Market Street",
          "Bush Street",
          "Montgomery Street",
          "Commercial Street",
          "Sutter Street",
          "Natoma Street",
          "New Montgomery Street",
          "California Street",
          "Embarcadero Center",
          "Federal Street",
          "Folsom Street",
          "Montgomery Street",
          "Spear Street",
          "Folsom Street",
          "Tehama Street",
          "Battery Street ",
          "11th Street",
          "Bryant Street",
          "Market Street",
          "Mission Street",
          "Montgomery Street",
          "New Montgomery Street",
          "",
          "",
          "",
          "",
          "",
          "",
          "",
          "",
          "",
          "",
          "",
          "",
          "",
          "",
          "",
          "",
          "",
          "",
          "",
          ""
         ],
         "type": "treemap",
         "values": [
          4000,
          2665,
          8430,
          290,
          4638,
          21875,
          3625,
          4598,
          15000,
          35220,
          32970,
          443,
          53628,
          507,
          544,
          7389,
          460,
          2213,
          987,
          35558,
          2200,
          300,
          595,
          1300,
          1022,
          3280,
          805,
          800,
          595,
          4638,
          300,
          1300,
          4598,
          507,
          21875,
          35220,
          544,
          7389,
          36018,
          8430,
          7312,
          7280,
          18308,
          443,
          54428,
          987,
          32970,
          2200
         ]
        }
       ],
       "layout": {
        "coloraxis": {
         "colorbar": {
          "title": {
           "text": "Payment / mth"
          }
         },
         "colorscale": [
          [
           0,
           "#440154"
          ],
          [
           0.1111111111111111,
           "#482878"
          ],
          [
           0.2222222222222222,
           "#3e4989"
          ],
          [
           0.3333333333333333,
           "#31688e"
          ],
          [
           0.4444444444444444,
           "#26828e"
          ],
          [
           0.5555555555555556,
           "#1f9e89"
          ],
          [
           0.6666666666666666,
           "#35b779"
          ],
          [
           0.7777777777777778,
           "#6ece58"
          ],
          [
           0.8888888888888888,
           "#b5de2b"
          ],
          [
           1,
           "#fde725"
          ]
         ]
        },
        "legend": {
         "tracegroupgap": 0
        },
        "margin": {
         "t": 60
        },
        "template": {
         "data": {
          "bar": [
           {
            "error_x": {
             "color": "#2a3f5f"
            },
            "error_y": {
             "color": "#2a3f5f"
            },
            "marker": {
             "line": {
              "color": "#E5ECF6",
              "width": 0.5
             }
            },
            "type": "bar"
           }
          ],
          "barpolar": [
           {
            "marker": {
             "line": {
              "color": "#E5ECF6",
              "width": 0.5
             }
            },
            "type": "barpolar"
           }
          ],
          "carpet": [
           {
            "aaxis": {
             "endlinecolor": "#2a3f5f",
             "gridcolor": "white",
             "linecolor": "white",
             "minorgridcolor": "white",
             "startlinecolor": "#2a3f5f"
            },
            "baxis": {
             "endlinecolor": "#2a3f5f",
             "gridcolor": "white",
             "linecolor": "white",
             "minorgridcolor": "white",
             "startlinecolor": "#2a3f5f"
            },
            "type": "carpet"
           }
          ],
          "choropleth": [
           {
            "colorbar": {
             "outlinewidth": 0,
             "ticks": ""
            },
            "type": "choropleth"
           }
          ],
          "contour": [
           {
            "colorbar": {
             "outlinewidth": 0,
             "ticks": ""
            },
            "colorscale": [
             [
              0,
              "#0d0887"
             ],
             [
              0.1111111111111111,
              "#46039f"
             ],
             [
              0.2222222222222222,
              "#7201a8"
             ],
             [
              0.3333333333333333,
              "#9c179e"
             ],
             [
              0.4444444444444444,
              "#bd3786"
             ],
             [
              0.5555555555555556,
              "#d8576b"
             ],
             [
              0.6666666666666666,
              "#ed7953"
             ],
             [
              0.7777777777777778,
              "#fb9f3a"
             ],
             [
              0.8888888888888888,
              "#fdca26"
             ],
             [
              1,
              "#f0f921"
             ]
            ],
            "type": "contour"
           }
          ],
          "contourcarpet": [
           {
            "colorbar": {
             "outlinewidth": 0,
             "ticks": ""
            },
            "type": "contourcarpet"
           }
          ],
          "heatmap": [
           {
            "colorbar": {
             "outlinewidth": 0,
             "ticks": ""
            },
            "colorscale": [
             [
              0,
              "#0d0887"
             ],
             [
              0.1111111111111111,
              "#46039f"
             ],
             [
              0.2222222222222222,
              "#7201a8"
             ],
             [
              0.3333333333333333,
              "#9c179e"
             ],
             [
              0.4444444444444444,
              "#bd3786"
             ],
             [
              0.5555555555555556,
              "#d8576b"
             ],
             [
              0.6666666666666666,
              "#ed7953"
             ],
             [
              0.7777777777777778,
              "#fb9f3a"
             ],
             [
              0.8888888888888888,
              "#fdca26"
             ],
             [
              1,
              "#f0f921"
             ]
            ],
            "type": "heatmap"
           }
          ],
          "heatmapgl": [
           {
            "colorbar": {
             "outlinewidth": 0,
             "ticks": ""
            },
            "colorscale": [
             [
              0,
              "#0d0887"
             ],
             [
              0.1111111111111111,
              "#46039f"
             ],
             [
              0.2222222222222222,
              "#7201a8"
             ],
             [
              0.3333333333333333,
              "#9c179e"
             ],
             [
              0.4444444444444444,
              "#bd3786"
             ],
             [
              0.5555555555555556,
              "#d8576b"
             ],
             [
              0.6666666666666666,
              "#ed7953"
             ],
             [
              0.7777777777777778,
              "#fb9f3a"
             ],
             [
              0.8888888888888888,
              "#fdca26"
             ],
             [
              1,
              "#f0f921"
             ]
            ],
            "type": "heatmapgl"
           }
          ],
          "histogram": [
           {
            "marker": {
             "colorbar": {
              "outlinewidth": 0,
              "ticks": ""
             }
            },
            "type": "histogram"
           }
          ],
          "histogram2d": [
           {
            "colorbar": {
             "outlinewidth": 0,
             "ticks": ""
            },
            "colorscale": [
             [
              0,
              "#0d0887"
             ],
             [
              0.1111111111111111,
              "#46039f"
             ],
             [
              0.2222222222222222,
              "#7201a8"
             ],
             [
              0.3333333333333333,
              "#9c179e"
             ],
             [
              0.4444444444444444,
              "#bd3786"
             ],
             [
              0.5555555555555556,
              "#d8576b"
             ],
             [
              0.6666666666666666,
              "#ed7953"
             ],
             [
              0.7777777777777778,
              "#fb9f3a"
             ],
             [
              0.8888888888888888,
              "#fdca26"
             ],
             [
              1,
              "#f0f921"
             ]
            ],
            "type": "histogram2d"
           }
          ],
          "histogram2dcontour": [
           {
            "colorbar": {
             "outlinewidth": 0,
             "ticks": ""
            },
            "colorscale": [
             [
              0,
              "#0d0887"
             ],
             [
              0.1111111111111111,
              "#46039f"
             ],
             [
              0.2222222222222222,
              "#7201a8"
             ],
             [
              0.3333333333333333,
              "#9c179e"
             ],
             [
              0.4444444444444444,
              "#bd3786"
             ],
             [
              0.5555555555555556,
              "#d8576b"
             ],
             [
              0.6666666666666666,
              "#ed7953"
             ],
             [
              0.7777777777777778,
              "#fb9f3a"
             ],
             [
              0.8888888888888888,
              "#fdca26"
             ],
             [
              1,
              "#f0f921"
             ]
            ],
            "type": "histogram2dcontour"
           }
          ],
          "mesh3d": [
           {
            "colorbar": {
             "outlinewidth": 0,
             "ticks": ""
            },
            "type": "mesh3d"
           }
          ],
          "parcoords": [
           {
            "line": {
             "colorbar": {
              "outlinewidth": 0,
              "ticks": ""
             }
            },
            "type": "parcoords"
           }
          ],
          "pie": [
           {
            "automargin": true,
            "type": "pie"
           }
          ],
          "scatter": [
           {
            "marker": {
             "colorbar": {
              "outlinewidth": 0,
              "ticks": ""
             }
            },
            "type": "scatter"
           }
          ],
          "scatter3d": [
           {
            "line": {
             "colorbar": {
              "outlinewidth": 0,
              "ticks": ""
             }
            },
            "marker": {
             "colorbar": {
              "outlinewidth": 0,
              "ticks": ""
             }
            },
            "type": "scatter3d"
           }
          ],
          "scattercarpet": [
           {
            "marker": {
             "colorbar": {
              "outlinewidth": 0,
              "ticks": ""
             }
            },
            "type": "scattercarpet"
           }
          ],
          "scattergeo": [
           {
            "marker": {
             "colorbar": {
              "outlinewidth": 0,
              "ticks": ""
             }
            },
            "type": "scattergeo"
           }
          ],
          "scattergl": [
           {
            "marker": {
             "colorbar": {
              "outlinewidth": 0,
              "ticks": ""
             }
            },
            "type": "scattergl"
           }
          ],
          "scattermapbox": [
           {
            "marker": {
             "colorbar": {
              "outlinewidth": 0,
              "ticks": ""
             }
            },
            "type": "scattermapbox"
           }
          ],
          "scatterpolar": [
           {
            "marker": {
             "colorbar": {
              "outlinewidth": 0,
              "ticks": ""
             }
            },
            "type": "scatterpolar"
           }
          ],
          "scatterpolargl": [
           {
            "marker": {
             "colorbar": {
              "outlinewidth": 0,
              "ticks": ""
             }
            },
            "type": "scatterpolargl"
           }
          ],
          "scatterternary": [
           {
            "marker": {
             "colorbar": {
              "outlinewidth": 0,
              "ticks": ""
             }
            },
            "type": "scatterternary"
           }
          ],
          "surface": [
           {
            "colorbar": {
             "outlinewidth": 0,
             "ticks": ""
            },
            "colorscale": [
             [
              0,
              "#0d0887"
             ],
             [
              0.1111111111111111,
              "#46039f"
             ],
             [
              0.2222222222222222,
              "#7201a8"
             ],
             [
              0.3333333333333333,
              "#9c179e"
             ],
             [
              0.4444444444444444,
              "#bd3786"
             ],
             [
              0.5555555555555556,
              "#d8576b"
             ],
             [
              0.6666666666666666,
              "#ed7953"
             ],
             [
              0.7777777777777778,
              "#fb9f3a"
             ],
             [
              0.8888888888888888,
              "#fdca26"
             ],
             [
              1,
              "#f0f921"
             ]
            ],
            "type": "surface"
           }
          ],
          "table": [
           {
            "cells": {
             "fill": {
              "color": "#EBF0F8"
             },
             "line": {
              "color": "white"
             }
            },
            "header": {
             "fill": {
              "color": "#C8D4E3"
             },
             "line": {
              "color": "white"
             }
            },
            "type": "table"
           }
          ]
         },
         "layout": {
          "annotationdefaults": {
           "arrowcolor": "#2a3f5f",
           "arrowhead": 0,
           "arrowwidth": 1
          },
          "coloraxis": {
           "colorbar": {
            "outlinewidth": 0,
            "ticks": ""
           }
          },
          "colorscale": {
           "diverging": [
            [
             0,
             "#8e0152"
            ],
            [
             0.1,
             "#c51b7d"
            ],
            [
             0.2,
             "#de77ae"
            ],
            [
             0.3,
             "#f1b6da"
            ],
            [
             0.4,
             "#fde0ef"
            ],
            [
             0.5,
             "#f7f7f7"
            ],
            [
             0.6,
             "#e6f5d0"
            ],
            [
             0.7,
             "#b8e186"
            ],
            [
             0.8,
             "#7fbc41"
            ],
            [
             0.9,
             "#4d9221"
            ],
            [
             1,
             "#276419"
            ]
           ],
           "sequential": [
            [
             0,
             "#0d0887"
            ],
            [
             0.1111111111111111,
             "#46039f"
            ],
            [
             0.2222222222222222,
             "#7201a8"
            ],
            [
             0.3333333333333333,
             "#9c179e"
            ],
            [
             0.4444444444444444,
             "#bd3786"
            ],
            [
             0.5555555555555556,
             "#d8576b"
            ],
            [
             0.6666666666666666,
             "#ed7953"
            ],
            [
             0.7777777777777778,
             "#fb9f3a"
            ],
            [
             0.8888888888888888,
             "#fdca26"
            ],
            [
             1,
             "#f0f921"
            ]
           ],
           "sequentialminus": [
            [
             0,
             "#0d0887"
            ],
            [
             0.1111111111111111,
             "#46039f"
            ],
            [
             0.2222222222222222,
             "#7201a8"
            ],
            [
             0.3333333333333333,
             "#9c179e"
            ],
            [
             0.4444444444444444,
             "#bd3786"
            ],
            [
             0.5555555555555556,
             "#d8576b"
            ],
            [
             0.6666666666666666,
             "#ed7953"
            ],
            [
             0.7777777777777778,
             "#fb9f3a"
            ],
            [
             0.8888888888888888,
             "#fdca26"
            ],
            [
             1,
             "#f0f921"
            ]
           ]
          },
          "colorway": [
           "#636efa",
           "#EF553B",
           "#00cc96",
           "#ab63fa",
           "#FFA15A",
           "#19d3f3",
           "#FF6692",
           "#B6E880",
           "#FF97FF",
           "#FECB52"
          ],
          "font": {
           "color": "#2a3f5f"
          },
          "geo": {
           "bgcolor": "white",
           "lakecolor": "white",
           "landcolor": "#E5ECF6",
           "showlakes": true,
           "showland": true,
           "subunitcolor": "white"
          },
          "hoverlabel": {
           "align": "left"
          },
          "hovermode": "closest",
          "mapbox": {
           "style": "light"
          },
          "paper_bgcolor": "white",
          "plot_bgcolor": "#E5ECF6",
          "polar": {
           "angularaxis": {
            "gridcolor": "white",
            "linecolor": "white",
            "ticks": ""
           },
           "bgcolor": "#E5ECF6",
           "radialaxis": {
            "gridcolor": "white",
            "linecolor": "white",
            "ticks": ""
           }
          },
          "scene": {
           "xaxis": {
            "backgroundcolor": "#E5ECF6",
            "gridcolor": "white",
            "gridwidth": 2,
            "linecolor": "white",
            "showbackground": true,
            "ticks": "",
            "zerolinecolor": "white"
           },
           "yaxis": {
            "backgroundcolor": "#E5ECF6",
            "gridcolor": "white",
            "gridwidth": 2,
            "linecolor": "white",
            "showbackground": true,
            "ticks": "",
            "zerolinecolor": "white"
           },
           "zaxis": {
            "backgroundcolor": "#E5ECF6",
            "gridcolor": "white",
            "gridwidth": 2,
            "linecolor": "white",
            "showbackground": true,
            "ticks": "",
            "zerolinecolor": "white"
           }
          },
          "shapedefaults": {
           "line": {
            "color": "#2a3f5f"
           }
          },
          "ternary": {
           "aaxis": {
            "gridcolor": "white",
            "linecolor": "white",
            "ticks": ""
           },
           "baxis": {
            "gridcolor": "white",
            "linecolor": "white",
            "ticks": ""
           },
           "bgcolor": "#E5ECF6",
           "caxis": {
            "gridcolor": "white",
            "linecolor": "white",
            "ticks": ""
           }
          },
          "title": {
           "x": 0.05
          },
          "xaxis": {
           "automargin": true,
           "gridcolor": "white",
           "linecolor": "white",
           "ticks": "",
           "title": {
            "standoff": 15
           },
           "zerolinecolor": "white",
           "zerolinewidth": 2
          },
          "yaxis": {
           "automargin": true,
           "gridcolor": "white",
           "linecolor": "white",
           "ticks": "",
           "title": {
            "standoff": 15
           },
           "zerolinecolor": "white",
           "zerolinewidth": 2
          }
         }
        }
       }
      },
      "text/html": [
       "<div>\n",
       "        \n",
       "        \n",
       "            <div id=\"d3a71b96-fd25-45fb-bb35-f2422fa68e37\" class=\"plotly-graph-div\" style=\"height:525px; width:100%;\"></div>\n",
       "            <script type=\"text/javascript\">\n",
       "                require([\"plotly\"], function(Plotly) {\n",
       "                    window.PLOTLYENV=window.PLOTLYENV || {};\n",
       "                    \n",
       "                if (document.getElementById(\"d3a71b96-fd25-45fb-bb35-f2422fa68e37\")) {\n",
       "                    Plotly.newPlot(\n",
       "                        'd3a71b96-fd25-45fb-bb35-f2422fa68e37',\n",
       "                        [{\"branchvalues\": \"total\", \"customdata\": [[2000.0], [2665.0], [8430.0], [290.0], [4638.0], [21875.0], [3625.0], [4598.0], [15000.0], [35220.0], [32970.0], [443.0], [53628.0], [507.0], [544.0], [7389.0], [460.0], [768.2498870311794], [987.0], [35558.0], [2200.0], [300.0], [595.0], [1300.0], [1022.0], [1213.841463414634], [805.0], [800.0], [595.0], [4638.0], [300.0], [1300.0], [4598.0], [507.0], [21875.0], [35220.0], [544.0], [7389.0], [35109.7496807152], [8430.0], [2911.2874726477025], [1645.7967032967033], [12422.5618308936], [443.0], [52851.51730726832], [987.0], [32970.0], [2200.0]], \"domain\": {\"x\": [0.0, 1.0], \"y\": [0.0, 1.0]}, \"hovertemplate\": \"labels=%{label}<br>Payment / mth_sum=%{value}<br>parent=%{parent}<br>id=%{id}<br>Payment / mth=%{color}<extra></extra>\", \"ids\": [\"Mission Street/21\", \"Market Street/22\", \"Geary Street/24\", \"Montgomery Street/28\", \"5th Street/29\", \"Clementina Street/30\", \"Market Street/30\", \"Bush Street/33\", \"Montgomery Street/34\", \"Commercial Street/36\", \"Sutter Street/36\", \"Natoma Street/40\", \"New Montgomery Street/49\", \"California Street/50\", \"Embarcadero Center/50\", \"Federal Street/50\", \"Folsom Street/50\", \"Montgomery Street/50\", \"Spear Street/50\", \"Folsom Street/55\", \"Tehama Street/75\", \"Battery Street /99\", \"11th Street/100\", \"Bryant Street/100\", \"Market Street/100\", \"Mission Street/100\", \"Montgomery Street/100\", \"New Montgomery Street/300\", \"11th Street\", \"5th Street\", \"Battery Street \", \"Bryant Street\", \"Bush Street\", \"California Street\", \"Clementina Street\", \"Commercial Street\", \"Embarcadero Center\", \"Federal Street\", \"Folsom Street\", \"Geary Street\", \"Market Street\", \"Mission Street\", \"Montgomery Street\", \"Natoma Street\", \"New Montgomery Street\", \"Spear Street\", \"Sutter Street\", \"Tehama Street\"], \"labels\": [\"21\", \"22\", \"24\", \"28\", \"29\", \"30\", \"30\", \"33\", \"34\", \"36\", \"36\", \"40\", \"49\", \"50\", \"50\", \"50\", \"50\", \"50\", \"50\", \"55\", \"75\", \"99\", \"100\", \"100\", \"100\", \"100\", \"100\", \"300\", \"11th Street\", \"5th Street\", \"Battery Street \", \"Bryant Street\", \"Bush Street\", \"California Street\", \"Clementina Street\", \"Commercial Street\", \"Embarcadero Center\", \"Federal Street\", \"Folsom Street\", \"Geary Street\", \"Market Street\", \"Mission Street\", \"Montgomery Street\", \"Natoma Street\", \"New Montgomery Street\", \"Spear Street\", \"Sutter Street\", \"Tehama Street\"], \"marker\": {\"coloraxis\": \"coloraxis\", \"colors\": [2000.0, 2665.0, 8430.0, 290.0, 4638.0, 21875.0, 3625.0, 4598.0, 15000.0, 35220.0, 32970.0, 443.0, 53628.0, 507.0, 544.0, 7389.0, 460.0, 768.2498870311794, 987.0, 35558.0, 2200.0, 300.0, 595.0, 1300.0, 1022.0, 1213.841463414634, 805.0, 800.0, 595.0, 4638.0, 300.0, 1300.0, 4598.0, 507.0, 21875.0, 35220.0, 544.0, 7389.0, 35109.7496807152, 8430.0, 2911.2874726477025, 1645.7967032967033, 12422.5618308936, 443.0, 52851.51730726832, 987.0, 32970.0, 2200.0]}, \"name\": \"\", \"parents\": [\"Mission Street\", \"Market Street\", \"Geary Street\", \"Montgomery Street\", \"5th Street\", \"Clementina Street\", \"Market Street\", \"Bush Street\", \"Montgomery Street\", \"Commercial Street\", \"Sutter Street\", \"Natoma Street\", \"New Montgomery Street\", \"California Street\", \"Embarcadero Center\", \"Federal Street\", \"Folsom Street\", \"Montgomery Street\", \"Spear Street\", \"Folsom Street\", \"Tehama Street\", \"Battery Street \", \"11th Street\", \"Bryant Street\", \"Market Street\", \"Mission Street\", \"Montgomery Street\", \"New Montgomery Street\", \"\", \"\", \"\", \"\", \"\", \"\", \"\", \"\", \"\", \"\", \"\", \"\", \"\", \"\", \"\", \"\", \"\", \"\", \"\", \"\"], \"type\": \"treemap\", \"values\": [4000, 2665, 8430, 290, 4638, 21875, 3625, 4598, 15000, 35220, 32970, 443, 53628, 507, 544, 7389, 460, 2213, 987, 35558, 2200, 300, 595, 1300, 1022, 3280, 805, 800, 595, 4638, 300, 1300, 4598, 507, 21875, 35220, 544, 7389, 36018, 8430, 7312, 7280, 18308, 443, 54428, 987, 32970, 2200]}],\n",
       "                        {\"coloraxis\": {\"colorbar\": {\"title\": {\"text\": \"Payment / mth\"}}, \"colorscale\": [[0.0, \"#440154\"], [0.1111111111111111, \"#482878\"], [0.2222222222222222, \"#3e4989\"], [0.3333333333333333, \"#31688e\"], [0.4444444444444444, \"#26828e\"], [0.5555555555555556, \"#1f9e89\"], [0.6666666666666666, \"#35b779\"], [0.7777777777777778, \"#6ece58\"], [0.8888888888888888, \"#b5de2b\"], [1.0, \"#fde725\"]]}, \"legend\": {\"tracegroupgap\": 0}, \"margin\": {\"t\": 60}, \"template\": {\"data\": {\"bar\": [{\"error_x\": {\"color\": \"#2a3f5f\"}, \"error_y\": {\"color\": \"#2a3f5f\"}, \"marker\": {\"line\": {\"color\": \"#E5ECF6\", \"width\": 0.5}}, \"type\": \"bar\"}], \"barpolar\": [{\"marker\": {\"line\": {\"color\": \"#E5ECF6\", \"width\": 0.5}}, \"type\": \"barpolar\"}], \"carpet\": [{\"aaxis\": {\"endlinecolor\": \"#2a3f5f\", \"gridcolor\": \"white\", \"linecolor\": \"white\", \"minorgridcolor\": \"white\", \"startlinecolor\": \"#2a3f5f\"}, \"baxis\": {\"endlinecolor\": \"#2a3f5f\", \"gridcolor\": \"white\", \"linecolor\": \"white\", \"minorgridcolor\": \"white\", \"startlinecolor\": \"#2a3f5f\"}, \"type\": \"carpet\"}], \"choropleth\": [{\"colorbar\": {\"outlinewidth\": 0, \"ticks\": \"\"}, \"type\": \"choropleth\"}], \"contour\": [{\"colorbar\": {\"outlinewidth\": 0, \"ticks\": \"\"}, \"colorscale\": [[0.0, \"#0d0887\"], [0.1111111111111111, \"#46039f\"], [0.2222222222222222, \"#7201a8\"], [0.3333333333333333, \"#9c179e\"], [0.4444444444444444, \"#bd3786\"], [0.5555555555555556, \"#d8576b\"], [0.6666666666666666, \"#ed7953\"], [0.7777777777777778, \"#fb9f3a\"], [0.8888888888888888, \"#fdca26\"], [1.0, \"#f0f921\"]], \"type\": \"contour\"}], \"contourcarpet\": [{\"colorbar\": {\"outlinewidth\": 0, \"ticks\": \"\"}, \"type\": \"contourcarpet\"}], \"heatmap\": [{\"colorbar\": {\"outlinewidth\": 0, \"ticks\": \"\"}, \"colorscale\": [[0.0, \"#0d0887\"], [0.1111111111111111, \"#46039f\"], [0.2222222222222222, \"#7201a8\"], [0.3333333333333333, \"#9c179e\"], [0.4444444444444444, \"#bd3786\"], [0.5555555555555556, \"#d8576b\"], [0.6666666666666666, \"#ed7953\"], [0.7777777777777778, \"#fb9f3a\"], [0.8888888888888888, \"#fdca26\"], [1.0, \"#f0f921\"]], \"type\": \"heatmap\"}], \"heatmapgl\": [{\"colorbar\": {\"outlinewidth\": 0, \"ticks\": \"\"}, \"colorscale\": [[0.0, \"#0d0887\"], [0.1111111111111111, \"#46039f\"], [0.2222222222222222, \"#7201a8\"], [0.3333333333333333, \"#9c179e\"], [0.4444444444444444, \"#bd3786\"], [0.5555555555555556, \"#d8576b\"], [0.6666666666666666, \"#ed7953\"], [0.7777777777777778, \"#fb9f3a\"], [0.8888888888888888, \"#fdca26\"], [1.0, \"#f0f921\"]], \"type\": \"heatmapgl\"}], \"histogram\": [{\"marker\": {\"colorbar\": {\"outlinewidth\": 0, \"ticks\": \"\"}}, \"type\": \"histogram\"}], \"histogram2d\": [{\"colorbar\": {\"outlinewidth\": 0, \"ticks\": \"\"}, \"colorscale\": [[0.0, \"#0d0887\"], [0.1111111111111111, \"#46039f\"], [0.2222222222222222, \"#7201a8\"], [0.3333333333333333, \"#9c179e\"], [0.4444444444444444, \"#bd3786\"], [0.5555555555555556, \"#d8576b\"], [0.6666666666666666, \"#ed7953\"], [0.7777777777777778, \"#fb9f3a\"], [0.8888888888888888, \"#fdca26\"], [1.0, \"#f0f921\"]], \"type\": \"histogram2d\"}], \"histogram2dcontour\": [{\"colorbar\": {\"outlinewidth\": 0, \"ticks\": \"\"}, \"colorscale\": [[0.0, \"#0d0887\"], [0.1111111111111111, \"#46039f\"], [0.2222222222222222, \"#7201a8\"], [0.3333333333333333, \"#9c179e\"], [0.4444444444444444, \"#bd3786\"], [0.5555555555555556, \"#d8576b\"], [0.6666666666666666, \"#ed7953\"], [0.7777777777777778, \"#fb9f3a\"], [0.8888888888888888, \"#fdca26\"], [1.0, \"#f0f921\"]], \"type\": \"histogram2dcontour\"}], \"mesh3d\": [{\"colorbar\": {\"outlinewidth\": 0, \"ticks\": \"\"}, \"type\": \"mesh3d\"}], \"parcoords\": [{\"line\": {\"colorbar\": {\"outlinewidth\": 0, \"ticks\": \"\"}}, \"type\": \"parcoords\"}], \"pie\": [{\"automargin\": true, \"type\": \"pie\"}], \"scatter\": [{\"marker\": {\"colorbar\": {\"outlinewidth\": 0, \"ticks\": \"\"}}, \"type\": \"scatter\"}], \"scatter3d\": [{\"line\": {\"colorbar\": {\"outlinewidth\": 0, \"ticks\": \"\"}}, \"marker\": {\"colorbar\": {\"outlinewidth\": 0, \"ticks\": \"\"}}, \"type\": \"scatter3d\"}], \"scattercarpet\": [{\"marker\": {\"colorbar\": {\"outlinewidth\": 0, \"ticks\": \"\"}}, \"type\": \"scattercarpet\"}], \"scattergeo\": [{\"marker\": {\"colorbar\": {\"outlinewidth\": 0, \"ticks\": \"\"}}, \"type\": \"scattergeo\"}], \"scattergl\": [{\"marker\": {\"colorbar\": {\"outlinewidth\": 0, \"ticks\": \"\"}}, \"type\": \"scattergl\"}], \"scattermapbox\": [{\"marker\": {\"colorbar\": {\"outlinewidth\": 0, \"ticks\": \"\"}}, \"type\": \"scattermapbox\"}], \"scatterpolar\": [{\"marker\": {\"colorbar\": {\"outlinewidth\": 0, \"ticks\": \"\"}}, \"type\": \"scatterpolar\"}], \"scatterpolargl\": [{\"marker\": {\"colorbar\": {\"outlinewidth\": 0, \"ticks\": \"\"}}, \"type\": \"scatterpolargl\"}], \"scatterternary\": [{\"marker\": {\"colorbar\": {\"outlinewidth\": 0, \"ticks\": \"\"}}, \"type\": \"scatterternary\"}], \"surface\": [{\"colorbar\": {\"outlinewidth\": 0, \"ticks\": \"\"}, \"colorscale\": [[0.0, \"#0d0887\"], [0.1111111111111111, \"#46039f\"], [0.2222222222222222, \"#7201a8\"], [0.3333333333333333, \"#9c179e\"], [0.4444444444444444, \"#bd3786\"], [0.5555555555555556, \"#d8576b\"], [0.6666666666666666, \"#ed7953\"], [0.7777777777777778, \"#fb9f3a\"], [0.8888888888888888, \"#fdca26\"], [1.0, \"#f0f921\"]], \"type\": \"surface\"}], \"table\": [{\"cells\": {\"fill\": {\"color\": \"#EBF0F8\"}, \"line\": {\"color\": \"white\"}}, \"header\": {\"fill\": {\"color\": \"#C8D4E3\"}, \"line\": {\"color\": \"white\"}}, \"type\": \"table\"}]}, \"layout\": {\"annotationdefaults\": {\"arrowcolor\": \"#2a3f5f\", \"arrowhead\": 0, \"arrowwidth\": 1}, \"coloraxis\": {\"colorbar\": {\"outlinewidth\": 0, \"ticks\": \"\"}}, \"colorscale\": {\"diverging\": [[0, \"#8e0152\"], [0.1, \"#c51b7d\"], [0.2, \"#de77ae\"], [0.3, \"#f1b6da\"], [0.4, \"#fde0ef\"], [0.5, \"#f7f7f7\"], [0.6, \"#e6f5d0\"], [0.7, \"#b8e186\"], [0.8, \"#7fbc41\"], [0.9, \"#4d9221\"], [1, \"#276419\"]], \"sequential\": [[0.0, \"#0d0887\"], [0.1111111111111111, \"#46039f\"], [0.2222222222222222, \"#7201a8\"], [0.3333333333333333, \"#9c179e\"], [0.4444444444444444, \"#bd3786\"], [0.5555555555555556, \"#d8576b\"], [0.6666666666666666, \"#ed7953\"], [0.7777777777777778, \"#fb9f3a\"], [0.8888888888888888, \"#fdca26\"], [1.0, \"#f0f921\"]], \"sequentialminus\": [[0.0, \"#0d0887\"], [0.1111111111111111, \"#46039f\"], [0.2222222222222222, \"#7201a8\"], [0.3333333333333333, \"#9c179e\"], [0.4444444444444444, \"#bd3786\"], [0.5555555555555556, \"#d8576b\"], [0.6666666666666666, \"#ed7953\"], [0.7777777777777778, \"#fb9f3a\"], [0.8888888888888888, \"#fdca26\"], [1.0, \"#f0f921\"]]}, \"colorway\": [\"#636efa\", \"#EF553B\", \"#00cc96\", \"#ab63fa\", \"#FFA15A\", \"#19d3f3\", \"#FF6692\", \"#B6E880\", \"#FF97FF\", \"#FECB52\"], \"font\": {\"color\": \"#2a3f5f\"}, \"geo\": {\"bgcolor\": \"white\", \"lakecolor\": \"white\", \"landcolor\": \"#E5ECF6\", \"showlakes\": true, \"showland\": true, \"subunitcolor\": \"white\"}, \"hoverlabel\": {\"align\": \"left\"}, \"hovermode\": \"closest\", \"mapbox\": {\"style\": \"light\"}, \"paper_bgcolor\": \"white\", \"plot_bgcolor\": \"#E5ECF6\", \"polar\": {\"angularaxis\": {\"gridcolor\": \"white\", \"linecolor\": \"white\", \"ticks\": \"\"}, \"bgcolor\": \"#E5ECF6\", \"radialaxis\": {\"gridcolor\": \"white\", \"linecolor\": \"white\", \"ticks\": \"\"}}, \"scene\": {\"xaxis\": {\"backgroundcolor\": \"#E5ECF6\", \"gridcolor\": \"white\", \"gridwidth\": 2, \"linecolor\": \"white\", \"showbackground\": true, \"ticks\": \"\", \"zerolinecolor\": \"white\"}, \"yaxis\": {\"backgroundcolor\": \"#E5ECF6\", \"gridcolor\": \"white\", \"gridwidth\": 2, \"linecolor\": \"white\", \"showbackground\": true, \"ticks\": \"\", \"zerolinecolor\": \"white\"}, \"zaxis\": {\"backgroundcolor\": \"#E5ECF6\", \"gridcolor\": \"white\", \"gridwidth\": 2, \"linecolor\": \"white\", \"showbackground\": true, \"ticks\": \"\", \"zerolinecolor\": \"white\"}}, \"shapedefaults\": {\"line\": {\"color\": \"#2a3f5f\"}}, \"ternary\": {\"aaxis\": {\"gridcolor\": \"white\", \"linecolor\": \"white\", \"ticks\": \"\"}, \"baxis\": {\"gridcolor\": \"white\", \"linecolor\": \"white\", \"ticks\": \"\"}, \"bgcolor\": \"#E5ECF6\", \"caxis\": {\"gridcolor\": \"white\", \"linecolor\": \"white\", \"ticks\": \"\"}}, \"title\": {\"x\": 0.05}, \"xaxis\": {\"automargin\": true, \"gridcolor\": \"white\", \"linecolor\": \"white\", \"ticks\": \"\", \"title\": {\"standoff\": 15}, \"zerolinecolor\": \"white\", \"zerolinewidth\": 2}, \"yaxis\": {\"automargin\": true, \"gridcolor\": \"white\", \"linecolor\": \"white\", \"ticks\": \"\", \"title\": {\"standoff\": 15}, \"zerolinecolor\": \"white\", \"zerolinewidth\": 2}}}},\n",
       "                        {\"responsive\": true}\n",
       "                    ).then(function(){\n",
       "                            \n",
       "var gd = document.getElementById('d3a71b96-fd25-45fb-bb35-f2422fa68e37');\n",
       "var x = new MutationObserver(function (mutations, observer) {{\n",
       "        var display = window.getComputedStyle(gd).display;\n",
       "        if (!display || display === 'none') {{\n",
       "            console.log([gd, 'removed!']);\n",
       "            Plotly.purge(gd);\n",
       "            observer.disconnect();\n",
       "        }}\n",
       "}});\n",
       "\n",
       "// Listen for the removal of the full notebook cells\n",
       "var notebookContainer = gd.closest('#notebook-container');\n",
       "if (notebookContainer) {{\n",
       "    x.observe(notebookContainer, {childList: true});\n",
       "}}\n",
       "\n",
       "// Listen for the clearing of the current output cell\n",
       "var outputEl = gd.closest('.output');\n",
       "if (outputEl) {{\n",
       "    x.observe(outputEl, {childList: true});\n",
       "}}\n",
       "\n",
       "                        })\n",
       "                };\n",
       "                });\n",
       "            </script>\n",
       "        </div>"
      ]
     },
     "metadata": {},
     "output_type": "display_data"
    }
   ],
   "source": [
    "fig = px.treemap(temp_data, path=['Street','Occupancy'], values='Payment / mth',\n",
    "                 color='Payment / mth',color_continuous_scale=px.colors.sequential.Viridis)\n",
    "fig.write_html('data/plots/treemap.html')\n",
    "fig.write_image('data/plots/treemap.png')\n",
    "fig.show()"
   ]
  }
 ],
 "metadata": {
  "kernelspec": {
   "display_name": "Python 3",
   "language": "python",
   "name": "python3"
  },
  "language_info": {
   "codemirror_mode": {
    "name": "ipython",
    "version": 3
   },
   "file_extension": ".py",
   "mimetype": "text/x-python",
   "name": "python",
   "nbconvert_exporter": "python",
   "pygments_lexer": "ipython3",
   "version": "3.8.5"
  }
 },
 "nbformat": 4,
 "nbformat_minor": 4
}
