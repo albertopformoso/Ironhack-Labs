{
 "cells": [
  {
   "cell_type": "markdown",
   "metadata": {},
   "source": [
    "![Ironhack Logo](https://i.imgur.com/1QgrNNw.png)"
   ]
  },
  {
   "cell_type": "code",
   "execution_count": 1,
   "metadata": {},
   "outputs": [],
   "source": [
    "from pymongo import MongoClient\n",
    "client=MongoClient()\n",
    "db=client.companies"
   ]
  },
  {
   "cell_type": "markdown",
   "metadata": {},
   "source": [
    "# Answers\n",
    "### 1. All the companies that it's name match 'Babelgum'. Retrieve only their `name` field."
   ]
  },
  {
   "cell_type": "code",
   "execution_count": 2,
   "metadata": {},
   "outputs": [],
   "source": [
    "#db.collection_names()\n",
    "collection = db.companies"
   ]
  },
  {
   "cell_type": "code",
   "execution_count": 3,
   "metadata": {},
   "outputs": [
    {
     "data": {
      "text/plain": [
       "[{'name': 'Babelgum'}]"
      ]
     },
     "execution_count": 3,
     "metadata": {},
     "output_type": "execute_result"
    }
   ],
   "source": [
    "list(collection.find({'name':'Babelgum'},{'_id':0,'name':1}))"
   ]
  },
  {
   "cell_type": "markdown",
   "metadata": {},
   "source": [
    "### 2. All the companies that have more than 5000 employees. Limit the search to 20 companies and sort them by **number of employees**."
   ]
  },
  {
   "cell_type": "code",
   "execution_count": 4,
   "metadata": {},
   "outputs": [
    {
     "data": {
      "text/plain": [
       "[{'name': 'Siemens', 'number_of_employees': 405000},\n",
       " {'name': 'IBM', 'number_of_employees': 388000},\n",
       " {'name': 'Toyota', 'number_of_employees': 320000},\n",
       " {'name': 'PayPal', 'number_of_employees': 300000},\n",
       " {'name': 'Nippon Telegraph and Telephone Corporation',\n",
       "  'number_of_employees': 227000},\n",
       " {'name': 'Samsung Electronics', 'number_of_employees': 221726},\n",
       " {'name': 'Accenture', 'number_of_employees': 205000},\n",
       " {'name': 'Tata Consultancy Services', 'number_of_employees': 200300},\n",
       " {'name': 'Flextronics International', 'number_of_employees': 200000},\n",
       " {'name': 'Safeway', 'number_of_employees': 186000},\n",
       " {'name': 'Sony', 'number_of_employees': 180500},\n",
       " {'name': 'LG', 'number_of_employees': 177000},\n",
       " {'name': 'Ford', 'number_of_employees': 171000},\n",
       " {'name': 'Boeing', 'number_of_employees': 160000},\n",
       " {'name': 'Digital Equipment Corporation', 'number_of_employees': 140000},\n",
       " {'name': 'Nokia', 'number_of_employees': 125000},\n",
       " {'name': 'MItsubishi Electric', 'number_of_employees': 107000},\n",
       " {'name': 'MItsubishi Electric', 'number_of_employees': 107000},\n",
       " {'name': 'Comcast', 'number_of_employees': 100000},\n",
       " {'name': 'Bertelsmann', 'number_of_employees': 100000}]"
      ]
     },
     "execution_count": 4,
     "metadata": {},
     "output_type": "execute_result"
    }
   ],
   "source": [
    "list(collection.find({'number_of_employees':{'$gt':5000}},\n",
    "                     {'_id':0,'name':1,'number_of_employees':1}).sort('number_of_employees',-1).limit(20))"
   ]
  },
  {
   "cell_type": "markdown",
   "metadata": {},
   "source": [
    "### 3. All the companies founded between 2000 and 2005, both years included. Retrieve only the `name` and `founded_year` fileds."
   ]
  },
  {
   "cell_type": "code",
   "execution_count": 5,
   "metadata": {},
   "outputs": [
    {
     "data": {
      "text/plain": [
       "[{'name': 'Zoho', 'founded_year': 2005},\n",
       " {'name': 'LifeLock', 'founded_year': 2005},\n",
       " {'name': 'Jangl SMS', 'founded_year': 2005},\n",
       " {'name': 'Helio', 'founded_year': 2005},\n",
       " {'name': 'Omnidrive', 'founded_year': 2005},\n",
       " {'name': 'Wesabe', 'founded_year': 2005},\n",
       " {'name': 'YouTube', 'founded_year': 2005},\n",
       " {'name': 'Jajah', 'founded_year': 2005},\n",
       " {'name': 'Jingle Networks', 'founded_year': 2005},\n",
       " {'name': 'Wetpaint', 'founded_year': 2005}]"
      ]
     },
     "execution_count": 5,
     "metadata": {},
     "output_type": "execute_result"
    }
   ],
   "source": [
    "list(collection.find({'$and':[{'founded_year':{'$gte':2000}},\n",
    "                              {'founded_year':{'$lte':2005}}]},\n",
    "                     {'_id':0,'name':1,'founded_year':1}).sort('founded_year',-1).limit(10))"
   ]
  },
  {
   "cell_type": "markdown",
   "metadata": {},
   "source": [
    "### 4. All the companies that had a Valuation Amount of more than 100.000.000 and have been founded before 2010. Retrieve only the `name` and `ipo` fields."
   ]
  },
  {
   "cell_type": "code",
   "execution_count": 6,
   "metadata": {},
   "outputs": [
    {
     "data": {
      "text/plain": [
       "[{'name': 'GREE', 'ipo': {'valuation_amount': 108960000000}},\n",
       " {'name': 'Facebook', 'ipo': {'valuation_amount': 104000000000}},\n",
       " {'name': 'Amazon', 'ipo': {'valuation_amount': 100000000000}},\n",
       " {'name': 'Twitter', 'ipo': {'valuation_amount': 18100000000}},\n",
       " {'name': 'Groupon', 'ipo': {'valuation_amount': 12800000000}},\n",
       " {'name': 'Tencent', 'ipo': {'valuation_amount': 11000000000}},\n",
       " {'name': 'Western Digital', 'ipo': {'valuation_amount': 9430000000}},\n",
       " {'name': 'LinkedIn', 'ipo': {'valuation_amount': 9310000000}},\n",
       " {'name': 'BMC Software', 'ipo': {'valuation_amount': 6000000000}},\n",
       " {'name': 'Rackspace', 'ipo': {'valuation_amount': 5440000000}}]"
      ]
     },
     "execution_count": 6,
     "metadata": {},
     "output_type": "execute_result"
    }
   ],
   "source": [
    "list(collection.find({'$and':[{'ipo.valuation_amount':{'$gt':100000000}},\n",
    "                              {'founded_year':{'$lt':2010}}]},\n",
    "                     {'_id':0,'name':1,'ipo.valuation_amount':1}).sort('ipo.valuation_amount',-1).limit(10))"
   ]
  },
  {
   "cell_type": "markdown",
   "metadata": {},
   "source": [
    "### 5. All the companies that have less than 1000 employees and have been founded before 2005. Order them by the number of employees and limit the search to 10 companies."
   ]
  },
  {
   "cell_type": "code",
   "execution_count": 7,
   "metadata": {},
   "outputs": [
    {
     "data": {
      "text/plain": [
       "[{'name': 'Infinera Corporation',\n",
       "  'number_of_employees': 974,\n",
       "  'founded_year': 2000},\n",
       " {'name': 'NorthPoint Communications Group',\n",
       "  'number_of_employees': 948,\n",
       "  'founded_year': 1997},\n",
       " {'name': '888 Holdings', 'number_of_employees': 931, 'founded_year': 1997},\n",
       " {'name': 'Forrester Research',\n",
       "  'number_of_employees': 903,\n",
       "  'founded_year': 1983},\n",
       " {'name': 'SonicWALL', 'number_of_employees': 900, 'founded_year': 1991},\n",
       " {'name': 'Webmetrics', 'number_of_employees': 900, 'founded_year': 1999},\n",
       " {'name': 'Cornerstone OnDemand',\n",
       "  'number_of_employees': 881,\n",
       "  'founded_year': 1999},\n",
       " {'name': 'Mozilla', 'number_of_employees': 800, 'founded_year': 1998},\n",
       " {'name': 'Buongiorno', 'number_of_employees': 800, 'founded_year': 1999},\n",
       " {'name': 'Yelp', 'number_of_employees': 800, 'founded_year': 2004}]"
      ]
     },
     "execution_count": 7,
     "metadata": {},
     "output_type": "execute_result"
    }
   ],
   "source": [
    "list(collection.find({'$and':[{'number_of_employees':{'$lt':1000}},\n",
    "                              {'founded_year':{'$lt':2005}}]},\n",
    "                     {'_id':0,'name':1,'number_of_employees':1,'founded_year':1}).sort('number_of_employees',-1).limit(10))"
   ]
  },
  {
   "cell_type": "markdown",
   "metadata": {},
   "source": [
    "### 6. All the companies that don't include the `partners` field."
   ]
  },
  {
   "cell_type": "code",
   "execution_count": 8,
   "metadata": {},
   "outputs": [
    {
     "data": {
      "text/plain": [
       "[]"
      ]
     },
     "execution_count": 8,
     "metadata": {},
     "output_type": "execute_result"
    }
   ],
   "source": [
    "list(collection.find({'partners':{'$exists':0}},\n",
    "                     {'_id':0,'name':1,'partners':1}).limit(10))"
   ]
  },
  {
   "cell_type": "markdown",
   "metadata": {},
   "source": [
    "### 7. All the companies that have a null type of value on the `category_code` field."
   ]
  },
  {
   "cell_type": "code",
   "execution_count": 9,
   "metadata": {},
   "outputs": [
    {
     "data": {
      "text/plain": [
       "[{'name': 'Collective', 'category_code': 'null'},\n",
       " {'name': 'Snimmer', 'category_code': 'null'},\n",
       " {'name': 'KoolIM', 'category_code': 'null'},\n",
       " {'name': 'Level9 Media', 'category_code': 'null'},\n",
       " {'name': 'VidKing', 'category_code': 'null'},\n",
       " {'name': 'Drigg', 'category_code': 'null'},\n",
       " {'name': 'SpaceTime', 'category_code': 'null'},\n",
       " {'name': 'Touch Clarity', 'category_code': 'null'},\n",
       " {'name': 'MMDAYS', 'category_code': 'null'},\n",
       " {'name': 'Inside Group', 'category_code': 'null'}]"
      ]
     },
     "execution_count": 9,
     "metadata": {},
     "output_type": "execute_result"
    }
   ],
   "source": [
    "list(collection.find({'category_code':'null'},\n",
    "                     {'_id':0,'name':1,'category_code':1}).limit(10))"
   ]
  },
  {
   "cell_type": "markdown",
   "metadata": {},
   "source": [
    "### 8. All the companies that have at least 100 employees but less than 1000. Retrieve only the `name` and `number of employees` fields."
   ]
  },
  {
   "cell_type": "code",
   "execution_count": 10,
   "metadata": {},
   "outputs": [
    {
     "data": {
      "text/plain": [
       "[{'name': 'Datamonitor', 'number_of_employees': 984},\n",
       " {'name': 'Infinera Corporation', 'number_of_employees': 974},\n",
       " {'name': 'Box', 'number_of_employees': 950},\n",
       " {'name': 'NorthPoint Communications Group', 'number_of_employees': 948},\n",
       " {'name': '888 Holdings', 'number_of_employees': 931},\n",
       " {'name': 'Forrester Research', 'number_of_employees': 903},\n",
       " {'name': 'SonicWALL', 'number_of_employees': 900},\n",
       " {'name': 'Relax Solutions Pvt Ltd', 'number_of_employees': 900},\n",
       " {'name': 'Webmetrics', 'number_of_employees': 900},\n",
       " {'name': 'InMobi', 'number_of_employees': 900}]"
      ]
     },
     "execution_count": 10,
     "metadata": {},
     "output_type": "execute_result"
    }
   ],
   "source": [
    "list(collection.find({'$and':[{'number_of_employees':{'$gte':100}},\n",
    "                              {'number_of_employees':{'$lt':1000}}]},\n",
    "                     {'_id':0,'name':1,'number_of_employees':1}).sort('number_of_employees',-1).limit(10))"
   ]
  },
  {
   "cell_type": "markdown",
   "metadata": {},
   "source": [
    "### 9. Order all the companies by their IPO price descendently."
   ]
  },
  {
   "cell_type": "code",
   "execution_count": 11,
   "metadata": {},
   "outputs": [
    {
     "data": {
      "text/plain": [
       "[{'name': 'GREE', 'ipo': {'valuation_amount': 108960000000}},\n",
       " {'name': 'Facebook', 'ipo': {'valuation_amount': 104000000000}},\n",
       " {'name': 'Amazon', 'ipo': {'valuation_amount': 100000000000}},\n",
       " {'name': 'Twitter', 'ipo': {'valuation_amount': 18100000000}},\n",
       " {'name': 'Groupon', 'ipo': {'valuation_amount': 12800000000}},\n",
       " {'name': 'Tencent', 'ipo': {'valuation_amount': 11000000000}},\n",
       " {'name': 'Western Digital', 'ipo': {'valuation_amount': 9430000000}},\n",
       " {'name': 'LinkedIn', 'ipo': {'valuation_amount': 9310000000}},\n",
       " {'name': 'BMC Software', 'ipo': {'valuation_amount': 6000000000}},\n",
       " {'name': 'Rackspace', 'ipo': {'valuation_amount': 5440000000}}]"
      ]
     },
     "execution_count": 11,
     "metadata": {},
     "output_type": "execute_result"
    }
   ],
   "source": [
    " list(collection.find({},\n",
    "                      {'_id':0,'name':1,'ipo.valuation_amount':1}).sort('ipo.valuation_amount',-1).limit(10))"
   ]
  },
  {
   "cell_type": "markdown",
   "metadata": {},
   "source": [
    "### 10. Retrieve the 10 companies with more employees, order by the `number of employees`"
   ]
  },
  {
   "cell_type": "code",
   "execution_count": 12,
   "metadata": {},
   "outputs": [
    {
     "data": {
      "text/plain": [
       "[{'name': 'Siemens', 'number_of_employees': 405000},\n",
       " {'name': 'IBM', 'number_of_employees': 388000},\n",
       " {'name': 'Toyota', 'number_of_employees': 320000},\n",
       " {'name': 'PayPal', 'number_of_employees': 300000},\n",
       " {'name': 'Nippon Telegraph and Telephone Corporation',\n",
       "  'number_of_employees': 227000},\n",
       " {'name': 'Samsung Electronics', 'number_of_employees': 221726},\n",
       " {'name': 'Accenture', 'number_of_employees': 205000},\n",
       " {'name': 'Tata Consultancy Services', 'number_of_employees': 200300},\n",
       " {'name': 'Flextronics International', 'number_of_employees': 200000},\n",
       " {'name': 'Safeway', 'number_of_employees': 186000}]"
      ]
     },
     "execution_count": 12,
     "metadata": {},
     "output_type": "execute_result"
    }
   ],
   "source": [
    "list(collection.find({},\n",
    "                     {'_id':0,'name':1,'number_of_employees':1}).sort('number_of_employees',-1).limit(10))"
   ]
  },
  {
   "cell_type": "markdown",
   "metadata": {},
   "source": [
    "### 11. All the companies founded on the second semester of the year. Limit your search to 1000 companies."
   ]
  },
  {
   "cell_type": "code",
   "execution_count": 13,
   "metadata": {},
   "outputs": [
    {
     "data": {
      "text/plain": [
       "[{'name': 'Wetpaint', 'founded_month': 10},\n",
       " {'name': 'Zoho', 'founded_month': 9},\n",
       " {'name': 'Digg', 'founded_month': 10},\n",
       " {'name': 'Omnidrive', 'founded_month': 11},\n",
       " {'name': 'eBay', 'founded_month': 9},\n",
       " {'name': 'Joost', 'founded_month': 10},\n",
       " {'name': 'Plaxo', 'founded_month': 11},\n",
       " {'name': 'Powerset', 'founded_month': 10},\n",
       " {'name': 'Kyte', 'founded_month': 12},\n",
       " {'name': 'Thoof', 'founded_month': 12},\n",
       " {'name': 'Jingle Networks', 'founded_month': 9},\n",
       " {'name': 'LifeLock', 'founded_month': 8},\n",
       " {'name': 'Wesabe', 'founded_month': 12},\n",
       " {'name': 'SmugMug', 'founded_month': 11},\n",
       " {'name': 'Google', 'founded_month': 9},\n",
       " {'name': 'Skype', 'founded_month': 8},\n",
       " {'name': 'Pando Networks', 'founded_month': 7},\n",
       " {'name': 'Ikan', 'founded_month': 12},\n",
       " {'name': 'delicious', 'founded_month': 9},\n",
       " {'name': 'AllPeers', 'founded_month': 8},\n",
       " {'name': 'Wize', 'founded_month': 8},\n",
       " {'name': 'SellABand', 'founded_month': 8},\n",
       " {'name': 'iContact', 'founded_month': 7},\n",
       " {'name': 'MeeVee', 'founded_month': 7},\n",
       " {'name': 'blinkx', 'founded_month': 12},\n",
       " {'name': 'Zlio', 'founded_month': 11},\n",
       " {'name': 'Yelp', 'founded_month': 7},\n",
       " {'name': 'Jaiku', 'founded_month': 7},\n",
       " {'name': 'Yapta', 'founded_month': 7},\n",
       " {'name': 'Fleck', 'founded_month': 11},\n",
       " {'name': 'SideStep', 'founded_month': 11},\n",
       " {'name': 'RockYou', 'founded_month': 11},\n",
       " {'name': 'Instructables', 'founded_month': 8},\n",
       " {'name': 'Netvibes', 'founded_month': 9},\n",
       " {'name': 'Swivel', 'founded_month': 12},\n",
       " {'name': 'Slide', 'founded_month': 8},\n",
       " {'name': 'CrowdVine', 'founded_month': 8},\n",
       " {'name': 'TheFind', 'founded_month': 10},\n",
       " {'name': 'Sway', 'founded_month': 12},\n",
       " {'name': 'CornerWorld', 'founded_month': 9},\n",
       " {'name': 'FlickIM', 'founded_month': 12},\n",
       " {'name': 'Terabitz', 'founded_month': 7},\n",
       " {'name': 'Kaboodle', 'founded_month': 10},\n",
       " {'name': 'GigaOM', 'founded_month': 7},\n",
       " {'name': 'Redfin', 'founded_month': 10},\n",
       " {'name': 'Wink', 'founded_month': 8},\n",
       " {'name': 'Go2Web20', 'founded_month': 9},\n",
       " {'name': 'TechnologyGuide', 'founded_month': 10},\n",
       " {'name': 'Techmeme', 'founded_month': 10},\n",
       " {'name': 'Ujogo', 'founded_month': 7},\n",
       " {'name': 'Recipezaar', 'founded_month': 9},\n",
       " {'name': 'Gumiyo', 'founded_month': 11},\n",
       " {'name': 'stylediary', 'founded_month': 8},\n",
       " {'name': 'Piczo', 'founded_month': 11},\n",
       " {'name': 'Cyworld', 'founded_month': 7},\n",
       " {'name': 'Socialtext', 'founded_month': 12},\n",
       " {'name': 'ConnectMeAnywhere', 'founded_month': 9},\n",
       " {'name': 'hi5', 'founded_month': 12},\n",
       " {'name': 'Clipperz', 'founded_month': 11},\n",
       " {'name': 'Tagged', 'founded_month': 10},\n",
       " {'name': 'Nintendo', 'founded_month': 9},\n",
       " {'name': 'Indeed', 'founded_month': 11},\n",
       " {'name': 'Jaxtr', 'founded_month': 10},\n",
       " {'name': 'Cerado', 'founded_month': 7},\n",
       " {'name': 'ONEsite', 'founded_month': 9},\n",
       " {'name': 'Wallhogs', 'founded_month': 8},\n",
       " {'name': 'eBuddy', 'founded_month': 9},\n",
       " {'name': 'Grockit', 'founded_month': 12},\n",
       " {'name': 'Adobe Systems', 'founded_month': 12},\n",
       " {'name': 'JumpBox', 'founded_month': 7},\n",
       " {'name': 'Phonezoo', 'founded_month': 11},\n",
       " {'name': 'LongJump', 'founded_month': 7},\n",
       " {'name': 'Relationals', 'founded_month': 7},\n",
       " {'name': 'Wishpot', 'founded_month': 11},\n",
       " {'name': 'Forbes', 'founded_month': 8},\n",
       " {'name': 'Boonex', 'founded_month': 7},\n",
       " {'name': 'IntenseDebate', 'founded_month': 12},\n",
       " {'name': 'Rebtel', 'founded_month': 7},\n",
       " {'name': 'Buxfer', 'founded_month': 7},\n",
       " {'name': 'boo-box', 'founded_month': 7},\n",
       " {'name': 'TextPayMe', 'founded_month': 12},\n",
       " {'name': 'BillMonk', 'founded_month': 9},\n",
       " {'name': 'PayPal', 'founded_month': 12},\n",
       " {'name': 'The Walt Disney Company', 'founded_month': 10},\n",
       " {'name': 'WebbAlert', 'founded_month': 8},\n",
       " {'name': 'Rocketboom', 'founded_month': 8},\n",
       " {'name': 'WallStrip', 'founded_month': 10},\n",
       " {'name': 'IAC', 'founded_month': 8},\n",
       " {'name': 'Techstars', 'founded_month': 10},\n",
       " {'name': 'Nirvanix', 'founded_month': 7},\n",
       " {'name': 'Mokitown', 'founded_month': 11},\n",
       " {'name': 'Neopets', 'founded_month': 11},\n",
       " {'name': 'KnockaTV', 'founded_month': 8},\n",
       " {'name': 'Revver', 'founded_month': 10},\n",
       " {'name': 'Metacafe', 'founded_month': 7},\n",
       " {'name': 'MindTouch', 'founded_month': 12},\n",
       " {'name': 'ChaCha', 'founded_month': 12},\n",
       " {'name': 'Sportingo', 'founded_month': 7},\n",
       " {'name': 'Akamai Technologies', 'founded_month': 8},\n",
       " {'name': 'Splashup', 'founded_month': 10}]"
      ]
     },
     "execution_count": 13,
     "metadata": {},
     "output_type": "execute_result"
    }
   ],
   "source": [
    "list(collection.find({'founded_month':{'$gt':6}},\n",
    "                     {'_id':0,'name':1,'founded_month':1}).limit(100))"
   ]
  },
  {
   "cell_type": "markdown",
   "metadata": {},
   "source": [
    "### 12. All the companies that have been 'deadpooled' after the third year."
   ]
  },
  {
   "cell_type": "code",
   "execution_count": 14,
   "metadata": {},
   "outputs": [
    {
     "data": {
      "text/plain": [
       "[{'name': 'Babelgum', 'founded_year': 2007, 'deadpooled_year': 2013},\n",
       " {'name': 'Thoof', 'founded_year': 2006, 'deadpooled_year': 2013},\n",
       " {'name': 'Wesabe', 'founded_year': 2005, 'deadpooled_year': 2010},\n",
       " {'name': 'Stickam', 'founded_year': 2006, 'deadpooled_year': 2013},\n",
       " {'name': 'AllPeers', 'founded_year': 2004, 'deadpooled_year': 2008},\n",
       " {'name': 'EQO', 'founded_year': 2006, 'deadpooled_year': 2012},\n",
       " {'name': 'AllofMP3', 'founded_year': 2000, 'deadpooled_year': 2007},\n",
       " {'name': 'SellABand', 'founded_year': 2006, 'deadpooled_year': 2010},\n",
       " {'name': 'Zlio', 'founded_year': 2005, 'deadpooled_year': 2011},\n",
       " {'name': 'Jaiku', 'founded_year': 2006, 'deadpooled_year': 2012}]"
      ]
     },
     "execution_count": 14,
     "metadata": {},
     "output_type": "execute_result"
    }
   ],
   "source": [
    "list(collection.find({'$and':[{'$where':'this.deadpooled_year - this.founded_year > 3'}]},\n",
    "                     {'_id':0,'name':1,'founded_year':1,'deadpooled_year':1}).limit(10))\n",
    "\n",
    "# https://www.w3resource.com/mongodb/mongodb-where-operators.php\n",
    "# https://stackoverflow.com/questions/39095187/how-to-get-sum-of-differences-of-two-fields-in-mongodb\n",
    "# https://stackoverflow.com/questions/4442453/mongodb-query-condition-on-comparing-2-fields"
   ]
  },
  {
   "cell_type": "markdown",
   "metadata": {},
   "source": [
    "### 13. All the companies founded before 2000 that have and acquisition amount of more than 10.000.000"
   ]
  },
  {
   "cell_type": "code",
   "execution_count": 15,
   "metadata": {},
   "outputs": [
    {
     "data": {
      "text/plain": [
       "[{'name': 'VideoSurf',\n",
       "  'founded_year': 1840,\n",
       "  'acquisition': {'price_amount': 100000000}},\n",
       " {'name': 'VideoSurf',\n",
       "  'founded_year': 1840,\n",
       "  'acquisition': {'price_amount': 100000000}},\n",
       " {'name': 'Stiefel',\n",
       "  'founded_year': 1847,\n",
       "  'acquisition': {'price_amount': 3600000000.0}},\n",
       " {'name': 'Xerox',\n",
       "  'founded_year': 1906,\n",
       "  'acquisition': {'price_amount': 32500000}},\n",
       " {'name': 'Unilever',\n",
       "  'founded_year': 1930,\n",
       "  'acquisition': {'price_amount': 575000000}},\n",
       " {'name': 'Unilever',\n",
       "  'founded_year': 1930,\n",
       "  'acquisition': {'price_amount': 575000000}},\n",
       " {'name': 'Veeco Instruments',\n",
       "  'founded_year': 1945,\n",
       "  'acquisition': {'price_amount': 30000000}},\n",
       " {'name': 'National Semiconductor',\n",
       "  'founded_year': 1959,\n",
       "  'acquisition': {'price_amount': 6500000000.0}},\n",
       " {'name': 'Sabre',\n",
       "  'founded_year': 1960,\n",
       "  'acquisition': {'price_amount': 4300000000.0}},\n",
       " {'name': 'Metrologic Instruments',\n",
       "  'founded_year': 1968,\n",
       "  'acquisition': {'price_amount': 720000000}}]"
      ]
     },
     "execution_count": 15,
     "metadata": {},
     "output_type": "execute_result"
    }
   ],
   "source": [
    "list(collection.find({'$and':[{'founded_year':{'$lt':2000}},\n",
    "                              {'acquisition.price_amount':{'$gt':10000000}}]},\n",
    "                     {'_id':0,'name':1,'founded_year':1,'acquisition.price_amount':1}).sort('founded_year',1).limit(10))"
   ]
  },
  {
   "cell_type": "markdown",
   "metadata": {},
   "source": [
    "### 14. All the companies that have been acquired after 2015, order by the acquisition amount, and retrieve only their `name` and `acquisiton` field."
   ]
  },
  {
   "cell_type": "code",
   "execution_count": 16,
   "metadata": {},
   "outputs": [
    {
     "data": {
      "text/plain": [
       "[]"
      ]
     },
     "execution_count": 16,
     "metadata": {},
     "output_type": "execute_result"
    }
   ],
   "source": [
    "list(collection.find({'acquisition.acquired_year':{'$gt':2015}},\n",
    "                     {'_id':0,'name':1,'acquisition.acquired_year':1,'acquisition.price_amount':1}).sort('acquisition.price_amount',-1).limit(10))"
   ]
  },
  {
   "cell_type": "markdown",
   "metadata": {},
   "source": [
    "### 15. Order the companies by their `founded year`, retrieving only their `name` and `founded year`."
   ]
  },
  {
   "cell_type": "code",
   "execution_count": 17,
   "metadata": {},
   "outputs": [
    {
     "data": {
      "text/plain": [
       "[{'name': 'US Army', 'founded_year': 1800},\n",
       " {'name': 'SmallWorlds', 'founded_year': 1800},\n",
       " {'name': 'Alstrasoft', 'founded_year': 1800},\n",
       " {'name': 'DuPont', 'founded_year': 1802},\n",
       " {'name': 'Bachmann Industries', 'founded_year': 1833},\n",
       " {'name': 'McKesson', 'founded_year': 1833},\n",
       " {'name': 'Bertelsmann', 'founded_year': 1835},\n",
       " {'name': 'Accuity', 'founded_year': 1836},\n",
       " {'name': 'CENTRA', 'founded_year': 1839},\n",
       " {'name': 'WeGame', 'founded_year': 1840}]"
      ]
     },
     "execution_count": 17,
     "metadata": {},
     "output_type": "execute_result"
    }
   ],
   "source": [
    "import numpy as np\n",
    "list(collection.find({'founded_year':{'$ne': np.nan}},\n",
    "                     {'_id':0,'name':1,'founded_year':1}).sort('founded_year',1).limit(10))\n",
    "# https://docs.mongodb.com/manual/reference/operator/query/ne/"
   ]
  },
  {
   "cell_type": "markdown",
   "metadata": {},
   "source": [
    "### 16. All the companies that have been founded on the first seven days of the month, including the seventh. Sort them by their `aquisition price` descendently. Limit the search to 10 documents."
   ]
  },
  {
   "cell_type": "code",
   "execution_count": 18,
   "metadata": {},
   "outputs": [
    {
     "data": {
      "text/plain": [
       "[{'name': 'eBay', 'founded_day': 1},\n",
       " {'name': 'Joost', 'founded_day': 1},\n",
       " {'name': 'Fox Interactive Media', 'founded_day': 1},\n",
       " {'name': 'Helio', 'founded_day': 1},\n",
       " {'name': 'StumbleUpon', 'founded_day': 1},\n",
       " {'name': 'Geni', 'founded_day': 1},\n",
       " {'name': 'Omnidrive', 'founded_day': 1},\n",
       " {'name': 'Facebook', 'founded_day': 1},\n",
       " {'name': 'Postini', 'founded_day': 2},\n",
       " {'name': 'Gizmoz', 'founded_day': 1}]"
      ]
     },
     "execution_count": 18,
     "metadata": {},
     "output_type": "execute_result"
    }
   ],
   "source": [
    "list(collection.find({'founded_day':{'$lte':7, '$ne':np.nan}},\n",
    "                     {'_id':0,'name':1,'founded_day':1}).sort('aquisition.price_amount',-1).limit(10))"
   ]
  },
  {
   "cell_type": "markdown",
   "metadata": {},
   "source": [
    "### 17. All the companies on the 'web' `category` that have more than 4000 employees. Sort them by the amount of employees in ascendant order."
   ]
  },
  {
   "cell_type": "code",
   "execution_count": 19,
   "metadata": {},
   "outputs": [
    {
     "data": {
      "text/plain": [
       "[{'name': 'Expedia', 'number_of_employees': 4400},\n",
       " {'name': 'AOL', 'number_of_employees': 8000},\n",
       " {'name': 'Webkinz', 'number_of_employees': 8657},\n",
       " {'name': 'Rakuten', 'number_of_employees': 10000},\n",
       " {'name': 'Los Angeles Times Media Group', 'number_of_employees': 10000},\n",
       " {'name': 'Groupon', 'number_of_employees': 10000},\n",
       " {'name': 'Yahoo!', 'number_of_employees': 13600},\n",
       " {'name': 'eBay', 'number_of_employees': 15000},\n",
       " {'name': 'Experian', 'number_of_employees': 15500}]"
      ]
     },
     "execution_count": 19,
     "metadata": {},
     "output_type": "execute_result"
    }
   ],
   "source": [
    "list(collection.find({'$and':[{'category_code':'web'},\n",
    "                              {'number_of_employees':{'$gt':4000}}]},\n",
    "                     {'_id':0,'name':1,'number_of_employees':1}).sort('number_of_employees',1).limit(10))"
   ]
  },
  {
   "cell_type": "markdown",
   "metadata": {},
   "source": [
    "### 18. All the companies which their acquisition amount is more than 10.000.000, and currency are 'EUR'.\n"
   ]
  },
  {
   "cell_type": "code",
   "execution_count": 20,
   "metadata": {},
   "outputs": [
    {
     "data": {
      "text/plain": [
       "[{'name': 'ZYB',\n",
       "  'acquisition': {'price_amount': 31500000, 'price_currency_code': 'EUR'}},\n",
       " {'name': 'Apertio',\n",
       "  'acquisition': {'price_amount': 140000000, 'price_currency_code': 'EUR'}},\n",
       " {'name': 'Greenfield Online',\n",
       "  'acquisition': {'price_amount': 40000000, 'price_currency_code': 'EUR'}},\n",
       " {'name': 'Webedia',\n",
       "  'acquisition': {'price_amount': 70000000, 'price_currency_code': 'EUR'}},\n",
       " {'name': 'Wayfinder',\n",
       "  'acquisition': {'price_amount': 24000000, 'price_currency_code': 'EUR'}},\n",
       " {'name': 'Tuenti Technologies',\n",
       "  'acquisition': {'price_amount': 70000000, 'price_currency_code': 'EUR'}},\n",
       " {'name': 'BioMed Central',\n",
       "  'acquisition': {'price_amount': 43400000, 'price_currency_code': 'EUR'}}]"
      ]
     },
     "execution_count": 20,
     "metadata": {},
     "output_type": "execute_result"
    }
   ],
   "source": [
    "list(collection.find({'$and':[{'acquisition.price_amount':{'$gt':10000000}},\n",
    "                              {'acquisition.price_currency_code':'EUR'}]},\n",
    "                     {'_id':0,'name':1,'acquisition.price_amount':1,\n",
    "                      'acquisition.price_currency_code':1}).limit(10))"
   ]
  },
  {
   "cell_type": "markdown",
   "metadata": {},
   "source": [
    "### 19. All the companies that have been acquired on the first trimester of the year. Limit the search to 10 companies, and retrieve only their `name` and `acquisition` fields."
   ]
  },
  {
   "cell_type": "code",
   "execution_count": 21,
   "metadata": {},
   "outputs": [
    {
     "data": {
      "text/plain": [
       "[{'name': 'Kyte', 'acquisition': {'acquired_month': 1}},\n",
       " {'name': 'NetRatings', 'acquisition': {'acquired_month': 2}},\n",
       " {'name': 'blogTV', 'acquisition': {'acquired_month': 3}},\n",
       " {'name': 'Livestream', 'acquisition': {'acquired_month': 1}},\n",
       " {'name': 'iContact', 'acquisition': {'acquired_month': 2}},\n",
       " {'name': 'Coghead', 'acquisition': {'acquired_month': 2}},\n",
       " {'name': 'Dailymotion', 'acquisition': {'acquired_month': 2}},\n",
       " {'name': 'Netvibes', 'acquisition': {'acquired_month': 2}},\n",
       " {'name': 'Flickr', 'acquisition': {'acquired_month': 3}},\n",
       " {'name': 'BabyCenter', 'acquisition': {'acquired_month': 3}}]"
      ]
     },
     "execution_count": 21,
     "metadata": {},
     "output_type": "execute_result"
    }
   ],
   "source": [
    "list(collection.find({'acquisition.acquired_month':{'$lte':3}},\n",
    "                     {'_id':0,'name':1,'acquisition.acquired_month':1}).limit(10))"
   ]
  },
  {
   "cell_type": "markdown",
   "metadata": {},
   "source": [
    "### 20. All the companies that have been founded between 2000 and 2010, but have not been acquired before 2011."
   ]
  },
  {
   "cell_type": "code",
   "execution_count": 22,
   "metadata": {},
   "outputs": [
    {
     "data": {
      "text/plain": [
       "[{'name': 'Wetpaint',\n",
       "  'founded_year': 2005,\n",
       "  'acquisition': {'acquired_year': 2013}},\n",
       " {'name': 'Digg',\n",
       "  'founded_year': 2004,\n",
       "  'acquisition': {'acquired_year': 2012}},\n",
       " {'name': 'Geni',\n",
       "  'founded_year': 2006,\n",
       "  'acquisition': {'acquired_year': 2012}},\n",
       " {'name': 'blogTV',\n",
       "  'founded_year': 2006,\n",
       "  'acquisition': {'acquired_year': 2013}},\n",
       " {'name': 'Revision3',\n",
       "  'founded_year': 2005,\n",
       "  'acquisition': {'acquired_year': 2012}},\n",
       " {'name': 'iContact',\n",
       "  'founded_year': 2003,\n",
       "  'acquisition': {'acquired_year': 2012}},\n",
       " {'name': 'Mashery',\n",
       "  'founded_year': 2006,\n",
       "  'acquisition': {'acquired_year': 2013}},\n",
       " {'name': 'Dailymotion',\n",
       "  'founded_year': 2005,\n",
       "  'acquisition': {'acquired_year': 2013}},\n",
       " {'name': 'KickApps',\n",
       "  'founded_year': 2004,\n",
       "  'acquisition': {'acquired_year': 2012}},\n",
       " {'name': 'Netvibes',\n",
       "  'founded_year': 2005,\n",
       "  'acquisition': {'acquired_year': 2012}}]"
      ]
     },
     "execution_count": 22,
     "metadata": {},
     "output_type": "execute_result"
    }
   ],
   "source": [
    "list(collection.find({'$and':[{'founded_year':{'$gte':2000}},\n",
    "                              {'founded_year':{'$lte':2010}},\n",
    "                              {'acquisition.acquired_year':{'$gt':2011}}]},\n",
    "                     {'_id':0,'name':1,'founded_year':1,'acquisition.acquired_year':1}).limit(10))"
   ]
  }
 ],
 "metadata": {
  "kernelspec": {
   "display_name": "Python 3",
   "language": "python",
   "name": "python3"
  },
  "language_info": {
   "codemirror_mode": {
    "name": "ipython",
    "version": 3
   },
   "file_extension": ".py",
   "mimetype": "text/x-python",
   "name": "python",
   "nbconvert_exporter": "python",
   "pygments_lexer": "ipython3",
   "version": "3.8.5"
  }
 },
 "nbformat": 4,
 "nbformat_minor": 2
}
